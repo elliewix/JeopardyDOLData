{
 "metadata": {
  "name": ""
 },
 "nbformat": 3,
 "nbformat_minor": 0,
 "worksheets": [
  {
   "cells": [
    {
     "cell_type": "code",
     "collapsed": false,
     "input": [
      "from os import listdir\n",
      "from os.path import isfile, join\n",
      "import csv\n",
      "from pprint import pprint\n",
      "import re"
     ],
     "language": "python",
     "metadata": {},
     "outputs": [],
     "prompt_number": 30
    },
    {
     "cell_type": "code",
     "collapsed": false,
     "input": [
      "def getFiles(path):\n",
      "    \"\"\"Function to return a list of all files within a folder\"\"\"\n",
      "    files = [ f for f in listdir(path) if isfile(join(path,f)) and f[0] != '.' ]\n",
      "    return files"
     ],
     "language": "python",
     "metadata": {},
     "outputs": [],
     "prompt_number": 8
    },
    {
     "cell_type": "code",
     "collapsed": false,
     "input": [
      "csvpath = \"csvs/\"\n",
      "playercsvs = getFiles(csvpath)"
     ],
     "language": "python",
     "metadata": {},
     "outputs": [],
     "prompt_number": 23
    },
    {
     "cell_type": "code",
     "collapsed": false,
     "input": [
      "def getPlayerNum(filename):\n",
      "    return player.split(\".\")[0][6:]\n",
      "\n",
      "def getBio(bioline):\n",
      "    name = bioline[0]\n",
      "    occ = bioline[2]\n",
      "    location = bioline[3]\n",
      "    return [name, occ, location]"
     ],
     "language": "python",
     "metadata": {},
     "outputs": [],
     "prompt_number": 45
    },
    {
     "cell_type": "code",
     "collapsed": false,
     "input": [
      "players = {}\n",
      "\n",
      "for player in playercsvs[1:4]:\n",
      "    pnum = getPlayerNum(player)\n",
      "    players[pnum] = {}\n",
      "    with open(csvpath + player) as player:\n",
      "        player = csv.reader(player)\n",
      "        bioline = next(player)\n",
      "        players[pnum]['bio'] = getBio(bioline)\n",
      "        games = [row for row in player]\n",
      "\n",
      "pprint(players)    "
     ],
     "language": "python",
     "metadata": {},
     "outputs": [
      {
       "output_type": "stream",
       "stream": "stdout",
       "text": [
        "{'10': {'bio': ['Bill Scheller', 'writer', 'Waterville, Vermont']},\n",
        " '100': {'bio': ['Jeff Love',\n",
        "                 'sophomore at Stanford University',\n",
        "                 'Burlingame, California']},\n",
        " '1000': {'bio': ['Peji Ghanouni', 'senior', 'Marietta, Georgia']}}\n"
       ]
      }
     ],
     "prompt_number": 47
    },
    {
     "cell_type": "code",
     "collapsed": false,
     "input": [],
     "language": "python",
     "metadata": {},
     "outputs": []
    }
   ],
   "metadata": {}
  }
 ]
}