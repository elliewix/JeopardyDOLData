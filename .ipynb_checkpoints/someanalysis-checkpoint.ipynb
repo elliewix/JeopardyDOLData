{
 "metadata": {
  "name": ""
 },
 "nbformat": 3,
 "nbformat_minor": 0,
 "worksheets": [
  {
   "cells": [
    {
     "cell_type": "code",
     "collapsed": false,
     "input": [
      "import csv"
     ],
     "language": "python",
     "metadata": {},
     "outputs": [],
     "prompt_number": 14
    },
    {
     "cell_type": "code",
     "collapsed": false,
     "input": [
      "with open('usplayerswithsoc.csv', 'rU') as players:\n",
      "    players = csv.reader(players)\n",
      "    headers = next(players)\n",
      "    players = [row for row in players]\n",
      "    \n",
      "for row in players:\n",
      "    if row[5].lower == 'onio':\n",
      "        print row"
     ],
     "language": "python",
     "metadata": {},
     "outputs": [],
     "prompt_number": 15
    },
    {
     "cell_type": "code",
     "collapsed": false,
     "input": [
      "states = list(set([row[5].lower() for row in players]))\n"
     ],
     "language": "python",
     "metadata": {},
     "outputs": [],
     "prompt_number": 16
    },
    {
     "cell_type": "code",
     "collapsed": false,
     "input": [
      "occstates = [state.lower() for state in ['Mississippi', 'Oklahoma', 'Delaware', 'Minnesota', 'Illinois', 'Arkansas', 'New Mexico', 'Indiana', 'Maryland', 'Louisiana', 'Idaho', 'Wyoming', 'Tennessee', 'Arizona', 'Iowa', 'Michigan', 'Kansas', 'Utah', 'Virginia', 'Oregon', 'Connecticut', 'Montana', 'California', 'Massachusetts', 'West Virginia', 'South Carolina', 'New Hampshire', 'Wisconsin', 'Vermont', 'Georgia', 'North Dakota', 'Pennsylvania', 'Puerto Rico', 'Florida', 'Alaska', 'Kentucky', 'Hawaii', 'Nebraska', 'Missouri', 'Ohio', 'Alabama', 'New York', 'Virgin Islands', 'South Dakota', 'Colorado', 'New Jersey', 'Guam', 'Washington', 'North Carolina', 'District of Columbia', 'Texas', 'Nevada', 'Maine', 'Rhode Island']]"
     ],
     "language": "python",
     "metadata": {},
     "outputs": [],
     "prompt_number": 17
    },
    {
     "cell_type": "code",
     "collapsed": false,
     "input": [
      "for state in states:\n",
      "    if state not in occstates:\n",
      "        print state"
     ],
     "language": "python",
     "metadata": {},
     "outputs": [],
     "prompt_number": 18
    },
    {
     "cell_type": "code",
     "collapsed": false,
     "input": [
      "statecounts = {}\n",
      "\n",
      "for state in states:\n",
      "    stateplayers = [player for player in players if player[5].lower() == state.lower()]\n",
      "    statecounts[state] = len(stateplayers)\n",
      "    with open('playersbystate/' + state + \"Players.csv\",'w') as outfile:\n",
      "        outfile = csv.writer(outfile)\n",
      "        outfile.writerow(headers)\n",
      "        outfile.writerows(stateplayers)"
     ],
     "language": "python",
     "metadata": {},
     "outputs": [],
     "prompt_number": 23
    },
    {
     "cell_type": "code",
     "collapsed": false,
     "input": [
      "statecounts"
     ],
     "language": "python",
     "metadata": {},
     "outputs": [
      {
       "metadata": {},
       "output_type": "pyout",
       "prompt_number": 24,
       "text": [
        "{'alabama': 65,\n",
        " 'alaska': 14,\n",
        " 'arizona': 82,\n",
        " 'arkansas': 33,\n",
        " 'california': 1493,\n",
        " 'colorado': 93,\n",
        " 'connecticut': 157,\n",
        " 'delaware': 37,\n",
        " 'florida': 326,\n",
        " 'georgia': 261,\n",
        " 'hawaii': 35,\n",
        " 'idaho': 16,\n",
        " 'illinois': 436,\n",
        " 'indiana': 104,\n",
        " 'iowa': 55,\n",
        " 'kansas': 71,\n",
        " 'kentucky': 110,\n",
        " 'louisiana': 107,\n",
        " 'maine': 43,\n",
        " 'maryland': 336,\n",
        " 'massachusetts': 427,\n",
        " 'michigan': 189,\n",
        " 'minnesota': 110,\n",
        " 'mississippi': 24,\n",
        " 'missouri': 96,\n",
        " 'montana': 19,\n",
        " 'nebraska': 33,\n",
        " 'nevada': 43,\n",
        " 'new hampshire': 60,\n",
        " 'new jersey': 299,\n",
        " 'new mexico': 32,\n",
        " 'new york': 817,\n",
        " 'north carolina': 167,\n",
        " 'north dakota': 4,\n",
        " 'ohio': 260,\n",
        " 'oklahoma': 50,\n",
        " 'oregon': 116,\n",
        " 'pennsylvania': 356,\n",
        " 'rhode island': 37,\n",
        " 'south dakota': 13,\n",
        " 'tennessee': 99,\n",
        " 'texas': 332,\n",
        " 'utah': 21,\n",
        " 'vermont': 36,\n",
        " 'virginia': 424,\n",
        " 'washington': 390,\n",
        " 'wisconsin': 112,\n",
        " 'wyoming': 11}"
       ]
      }
     ],
     "prompt_number": 24
    },
    {
     "cell_type": "code",
     "collapsed": false,
     "input": [
      "countrows = [[key, value] for key, value in statecounts.iteritems()]"
     ],
     "language": "python",
     "metadata": {},
     "outputs": [],
     "prompt_number": 26
    },
    {
     "cell_type": "code",
     "collapsed": false,
     "input": [
      "with open('stateoccdata2013.csv', 'rU') as bls2013:\n",
      "    bls2013 = csv.reader(bls2013)\n",
      "    bls2013headers = next(bls2013)\n",
      "    occs = [row for row in bls2013]"
     ],
     "language": "python",
     "metadata": {},
     "outputs": [],
     "prompt_number": 27
    },
    {
     "cell_type": "code",
     "collapsed": false,
     "input": [
      "statelevel = [row for row in occs if row[3] == '00-0000']"
     ],
     "language": "python",
     "metadata": {},
     "outputs": [],
     "prompt_number": 28
    },
    {
     "cell_type": "code",
     "collapsed": false,
     "input": [
      "justtoteimploy = {}\n",
      "for row in statelevel:\n",
      "    justtoteimploy[row[2]] = {bls2013headers[6]: int(row[6].replace(',',''))}"
     ],
     "language": "python",
     "metadata": {},
     "outputs": [],
     "prompt_number": 29
    },
    {
     "cell_type": "code",
     "collapsed": false,
     "input": [
      "printthis = []"
     ],
     "language": "python",
     "metadata": {},
     "outputs": [
      {
       "metadata": {},
       "output_type": "pyout",
       "prompt_number": 30,
       "text": [
        "{'Alabama': {'TOT_EMP': 1844080},\n",
        " 'Alaska': {'TOT_EMP': 322660},\n",
        " 'Arizona': {'TOT_EMP': 2475660},\n",
        " 'Arkansas': {'TOT_EMP': 1152600},\n",
        " 'California': {'TOT_EMP': 14714530},\n",
        " 'Colorado': {'TOT_EMP': 2295000},\n",
        " 'Connecticut': {'TOT_EMP': 1635590},\n",
        " 'Delaware': {'TOT_EMP': 412140},\n",
        " 'District of Columbia': {'TOT_EMP': 665850},\n",
        " 'Florida': {'TOT_EMP': 7453230},\n",
        " 'Georgia': {'TOT_EMP': 3879660},\n",
        " 'Guam': {'TOT_EMP': 59500},\n",
        " 'Hawaii': {'TOT_EMP': 602200},\n",
        " 'Idaho': {'TOT_EMP': 613000},\n",
        " 'Illinois': {'TOT_EMP': 5704700},\n",
        " 'Indiana': {'TOT_EMP': 2854250},\n",
        " 'Iowa': {'TOT_EMP': 1491600},\n",
        " 'Kansas': {'TOT_EMP': 1336460},\n",
        " 'Kentucky': {'TOT_EMP': 1782820},\n",
        " 'Louisiana': {'TOT_EMP': 1885310},\n",
        " 'Maine': {'TOT_EMP': 582430},\n",
        " 'Maryland': {'TOT_EMP': 2534480},\n",
        " 'Massachusetts': {'TOT_EMP': 3257870},\n",
        " 'Michigan': {'TOT_EMP': 3998790},\n",
        " 'Minnesota': {'TOT_EMP': 2688580},\n",
        " 'Mississippi': {'TOT_EMP': 1083560},\n",
        " 'Missouri': {'TOT_EMP': 2639120},\n",
        " 'Montana': {'TOT_EMP': 439110},\n",
        " 'Nebraska': {'TOT_EMP': 927150},\n",
        " 'Nevada': {'TOT_EMP': 1151970},\n",
        " 'New Hampshire': {'TOT_EMP': 620190},\n",
        " 'New Jersey': {'TOT_EMP': 3821070},\n",
        " 'New Mexico': {'TOT_EMP': 783980},\n",
        " 'New York': {'TOT_EMP': 8635400},\n",
        " 'North Carolina': {'TOT_EMP': 3947030},\n",
        " 'North Dakota': {'TOT_EMP': 422930},\n",
        " 'Ohio': {'TOT_EMP': 5125850},\n",
        " 'Oklahoma': {'TOT_EMP': 1558860},\n",
        " 'Oregon': {'TOT_EMP': 1640300},\n",
        " 'Pennsylvania': {'TOT_EMP': 5616820},\n",
        " 'Puerto Rico': {'TOT_EMP': 927460},\n",
        " 'Rhode Island': {'TOT_EMP': 456100},\n",
        " 'South Carolina': {'TOT_EMP': 1826120},\n",
        " 'South Dakota': {'TOT_EMP': 402990},\n",
        " 'Tennessee': {'TOT_EMP': 2700050},\n",
        " 'Texas': {'TOT_EMP': 10913950},\n",
        " 'Utah': {'TOT_EMP': 1242690},\n",
        " 'Vermont': {'TOT_EMP': 298290},\n",
        " 'Virgin Islands': {'TOT_EMP': 38860},\n",
        " 'Virginia': {'TOT_EMP': 3631440},\n",
        " 'Washington': {'TOT_EMP': 2827200},\n",
        " 'West Virginia': {'TOT_EMP': 709430},\n",
        " 'Wisconsin': {'TOT_EMP': 2704840},\n",
        " 'Wyoming': {'TOT_EMP': 278910}}"
       ]
      }
     ],
     "prompt_number": 30
    },
    {
     "cell_type": "code",
     "collapsed": false,
     "input": [],
     "language": "python",
     "metadata": {},
     "outputs": []
    }
   ],
   "metadata": {}
  }
 ]
}