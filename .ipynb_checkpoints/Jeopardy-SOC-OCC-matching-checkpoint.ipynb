{
 "metadata": {
  "name": ""
 },
 "nbformat": 3,
 "nbformat_minor": 0,
 "worksheets": [
  {
   "cells": [
    {
     "cell_type": "code",
     "collapsed": false,
     "input": [
      "import csv\n",
      "from collections import Counter"
     ],
     "language": "python",
     "metadata": {},
     "outputs": [],
     "prompt_number": 1
    },
    {
     "cell_type": "code",
     "collapsed": false,
     "input": [
      "# first, load the soc code file\n",
      "\n",
      "with open('scripts-soccodes.csv','rU') as soccodes:\n",
      "    soccodes = csv.reader(soccodes)\n",
      "    headers = next(soccodes)\n",
      "    soccodes = [row for row in soccodes]\n",
      "    \n",
      "# also load all the occupational values into one big string for quick checking\n",
      "socstr = \"\"\n",
      "for soc in soccodes:\n",
      "    socstr += soc[1].lower() + \" \" + soc[2].lower()"
     ],
     "language": "python",
     "metadata": {},
     "outputs": [],
     "prompt_number": 2
    },
    {
     "cell_type": "code",
     "collapsed": false,
     "input": [
      "\n",
      "#socstr"
     ],
     "language": "python",
     "metadata": {},
     "outputs": [],
     "prompt_number": 3
    },
    {
     "cell_type": "code",
     "collapsed": false,
     "input": [
      "# load the player data file\n",
      "\n",
      "with open('onlyusplayers.csv','rU') as playerinfo:\n",
      "    playerinfo = csv.reader(playerinfo)\n",
      "    pheaders = next(playerinfo)\n",
      "    playerinfo = [row for row in playerinfo]"
     ],
     "language": "python",
     "metadata": {},
     "outputs": [],
     "prompt_number": 4
    },
    {
     "cell_type": "code",
     "collapsed": false,
     "input": [
      "#playerinfo"
     ],
     "language": "python",
     "metadata": {},
     "outputs": [],
     "prompt_number": 5
    },
    {
     "cell_type": "code",
     "collapsed": false,
     "input": [
      "players = {}\n",
      "\n",
      "for player in playerinfo:\n",
      "    id = player[0]\n",
      "    players[id] = {}\n",
      "    # loops through the list of rows and creates a pretty dictionary\n",
      "    # using the enumerated index values and running through the headers\n",
      "    for index, value in enumerate(player):\n",
      "        players[id][pheaders[index]] = value"
     ],
     "language": "python",
     "metadata": {},
     "outputs": [],
     "prompt_number": 6
    },
    {
     "cell_type": "code",
     "collapsed": false,
     "input": [
      "totalcount = 0\n",
      "\n",
      "notfoundcount = 0\n",
      "occsnotfound = []\n",
      "\n",
      "for pid, player in players.iteritems():\n",
      "    totalcount += 1\n",
      "    occ = player['occ'].lower()\n",
      "    matchocc = \"\"\n",
      "    if player['studentflag'] == \"TRUE\":\n",
      "        matchocc = \"56-MiscStudent\"\n",
      "        continue\n",
      "    if 'retired' in occ:\n",
      "        matchocc = \"58-Retired\"\n",
      "        continue\n",
      "    if 'recent' in occ and 'graduate' in occ:\n",
      "        matchocc = \"58-RecentGrad\"\n",
      "        continue\n",
      "    if 'high school' in occ and 'teacher' in occ:\n",
      "        matchocc = \"25-2031\"\n",
      "        continue\n",
      "    if occ in socstr:\n",
      "        socmatches = 0\n",
      "        for row in soccodes:\n",
      "            title = row[1].lower()\n",
      "            directtitle = row[2].lower()\n",
      "            if occ == title:\n",
      "                matchocc = row[0]\n",
      "                socmatches += 1\n",
      "            elif occ == directtitle:\n",
      "                matchocc = row[0]\n",
      "                socmatches += 1\n",
      "        if socmatches > 1:\n",
      "            print \"found more than 1 with\", player\n",
      "    # begin last ditch effort matching\n",
      "    elif \"student\" in occ:\n",
      "        matchocc = \"56-MiscStudent\"\n",
      "    elif \"teacher\" in occ:\n",
      "        matchocc = \"25-MiscTeacher\"\n",
      "    elif \"professor\" in occ:\n",
      "        matchocc = \"25-Prof\"\n",
      "    elif \"consultant\" in occ:\n",
      "        matchocc = \"59-Consultant\"\n",
      "    elif \"computer\" in occ:\n",
      "        matchocc = \"15-Computer\"\n",
      "    elif \"stay-at-home\" in occ:\n",
      "        matchocc = \"StayAtHome\"\n",
      "    else:\n",
      "        notfoundcount += 1\n",
      "        occsnotfound.append(occ)\n",
      "    players[pid]['SOC'] = matchocc\n",
      "        \n",
      "print \"total\", totalcount, \"not found\", notfoundcount, \"yielding\", \\\n",
      "    float(notfoundcount)/float(totalcount)*100, \"% failure\"\n",
      "        "
     ],
     "language": "python",
     "metadata": {},
     "outputs": [
      {
       "output_type": "stream",
       "stream": "stdout",
       "text": [
        "total 8537 not found 2470 yielding 28.932880403 % failure\n"
       ]
      }
     ],
     "prompt_number": 9
    },
    {
     "cell_type": "code",
     "collapsed": false,
     "input": [
      "leftovers = \"\"\n",
      "\n",
      "coccsnotfound = dict(Counter(occsnotfound))\n",
      "for occ, count in coccsnotfound.iteritems():\n",
      "#     if \"computer\" in occ:\n",
      "#         print occ\n",
      "    leftovers += occ\n",
      "        \n",
      "leftovers = dict(Counter(leftovers.split(\" \")))\n",
      "\n",
      "for word, count in leftovers.iteritems():\n",
      "    if count > 15:\n",
      "        print word, count"
     ],
     "language": "python",
     "metadata": {},
     "outputs": [
      {
       "output_type": "stream",
       "stream": "stdout",
       "text": [
        "school 25\n",
        "program 20\n",
        "and 346\n",
        "the 19\n",
        "for 28\n",
        "support 21\n",
        "& 24\n",
        "service 17\n",
        "of 75\n",
        "a 31\n",
        "services 16\n",
        "development 17\n",
        "relations 19\n"
       ]
      }
     ],
     "prompt_number": 150
    },
    {
     "cell_type": "code",
     "collapsed": false,
     "input": [
      "pheaders= ['ID', 'name', 'year', 'occ', 'loc', 'studentflag', 'SOC']\n",
      "pheaders"
     ],
     "language": "python",
     "metadata": {},
     "outputs": [
      {
       "metadata": {},
       "output_type": "pyout",
       "prompt_number": 25,
       "text": [
        "['ID', 'name', 'year', 'occ', 'loc', 'studentflag', 'SOC', 'studentflag']"
       ]
      }
     ],
     "prompt_number": 25
    },
    {
     "cell_type": "code",
     "collapsed": false,
     "input": [
      "with open('usplayerswithsoc.csv','w') as outfile:\n",
      "    outfile = csv.DictWriter(outfile,pheaders)\n",
      "    outfile.writeheader()\n",
      "    outfile.writerows(players)"
     ],
     "language": "python",
     "metadata": {},
     "outputs": [
      {
       "ename": "ValueError",
       "evalue": "dict contains fields not in fieldnames: 5, 9, 8, 8",
       "output_type": "pyerr",
       "traceback": [
        "\u001b[0;31m---------------------------------------------------------------------------\u001b[0m\n\u001b[0;31mValueError\u001b[0m                                Traceback (most recent call last)",
        "\u001b[0;32m<ipython-input-26-f57a1820df2f>\u001b[0m in \u001b[0;36m<module>\u001b[0;34m()\u001b[0m\n\u001b[1;32m      2\u001b[0m     \u001b[0moutfile\u001b[0m \u001b[0;34m=\u001b[0m \u001b[0mcsv\u001b[0m\u001b[0;34m.\u001b[0m\u001b[0mDictWriter\u001b[0m\u001b[0;34m(\u001b[0m\u001b[0moutfile\u001b[0m\u001b[0;34m,\u001b[0m\u001b[0mpheaders\u001b[0m\u001b[0;34m)\u001b[0m\u001b[0;34m\u001b[0m\u001b[0m\n\u001b[1;32m      3\u001b[0m     \u001b[0moutfile\u001b[0m\u001b[0;34m.\u001b[0m\u001b[0mwriteheader\u001b[0m\u001b[0;34m(\u001b[0m\u001b[0;34m)\u001b[0m\u001b[0;34m\u001b[0m\u001b[0m\n\u001b[0;32m----> 4\u001b[0;31m     \u001b[0moutfile\u001b[0m\u001b[0;34m.\u001b[0m\u001b[0mwriterows\u001b[0m\u001b[0;34m(\u001b[0m\u001b[0mplayers\u001b[0m\u001b[0;34m)\u001b[0m\u001b[0;34m\u001b[0m\u001b[0m\n\u001b[0m",
        "\u001b[0;32m/Applications/Canopy.app/appdata/canopy-1.0.3.1262.macosx-x86/Canopy.app/Contents/lib/python2.7/csv.pyc\u001b[0m in \u001b[0;36mwriterows\u001b[0;34m(self, rowdicts)\u001b[0m\n\u001b[1;32m    151\u001b[0m         \u001b[0mrows\u001b[0m \u001b[0;34m=\u001b[0m \u001b[0;34m[\u001b[0m\u001b[0;34m]\u001b[0m\u001b[0;34m\u001b[0m\u001b[0m\n\u001b[1;32m    152\u001b[0m         \u001b[0;32mfor\u001b[0m \u001b[0mrowdict\u001b[0m \u001b[0;32min\u001b[0m \u001b[0mrowdicts\u001b[0m\u001b[0;34m:\u001b[0m\u001b[0;34m\u001b[0m\u001b[0m\n\u001b[0;32m--> 153\u001b[0;31m             \u001b[0mrows\u001b[0m\u001b[0;34m.\u001b[0m\u001b[0mappend\u001b[0m\u001b[0;34m(\u001b[0m\u001b[0mself\u001b[0m\u001b[0;34m.\u001b[0m\u001b[0m_dict_to_list\u001b[0m\u001b[0;34m(\u001b[0m\u001b[0mrowdict\u001b[0m\u001b[0;34m)\u001b[0m\u001b[0;34m)\u001b[0m\u001b[0;34m\u001b[0m\u001b[0m\n\u001b[0m\u001b[1;32m    154\u001b[0m         \u001b[0;32mreturn\u001b[0m \u001b[0mself\u001b[0m\u001b[0;34m.\u001b[0m\u001b[0mwriter\u001b[0m\u001b[0;34m.\u001b[0m\u001b[0mwriterows\u001b[0m\u001b[0;34m(\u001b[0m\u001b[0mrows\u001b[0m\u001b[0;34m)\u001b[0m\u001b[0;34m\u001b[0m\u001b[0m\n\u001b[1;32m    155\u001b[0m \u001b[0;34m\u001b[0m\u001b[0m\n",
        "\u001b[0;32m/Applications/Canopy.app/appdata/canopy-1.0.3.1262.macosx-x86/Canopy.app/Contents/lib/python2.7/csv.pyc\u001b[0m in \u001b[0;36m_dict_to_list\u001b[0;34m(self, rowdict)\u001b[0m\n\u001b[1;32m    142\u001b[0m             \u001b[0;32mif\u001b[0m \u001b[0mwrong_fields\u001b[0m\u001b[0;34m:\u001b[0m\u001b[0;34m\u001b[0m\u001b[0m\n\u001b[1;32m    143\u001b[0m                 raise ValueError(\"dict contains fields not in fieldnames: \" +\n\u001b[0;32m--> 144\u001b[0;31m                                  \", \".join(wrong_fields))\n\u001b[0m\u001b[1;32m    145\u001b[0m         \u001b[0;32mreturn\u001b[0m \u001b[0;34m[\u001b[0m\u001b[0mrowdict\u001b[0m\u001b[0;34m.\u001b[0m\u001b[0mget\u001b[0m\u001b[0;34m(\u001b[0m\u001b[0mkey\u001b[0m\u001b[0;34m,\u001b[0m \u001b[0mself\u001b[0m\u001b[0;34m.\u001b[0m\u001b[0mrestval\u001b[0m\u001b[0;34m)\u001b[0m \u001b[0;32mfor\u001b[0m \u001b[0mkey\u001b[0m \u001b[0;32min\u001b[0m \u001b[0mself\u001b[0m\u001b[0;34m.\u001b[0m\u001b[0mfieldnames\u001b[0m\u001b[0;34m]\u001b[0m\u001b[0;34m\u001b[0m\u001b[0m\n\u001b[1;32m    146\u001b[0m \u001b[0;34m\u001b[0m\u001b[0m\n",
        "\u001b[0;31mValueError\u001b[0m: dict contains fields not in fieldnames: 5, 9, 8, 8"
       ]
      }
     ],
     "prompt_number": 26
    },
    {
     "cell_type": "code",
     "collapsed": false,
     "input": [],
     "language": "python",
     "metadata": {},
     "outputs": []
    }
   ],
   "metadata": {}
  }
 ]
}