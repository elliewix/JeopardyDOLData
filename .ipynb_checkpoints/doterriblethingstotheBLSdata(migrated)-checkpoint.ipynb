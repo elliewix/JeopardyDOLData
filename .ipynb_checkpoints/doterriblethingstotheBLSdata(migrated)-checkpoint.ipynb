{
 "metadata": {
  "name": ""
 },
 "nbformat": 3,
 "nbformat_minor": 0,
 "worksheets": [
  {
   "cells": [
    {
     "cell_type": "code",
     "collapsed": false,
     "input": [
      "# migrated into PreparePlayerInfo"
     ],
     "language": "python",
     "metadata": {},
     "outputs": []
    },
    {
     "cell_type": "code",
     "collapsed": false,
     "input": [
      "import csv\n",
      "from pprint import pprint"
     ],
     "language": "python",
     "metadata": {},
     "outputs": [],
     "prompt_number": 7
    },
    {
     "cell_type": "code",
     "collapsed": false,
     "input": [
      "with open('stateoccdata2013.csv', 'rU') as bls2013:\n",
      "    bls2013 = csv.reader(bls2013)\n",
      "    bls2013headers = next(bls2013)\n",
      "    occs = [row for row in bls2013]"
     ],
     "language": "python",
     "metadata": {},
     "outputs": [],
     "prompt_number": 3
    },
    {
     "cell_type": "code",
     "collapsed": false,
     "input": [
      "statelevel = [row for row in occs if row[3] == '00-0000']"
     ],
     "language": "python",
     "metadata": {},
     "outputs": [],
     "prompt_number": 5
    },
    {
     "cell_type": "code",
     "collapsed": false,
     "input": [
      "justtoteimploy = {}\n",
      "for row in statelevel:\n",
      "    justtoteimploy[row[2]] = {bls2013headers[6]: int(row[6].replace(',',''))}"
     ],
     "language": "python",
     "metadata": {},
     "outputs": [],
     "prompt_number": 17
    },
    {
     "cell_type": "code",
     "collapsed": false,
     "input": [
      "len(statelevel)"
     ],
     "language": "python",
     "metadata": {},
     "outputs": [
      {
       "metadata": {},
       "output_type": "pyout",
       "prompt_number": 18,
       "text": [
        "54"
       ]
      }
     ],
     "prompt_number": 18
    },
    {
     "cell_type": "code",
     "collapsed": false,
     "input": [
      "justtoteimploy"
     ],
     "language": "python",
     "metadata": {},
     "outputs": [
      {
       "metadata": {},
       "output_type": "pyout",
       "prompt_number": 21,
       "text": [
        "{'Alabama': {'TOT_EMP': 1844080},\n",
        " 'Alaska': {'TOT_EMP': 322660},\n",
        " 'Arizona': {'TOT_EMP': 2475660},\n",
        " 'Arkansas': {'TOT_EMP': 1152600},\n",
        " 'California': {'TOT_EMP': 14714530},\n",
        " 'Colorado': {'TOT_EMP': 2295000},\n",
        " 'Connecticut': {'TOT_EMP': 1635590},\n",
        " 'Delaware': {'TOT_EMP': 412140},\n",
        " 'District of Columbia': {'TOT_EMP': 665850},\n",
        " 'Florida': {'TOT_EMP': 7453230},\n",
        " 'Georgia': {'TOT_EMP': 3879660},\n",
        " 'Guam': {'TOT_EMP': 59500},\n",
        " 'Hawaii': {'TOT_EMP': 602200},\n",
        " 'Idaho': {'TOT_EMP': 613000},\n",
        " 'Illinois': {'TOT_EMP': 5704700},\n",
        " 'Indiana': {'TOT_EMP': 2854250},\n",
        " 'Iowa': {'TOT_EMP': 1491600},\n",
        " 'Kansas': {'TOT_EMP': 1336460},\n",
        " 'Kentucky': {'TOT_EMP': 1782820},\n",
        " 'Louisiana': {'TOT_EMP': 1885310},\n",
        " 'Maine': {'TOT_EMP': 582430},\n",
        " 'Maryland': {'TOT_EMP': 2534480},\n",
        " 'Massachusetts': {'TOT_EMP': 3257870},\n",
        " 'Michigan': {'TOT_EMP': 3998790},\n",
        " 'Minnesota': {'TOT_EMP': 2688580},\n",
        " 'Mississippi': {'TOT_EMP': 1083560},\n",
        " 'Missouri': {'TOT_EMP': 2639120},\n",
        " 'Montana': {'TOT_EMP': 439110},\n",
        " 'Nebraska': {'TOT_EMP': 927150},\n",
        " 'Nevada': {'TOT_EMP': 1151970},\n",
        " 'New Hampshire': {'TOT_EMP': 620190},\n",
        " 'New Jersey': {'TOT_EMP': 3821070},\n",
        " 'New Mexico': {'TOT_EMP': 783980},\n",
        " 'New York': {'TOT_EMP': 8635400},\n",
        " 'North Carolina': {'TOT_EMP': 3947030},\n",
        " 'North Dakota': {'TOT_EMP': 422930},\n",
        " 'Ohio': {'TOT_EMP': 5125850},\n",
        " 'Oklahoma': {'TOT_EMP': 1558860},\n",
        " 'Oregon': {'TOT_EMP': 1640300},\n",
        " 'Pennsylvania': {'TOT_EMP': 5616820},\n",
        " 'Puerto Rico': {'TOT_EMP': 927460},\n",
        " 'Rhode Island': {'TOT_EMP': 456100},\n",
        " 'South Carolina': {'TOT_EMP': 1826120},\n",
        " 'South Dakota': {'TOT_EMP': 402990},\n",
        " 'Tennessee': {'TOT_EMP': 2700050},\n",
        " 'Texas': {'TOT_EMP': 10913950},\n",
        " 'Utah': {'TOT_EMP': 1242690},\n",
        " 'Vermont': {'TOT_EMP': 298290},\n",
        " 'Virgin Islands': {'TOT_EMP': 38860},\n",
        " 'Virginia': {'TOT_EMP': 3631440},\n",
        " 'Washington': {'TOT_EMP': 2827200},\n",
        " 'West Virginia': {'TOT_EMP': 709430},\n",
        " 'Wisconsin': {'TOT_EMP': 2704840},\n",
        " 'Wyoming': {'TOT_EMP': 278910}}"
       ]
      }
     ],
     "prompt_number": 21
    },
    {
     "cell_type": "code",
     "collapsed": false,
     "input": [
      "with open('blsdatabystate.csv', 'w') as blsout:\n",
      "    blsout = csv.writer(blsout)\n",
      "    blsout.writerow(['state',justtoteimploy.values()])\n",
      "    # this is the most fucking rediculous thing I've ever written.\n",
      "    # basically, make the dictionary IDs and value values into a list and write that crap\n",
      "    # meaning that this will grow as the values for the states are added to\n",
      "    blsout.writerows([[key] + value.values() for key, value in justtoteimploy.iteritems()])"
     ],
     "language": "python",
     "metadata": {},
     "outputs": [],
     "prompt_number": 28
    },
    {
     "cell_type": "code",
     "collapsed": false,
     "input": [],
     "language": "python",
     "metadata": {},
     "outputs": [],
     "prompt_number": 29
    },
    {
     "cell_type": "code",
     "collapsed": false,
     "input": [],
     "language": "python",
     "metadata": {},
     "outputs": []
    }
   ],
   "metadata": {}
  }
 ]
}