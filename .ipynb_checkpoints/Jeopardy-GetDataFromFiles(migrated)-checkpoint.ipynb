{
 "metadata": {
  "name": ""
 },
 "nbformat": 3,
 "nbformat_minor": 0,
 "worksheets": [
  {
   "cells": [
    {
     "cell_type": "code",
     "collapsed": false,
     "input": [
      "# migrated into Prepare Player Files"
     ],
     "language": "python",
     "metadata": {},
     "outputs": [],
     "prompt_number": 6
    },
    {
     "cell_type": "code",
     "collapsed": false,
     "input": [
      "import urllib2\n",
      "import re\n",
      "import csv\n",
      "from os import listdir\n",
      "from os.path import isfile, join\n",
      "from pprint import pprint\n",
      "import time\n",
      "import internetarchive as ia\n",
      "import timeit\n",
      "from bs4 import BeautifulSoup\n",
      "import os\n",
      "from os import listdir\n",
      "from os.path import isfile, join\n",
      "import shutil\n",
      "\n",
      "from scrapy.selector import Selector\n",
      "from scrapy.http import HtmlResponse\n",
      "from collections import Counter"
     ],
     "language": "python",
     "metadata": {},
     "outputs": [],
     "prompt_number": 1
    },
    {
     "cell_type": "code",
     "collapsed": false,
     "input": [
      "def getFiles(path):\n",
      "    \"\"\"Function to return a list of all files within a folder\"\"\"\n",
      "    files = [ f for f in listdir(path) if isfile(join(path,f)) and f[0] != '.' ]\n",
      "    return files\n",
      "\n",
      "occupation = re.compile(r'(?:an? *)?(.+?)(?:originally\\s*)?from.+?',re.IGNORECASE)\n",
      "location = re.compile(r'(?:\\s*(?:originally\\s*)?from)(.+?)\\.*$',re.IGNORECASE)\n",
      "def getoccloc(body):\n",
      "    player = []\n",
      "    rawoccorig = Selector(text=body).xpath('//p[@class=\"player_occupation_and_origin\"]/descendant::text()').extract()\n",
      "    # fucking xpath splits shit\n",
      "    rawoccorig = ''.join(rawoccorig)\n",
      "    foundocc = re.findall(occupation, rawoccorig)\n",
      "    if len(foundocc) == 0:\n",
      "        player.append('')\n",
      "    else:\n",
      "        player.append(foundocc[0].strip())\n",
      "    foundloc = re.findall(location, rawoccorig)\n",
      "    if len(foundloc) == 0:\n",
      "        player.append('')\n",
      "    else:\n",
      "        player.append(foundloc[0].strip())\n",
      "    return player"
     ],
     "language": "python",
     "metadata": {},
     "outputs": [],
     "prompt_number": 2
    },
    {
     "cell_type": "code",
     "collapsed": false,
     "input": [
      "folder = 'playergamestats/'\n",
      "target = \"csvs/\"\n",
      "files = getFiles(folder)\n"
     ],
     "language": "python",
     "metadata": {},
     "outputs": [],
     "prompt_number": 3
    },
    {
     "cell_type": "markdown",
     "metadata": {},
     "source": [
      "Sanity check here, this should return a name"
     ]
    },
    {
     "cell_type": "code",
     "collapsed": false,
     "input": [
      "with open(folder + files[0],'rt') as page:\n",
      "    body = page.read()\n",
      "    \n",
      "name = Selector(text=body).xpath('//p[@class=\"player_full_name\"]/text()').extract()\n",
      "killmoney = re.compile(r'[^0-9-//WR%]') #entry 4\n",
      "name[0]"
     ],
     "language": "python",
     "metadata": {},
     "outputs": [
      {
       "metadata": {},
       "output_type": "pyout",
       "prompt_number": 4,
       "text": [
        "u'Ken Jennings'"
       ]
      }
     ],
     "prompt_number": 4
    },
    {
     "cell_type": "code",
     "collapsed": false,
     "input": [
      "for eachfile in files:\n",
      "    with open(folder + eachfile,'rt') as page:\n",
      "        body = page.read()\n",
      "    # snag the games\n",
      "    games = Selector(text=body).xpath('//tr/td/a[contains(.,\"#\")]/../..').extract()\n",
      "    allgames = [Selector(text=game).xpath('//tr/td[a]/..//text()').extract() for game in games]\n",
      "    name = Selector(text=body).xpath('//p[@class=\"player_full_name\"]/text()').extract()\n",
      "    occ = Selector(text=body).xpath('//p[@class=\"player_occupation_and_origin\"]/text()').extract()\n",
      "    try:\n",
      "        name = name[0].encode(\"utf8\")\n",
      "    except:\n",
      "        name = \"Name failure\"\n",
      "    playerid = eachfile.split('.')[0][11:]\n",
      "    pocc, ploc = getoccloc(body)\n",
      "    playerinfo = [name, playerid, pocc.encode(\"utf8\"), ploc.encode(\"utf8\")]\n",
      "    #construct game info for writing\n",
      "    games = []\n",
      "    for each in allgames:\n",
      "        newlist = each[0].replace(u'\\xa0',' ').split(\", aired \")\n",
      "        for string in each[1:]:\n",
      "            newlist.append(re.sub(killmoney, '', string.replace(u'\\xa0',' ')))\n",
      "        games.append(newlist)\n",
      "    # write the csvs\n",
      "    headers = [\"GameID\",\"AirDate\",\"J! score\",\"DJ! score\",\"FJ! score\",\"Coryat score\",\"R\",\"W\",\"Rebs.\",\"DDs\",\"DD gain/loss\",\"FJ!\",\"FJ! gain/loss\",\"BA\",\"TBA\"]\n",
      "    with open(target + eachfile.split('.')[0] + '.csv','wt') as f:\n",
      "        f_csv = csv.writer(f)\n",
      "        f_csv.writerow(playerinfo)\n",
      "        f_csv.writerow(headers)\n",
      "        f_csv.writerows(games)\n",
      "    "
     ],
     "language": "python",
     "metadata": {},
     "outputs": [],
     "prompt_number": 5
    },
    {
     "cell_type": "code",
     "collapsed": false,
     "input": [],
     "language": "python",
     "metadata": {},
     "outputs": []
    }
   ],
   "metadata": {}
  }
 ]
}