{
 "metadata": {
  "name": ""
 },
 "nbformat": 3,
 "nbformat_minor": 0,
 "worksheets": [
  {
   "cells": [
    {
     "cell_type": "markdown",
     "metadata": {},
     "source": [
      "All processing notebooks have been migrated into this file.\n",
      "\n",
      "Roughly, these are the steps that this notebook will do:\n",
      "\n",
      "1. Download the player HTML pages\n",
      "2. Construct CSVs with the desired player information (uses Scrapy with xpath)\n",
      "3. Construct a CSV with only US players and desired data \n",
      " 1. Involves matching player location phrase with state and checks therein\n",
      "4. Pull in manually curated student flag data\n",
      " 1. Also includes code to pull out manually added student flag data\n",
      " 2. The chicken/egg problem this creates is understood.\n",
      "5. Match player occupation phrases to a SOC code and output new CSV\n",
      " 1. The matching code is reasonably self-documenting.\n",
      "6. Other unfinished processes include, but not limited to:\n",
      " 1. Splitting player csvs out into the state level\n",
      " 2. Looking at BLS data and constructing counts\n",
      " \n",
      "Formal code comments are being added as I have time.  "
     ]
    },
    {
     "cell_type": "markdown",
     "metadata": {},
     "source": [
      "# All the imports"
     ]
    },
    {
     "cell_type": "code",
     "collapsed": false,
     "input": [
      "import urllib2\n",
      "\n",
      "import os\n",
      "from os import listdir\n",
      "from os.path import isfile, join\n",
      "import csv\n",
      "from pprint import pprint\n",
      "import re\n",
      "from collections import Counter\n",
      "import urllib2\n",
      "from scrapy.selector import Selector\n",
      "from scrapy.http import HtmlResponse\n"
     ],
     "language": "python",
     "metadata": {},
     "outputs": [],
     "prompt_number": 1
    },
    {
     "cell_type": "markdown",
     "metadata": {},
     "source": [
      "# General Functions"
     ]
    },
    {
     "cell_type": "code",
     "collapsed": false,
     "input": [
      "def getFiles(path):\n",
      "    \"\"\"Function to return a list of all files within a folder\"\"\"\n",
      "    files = [ f for f in listdir(path) if isfile(join(path,f)) and f[0] != '.' ]\n",
      "    return files\n",
      "\n",
      "# other subspection specific functions are define in those sections"
     ],
     "language": "python",
     "metadata": {},
     "outputs": [],
     "prompt_number": 5
    },
    {
     "cell_type": "markdown",
     "metadata": {},
     "source": [
      "# download the player html pages\n",
      "\n",
      "Leaving commented out as a protection against undesired destruction."
     ]
    },
    {
     "cell_type": "code",
     "collapsed": false,
     "input": [
      "## manually determine what the highest player count is\n",
      "## PHP is sneaky.\n",
      "## remember that the stop point is exclusive\n",
      "\n",
      "# for i in range(1,9115): \n",
      "#     code = i\n",
      "#     url = \"http://www.j-archive.com/showplayerstats.php?player_id=\" + str(code)\n",
      "#     #filename = \"playergamestats/\" + str(code) + \".txt\"\n",
      "#     filename = \"player\" + str(code) + \".txt\"\n",
      "#     try:\n",
      "#         file( \"playergamestats/\" +filename, \"wb\").write(urllib2.urlopen(url).read())\n",
      "#     except:\n",
      "#         print \"player\",i,\"failed\""
     ],
     "language": "python",
     "metadata": {},
     "outputs": []
    },
    {
     "cell_type": "code",
     "collapsed": false,
     "input": [],
     "language": "python",
     "metadata": {},
     "outputs": [],
     "prompt_number": 2
    },
    {
     "cell_type": "markdown",
     "metadata": {},
     "source": [
      "# create the csvs from the html pages\n",
      "\n",
      "This is arguably unnecessary, but makes for cleaner extraction during the CSV creation point.\n",
      "\n",
      "Also makes the source data more reusable for other analyses."
     ]
    },
    {
     "cell_type": "markdown",
     "metadata": {},
     "source": [
      "### Functions and prep stuff"
     ]
    },
    {
     "cell_type": "code",
     "collapsed": false,
     "input": [
      "# regexs to snag the occupation and location\n",
      "# currently does nothing with the 'originally' part but would be worth flagging that later\n",
      "\n",
      "occupation = re.compile(r'(?:an? *)?(.+?)(?:originally\\s*)?from.+?',re.IGNORECASE)\n",
      "location = re.compile(r'(?:\\s*(?:originally\\s*)?from)(.+?)\\.*$',re.IGNORECASE)\n",
      "\n",
      "def getoccloc(body):\n",
      "    \"\"\"returns a list of a player's occupation and location phrases\n",
      "    \n",
      "    pass it a string of HTML (e.g. .read())\"\"\"\n",
      "    player = []\n",
      "    \n",
      "    # use xpath to extract the content of p@class=player_occupation_and_origin, and will\n",
      "    # also gather any descendant text ( see the CNN players id ~= 7000 for examples)\n",
      "    rawoccorig = Selector(text=body).xpath('//p[@class=\"player_occupation_and_origin\"]/descendant::text()').extract()\n",
      "    rawoccorig = ''.join(rawoccorig) # @#$@#%!$ xpath splits ALL THE THINGS\n",
      "    \n",
      "    # run the regext over the extracted text\n",
      "    # ya, these could be functions.\n",
      "    foundocc = re.findall(occupation, rawoccorig)\n",
      "    if len(foundocc) == 0: \n",
      "        player.append('') # add empty string if nothing found\n",
      "    else:\n",
      "        player.append(foundocc[0].strip())\n",
      "    foundloc = re.findall(location, rawoccorig)\n",
      "    \n",
      "    if len(foundloc) == 0:\n",
      "        player.append('') # add empty string if nothing found\n",
      "    else:\n",
      "        player.append(foundloc[0].strip())\n",
      "    return player"
     ],
     "language": "python",
     "metadata": {},
     "outputs": [],
     "prompt_number": 9
    },
    {
     "cell_type": "code",
     "collapsed": false,
     "input": [
      "folder = 'playergamestats/'\n",
      "target = \"csvs/\"\n",
      "files = getFiles(folder)\n",
      "#files\n",
      "\n",
      "print len(files)"
     ],
     "language": "python",
     "metadata": {},
     "outputs": [
      {
       "output_type": "stream",
       "stream": "stdout",
       "text": [
        "9114\n"
       ]
      }
     ],
     "prompt_number": 4
    },
    {
     "cell_type": "markdown",
     "metadata": {},
     "source": [
      "### Begin processing of files with scrapy"
     ]
    },
    {
     "cell_type": "code",
     "collapsed": false,
     "input": [
      "with open(folder + files[0],'rt') as page:\n",
      "    body = page.read()\n",
      "    \n",
      "name = Selector(text=body).xpath('//p[@class=\"player_full_name\"]/text()').extract()\n",
      "killmoney = re.compile(r'[^0-9-//WR%]') #entry 4, extracts ony the numbers out of the money\n",
      "name[0] # should be Ken Jennings"
     ],
     "language": "python",
     "metadata": {},
     "outputs": [
      {
       "metadata": {},
       "output_type": "pyout",
       "prompt_number": 5,
       "text": [
        "u'Ken Jennings'"
       ]
      }
     ],
     "prompt_number": 5
    },
    {
     "cell_type": "code",
     "collapsed": false,
     "input": [
      "for eachfile in files:\n",
      "    with open(folder + eachfile,'rt') as page:\n",
      "        body = page.read()\n",
      "    # snag the games\n",
      "    # needs to be extracted into a function\n",
      "    games = Selector(text=body).xpath('//tr/td/a[contains(.,\"#\")]/../..').extract()\n",
      "    allgames = [Selector(text=game).xpath('//tr/td[a]/..//text()').extract() for game in games]\n",
      "    name = Selector(text=body).xpath('//p[@class=\"player_full_name\"]/text()').extract()\n",
      "    occ = Selector(text=body).xpath('//p[@class=\"player_occupation_and_origin\"]/text()').extract()\n",
      "    try:\n",
      "        name = name[0].encode(\"utf8\")\n",
      "    except:\n",
      "        name = \"Name failure\"\n",
      "    playerid = eachfile.split('.')[0][11:] # kill the file type and get the stuff after player\n",
      "    pocc, ploc = getoccloc(body) # returns [occ, loc] for player\n",
      "    playerinfo = [name, playerid, pocc.encode(\"utf8\"), ploc.encode(\"utf8\")]\n",
      "    #construct game info for writing\n",
      "    games = []\n",
      "    for each in allgames:\n",
      "        newlist = each[0].replace(u'\\xa0',' ').split(\", aired \") # replace whatever \\xa0 is with \\s\n",
      "        for string in each[1:]:\n",
      "            newlist.append(re.sub(killmoney, '', string.replace(u'\\xa0',' '))) # \\xa0 is everywhere\n",
      "        games.append(newlist)\n",
      "    # write the csvs\n",
      "    # need to be made robust rather than explicit\n",
      "    headers = [\"GameID\",\"AirDate\",\"J! score\",\"DJ! score\",\"FJ! score\",\"Coryat score\",\"R\",\"W\",\"Rebs.\",\"DDs\",\"DD gain/loss\",\"FJ!\",\"FJ! gain/loss\",\"BA\",\"TBA\"]\n",
      "    with open(target + eachfile.split('.')[0] + '.csv','wt') as f:\n",
      "        # the CSVs have two levels of headers. sorry.\n",
      "        f_csv = csv.writer(f)\n",
      "        f_csv.writerow(playerinfo)\n",
      "        f_csv.writerow(headers)\n",
      "        f_csv.writerows(games)\n",
      "    "
     ],
     "language": "python",
     "metadata": {},
     "outputs": []
    },
    {
     "cell_type": "code",
     "collapsed": false,
     "input": [
      "# reopen the csvs and calculate and append the game winnings info\n",
      "\n",
      "csvs = files = getFiles(\"csvs/\")\n",
      "for filename in csvs:\n",
      "    with open(\"csvs/\" + filename, 'rU') as player:\n",
      "        player = csv.reader(player)\n",
      "        # open up the csvs and storethe info\n",
      "        bio = next(player)\n",
      "        headers = next(player)\n",
      "        games = [row for row in player]\n",
      "    numgames = len(games)\n",
      "    winnings = sum([int(row[4]) for game in games])\n",
      "    with open(\"csvs2/\" + filename, 'w') as playerout:\n",
      "        playerout = csv.writer(playerout)\n",
      "        playerout.writerow(bio)\n",
      "        playerout.writerow([numgames, winnings])\n",
      "        playerout.writerow(headers)\n",
      "        playerout.writerows(games)"
     ],
     "language": "python",
     "metadata": {},
     "outputs": [],
     "prompt_number": 32
    },
    {
     "cell_type": "code",
     "collapsed": false,
     "input": [],
     "language": "python",
     "metadata": {},
     "outputs": []
    },
    {
     "cell_type": "markdown",
     "metadata": {},
     "source": [
      "# assemble the main player csv"
     ]
    },
    {
     "cell_type": "code",
     "collapsed": false,
     "input": [
      "csvpath = \"csvs/\"\n",
      "playercsvs = getFiles(csvpath)"
     ],
     "language": "python",
     "metadata": {},
     "outputs": [],
     "prompt_number": 34
    },
    {
     "cell_type": "code",
     "collapsed": false,
     "input": [
      "def getPlayerNum(filename):\n",
      "    return player.split(\".\")[0][6:]\n",
      "\n",
      "def getBio(bioline):\n",
      "    name = bioline[0]\n",
      "    occ = bioline[2]\n",
      "    location = bioline[3]\n",
      "    return [name, occ, location]\n",
      "\n",
      "def getEarliestDate(pgames):\n",
      "    years = []\n",
      "    for game in pgames:\n",
      "        years.append(game[1].split(\"-\")[0])\n",
      "    return min(years)"
     ],
     "language": "python",
     "metadata": {},
     "outputs": [],
     "prompt_number": 35
    },
    {
     "cell_type": "code",
     "collapsed": false,
     "input": [
      "players = {}\n",
      "USOnlyPlayers = {}\n",
      "\n",
      "for player in playercsvs:\n",
      "    pnum = getPlayerNum(player)\n",
      "    players[pnum] = {}\n",
      "    with open(csvpath + player) as player:\n",
      "        player = csv.reader(player)\n",
      "        bioline = next(player)\n",
      "        players[pnum]['bio'] = getBio(bioline)\n",
      "        gamesum = next(player)\n",
      "        players[pnum]['gamesum'] = gamesum\n",
      "        games = [row for row in player]\n",
      "        players[pnum]['games'] = games[1:]\n",
      "\n",
      "#pprint(players)    \n",
      "\n",
      "locations = []\n",
      "\n",
      "# load us states\n",
      "\n",
      "with open('statessorted.txt','rt') as states:\n",
      "    states = [state.strip() for state in states.readlines()]\n",
      "\n",
      "notUS = []\n",
      "\n",
      "# adding earliest game year\n",
      "# adding location split\n",
      "for key, value in players.iteritems():\n",
      "    players[key]['bio'].insert(1,getEarliestDate(value['games']))\n",
      "    locstr = value['bio'][3]\n",
      "    stateFound = False\n",
      "    for state in states:\n",
      "        if state.lower() in locstr.lower():\n",
      "            locations.append(locstr)\n",
      "            stateFound = True\n",
      "            USOnlyPlayers[key] = value\n",
      "            break\n",
      "    if stateFound == False:\n",
      "        notUS.append(locstr)\n",
      "    value['bio'].append(value['bio'][3].split(\", \"))\n",
      "\n",
      "# for key, value in players.iteritems():\n",
      "#     if len(value['bio'][-1]) == 2 and value['bio'][-1][-1].isalpha():\n",
      "#         seendubs.append(value['bio'][-1])"
     ],
     "language": "python",
     "metadata": {},
     "outputs": [],
     "prompt_number": 36
    },
    {
     "cell_type": "code",
     "collapsed": false,
     "input": [
      "# read in the backup of the curated student flag data\n",
      "\n",
      "with open('studentflags.csv','rU') as flags:\n",
      "    flags = csv.reader(flags)\n",
      "    flaghead = next(flags)\n",
      "    flags = {row[0]: row[1] for row in flags}"
     ],
     "language": "python",
     "metadata": {},
     "outputs": [],
     "prompt_number": 37
    },
    {
     "cell_type": "code",
     "collapsed": false,
     "input": [
      "# all this needs to be fixed up in some better way, but it works for now\n",
      "# just takess \n",
      "\n",
      "outplayers = []\n",
      "for key, value in USOnlyPlayers.iteritems():\n",
      "    out = []\n",
      "    out.append(key)\n",
      "    out += value['gamesum'] # this is a list, so have to concat rather than append to keep flat\n",
      "    out += value['bio'][:-1] # this is a list, so have to concat rather than append to keep flat\n",
      "    out.append(flags[key])\n",
      "    outplayers.append(out)\n",
      "    \n",
      "with open('onlyusplayers.csv','wt') as outfile:\n",
      "    outfile = csv.writer(outfile)\n",
      "    outfile.writerow(['ID','numgames','totalwinnings','name','year','occ','loc','studentflag'])\n",
      "    outfile.writerows(outplayers)\n",
      "    \n",
      "# print outplayers"
     ],
     "language": "python",
     "metadata": {},
     "outputs": [],
     "prompt_number": 40
    },
    {
     "cell_type": "code",
     "collapsed": false,
     "input": [
      "countedloc = dict(Counter(locations))\n",
      "# for key, value in countedloc.iteritems():\n",
      "#     if value == 1:\n",
      "#         loc = key.split(\", \")\n",
      "#         if len(loc) <> 2:\n",
      "#             print loc"
     ],
     "language": "python",
     "metadata": {},
     "outputs": []
    },
    {
     "cell_type": "code",
     "collapsed": false,
     "input": [],
     "language": "python",
     "metadata": {},
     "outputs": []
    },
    {
     "cell_type": "markdown",
     "metadata": {},
     "source": [
      "# Optional: yank in any curated student flags and store them in a csv\n",
      "\n",
      "Sort of a chicken/egg service with the previous section, but it is here now.\n",
      "\n",
      "Use this code to extract the manually curated student flag information from the base player file.\n",
      "Saves them to a csv that is read in and added back in later.\n",
      "\n",
      "Prevents loss of manually curated information with the generation of a new base player file.\n",
      "\n",
      "This will break if the base player file is changed."
     ]
    },
    {
     "cell_type": "code",
     "collapsed": false,
     "input": [
      "# extracts\n",
      "\n",
      "with open('onlyusplayers.csv', 'rU') as players:\n",
      "    players = csv.reader(players)\n",
      "    headers = next(players)\n",
      "    players = [row for row in players]\n",
      "    \n",
      "flags = {row[0]: row[5] for row in players}"
     ],
     "language": "python",
     "metadata": {},
     "outputs": []
    },
    {
     "cell_type": "code",
     "collapsed": false,
     "input": [
      "# writes out\n",
      "\n",
      "printme = [[key, value] for key, value in flags.iteritems()]\n",
      "\n",
      "with open('studentflags.csv','w') as outflags:\n",
      "    outflags = csv.writer(outflags)\n",
      "    outflags.writerow(['ID','studentflag'])\n",
      "    outflags.writerows(printme)"
     ],
     "language": "python",
     "metadata": {},
     "outputs": []
    },
    {
     "cell_type": "markdown",
     "metadata": {},
     "source": [
      "# match and add the soc code to the csv and make a new one"
     ]
    },
    {
     "cell_type": "code",
     "collapsed": false,
     "input": [
      "# first, load the soc code file\n",
      "\n",
      "with open('scripts-soccodes.csv','rU') as soccodes:\n",
      "    soccodes = csv.reader(soccodes)\n",
      "    headers = next(soccodes)\n",
      "    soccodes = [row for row in soccodes]\n",
      "    \n",
      "# also load all the occupational values into one big string for quick checking\n",
      "# prevents doing an extra loop every time.\n",
      "socstr = \"\"\n",
      "for soc in soccodes:\n",
      "    socstr += soc[1].lower() + \" \" + soc[2].lower()"
     ],
     "language": "python",
     "metadata": {},
     "outputs": [],
     "prompt_number": 41
    },
    {
     "cell_type": "code",
     "collapsed": false,
     "input": [
      "# load the player data file\n",
      "\n",
      "with open('onlyusplayers.csv','rU') as playerinfo:\n",
      "    playerinfo = csv.reader(playerinfo)\n",
      "    pheaders = next(playerinfo)\n",
      "    playerinfo = [row for row in playerinfo]"
     ],
     "language": "python",
     "metadata": {},
     "outputs": [],
     "prompt_number": 42
    },
    {
     "cell_type": "code",
     "collapsed": false,
     "input": [
      "# constructs a player dictionary from the csv file info\n",
      "\n",
      "players = {}\n",
      "\n",
      "for player in playerinfo:\n",
      "    id = player[0]\n",
      "    players[id] = {}\n",
      "    # loops through the list of rows and creates a pretty dictionary\n",
      "    # using the enumerated index values and running through the headers\n",
      "    for index, value in enumerate(player):\n",
      "        players[id][pheaders[index]] = value"
     ],
     "language": "python",
     "metadata": {},
     "outputs": [],
     "prompt_number": 43
    },
    {
     "cell_type": "code",
     "collapsed": false,
     "input": [
      "totalcount = 0\n",
      "\n",
      "notfoundcount = 0\n",
      "occsnotfound = []\n",
      "\n",
      "# this loop is the main alignment for the occupations\n",
      "\n",
      "# There are three sections:\n",
      "# 1. Looser matches\n",
      "#   a. students, retired folk, recent grads, and high school teachers\n",
      "# 2. Direct matches to the SOC code names\n",
      "# 3. Desperation matches\n",
      "for pid, player in players.iteritems():\n",
      "    totalcount += 1\n",
      "    occ = player['occ'].lower()\n",
      "    matchocc = \"\"\n",
      "    # 1. Looser matches\n",
      "    if player['studentflag'] == \"TRUE\": # if flagged as stu\n",
      "        matchocc = \"56-MiscStudent\"  \n",
      "    elif 'retired' in occ: # if retired present in occ\n",
      "        matchocc = \"58-Retired\"\n",
      "    elif 'recent' in occ and 'graduate' in occ: # if recent AND graduate in occ\n",
      "        matchocc = \"58-RecentGrad\"\n",
      "    elif 'high school' in occ and 'teacher' in occ:  # there are lots of random high school teachers\n",
      "        matchocc = \"25-2031\"\n",
      "    else:\n",
      "        # 2. Direct matches to SOC code names\n",
      "        if occ in socstr: # first check if the string is in the SOC dump\n",
      "            # actually loop through the socs if it is\n",
      "            socmatches = 0 # count the number of matches\n",
      "            for row in soccodes: \n",
      "                title = row[1].lower()\n",
      "                directtitle = row[2].lower()\n",
      "                if occ == title:\n",
      "                    matchocc = row[0]\n",
      "                    socmatches += 1\n",
      "                elif occ == directtitle:\n",
      "                    matchocc = row[0]\n",
      "                    socmatches += 1\n",
      "            if socmatches > 1:  # there shouldn't be more than one match.\n",
      "                # if this pops true it is usually a problem with the student processing\n",
      "                print \"found more than 1 with\", player\n",
      "        # 3. Desperation matching\n",
      "        elif \"student\" in occ:\n",
      "            matchocc = \"56-MiscStudent\"\n",
      "        elif \"teacher\" in occ:\n",
      "            matchocc = \"25-MiscTeacher\"\n",
      "        elif \"professor\" in occ:\n",
      "            matchocc = \"25-Prof\"\n",
      "        elif \"consultant\" in occ:\n",
      "            matchocc = \"59-Consultant\"\n",
      "        elif \"computer\" in occ:\n",
      "            matchocc = \"15-Computer\"\n",
      "        elif \"stay-at-home\" in occ:\n",
      "            matchocc = \"StayAtHome\"\n",
      "        else:\n",
      "            # code as missing if none of these work\n",
      "            players[pid]['SOC'] = \"9999\"\n",
      "            notfoundcount += 1\n",
      "            occsnotfound.append(occ)\n",
      "    players[pid]['SOC'] = matchocc\n",
      "        \n",
      "# print matching report Hitting at 28% last round.\n",
      "print \"total\", totalcount, \"not found\", notfoundcount, \"yielding\", \\\n",
      "    float(notfoundcount)/float(totalcount)*100, \"% failure\"\n",
      "        "
     ],
     "language": "python",
     "metadata": {},
     "outputs": [
      {
       "output_type": "stream",
       "stream": "stdout",
       "text": [
        "total 8451 not found 2443 yielding 28.9078215596 % failure\n"
       ]
      }
     ],
     "prompt_number": 44
    },
    {
     "cell_type": "code",
     "collapsed": false,
     "input": [
      "\n",
      "#players\n",
      "\n",
      "\n",
      "# leftovers = \"\"\n",
      "\n",
      "# coccsnotfound = dict(Counter(occsnotfound))\n",
      "# for occ, count in coccsnotfound.iteritems():\n",
      "# #     if \"computer\" in occ:\n",
      "# #         print occ\n",
      "#     leftovers += occ\n",
      "        \n",
      "# leftovers = dict(Counter(leftovers.split(\" \")))\n",
      "\n",
      "# for word, count in leftovers.iteritems():\n",
      "#     if count > 15:\n",
      "#         print word, count"
     ],
     "language": "python",
     "metadata": {},
     "outputs": [],
     "prompt_number": 1
    },
    {
     "cell_type": "code",
     "collapsed": false,
     "input": [
      "pheaders= ['ID', 'name', 'year', 'occ', 'loc', 'numgames', 'totalwinnings', 'state', 'studentflag', 'SOC', 'main', 'sub']\n",
      "#pheaders"
     ],
     "language": "python",
     "metadata": {},
     "outputs": [],
     "prompt_number": 2
    },
    {
     "cell_type": "code",
     "collapsed": false,
     "input": [
      "# reconstruct the player file with the states and soc codes.\n",
      "\n",
      "rows = players.values()\n",
      "with open('statessorted.txt','rt') as states:\n",
      "    states = [state.strip().lower() for state in states.readlines()]\n",
      "\n",
      "for row in rows:\n",
      "    soc = row['SOC']\n",
      "    loc = row['loc']\n",
      "    row['state'] = '9999'\n",
      "    \n",
      "    for state in states:\n",
      "        if state in loc.lower():\n",
      "            row['state'] = state\n",
      "            break\n",
      "    if soc == '':\n",
      "        row['main'] = '9999'\n",
      "        row['sub'] = '9999'\n",
      "    elif '-' in soc:\n",
      "        main, sub = tuple(soc.split('-'))\n",
      "        row['main'] = main\n",
      "        row['sub'] = sub\n",
      "    else:\n",
      "        row['main'] = soc\n",
      "        row['sub'] = '9999'"
     ],
     "language": "python",
     "metadata": {},
     "outputs": [],
     "prompt_number": 49
    },
    {
     "cell_type": "code",
     "collapsed": false,
     "input": [
      "# and write out the whole mess\n",
      "\n",
      "with open('usplayerswithsoc.csv','w') as outfile:\n",
      "    outfile = csv.DictWriter(outfile,pheaders)\n",
      "    outfile.writeheader()\n",
      "    outfile.writerows(rows)"
     ],
     "language": "python",
     "metadata": {},
     "outputs": [],
     "prompt_number": 50
    },
    {
     "cell_type": "code",
     "collapsed": false,
     "input": [
      "players['1']"
     ],
     "language": "python",
     "metadata": {},
     "outputs": []
    },
    {
     "cell_type": "markdown",
     "metadata": {},
     "source": [
      "# Optional:  split the players into state level csvs"
     ]
    },
    {
     "cell_type": "code",
     "collapsed": false,
     "input": [
      "with open('usplayerswithsoc.csv', 'rU') as players:\n",
      "    players = csv.reader(players)\n",
      "    headers = next(players)\n",
      "    players = [row for row in players]\n",
      "    \n",
      "for row in players:\n",
      "    # this is a check to see if we are pulling in the curated files or not\n",
      "    if row[5].lower == 'onio':\n",
      "        print row"
     ],
     "language": "python",
     "metadata": {},
     "outputs": [],
     "prompt_number": 51
    },
    {
     "cell_type": "code",
     "collapsed": false,
     "input": [
      "states = list(set([row[7].lower() for row in players]))\n"
     ],
     "language": "python",
     "metadata": {},
     "outputs": [],
     "prompt_number": 55
    },
    {
     "cell_type": "code",
     "collapsed": false,
     "input": [
      "occstates = [state.lower() for state in ['Mississippi', 'Oklahoma', 'Delaware', 'Minnesota', \\\n",
      "                                         'Illinois', 'Arkansas', 'New Mexico', 'Indiana', 'Maryland', \\\n",
      "                                         'Louisiana', 'Idaho', 'Wyoming', 'Tennessee', 'Arizona', \\\n",
      "                                         'Iowa', 'Michigan', 'Kansas', 'Utah', 'Virginia', 'Oregon', \\\n",
      "                                         'Connecticut', 'Montana', 'California', 'Massachusetts', 'West Virginia', \\\n",
      "                                         'South Carolina', 'New Hampshire', 'Wisconsin', 'Vermont', 'Georgia', \\\n",
      "                                         'North Dakota', 'Pennsylvania', 'Puerto Rico', 'Florida', 'Alaska', \\\n",
      "                                         'Kentucky', 'Hawaii', 'Nebraska', 'Missouri', 'Ohio', 'Alabama', \\\n",
      "                                         'New York', 'Virgin Islands', 'South Dakota', 'Colorado', 'New Jersey', \\\n",
      "                                         'Guam', 'Washington', 'North Carolina', 'District of Columbia', \\\n",
      "                                         'Texas', 'Nevada', 'Maine', 'Rhode Island']]\n"
     ],
     "language": "python",
     "metadata": {},
     "outputs": [],
     "prompt_number": 56
    },
    {
     "cell_type": "code",
     "collapsed": false,
     "input": [
      "for state in states:\n",
      "    # check if any states pulled in are not in the states list.\n",
      "    # in theory, this should never print anything.\n",
      "    # theory.\n",
      "    if state not in occstates:\n",
      "        print state"
     ],
     "language": "python",
     "metadata": {},
     "outputs": [],
     "prompt_number": 57
    },
    {
     "cell_type": "code",
     "collapsed": false,
     "input": [
      "statecounts = {}\n",
      "\n",
      "for state in states:\n",
      "    stateplayers = [player for player in players if player[5].lower() == state.lower()]\n",
      "    statecounts[state] = len(stateplayers)\n",
      "    with open('playersbystate/' + state + \"Players.csv\",'w') as outfile:\n",
      "        outfile = csv.writer(outfile)\n",
      "        outfile.writerow(headers)\n",
      "        outfile.writerows(stateplayers)"
     ],
     "language": "python",
     "metadata": {},
     "outputs": []
    },
    {
     "cell_type": "code",
     "collapsed": false,
     "input": [
      "statecounts"
     ],
     "language": "python",
     "metadata": {},
     "outputs": []
    },
    {
     "cell_type": "code",
     "collapsed": false,
     "input": [
      "countrows = [[key, value] for key, value in statecounts.iteritems()]"
     ],
     "language": "python",
     "metadata": {},
     "outputs": []
    },
    {
     "cell_type": "code",
     "collapsed": false,
     "input": [
      "with open('stateoccdata2013.csv', 'rU') as bls2013:\n",
      "    bls2013 = csv.reader(bls2013)\n",
      "    bls2013headers = next(bls2013)\n",
      "    occs = [row for row in bls2013]"
     ],
     "language": "python",
     "metadata": {},
     "outputs": []
    },
    {
     "cell_type": "code",
     "collapsed": false,
     "input": [
      "statelevel = [row for row in occs if row[3] == '00-0000']"
     ],
     "language": "python",
     "metadata": {},
     "outputs": []
    },
    {
     "cell_type": "code",
     "collapsed": false,
     "input": [
      "justtoteimploy = {}\n",
      "for row in statelevel:\n",
      "    justtoteimploy[row[2]] = {bls2013headers[6]: int(row[6].replace(',',''))}"
     ],
     "language": "python",
     "metadata": {},
     "outputs": []
    },
    {
     "cell_type": "code",
     "collapsed": false,
     "input": [
      "for state in justtoteimploy.keys():\n",
      "    if state.lower() not in statecounts:\n",
      "        statecounts[state.lower()] = 0"
     ],
     "language": "python",
     "metadata": {},
     "outputs": []
    },
    {
     "cell_type": "code",
     "collapsed": false,
     "input": [
      "printthis = [[state, statecounts[state.lower()],justtoteimploy[state]['TOT_EMP']] for state in justtoteimploy.keys()]"
     ],
     "language": "python",
     "metadata": {},
     "outputs": []
    },
    {
     "cell_type": "code",
     "collapsed": false,
     "input": [
      "with open('statecounts.csv','w') as statecountout:\n",
      "    statecountout = csv.writer(statecountout)\n",
      "    statecountout.writerow(['state','jeopardy','2013ntl'])\n",
      "    statecountout.writerows(printthis)"
     ],
     "language": "python",
     "metadata": {},
     "outputs": []
    },
    {
     "cell_type": "markdown",
     "metadata": {},
     "source": [
      "# deprecated: looking at the BLS data\n",
      "\n",
      "This is an experimental/in progress section where I'm looking at the raw BLS data.  This has been moved into r."
     ]
    },
    {
     "cell_type": "code",
     "collapsed": false,
     "input": [
      "with open('stateoccdata2013.csv', 'rU') as bls2013:\n",
      "    bls2013 = csv.reader(bls2013)\n",
      "    bls2013headers = next(bls2013)\n",
      "    occs = [row for row in bls2013]"
     ],
     "language": "python",
     "metadata": {},
     "outputs": [],
     "prompt_number": 6
    },
    {
     "cell_type": "code",
     "collapsed": false,
     "input": [
      "statelevel = [row for row in occs if row[3] == '00-0000']"
     ],
     "language": "python",
     "metadata": {},
     "outputs": [],
     "prompt_number": 7
    },
    {
     "cell_type": "code",
     "collapsed": false,
     "input": [
      "justtoteimploy = {}\n",
      "for row in statelevel:\n",
      "    justtoteimploy[row[2]] = {bls2013headers[6]: int(row[6].replace(',',''))}"
     ],
     "language": "python",
     "metadata": {},
     "outputs": [],
     "prompt_number": 8
    },
    {
     "cell_type": "code",
     "collapsed": false,
     "input": [
      "len(statelevel) # should be 54"
     ],
     "language": "python",
     "metadata": {},
     "outputs": [
      {
       "metadata": {},
       "output_type": "pyout",
       "prompt_number": 9,
       "text": [
        "54"
       ]
      }
     ],
     "prompt_number": 9
    },
    {
     "cell_type": "code",
     "collapsed": false,
     "input": [
      "# I've developed some affection for how terrible this variable name is.\n",
      "\n",
      "justtoteimploy = {key.lower(): value for key, value in justtoteimploy.iteritems()}"
     ],
     "language": "python",
     "metadata": {},
     "outputs": [],
     "prompt_number": 10
    },
    {
     "cell_type": "code",
     "collapsed": false,
     "input": [
      "totalblsemp = sum([state.values()[0] for state in justtoteimploy.values()])\n",
      "\n",
      "with open('usplayerswithsoc.csv','rU') as allplayers:\n",
      "    allplayers = csv.reader(allplayers)\n",
      "    headers = next(allplayers)\n",
      "    folk = [row for row in allplayers]\n",
      "    \n",
      "states = justtoteimploy.keys()\n",
      "\n",
      "for key, value in justtoteimploy.iteritems():\n",
      "    value['jcount'] = 0\n",
      "\n",
      "for row in folk:\n",
      "    state = row[7]\n",
      "    justtoteimploy[state]['jcount'] += 1\n",
      "    \n",
      "    \n",
      "totaljeopardypeople = len(folk)\n",
      "\n",
      "print totalblsemp, totaljeopardypeople"
     ],
     "language": "python",
     "metadata": {},
     "outputs": [
      {
       "output_type": "stream",
       "stream": "stdout",
       "text": [
        "133614660 8451\n"
       ]
      }
     ],
     "prompt_number": 15
    },
    {
     "cell_type": "code",
     "collapsed": false,
     "input": [
      "for key, value in justtoteimploy.iteritems():\n",
      "    #print value\n",
      "    print justtoteimploy[key]['jprop']#float(value['jcount']) / totaljeopardypeople\n",
      "    print justtoteimploy[key]['blsprop']#float(value['TOT_EMP']) / totalblsemp"
     ],
     "language": "python",
     "metadata": {},
     "outputs": [],
     "prompt_number": 16
    },
    {
     "cell_type": "code",
     "collapsed": false,
     "input": [
      "with open('blsdatabystate.csv', 'w') as blsout:\n",
      "    blsout = csv.writer(blsout)\n",
      "    blsout.writerow(['state',justtoteimploy.values()])\n",
      "    # this is the most rediculous thing I've ever written.\n",
      "    # basically, make the dictionary IDs and value values into a list and write that crap\n",
      "    # meaning that this will grow as the values for the states are added to\n",
      "    blsout.writerows([[key] + value.values() for key, value in justtoteimploy.iteritems()])"
     ],
     "language": "python",
     "metadata": {},
     "outputs": []
    },
    {
     "cell_type": "markdown",
     "metadata": {},
     "source": [
      "# deprecated: looking at the player data"
     ]
    },
    {
     "cell_type": "code",
     "collapsed": false,
     "input": [
      "# first, get propotion information about the players/state thing."
     ],
     "language": "python",
     "metadata": {},
     "outputs": [],
     "prompt_number": 17
    },
    {
     "cell_type": "code",
     "collapsed": false,
     "input": [
      "players = {}\n",
      "\n",
      "files = getFiles('csvs2')\n",
      "for pfile in files:\n",
      "    # this should really be a function at some point.\n",
      "    playernum = getPlayerNum(pfile)\n",
      "    with open('csvs2/' + pfile,'rU') as playerinfo:\n",
      "        playerinfo = csv.reader(playerinfo)\n",
      "        bio = next(playerinfo)\n",
      "        gameinfo = next(playerinfo)\n",
      "        gameheaders = next(playerinfo)\n",
      "        games = [row for row in playerinfo]\n",
      "    players[playernum] = {'bio' = }"
     ],
     "language": "python",
     "metadata": {},
     "outputs": [],
     "prompt_number": 33
    },
    {
     "cell_type": "code",
     "collapsed": false,
     "input": [
      "justtoteimploy['Alabama']"
     ],
     "language": "python",
     "metadata": {},
     "outputs": [
      {
       "ename": "KeyError",
       "evalue": "'Alabama'",
       "output_type": "pyerr",
       "traceback": [
        "\u001b[0;31m---------------------------------------------------------------------------\u001b[0m\n\u001b[0;31mKeyError\u001b[0m                                  Traceback (most recent call last)",
        "\u001b[0;32m<ipython-input-14-23cd13e99d76>\u001b[0m in \u001b[0;36m<module>\u001b[0;34m()\u001b[0m\n\u001b[0;32m----> 1\u001b[0;31m \u001b[0mjusttoteimploy\u001b[0m\u001b[0;34m[\u001b[0m\u001b[0;34m'Alabama'\u001b[0m\u001b[0;34m]\u001b[0m\u001b[0;34m\u001b[0m\u001b[0m\n\u001b[0m",
        "\u001b[0;31mKeyError\u001b[0m: 'Alabama'"
       ]
      }
     ],
     "prompt_number": 14
    },
    {
     "cell_type": "code",
     "collapsed": false,
     "input": [],
     "language": "python",
     "metadata": {},
     "outputs": []
    }
   ],
   "metadata": {}
  }
 ]
}