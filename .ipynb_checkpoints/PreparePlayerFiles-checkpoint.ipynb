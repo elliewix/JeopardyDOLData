{
 "metadata": {
  "name": ""
 },
 "nbformat": 3,
 "nbformat_minor": 0,
 "worksheets": [
  {
   "cells": [
    {
     "cell_type": "markdown",
     "metadata": {},
     "source": [
      "So, this will eventually be the one notebook to rule them all.\n",
      "\n",
      "I will be gathering all the code from the separate processing notebooks into one.\n",
      "\n",
      "Once everything is in the right place I'll make the code less insane and add comments, etc."
     ]
    },
    {
     "cell_type": "markdown",
     "metadata": {},
     "source": [
      "# All the imports"
     ]
    },
    {
     "cell_type": "code",
     "collapsed": false,
     "input": [
      "import urllib2\n",
      "\n",
      "from os import listdir\n",
      "from os.path import isfile, join\n",
      "import csv\n",
      "from pprint import pprint\n",
      "import re\n",
      "from collections import Counter\n",
      "\n",
      "\n",
      "import urllib2\n",
      "import re\n",
      "import csv\n",
      "from os import listdir\n",
      "from os.path import isfile, join\n",
      "from pprint import pprint\n",
      "import time\n",
      "import internetarchive as ia\n",
      "import timeit\n",
      "from bs4 import BeautifulSoup\n",
      "import os\n",
      "from os import listdir\n",
      "from os.path import isfile, join\n",
      "import shutil\n",
      "\n",
      "from scrapy.selector import Selector\n",
      "from scrapy.http import HtmlResponse\n",
      "from collections import Counter\n"
     ],
     "language": "python",
     "metadata": {},
     "outputs": [],
     "prompt_number": 1
    },
    {
     "cell_type": "markdown",
     "metadata": {},
     "source": [
      "# General Functions"
     ]
    },
    {
     "cell_type": "code",
     "collapsed": false,
     "input": [
      "def getFiles(path):\n",
      "    \"\"\"Function to return a list of all files within a folder\"\"\"\n",
      "    files = [ f for f in listdir(path) if isfile(join(path,f)) and f[0] != '.' ]\n",
      "    return files\n",
      "\n"
     ],
     "language": "python",
     "metadata": {},
     "outputs": [],
     "prompt_number": 7
    },
    {
     "cell_type": "markdown",
     "metadata": {},
     "source": [
      "# download the player html pages\n",
      "\n",
      "Leaving commented out as a protection against undesired destruction."
     ]
    },
    {
     "cell_type": "code",
     "collapsed": false,
     "input": [
      "\n",
      "\n",
      "# for i in range(1,9115):\n",
      "#     code = i\n",
      "#     url = \"http://www.j-archive.com/showplayerstats.php?player_id=\" + str(code)\n",
      "#     #filename = \"playergamestats/\" + str(code) + \".txt\"\n",
      "#     filename = \"player\" + str(code) + \".txt\"\n",
      "#     try:\n",
      "#         file( \"playergamestats/\" +filename, \"wb\").write(urllib2.urlopen(url).read())\n",
      "#     except:\n",
      "#         print \"player\",i,\"failed\""
     ],
     "language": "python",
     "metadata": {},
     "outputs": []
    },
    {
     "cell_type": "code",
     "collapsed": false,
     "input": [],
     "language": "python",
     "metadata": {},
     "outputs": [],
     "prompt_number": 2
    },
    {
     "cell_type": "markdown",
     "metadata": {},
     "source": [
      "# create the csvs from the html pages"
     ]
    },
    {
     "cell_type": "code",
     "collapsed": false,
     "input": [
      "occupation = re.compile(r'(?:an? *)?(.+?)(?:originally\\s*)?from.+?',re.IGNORECASE)\n",
      "location = re.compile(r'(?:\\s*(?:originally\\s*)?from)(.+?)\\.*$',re.IGNORECASE)\n",
      "def getoccloc(body):\n",
      "    player = []\n",
      "    rawoccorig = Selector(text=body).xpath('//p[@class=\"player_occupation_and_origin\"]/descendant::text()').extract()\n",
      "    # fucking xpath splits shit\n",
      "    rawoccorig = ''.join(rawoccorig)\n",
      "    foundocc = re.findall(occupation, rawoccorig)\n",
      "    if len(foundocc) == 0:\n",
      "        player.append('')\n",
      "    else:\n",
      "        player.append(foundocc[0].strip())\n",
      "    foundloc = re.findall(location, rawoccorig)\n",
      "    if len(foundloc) == 0:\n",
      "        player.append('')\n",
      "    else:\n",
      "        player.append(foundloc[0].strip())\n",
      "    return player"
     ],
     "language": "python",
     "metadata": {},
     "outputs": [],
     "prompt_number": 9
    },
    {
     "cell_type": "code",
     "collapsed": false,
     "input": [
      "folder = 'playergamestats/'\n",
      "target = \"csvs/\"\n",
      "files = getFiles(folder)\n",
      "#files"
     ],
     "language": "python",
     "metadata": {},
     "outputs": [],
     "prompt_number": 10
    },
    {
     "cell_type": "code",
     "collapsed": false,
     "input": [
      "with open(folder + files[0],'rt') as page:\n",
      "    body = page.read()\n",
      "    \n",
      "name = Selector(text=body).xpath('//p[@class=\"player_full_name\"]/text()').extract()\n",
      "killmoney = re.compile(r'[^0-9-//WR%]') #entry 4\n",
      "name[0] # should be Ken Jennings"
     ],
     "language": "python",
     "metadata": {},
     "outputs": [
      {
       "metadata": {},
       "output_type": "pyout",
       "prompt_number": 5,
       "text": [
        "u'Ken Jennings'"
       ]
      }
     ],
     "prompt_number": 5
    },
    {
     "cell_type": "code",
     "collapsed": false,
     "input": [
      "for eachfile in files:\n",
      "    with open(folder + eachfile,'rt') as page:\n",
      "        body = page.read()\n",
      "    # snag the games\n",
      "    games = Selector(text=body).xpath('//tr/td/a[contains(.,\"#\")]/../..').extract()\n",
      "    allgames = [Selector(text=game).xpath('//tr/td[a]/..//text()').extract() for game in games]\n",
      "    name = Selector(text=body).xpath('//p[@class=\"player_full_name\"]/text()').extract()\n",
      "    occ = Selector(text=body).xpath('//p[@class=\"player_occupation_and_origin\"]/text()').extract()\n",
      "    try:\n",
      "        name = name[0].encode(\"utf8\")\n",
      "    except:\n",
      "        name = \"Name failure\"\n",
      "    playerid = eachfile.split('.')[0][11:]\n",
      "    pocc, ploc = getoccloc(body)\n",
      "    playerinfo = [name, playerid, pocc.encode(\"utf8\"), ploc.encode(\"utf8\")]\n",
      "    #construct game info for writing\n",
      "    games = []\n",
      "    for each in allgames:\n",
      "        newlist = each[0].replace(u'\\xa0',' ').split(\", aired \")\n",
      "        for string in each[1:]:\n",
      "            newlist.append(re.sub(killmoney, '', string.replace(u'\\xa0',' ')))\n",
      "        games.append(newlist)\n",
      "    # write the csvs\n",
      "    headers = [\"GameID\",\"AirDate\",\"J! score\",\"DJ! score\",\"FJ! score\",\"Coryat score\",\"R\",\"W\",\"Rebs.\",\"DDs\",\"DD gain/loss\",\"FJ!\",\"FJ! gain/loss\",\"BA\",\"TBA\"]\n",
      "    with open(target + eachfile.split('.')[0] + '.csv','wt') as f:\n",
      "        f_csv = csv.writer(f)\n",
      "        f_csv.writerow(playerinfo)\n",
      "        f_csv.writerow(headers)\n",
      "        f_csv.writerows(games)\n",
      "    "
     ],
     "language": "python",
     "metadata": {},
     "outputs": []
    },
    {
     "cell_type": "code",
     "collapsed": false,
     "input": [
      "# open up the csvs and add the game winnings info\n",
      "\n",
      "csvs = files = getFiles(\"csvs/\")\n",
      "for filename in csvs:\n",
      "    with open(\"csvs/\" + filename, 'rU') as player:\n",
      "        player = csv.reader(player)\n",
      "        # open up the csvs and storethe info\n",
      "        bio = next(player)\n",
      "        headers = next(player)\n",
      "        games = [row for row in player]\n",
      "    numgames = len(games)\n",
      "    winnings = sum([int(row[4]) for game in games])\n",
      "    with open(\"csvs2/\" + filename, 'w') as playerout:\n",
      "        playerout = csv.writer(playerout)\n",
      "        playerout.writerow(bio)\n",
      "        playerout.writerow([numgames, winnings])\n",
      "        playerout.writerow(headers)\n",
      "        playerout.writerows(games)"
     ],
     "language": "python",
     "metadata": {},
     "outputs": [],
     "prompt_number": 32
    },
    {
     "cell_type": "code",
     "collapsed": false,
     "input": [],
     "language": "python",
     "metadata": {},
     "outputs": []
    },
    {
     "cell_type": "markdown",
     "metadata": {},
     "source": [
      "# assemble the main player csv"
     ]
    },
    {
     "cell_type": "code",
     "collapsed": false,
     "input": [
      "csvpath = \"csvs/\"\n",
      "playercsvs = getFiles(csvpath)"
     ],
     "language": "python",
     "metadata": {},
     "outputs": [
      {
       "ename": "NameError",
       "evalue": "name 'getFiles' is not defined",
       "output_type": "pyerr",
       "traceback": [
        "\u001b[0;31m---------------------------------------------------------------------------\u001b[0m\n\u001b[0;31mNameError\u001b[0m                                 Traceback (most recent call last)",
        "\u001b[0;32m<ipython-input-18-cf4acea151f3>\u001b[0m in \u001b[0;36m<module>\u001b[0;34m()\u001b[0m\n\u001b[1;32m      1\u001b[0m \u001b[0mcsvpath\u001b[0m \u001b[0;34m=\u001b[0m \u001b[0;34m\"csvs/\"\u001b[0m\u001b[0;34m\u001b[0m\u001b[0m\n\u001b[0;32m----> 2\u001b[0;31m \u001b[0mplayercsvs\u001b[0m \u001b[0;34m=\u001b[0m \u001b[0mgetFiles\u001b[0m\u001b[0;34m(\u001b[0m\u001b[0mcsvpath\u001b[0m\u001b[0;34m)\u001b[0m\u001b[0;34m\u001b[0m\u001b[0m\n\u001b[0m",
        "\u001b[0;31mNameError\u001b[0m: name 'getFiles' is not defined"
       ]
      }
     ],
     "prompt_number": 18
    },
    {
     "cell_type": "code",
     "collapsed": false,
     "input": [
      "def getPlayerNum(filename):\n",
      "    return player.split(\".\")[0][6:]\n",
      "\n",
      "def getBio(bioline):\n",
      "    name = bioline[0]\n",
      "    occ = bioline[2]\n",
      "    location = bioline[3]\n",
      "    return [name, occ, location]\n",
      "\n",
      "def getEarliestDate(pgames):\n",
      "    years = []\n",
      "    for game in pgames:\n",
      "        years.append(game[1].split(\"-\")[0])\n",
      "    return min(years)"
     ],
     "language": "python",
     "metadata": {},
     "outputs": [],
     "prompt_number": 13
    },
    {
     "cell_type": "code",
     "collapsed": false,
     "input": [
      "players = {}\n",
      "USOnlyPlayers = {}\n",
      "\n",
      "for player in playercsvs:\n",
      "    pnum = getPlayerNum(player)\n",
      "    players[pnum] = {}\n",
      "    with open(csvpath + player) as player:\n",
      "        player = csv.reader(player)\n",
      "        bioline = next(player)\n",
      "        players[pnum]['bio'] = getBio(bioline)\n",
      "        games = [row for row in player]\n",
      "        players[pnum]['games'] = games[1:]\n",
      "\n",
      "#pprint(players)    \n",
      "\n",
      "locations = []\n",
      "\n",
      "# load us states\n",
      "\n",
      "with open('statessorted.txt','rt') as states:\n",
      "    states = [state.strip() for state in states.readlines()]\n",
      "\n",
      "notUS = []\n",
      "\n",
      "# adding earliest game year\n",
      "# adding location split\n",
      "for key, value in players.iteritems():\n",
      "    players[key]['bio'].insert(1,getEarliestDate(value['games']))\n",
      "    locstr = value['bio'][3]\n",
      "    stateFound = False\n",
      "    for state in states:\n",
      "        if state.lower() in locstr.lower():\n",
      "            locations.append(locstr)\n",
      "            stateFound = True\n",
      "            USOnlyPlayers[key] = value\n",
      "            break\n",
      "    if stateFound == False:\n",
      "        notUS.append(locstr)\n",
      "    value['bio'].append(value['bio'][3].split(\", \"))\n",
      "\n",
      "# for key, value in players.iteritems():\n",
      "#     if len(value['bio'][-1]) == 2 and value['bio'][-1][-1].isalpha():\n",
      "#         seendubs.append(value['bio'][-1])"
     ],
     "language": "python",
     "metadata": {},
     "outputs": []
    },
    {
     "cell_type": "code",
     "collapsed": false,
     "input": [
      "# read in the backup of the curated student flag data\n",
      "\n",
      "with open('studentflags.csv','rU') as flags:\n",
      "    flags = csv.reader(flags)\n",
      "    flaghead = next(flags)\n",
      "    flags = {row[0]: row[1] for row in flags}"
     ],
     "language": "python",
     "metadata": {},
     "outputs": []
    },
    {
     "cell_type": "code",
     "collapsed": false,
     "input": [
      "outplayers = []\n",
      "for key, value in USOnlyPlayers.iteritems():\n",
      "    out = []\n",
      "    out.append(key)\n",
      "    out += value['bio'][:-1]\n",
      "    out.append(flags[key])\n",
      "    outplayers.append(out)\n",
      "    \n",
      "with open('onlyusplayers.csv','wt') as outfile:\n",
      "    outfile = csv.writer(outfile)\n",
      "    outfile.writerow(['ID','name','year','occ','loc','studentflag'])\n",
      "    outfile.writerows(outplayers)\n",
      "    \n",
      "print outplayers"
     ],
     "language": "python",
     "metadata": {},
     "outputs": []
    },
    {
     "cell_type": "code",
     "collapsed": false,
     "input": [
      "countedloc = dict(Counter(locations))\n",
      "# for key, value in countedloc.iteritems():\n",
      "#     if value == 1:\n",
      "#         loc = key.split(\", \")\n",
      "#         if len(loc) <> 2:\n",
      "#             print loc"
     ],
     "language": "python",
     "metadata": {},
     "outputs": []
    },
    {
     "cell_type": "code",
     "collapsed": false,
     "input": [],
     "language": "python",
     "metadata": {},
     "outputs": []
    },
    {
     "cell_type": "markdown",
     "metadata": {},
     "source": [
      "# yank in any curated student flags and store them in a csv\n",
      "sort of a chicken/egg service with the previous section"
     ]
    },
    {
     "cell_type": "code",
     "collapsed": false,
     "input": [
      "with open('onlyusplayers.csv', 'rU') as players:\n",
      "    players = csv.reader(players)\n",
      "    headers = next(players)\n",
      "    players = [row for row in players]"
     ],
     "language": "python",
     "metadata": {},
     "outputs": []
    },
    {
     "cell_type": "code",
     "collapsed": false,
     "input": [
      "players[0]"
     ],
     "language": "python",
     "metadata": {},
     "outputs": [],
     "prompt_number": 8
    },
    {
     "cell_type": "code",
     "collapsed": false,
     "input": [
      "flags = {}\n",
      "for row in players:\n",
      "    flags[row[0]] = row[5]\n",
      "    \n",
      "# flags"
     ],
     "language": "python",
     "metadata": {},
     "outputs": []
    },
    {
     "cell_type": "code",
     "collapsed": false,
     "input": [
      "printme = [[key, value] for key, value in flags.iteritems()]\n",
      "\n",
      "with open('studentflags.csv','w') as outflags:\n",
      "    outflags = csv.writer(outflags)\n",
      "    outflags.writerow(['ID','studentflag'])\n",
      "    outflags.writerows(printme)"
     ],
     "language": "python",
     "metadata": {},
     "outputs": []
    },
    {
     "cell_type": "markdown",
     "metadata": {},
     "source": [
      "# match and add the soc code to the csv and make a new one"
     ]
    },
    {
     "cell_type": "code",
     "collapsed": false,
     "input": [
      "# first, load the soc code file\n",
      "\n",
      "with open('scripts-soccodes.csv','rU') as soccodes:\n",
      "    soccodes = csv.reader(soccodes)\n",
      "    headers = next(soccodes)\n",
      "    soccodes = [row for row in soccodes]\n",
      "    \n",
      "# also load all the occupational values into one big string for quick checking\n",
      "socstr = \"\"\n",
      "for soc in soccodes:\n",
      "    socstr += soc[1].lower() + \" \" + soc[2].lower()"
     ],
     "language": "python",
     "metadata": {},
     "outputs": []
    },
    {
     "cell_type": "code",
     "collapsed": false,
     "input": [
      "# load the player data file\n",
      "\n",
      "with open('onlyusplayers.csv','rU') as playerinfo:\n",
      "    playerinfo = csv.reader(playerinfo)\n",
      "    pheaders = next(playerinfo)\n",
      "    playerinfo = [row for row in playerinfo]"
     ],
     "language": "python",
     "metadata": {},
     "outputs": [],
     "prompt_number": 9
    },
    {
     "cell_type": "code",
     "collapsed": false,
     "input": [
      "players = {}\n",
      "\n",
      "for player in playerinfo:\n",
      "    id = player[0]\n",
      "    players[id] = {}\n",
      "    # loops through the list of rows and creates a pretty dictionary\n",
      "    # using the enumerated index values and running through the headers\n",
      "    for index, value in enumerate(player):\n",
      "        players[id][pheaders[index]] = value"
     ],
     "language": "python",
     "metadata": {},
     "outputs": []
    },
    {
     "cell_type": "code",
     "collapsed": false,
     "input": [
      "totalcount = 0\n",
      "\n",
      "notfoundcount = 0\n",
      "occsnotfound = []\n",
      "\n",
      "for pid, player in players.iteritems():\n",
      "    totalcount += 1\n",
      "    occ = player['occ'].lower()\n",
      "    matchocc = \"\"\n",
      "    if player['studentflag'] == \"TRUE\":\n",
      "        matchocc = \"56-MiscStudent\"\n",
      "    elif 'retired' in occ:\n",
      "        matchocc = \"58-Retired\"\n",
      "    elif 'recent' in occ and 'graduate' in occ:\n",
      "        matchocc = \"58-RecentGrad\"\n",
      "    elif 'high school' in occ and 'teacher' in occ:\n",
      "        matchocc = \"25-2031\"\n",
      "    else:\n",
      "        if occ in socstr:\n",
      "            socmatches = 0\n",
      "            for row in soccodes:\n",
      "                title = row[1].lower()\n",
      "                directtitle = row[2].lower()\n",
      "                if occ == title:\n",
      "                    matchocc = row[0]\n",
      "                    socmatches += 1\n",
      "                elif occ == directtitle:\n",
      "                    matchocc = row[0]\n",
      "                    socmatches += 1\n",
      "            if socmatches > 1:\n",
      "                print \"found more than 1 with\", player\n",
      "        # begin last ditch effort matching\n",
      "        elif \"student\" in occ:\n",
      "            matchocc = \"56-MiscStudent\"\n",
      "        elif \"teacher\" in occ:\n",
      "            matchocc = \"25-MiscTeacher\"\n",
      "        elif \"professor\" in occ:\n",
      "            matchocc = \"25-Prof\"\n",
      "        elif \"consultant\" in occ:\n",
      "            matchocc = \"59-Consultant\"\n",
      "        elif \"computer\" in occ:\n",
      "            matchocc = \"15-Computer\"\n",
      "        elif \"stay-at-home\" in occ:\n",
      "            matchocc = \"StayAtHome\"\n",
      "        else:\n",
      "            players[pid]['SOC'] = \"9999\"\n",
      "            notfoundcount += 1\n",
      "            occsnotfound.append(occ)\n",
      "    players[pid]['SOC'] = matchocc\n",
      "        \n",
      "print \"total\", totalcount, \"not found\", notfoundcount, \"yielding\", \\\n",
      "    float(notfoundcount)/float(totalcount)*100, \"% failure\"\n",
      "        "
     ],
     "language": "python",
     "metadata": {},
     "outputs": []
    },
    {
     "cell_type": "code",
     "collapsed": false,
     "input": [
      "\n",
      "\n",
      "\n",
      "\n",
      "# leftovers = \"\"\n",
      "\n",
      "# coccsnotfound = dict(Counter(occsnotfound))\n",
      "# for occ, count in coccsnotfound.iteritems():\n",
      "# #     if \"computer\" in occ:\n",
      "# #         print occ\n",
      "#     leftovers += occ\n",
      "        \n",
      "# leftovers = dict(Counter(leftovers.split(\" \")))\n",
      "\n",
      "# for word, count in leftovers.iteritems():\n",
      "#     if count > 15:\n",
      "#         print word, count"
     ],
     "language": "python",
     "metadata": {},
     "outputs": []
    },
    {
     "cell_type": "code",
     "collapsed": false,
     "input": [
      "pheaders= ['ID', 'name', 'year', 'occ', 'loc','state', 'studentflag', 'SOC', 'main', 'sub']\n",
      "pheaders"
     ],
     "language": "python",
     "metadata": {},
     "outputs": []
    },
    {
     "cell_type": "code",
     "collapsed": false,
     "input": [
      "rows = players.values()\n",
      "with open('statessorted.txt','rt') as states:\n",
      "    states = [state.strip().lower() for state in states.readlines()]\n",
      "\n",
      "for row in rows:\n",
      "    soc = row['SOC']\n",
      "    loc = row['loc']\n",
      "    row['state'] = '9999'\n",
      "    \n",
      "    for state in states:\n",
      "        if state in loc.lower():\n",
      "            row['state'] = state\n",
      "            break\n",
      "    if soc == '':\n",
      "        row['main'] = '9999'\n",
      "        row['sub'] = '9999'\n",
      "    elif '-' in soc:\n",
      "        main, sub = tuple(soc.split('-'))\n",
      "        row['main'] = main\n",
      "        row['sub'] = sub\n",
      "    else:\n",
      "        row['main'] = soc\n",
      "        row['sub'] = '9999'"
     ],
     "language": "python",
     "metadata": {},
     "outputs": []
    },
    {
     "cell_type": "code",
     "collapsed": false,
     "input": [
      "with open('usplayerswithsoc.csv','w') as outfile:\n",
      "    outfile = csv.DictWriter(outfile,pheaders)\n",
      "    outfile.writeheader()\n",
      "    outfile.writerows(rows)"
     ],
     "language": "python",
     "metadata": {},
     "outputs": []
    },
    {
     "cell_type": "code",
     "collapsed": false,
     "input": [
      "players['1']"
     ],
     "language": "python",
     "metadata": {},
     "outputs": []
    },
    {
     "cell_type": "markdown",
     "metadata": {},
     "source": [
      "# split the players into state level csvs"
     ]
    },
    {
     "cell_type": "code",
     "collapsed": false,
     "input": [
      "with open('usplayerswithsoc.csv', 'rU') as players:\n",
      "    players = csv.reader(players)\n",
      "    headers = next(players)\n",
      "    players = [row for row in players]\n",
      "    \n",
      "for row in players:\n",
      "    # this is a check to see if we are pulling in the curated files or not\n",
      "    if row[5].lower == 'onio':\n",
      "        print row"
     ],
     "language": "python",
     "metadata": {},
     "outputs": []
    },
    {
     "cell_type": "code",
     "collapsed": false,
     "input": [
      "states = list(set([row[5].lower() for row in players]))\n"
     ],
     "language": "python",
     "metadata": {},
     "outputs": [],
     "prompt_number": 6
    },
    {
     "cell_type": "code",
     "collapsed": false,
     "input": [
      "occstates = [state.lower() for state in ['Mississippi', 'Oklahoma', 'Delaware', 'Minnesota', \\\n",
      "                                         'Illinois', 'Arkansas', 'New Mexico', 'Indiana', 'Maryland', \\\n",
      "                                         'Louisiana', 'Idaho', 'Wyoming', 'Tennessee', 'Arizona', \\\n",
      "                                         'Iowa', 'Michigan', 'Kansas', 'Utah', 'Virginia', 'Oregon', \\\n",
      "                                         'Connecticut', 'Montana', 'California', 'Massachusetts', 'West Virginia', \\\n",
      "                                         'South Carolina', 'New Hampshire', 'Wisconsin', 'Vermont', 'Georgia', \\\n",
      "                                         'North Dakota', 'Pennsylvania', 'Puerto Rico', 'Florida', 'Alaska', \\\n",
      "                                         'Kentucky', 'Hawaii', 'Nebraska', 'Missouri', 'Ohio', 'Alabama', \\\n",
      "                                         'New York', 'Virgin Islands', 'South Dakota', 'Colorado', 'New Jersey', \\\n",
      "                                         'Guam', 'Washington', 'North Carolina', 'District of Columbia', \\\n",
      "                                         'Texas', 'Nevada', 'Maine', 'Rhode Island']]\n"
     ],
     "language": "python",
     "metadata": {},
     "outputs": []
    },
    {
     "cell_type": "code",
     "collapsed": false,
     "input": [
      "for state in states:\n",
      "    # check if any states pulled in are not in the states list.\n",
      "    # in theory, this should never print anything.\n",
      "    # theory.\n",
      "    if state not in occstates:\n",
      "        print state"
     ],
     "language": "python",
     "metadata": {},
     "outputs": []
    },
    {
     "cell_type": "code",
     "collapsed": false,
     "input": [
      "statecounts = {}\n",
      "\n",
      "for state in states:\n",
      "    stateplayers = [player for player in players if player[5].lower() == state.lower()]\n",
      "    statecounts[state] = len(stateplayers)\n",
      "    with open('playersbystate/' + state + \"Players.csv\",'w') as outfile:\n",
      "        outfile = csv.writer(outfile)\n",
      "        outfile.writerow(headers)\n",
      "        outfile.writerows(stateplayers)"
     ],
     "language": "python",
     "metadata": {},
     "outputs": []
    },
    {
     "cell_type": "code",
     "collapsed": false,
     "input": [
      "statecounts"
     ],
     "language": "python",
     "metadata": {},
     "outputs": []
    },
    {
     "cell_type": "code",
     "collapsed": false,
     "input": [
      "countrows = [[key, value] for key, value in statecounts.iteritems()]"
     ],
     "language": "python",
     "metadata": {},
     "outputs": []
    },
    {
     "cell_type": "code",
     "collapsed": false,
     "input": [
      "with open('stateoccdata2013.csv', 'rU') as bls2013:\n",
      "    bls2013 = csv.reader(bls2013)\n",
      "    bls2013headers = next(bls2013)\n",
      "    occs = [row for row in bls2013]"
     ],
     "language": "python",
     "metadata": {},
     "outputs": []
    },
    {
     "cell_type": "code",
     "collapsed": false,
     "input": [
      "statelevel = [row for row in occs if row[3] == '00-0000']"
     ],
     "language": "python",
     "metadata": {},
     "outputs": []
    },
    {
     "cell_type": "code",
     "collapsed": false,
     "input": [
      "justtoteimploy = {}\n",
      "for row in statelevel:\n",
      "    justtoteimploy[row[2]] = {bls2013headers[6]: int(row[6].replace(',',''))}"
     ],
     "language": "python",
     "metadata": {},
     "outputs": []
    },
    {
     "cell_type": "code",
     "collapsed": false,
     "input": [
      "for state in justtoteimploy.keys():\n",
      "    if state.lower() not in statecounts:\n",
      "        statecounts[state.lower()] = 0"
     ],
     "language": "python",
     "metadata": {},
     "outputs": []
    },
    {
     "cell_type": "code",
     "collapsed": false,
     "input": [
      "printthis = [[state, statecounts[state.lower()],justtoteimploy[state]['TOT_EMP']] for state in justtoteimploy.keys()]"
     ],
     "language": "python",
     "metadata": {},
     "outputs": []
    },
    {
     "cell_type": "code",
     "collapsed": false,
     "input": [
      "with open('statecounts.csv','w') as statecountout:\n",
      "    statecountout = csv.writer(statecountout)\n",
      "    statecountout.writerow(['state','jeopardy','2013ntl'])\n",
      "    statecountout.writerows(printthis)"
     ],
     "language": "python",
     "metadata": {},
     "outputs": []
    },
    {
     "cell_type": "markdown",
     "metadata": {},
     "source": [
      "# looking at the BLS data"
     ]
    },
    {
     "cell_type": "code",
     "collapsed": false,
     "input": [
      "with open('stateoccdata2013.csv', 'rU') as bls2013:\n",
      "    bls2013 = csv.reader(bls2013)\n",
      "    bls2013headers = next(bls2013)\n",
      "    occs = [row for row in bls2013]"
     ],
     "language": "python",
     "metadata": {},
     "outputs": []
    },
    {
     "cell_type": "code",
     "collapsed": false,
     "input": [
      "statelevel = [row for row in occs if row[3] == '00-0000']"
     ],
     "language": "python",
     "metadata": {},
     "outputs": [],
     "prompt_number": 7
    },
    {
     "cell_type": "code",
     "collapsed": false,
     "input": [
      "justtoteimploy = {}\n",
      "for row in statelevel:\n",
      "    justtoteimploy[row[2]] = {bls2013headers[6]: int(row[6].replace(',',''))}"
     ],
     "language": "python",
     "metadata": {},
     "outputs": []
    },
    {
     "cell_type": "code",
     "collapsed": false,
     "input": [
      "len(statelevel)"
     ],
     "language": "python",
     "metadata": {},
     "outputs": []
    },
    {
     "cell_type": "code",
     "collapsed": false,
     "input": [
      "justtoteimploy"
     ],
     "language": "python",
     "metadata": {},
     "outputs": []
    },
    {
     "cell_type": "code",
     "collapsed": false,
     "input": [
      "with open('blsdatabystate.csv', 'w') as blsout:\n",
      "    blsout = csv.writer(blsout)\n",
      "    blsout.writerow(['state',justtoteimploy.values()])\n",
      "    # this is the most rediculous thing I've ever written.\n",
      "    # basically, make the dictionary IDs and value values into a list and write that crap\n",
      "    # meaning that this will grow as the values for the states are added to\n",
      "    blsout.writerows([[key] + value.values() for key, value in justtoteimploy.iteritems()])"
     ],
     "language": "python",
     "metadata": {},
     "outputs": []
    },
    {
     "cell_type": "markdown",
     "metadata": {},
     "source": [
      "# looking at the player data"
     ]
    },
    {
     "cell_type": "code",
     "collapsed": false,
     "input": [
      "# first, get propotion information about the players/state thing."
     ],
     "language": "python",
     "metadata": {},
     "outputs": [],
     "prompt_number": 17
    },
    {
     "cell_type": "code",
     "collapsed": false,
     "input": [
      "players = {}\n",
      "\n"
     ],
     "language": "python",
     "metadata": {},
     "outputs": []
    }
   ],
   "metadata": {}
  }
 ]
}