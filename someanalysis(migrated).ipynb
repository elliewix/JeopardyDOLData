{
 "metadata": {
  "name": ""
 },
 "nbformat": 3,
 "nbformat_minor": 0,
 "worksheets": [
  {
   "cells": [
    {
     "cell_type": "code",
     "collapsed": false,
     "input": [
      "# migrated into PreparePlayerFiles"
     ],
     "language": "python",
     "metadata": {},
     "outputs": []
    },
    {
     "cell_type": "code",
     "collapsed": false,
     "input": [
      "import csv"
     ],
     "language": "python",
     "metadata": {},
     "outputs": [],
     "prompt_number": 1
    },
    {
     "cell_type": "code",
     "collapsed": false,
     "input": [
      "with open('usplayerswithsoc.csv', 'rU') as players:\n",
      "    players = csv.reader(players)\n",
      "    headers = next(players)\n",
      "    players = [row for row in players]\n",
      "    \n",
      "for row in players:\n",
      "    # this is a check to see if we are pulling in the curated files or not\n",
      "    if row[5].lower == 'onio':\n",
      "        print row"
     ],
     "language": "python",
     "metadata": {},
     "outputs": [],
     "prompt_number": 2
    },
    {
     "cell_type": "code",
     "collapsed": false,
     "input": [
      "states = list(set([row[5].lower() for row in players]))\n"
     ],
     "language": "python",
     "metadata": {},
     "outputs": [],
     "prompt_number": 3
    },
    {
     "cell_type": "code",
     "collapsed": false,
     "input": [
      "occstates = [state.lower() for state in ['Mississippi', 'Oklahoma', 'Delaware', 'Minnesota', \\\n",
      "                                         'Illinois', 'Arkansas', 'New Mexico', 'Indiana', 'Maryland', \\\n",
      "                                         'Louisiana', 'Idaho', 'Wyoming', 'Tennessee', 'Arizona', \\\n",
      "                                         'Iowa', 'Michigan', 'Kansas', 'Utah', 'Virginia', 'Oregon', \\\n",
      "                                         'Connecticut', 'Montana', 'California', 'Massachusetts', 'West Virginia', \\\n",
      "                                         'South Carolina', 'New Hampshire', 'Wisconsin', 'Vermont', 'Georgia', \\\n",
      "                                         'North Dakota', 'Pennsylvania', 'Puerto Rico', 'Florida', 'Alaska', \\\n",
      "                                         'Kentucky', 'Hawaii', 'Nebraska', 'Missouri', 'Ohio', 'Alabama', \\\n",
      "                                         'New York', 'Virgin Islands', 'South Dakota', 'Colorado', 'New Jersey', \\\n",
      "                                         'Guam', 'Washington', 'North Carolina', 'District of Columbia', \\\n",
      "                                         'Texas', 'Nevada', 'Maine', 'Rhode Island']]\n",
      "\n"
     ],
     "language": "python",
     "metadata": {},
     "outputs": [],
     "prompt_number": 4
    },
    {
     "cell_type": "code",
     "collapsed": false,
     "input": [
      "for state in states:\n",
      "    # check if any states pulled in are not in the states list.\n",
      "    # in theory, this should never print anything.\n",
      "    # theory.\n",
      "    if state not in occstates:\n",
      "        print state"
     ],
     "language": "python",
     "metadata": {},
     "outputs": [],
     "prompt_number": 5
    },
    {
     "cell_type": "code",
     "collapsed": false,
     "input": [
      "statecounts = {}\n",
      "\n",
      "for state in states:\n",
      "    stateplayers = [player for player in players if player[5].lower() == state.lower()]\n",
      "    statecounts[state] = len(stateplayers)\n",
      "    with open('playersbystate/' + state + \"Players.csv\",'w') as outfile:\n",
      "        outfile = csv.writer(outfile)\n",
      "        outfile.writerow(headers)\n",
      "        outfile.writerows(stateplayers)"
     ],
     "language": "python",
     "metadata": {},
     "outputs": [],
     "prompt_number": 6
    },
    {
     "cell_type": "code",
     "collapsed": false,
     "input": [
      "statecounts"
     ],
     "language": "python",
     "metadata": {},
     "outputs": [
      {
       "metadata": {},
       "output_type": "pyout",
       "prompt_number": 24,
       "text": [
        "{'alabama': 65,\n",
        " 'alaska': 14,\n",
        " 'arizona': 82,\n",
        " 'arkansas': 33,\n",
        " 'california': 1493,\n",
        " 'colorado': 93,\n",
        " 'connecticut': 157,\n",
        " 'delaware': 37,\n",
        " 'florida': 326,\n",
        " 'georgia': 261,\n",
        " 'hawaii': 35,\n",
        " 'idaho': 16,\n",
        " 'illinois': 436,\n",
        " 'indiana': 104,\n",
        " 'iowa': 55,\n",
        " 'kansas': 71,\n",
        " 'kentucky': 110,\n",
        " 'louisiana': 107,\n",
        " 'maine': 43,\n",
        " 'maryland': 336,\n",
        " 'massachusetts': 427,\n",
        " 'michigan': 189,\n",
        " 'minnesota': 110,\n",
        " 'mississippi': 24,\n",
        " 'missouri': 96,\n",
        " 'montana': 19,\n",
        " 'nebraska': 33,\n",
        " 'nevada': 43,\n",
        " 'new hampshire': 60,\n",
        " 'new jersey': 299,\n",
        " 'new mexico': 32,\n",
        " 'new york': 817,\n",
        " 'north carolina': 167,\n",
        " 'north dakota': 4,\n",
        " 'ohio': 260,\n",
        " 'oklahoma': 50,\n",
        " 'oregon': 116,\n",
        " 'pennsylvania': 356,\n",
        " 'rhode island': 37,\n",
        " 'south dakota': 13,\n",
        " 'tennessee': 99,\n",
        " 'texas': 332,\n",
        " 'utah': 21,\n",
        " 'vermont': 36,\n",
        " 'virginia': 424,\n",
        " 'washington': 390,\n",
        " 'wisconsin': 112,\n",
        " 'wyoming': 11}"
       ]
      }
     ],
     "prompt_number": 24
    },
    {
     "cell_type": "code",
     "collapsed": false,
     "input": [
      "countrows = [[key, value] for key, value in statecounts.iteritems()]"
     ],
     "language": "python",
     "metadata": {},
     "outputs": [],
     "prompt_number": 7
    },
    {
     "cell_type": "code",
     "collapsed": false,
     "input": [
      "with open('stateoccdata2013.csv', 'rU') as bls2013:\n",
      "    bls2013 = csv.reader(bls2013)\n",
      "    bls2013headers = next(bls2013)\n",
      "    occs = [row for row in bls2013]"
     ],
     "language": "python",
     "metadata": {},
     "outputs": [],
     "prompt_number": 8
    },
    {
     "cell_type": "code",
     "collapsed": false,
     "input": [
      "statelevel = [row for row in occs if row[3] == '00-0000']"
     ],
     "language": "python",
     "metadata": {},
     "outputs": [],
     "prompt_number": 9
    },
    {
     "cell_type": "code",
     "collapsed": false,
     "input": [
      "justtoteimploy = {}\n",
      "for row in statelevel:\n",
      "    justtoteimploy[row[2]] = {bls2013headers[6]: int(row[6].replace(',',''))}"
     ],
     "language": "python",
     "metadata": {},
     "outputs": [],
     "prompt_number": 10
    },
    {
     "cell_type": "code",
     "collapsed": false,
     "input": [
      "for state in justtoteimploy.keys():\n",
      "    if state.lower() not in statecounts:\n",
      "        statecounts[state.lower()] = 0"
     ],
     "language": "python",
     "metadata": {},
     "outputs": [],
     "prompt_number": 11
    },
    {
     "cell_type": "code",
     "collapsed": false,
     "input": [
      "printthis = [[state, statecounts[state.lower()],justtoteimploy[state]['TOT_EMP']] for state in justtoteimploy.keys()]"
     ],
     "language": "python",
     "metadata": {},
     "outputs": [],
     "prompt_number": 14
    },
    {
     "cell_type": "code",
     "collapsed": false,
     "input": [
      "with open('statecounts.csv','w') as statecountout:\n",
      "    statecountout = csv.writer(statecountout)\n",
      "    statecountout.writerow(['state','jeopardy','2013ntl'])\n",
      "    statecountout.writerows(printthis)"
     ],
     "language": "python",
     "metadata": {},
     "outputs": [],
     "prompt_number": 16
    },
    {
     "cell_type": "code",
     "collapsed": false,
     "input": [],
     "language": "python",
     "metadata": {},
     "outputs": []
    }
   ],
   "metadata": {}
  }
 ]
}