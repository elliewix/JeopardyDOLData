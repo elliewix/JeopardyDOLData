{
 "metadata": {
  "name": ""
 },
 "nbformat": 3,
 "nbformat_minor": 0,
 "worksheets": [
  {
   "cells": [
    {
     "cell_type": "code",
     "collapsed": false,
     "input": [
      "# migrated into PreparePlayerFiles"
     ],
     "language": "python",
     "metadata": {},
     "outputs": [],
     "prompt_number": 42
    },
    {
     "cell_type": "code",
     "collapsed": false,
     "input": [
      "import csv\n",
      "from collections import Counter"
     ],
     "language": "python",
     "metadata": {},
     "outputs": [],
     "prompt_number": 31
    },
    {
     "cell_type": "code",
     "collapsed": false,
     "input": [
      "# first, load the soc code file\n",
      "\n",
      "with open('scripts-soccodes.csv','rU') as soccodes:\n",
      "    soccodes = csv.reader(soccodes)\n",
      "    headers = next(soccodes)\n",
      "    soccodes = [row for row in soccodes]\n",
      "    \n",
      "# also load all the occupational values into one big string for quick checking\n",
      "socstr = \"\"\n",
      "for soc in soccodes:\n",
      "    socstr += soc[1].lower() + \" \" + soc[2].lower()"
     ],
     "language": "python",
     "metadata": {},
     "outputs": [],
     "prompt_number": 32
    },
    {
     "cell_type": "code",
     "collapsed": false,
     "input": [
      "\n",
      "#socstr"
     ],
     "language": "python",
     "metadata": {},
     "outputs": [],
     "prompt_number": 33
    },
    {
     "cell_type": "code",
     "collapsed": false,
     "input": [
      "# load the player data file\n",
      "\n",
      "with open('onlyusplayers.csv','rU') as playerinfo:\n",
      "    playerinfo = csv.reader(playerinfo)\n",
      "    pheaders = next(playerinfo)\n",
      "    playerinfo = [row for row in playerinfo]"
     ],
     "language": "python",
     "metadata": {},
     "outputs": [],
     "prompt_number": 34
    },
    {
     "cell_type": "code",
     "collapsed": false,
     "input": [
      "#playerinfo"
     ],
     "language": "python",
     "metadata": {},
     "outputs": [],
     "prompt_number": 35
    },
    {
     "cell_type": "code",
     "collapsed": false,
     "input": [
      "players = {}\n",
      "\n",
      "for player in playerinfo:\n",
      "    id = player[0]\n",
      "    players[id] = {}\n",
      "    # loops through the list of rows and creates a pretty dictionary\n",
      "    # using the enumerated index values and running through the headers\n",
      "    for index, value in enumerate(player):\n",
      "        players[id][pheaders[index]] = value"
     ],
     "language": "python",
     "metadata": {},
     "outputs": [],
     "prompt_number": 36
    },
    {
     "cell_type": "code",
     "collapsed": false,
     "input": [
      "totalcount = 0\n",
      "\n",
      "notfoundcount = 0\n",
      "occsnotfound = []\n",
      "\n",
      "for pid, player in players.iteritems():\n",
      "    totalcount += 1\n",
      "    occ = player['occ'].lower()\n",
      "    matchocc = \"\"\n",
      "    if player['studentflag'] == \"TRUE\":\n",
      "        matchocc = \"56-MiscStudent\"\n",
      "    elif 'retired' in occ:\n",
      "        matchocc = \"58-Retired\"\n",
      "    elif 'recent' in occ and 'graduate' in occ:\n",
      "        matchocc = \"58-RecentGrad\"\n",
      "    elif 'high school' in occ and 'teacher' in occ:\n",
      "        matchocc = \"25-2031\"\n",
      "    else:\n",
      "        if occ in socstr:\n",
      "            socmatches = 0\n",
      "            for row in soccodes:\n",
      "                title = row[1].lower()\n",
      "                directtitle = row[2].lower()\n",
      "                if occ == title:\n",
      "                    matchocc = row[0]\n",
      "                    socmatches += 1\n",
      "                elif occ == directtitle:\n",
      "                    matchocc = row[0]\n",
      "                    socmatches += 1\n",
      "            if socmatches > 1:\n",
      "                print \"found more than 1 with\", player\n",
      "        # begin last ditch effort matching\n",
      "        elif \"student\" in occ:\n",
      "            matchocc = \"56-MiscStudent\"\n",
      "        elif \"teacher\" in occ:\n",
      "            matchocc = \"25-MiscTeacher\"\n",
      "        elif \"professor\" in occ:\n",
      "            matchocc = \"25-Prof\"\n",
      "        elif \"consultant\" in occ:\n",
      "            matchocc = \"59-Consultant\"\n",
      "        elif \"computer\" in occ:\n",
      "            matchocc = \"15-Computer\"\n",
      "        elif \"stay-at-home\" in occ:\n",
      "            matchocc = \"StayAtHome\"\n",
      "        else:\n",
      "            players[pid]['SOC'] = \"9999\"\n",
      "            notfoundcount += 1\n",
      "            occsnotfound.append(occ)\n",
      "    players[pid]['SOC'] = matchocc\n",
      "        \n",
      "print \"total\", totalcount, \"not found\", notfoundcount, \"yielding\", \\\n",
      "    float(notfoundcount)/float(totalcount)*100, \"% failure\"\n",
      "        "
     ],
     "language": "python",
     "metadata": {},
     "outputs": [
      {
       "output_type": "stream",
       "stream": "stdout",
       "text": [
        "total 8451 not found 2443 yielding 28.9078215596 % failure\n"
       ]
      }
     ],
     "prompt_number": 37
    },
    {
     "cell_type": "code",
     "collapsed": false,
     "input": [
      "\n",
      "\n",
      "\n",
      "\n",
      "# leftovers = \"\"\n",
      "\n",
      "# coccsnotfound = dict(Counter(occsnotfound))\n",
      "# for occ, count in coccsnotfound.iteritems():\n",
      "# #     if \"computer\" in occ:\n",
      "# #         print occ\n",
      "#     leftovers += occ\n",
      "        \n",
      "# leftovers = dict(Counter(leftovers.split(\" \")))\n",
      "\n",
      "# for word, count in leftovers.iteritems():\n",
      "#     if count > 15:\n",
      "#         print word, count"
     ],
     "language": "python",
     "metadata": {},
     "outputs": [],
     "prompt_number": 38
    },
    {
     "cell_type": "code",
     "collapsed": false,
     "input": [
      "pheaders= ['ID', 'name', 'year', 'occ', 'loc','state', 'studentflag', 'SOC', 'main', 'sub']\n",
      "pheaders"
     ],
     "language": "python",
     "metadata": {},
     "outputs": [
      {
       "metadata": {},
       "output_type": "pyout",
       "prompt_number": 39,
       "text": [
        "['ID',\n",
        " 'name',\n",
        " 'year',\n",
        " 'occ',\n",
        " 'loc',\n",
        " 'state',\n",
        " 'studentflag',\n",
        " 'SOC',\n",
        " 'main',\n",
        " 'sub']"
       ]
      }
     ],
     "prompt_number": 39
    },
    {
     "cell_type": "code",
     "collapsed": false,
     "input": [
      "rows = players.values()\n",
      "with open('statessorted.txt','rt') as states:\n",
      "    states = [state.strip().lower() for state in states.readlines()]\n",
      "\n",
      "for row in rows:\n",
      "    soc = row['SOC']\n",
      "    loc = row['loc']\n",
      "    row['state'] = '9999'\n",
      "    \n",
      "    for state in states:\n",
      "        if state in loc.lower():\n",
      "            row['state'] = state\n",
      "            break\n",
      "    if soc == '':\n",
      "        row['main'] = '9999'\n",
      "        row['sub'] = '9999'\n",
      "    elif '-' in soc:\n",
      "        main, sub = tuple(soc.split('-'))\n",
      "        row['main'] = main\n",
      "        row['sub'] = sub\n",
      "    else:\n",
      "        row['main'] = soc\n",
      "        row['sub'] = '9999'"
     ],
     "language": "python",
     "metadata": {},
     "outputs": [],
     "prompt_number": 40
    },
    {
     "cell_type": "code",
     "collapsed": false,
     "input": [
      "with open('usplayerswithsoc.csv','w') as outfile:\n",
      "    outfile = csv.DictWriter(outfile,pheaders)\n",
      "    outfile.writeheader()\n",
      "    outfile.writerows(rows)"
     ],
     "language": "python",
     "metadata": {},
     "outputs": [],
     "prompt_number": 41
    },
    {
     "cell_type": "code",
     "collapsed": false,
     "input": [
      "players['1']"
     ],
     "language": "python",
     "metadata": {},
     "outputs": [
      {
       "metadata": {},
       "output_type": "pyout",
       "prompt_number": 27,
       "text": [
        "{'ID': '1',\n",
        " 'SOC': '15-1131CU',\n",
        " 'loc': 'Salt Lake City, Utah',\n",
        " 'main': '15',\n",
        " 'name': 'Ken Jennings',\n",
        " 'occ': 'software engineer',\n",
        " 'state': 'utah',\n",
        " 'studentflag': '',\n",
        " 'sub': '1131CU',\n",
        " 'year': '2004'}"
       ]
      }
     ],
     "prompt_number": 27
    },
    {
     "cell_type": "code",
     "collapsed": false,
     "input": [
      "type(printdict)"
     ],
     "language": "python",
     "metadata": {},
     "outputs": [
      {
       "ename": "NameError",
       "evalue": "name 'printdict' is not defined",
       "output_type": "pyerr",
       "traceback": [
        "\u001b[0;31m---------------------------------------------------------------------------\u001b[0m\n\u001b[0;31mNameError\u001b[0m                                 Traceback (most recent call last)",
        "\u001b[0;32m<ipython-input-43-91eb0c5c801b>\u001b[0m in \u001b[0;36m<module>\u001b[0;34m()\u001b[0m\n\u001b[0;32m----> 1\u001b[0;31m \u001b[0mtype\u001b[0m\u001b[0;34m(\u001b[0m\u001b[0mprintdict\u001b[0m\u001b[0;34m)\u001b[0m\u001b[0;34m\u001b[0m\u001b[0m\n\u001b[0m",
        "\u001b[0;31mNameError\u001b[0m: name 'printdict' is not defined"
       ]
      }
     ],
     "prompt_number": 43
    },
    {
     "cell_type": "code",
     "collapsed": false,
     "input": [],
     "language": "python",
     "metadata": {},
     "outputs": [
      {
       "ename": "NameError",
       "evalue": "name 'occstate' is not defined",
       "output_type": "pyerr",
       "traceback": [
        "\u001b[0;31m---------------------------------------------------------------------------\u001b[0m\n\u001b[0;31mNameError\u001b[0m                                 Traceback (most recent call last)",
        "\u001b[0;32m<ipython-input-29-c106af980d86>\u001b[0m in \u001b[0;36m<module>\u001b[0;34m()\u001b[0m\n\u001b[0;32m----> 1\u001b[0;31m \u001b[0;32mfor\u001b[0m \u001b[0mstate\u001b[0m \u001b[0;32min\u001b[0m \u001b[0moccstate\u001b[0m\u001b[0;34m:\u001b[0m\u001b[0;34m\u001b[0m\u001b[0m\n\u001b[0m\u001b[1;32m      2\u001b[0m     \u001b[0;32mprint\u001b[0m \u001b[0mstate\u001b[0m\u001b[0;34m\u001b[0m\u001b[0m\n",
        "\u001b[0;31mNameError\u001b[0m: name 'occstate' is not defined"
       ]
      }
     ],
     "prompt_number": 29
    },
    {
     "cell_type": "code",
     "collapsed": false,
     "input": [],
     "language": "python",
     "metadata": {},
     "outputs": []
    }
   ],
   "metadata": {}
  }
 ]
}