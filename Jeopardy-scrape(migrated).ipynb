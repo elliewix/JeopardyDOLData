{
 "metadata": {
  "name": ""
 },
 "nbformat": 3,
 "nbformat_minor": 0,
 "worksheets": [
  {
   "cells": [
    {
     "cell_type": "code",
     "collapsed": false,
     "input": [
      "import urllib2\n",
      "\n",
      "for i in range(1,9115):\n",
      "    code = i\n",
      "    url = \"http://www.j-archive.com/showplayerstats.php?player_id=\" + str(code)\n",
      "    #filename = \"playergamestats/\" + str(code) + \".txt\"\n",
      "    filename = \"player\" + str(code) + \".txt\"\n",
      "    try:\n",
      "        file( \"playergamestats/\" +filename, \"wb\").write(urllib2.urlopen(url).read())\n",
      "    except:\n",
      "        print \"player\",i,\"failed\""
     ],
     "language": "python",
     "metadata": {},
     "outputs": [],
     "prompt_number": 1
    },
    {
     "cell_type": "code",
     "collapsed": false,
     "input": [],
     "language": "python",
     "metadata": {},
     "outputs": []
    }
   ],
   "metadata": {}
  }
 ]
}