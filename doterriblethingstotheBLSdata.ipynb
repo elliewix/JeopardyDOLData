{
 "metadata": {
  "name": ""
 },
 "nbformat": 3,
 "nbformat_minor": 0,
 "worksheets": [
  {
   "cells": [
    {
     "cell_type": "code",
     "collapsed": false,
     "input": [
      "import csv\n",
      "from pprint import pprint"
     ],
     "language": "python",
     "metadata": {},
     "outputs": [],
     "prompt_number": 7
    },
    {
     "cell_type": "code",
     "collapsed": false,
     "input": [
      "with open('stateoccdata2013.csv', 'rU') as bls2013:\n",
      "    bls2013 = csv.reader(bls2013)\n",
      "    bls2013headers = next(bls2013)\n",
      "    occs = [row for row in bls2013]"
     ],
     "language": "python",
     "metadata": {},
     "outputs": [],
     "prompt_number": 3
    },
    {
     "cell_type": "code",
     "collapsed": false,
     "input": [
      "statelevel = [row for row in occs if row[3] == '00-0000']"
     ],
     "language": "python",
     "metadata": {},
     "outputs": [],
     "prompt_number": 5
    },
    {
     "cell_type": "code",
     "collapsed": false,
     "input": [
      "justtoteimploy = {}\n",
      "for row in statelevel:\n",
      "    justtoteimploy[row[2]] = {bls2013headers[6]: int(row[6].replace(',',''))}"
     ],
     "language": "python",
     "metadata": {},
     "outputs": [],
     "prompt_number": 17
    },
    {
     "cell_type": "code",
     "collapsed": false,
     "input": [
      "len(statelevel)"
     ],
     "language": "python",
     "metadata": {},
     "outputs": [
      {
       "metadata": {},
       "output_type": "pyout",
       "prompt_number": 18,
       "text": [
        "54"
       ]
      }
     ],
     "prompt_number": 18
    },
    {
     "cell_type": "code",
     "collapsed": false,
     "input": [
      "justtoteimploy.keys()"
     ],
     "language": "python",
     "metadata": {},
     "outputs": [
      {
       "metadata": {},
       "output_type": "pyout",
       "prompt_number": 20,
       "text": [
        "['Mississippi',\n",
        " 'Oklahoma',\n",
        " 'Delaware',\n",
        " 'Minnesota',\n",
        " 'Illinois',\n",
        " 'Arkansas',\n",
        " 'New Mexico',\n",
        " 'Indiana',\n",
        " 'Maryland',\n",
        " 'Louisiana',\n",
        " 'Idaho',\n",
        " 'Wyoming',\n",
        " 'Tennessee',\n",
        " 'Arizona',\n",
        " 'Iowa',\n",
        " 'Michigan',\n",
        " 'Kansas',\n",
        " 'Utah',\n",
        " 'Virginia',\n",
        " 'Oregon',\n",
        " 'Connecticut',\n",
        " 'Montana',\n",
        " 'California',\n",
        " 'Massachusetts',\n",
        " 'West Virginia',\n",
        " 'South Carolina',\n",
        " 'New Hampshire',\n",
        " 'Wisconsin',\n",
        " 'Vermont',\n",
        " 'Georgia',\n",
        " 'North Dakota',\n",
        " 'Pennsylvania',\n",
        " 'Puerto Rico',\n",
        " 'Florida',\n",
        " 'Alaska',\n",
        " 'Kentucky',\n",
        " 'Hawaii',\n",
        " 'Nebraska',\n",
        " 'Missouri',\n",
        " 'Ohio',\n",
        " 'Alabama',\n",
        " 'New York',\n",
        " 'Virgin Islands',\n",
        " 'South Dakota',\n",
        " 'Colorado',\n",
        " 'New Jersey',\n",
        " 'Guam',\n",
        " 'Washington',\n",
        " 'North Carolina',\n",
        " 'District of Columbia',\n",
        " 'Texas',\n",
        " 'Nevada',\n",
        " 'Maine',\n",
        " 'Rhode Island']"
       ]
      }
     ],
     "prompt_number": 20
    },
    {
     "cell_type": "code",
     "collapsed": false,
     "input": [],
     "language": "python",
     "metadata": {},
     "outputs": []
    }
   ],
   "metadata": {}
  }
 ]
}