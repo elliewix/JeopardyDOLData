{
 "metadata": {
  "name": ""
 },
 "nbformat": 3,
 "nbformat_minor": 0,
 "worksheets": [
  {
   "cells": [
    {
     "cell_type": "code",
     "collapsed": false,
     "input": [
      "import csv"
     ],
     "language": "python",
     "metadata": {},
     "outputs": [],
     "prompt_number": 9
    },
    {
     "cell_type": "code",
     "collapsed": false,
     "input": [
      "with open('usplayerswithsoc.csv', 'rU') as players:\n",
      "    players = csv.reader(players)\n",
      "    headers = next(players)\n",
      "    players = [row for row in players]\n",
      "    \n",
      "for row in players:\n",
      "    if row[5].lower == 'onio':\n",
      "        print row"
     ],
     "language": "python",
     "metadata": {},
     "outputs": [],
     "prompt_number": 10
    },
    {
     "cell_type": "code",
     "collapsed": false,
     "input": [
      "states = list(set([row[5].lower() for row in players]))\n"
     ],
     "language": "python",
     "metadata": {},
     "outputs": [],
     "prompt_number": 11
    },
    {
     "cell_type": "code",
     "collapsed": false,
     "input": [
      "occstates = [state.lower() for state in ['Mississippi', 'Oklahoma', 'Delaware', 'Minnesota', 'Illinois', 'Arkansas', 'New Mexico', 'Indiana', 'Maryland', 'Louisiana', 'Idaho', 'Wyoming', 'Tennessee', 'Arizona', 'Iowa', 'Michigan', 'Kansas', 'Utah', 'Virginia', 'Oregon', 'Connecticut', 'Montana', 'California', 'Massachusetts', 'West Virginia', 'South Carolina', 'New Hampshire', 'Wisconsin', 'Vermont', 'Georgia', 'North Dakota', 'Pennsylvania', 'Puerto Rico', 'Florida', 'Alaska', 'Kentucky', 'Hawaii', 'Nebraska', 'Missouri', 'Ohio', 'Alabama', 'New York', 'Virgin Islands', 'South Dakota', 'Colorado', 'New Jersey', 'Guam', 'Washington', 'North Carolina', 'District of Columbia', 'Texas', 'Nevada', 'Maine', 'Rhode Island']]"
     ],
     "language": "python",
     "metadata": {},
     "outputs": [],
     "prompt_number": 12
    },
    {
     "cell_type": "code",
     "collapsed": false,
     "input": [
      "for state in states:\n",
      "    if state not in occstates:\n",
      "        print state"
     ],
     "language": "python",
     "metadata": {},
     "outputs": [
      {
       "output_type": "stream",
       "stream": "stdout",
       "text": [
        "onio\n"
       ]
      }
     ],
     "prompt_number": 13
    },
    {
     "cell_type": "code",
     "collapsed": false,
     "input": [
      "players"
     ],
     "language": "python",
     "metadata": {},
     "outputs": [
      {
       "metadata": {},
       "output_type": "pyout",
       "prompt_number": 29,
       "text": [
        "[]"
       ]
      }
     ],
     "prompt_number": 29
    },
    {
     "cell_type": "code",
     "collapsed": false,
     "input": [
      "for state in occstates:\n",
      "    print state.capitalize()"
     ],
     "language": "python",
     "metadata": {},
     "outputs": [
      {
       "output_type": "stream",
       "stream": "stdout",
       "text": [
        "Mississippi\n",
        "Oklahoma\n",
        "Delaware\n",
        "Minnesota\n",
        "Illinois\n",
        "Arkansas\n",
        "New mexico\n",
        "Indiana\n",
        "Maryland\n",
        "Louisiana\n",
        "Idaho\n",
        "Wyoming\n",
        "Tennessee\n",
        "Arizona\n",
        "Iowa\n",
        "Michigan\n",
        "Kansas\n",
        "Utah\n",
        "Virginia\n",
        "Oregon\n",
        "Connecticut\n",
        "Montana\n",
        "California\n",
        "Massachusetts\n",
        "West virginia\n",
        "South carolina\n",
        "New hampshire\n",
        "Wisconsin\n",
        "Vermont\n",
        "Georgia\n",
        "North dakota\n",
        "Pennsylvania\n",
        "Puerto rico\n",
        "Florida\n",
        "Alaska\n",
        "Kentucky\n",
        "Hawaii\n",
        "Nebraska\n",
        "Missouri\n",
        "Ohio\n",
        "Alabama\n",
        "New york\n",
        "Virgin islands\n",
        "South dakota\n",
        "Colorado\n",
        "New jersey\n",
        "Guam\n",
        "Washington\n",
        "North carolina\n",
        "District of columbia\n",
        "Texas\n",
        "Nevada\n",
        "Maine\n",
        "Rhode island\n"
       ]
      }
     ],
     "prompt_number": 8
    },
    {
     "cell_type": "code",
     "collapsed": false,
     "input": [],
     "language": "python",
     "metadata": {},
     "outputs": []
    }
   ],
   "metadata": {}
  }
 ]
}