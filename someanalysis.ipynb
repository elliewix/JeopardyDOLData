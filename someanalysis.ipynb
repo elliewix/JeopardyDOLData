{
 "metadata": {
  "name": ""
 },
 "nbformat": 3,
 "nbformat_minor": 0,
 "worksheets": [
  {
   "cells": [
    {
     "cell_type": "code",
     "collapsed": false,
     "input": [
      "import csv"
     ],
     "language": "python",
     "metadata": {},
     "outputs": [],
     "prompt_number": 14
    },
    {
     "cell_type": "code",
     "collapsed": false,
     "input": [
      "with open('usplayerswithsoc.csv', 'rU') as players:\n",
      "    players = csv.reader(players)\n",
      "    headers = next(players)\n",
      "    players = [row for row in players]\n",
      "    \n",
      "for row in players:\n",
      "    if row[5].lower == 'onio':\n",
      "        print row"
     ],
     "language": "python",
     "metadata": {},
     "outputs": [],
     "prompt_number": 15
    },
    {
     "cell_type": "code",
     "collapsed": false,
     "input": [
      "states = list(set([row[5].lower() for row in players]))\n"
     ],
     "language": "python",
     "metadata": {},
     "outputs": [],
     "prompt_number": 16
    },
    {
     "cell_type": "code",
     "collapsed": false,
     "input": [
      "occstates = [state.lower() for state in ['Mississippi', 'Oklahoma', 'Delaware', 'Minnesota', 'Illinois', 'Arkansas', 'New Mexico', 'Indiana', 'Maryland', 'Louisiana', 'Idaho', 'Wyoming', 'Tennessee', 'Arizona', 'Iowa', 'Michigan', 'Kansas', 'Utah', 'Virginia', 'Oregon', 'Connecticut', 'Montana', 'California', 'Massachusetts', 'West Virginia', 'South Carolina', 'New Hampshire', 'Wisconsin', 'Vermont', 'Georgia', 'North Dakota', 'Pennsylvania', 'Puerto Rico', 'Florida', 'Alaska', 'Kentucky', 'Hawaii', 'Nebraska', 'Missouri', 'Ohio', 'Alabama', 'New York', 'Virgin Islands', 'South Dakota', 'Colorado', 'New Jersey', 'Guam', 'Washington', 'North Carolina', 'District of Columbia', 'Texas', 'Nevada', 'Maine', 'Rhode Island']]"
     ],
     "language": "python",
     "metadata": {},
     "outputs": [],
     "prompt_number": 17
    },
    {
     "cell_type": "code",
     "collapsed": false,
     "input": [
      "for state in states:\n",
      "    if state not in occstates:\n",
      "        print state"
     ],
     "language": "python",
     "metadata": {},
     "outputs": [],
     "prompt_number": 18
    },
    {
     "cell_type": "code",
     "collapsed": false,
     "input": [
      "statecounts = {}\n",
      "\n",
      "for state in states:\n",
      "    stateplayers = [player for player in players if player[5].lower() == state.lower()]\n",
      "    statecounts[state] = len(stateplayers)\n",
      "    with open('playersbystate/' + state + \"Players.csv\",'w') as outfile:\n",
      "        outfile = csv.writer(outfile)\n",
      "        outfile.writerow(headers)\n",
      "        outfile.writerows(stateplayers)"
     ],
     "language": "python",
     "metadata": {},
     "outputs": [],
     "prompt_number": 23
    },
    {
     "cell_type": "code",
     "collapsed": false,
     "input": [
      "statecounts"
     ],
     "language": "python",
     "metadata": {},
     "outputs": [
      {
       "metadata": {},
       "output_type": "pyout",
       "prompt_number": 24,
       "text": [
        "{'alabama': 65,\n",
        " 'alaska': 14,\n",
        " 'arizona': 82,\n",
        " 'arkansas': 33,\n",
        " 'california': 1493,\n",
        " 'colorado': 93,\n",
        " 'connecticut': 157,\n",
        " 'delaware': 37,\n",
        " 'florida': 326,\n",
        " 'georgia': 261,\n",
        " 'hawaii': 35,\n",
        " 'idaho': 16,\n",
        " 'illinois': 436,\n",
        " 'indiana': 104,\n",
        " 'iowa': 55,\n",
        " 'kansas': 71,\n",
        " 'kentucky': 110,\n",
        " 'louisiana': 107,\n",
        " 'maine': 43,\n",
        " 'maryland': 336,\n",
        " 'massachusetts': 427,\n",
        " 'michigan': 189,\n",
        " 'minnesota': 110,\n",
        " 'mississippi': 24,\n",
        " 'missouri': 96,\n",
        " 'montana': 19,\n",
        " 'nebraska': 33,\n",
        " 'nevada': 43,\n",
        " 'new hampshire': 60,\n",
        " 'new jersey': 299,\n",
        " 'new mexico': 32,\n",
        " 'new york': 817,\n",
        " 'north carolina': 167,\n",
        " 'north dakota': 4,\n",
        " 'ohio': 260,\n",
        " 'oklahoma': 50,\n",
        " 'oregon': 116,\n",
        " 'pennsylvania': 356,\n",
        " 'rhode island': 37,\n",
        " 'south dakota': 13,\n",
        " 'tennessee': 99,\n",
        " 'texas': 332,\n",
        " 'utah': 21,\n",
        " 'vermont': 36,\n",
        " 'virginia': 424,\n",
        " 'washington': 390,\n",
        " 'wisconsin': 112,\n",
        " 'wyoming': 11}"
       ]
      }
     ],
     "prompt_number": 24
    },
    {
     "cell_type": "code",
     "collapsed": false,
     "input": [],
     "language": "python",
     "metadata": {},
     "outputs": []
    }
   ],
   "metadata": {}
  }
 ]
}