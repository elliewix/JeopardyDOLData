{
 "metadata": {
  "name": ""
 },
 "nbformat": 3,
 "nbformat_minor": 0,
 "worksheets": [
  {
   "cells": [
    {
     "cell_type": "markdown",
     "metadata": {},
     "source": [
      "All processing notebooks have been migrated into this file.\n",
      "\n",
      "Roughly, these are the steps that this notebook will do:\n",
      "\n",
      "1. Download the player HTML pages\n",
      "2. Construct CSVs with the desired player information (uses Scrapy with xpath)\n",
      "3. Construct a CSV with only US players and desired data \n",
      " 1. Involves matching player location phrase with state and checks therein\n",
      "4. Pull in manually curated student flag data\n",
      " 1. Also includes code to pull out manually added student flag data\n",
      " 2. The chicken/egg problem this creates is understood.\n",
      "5. Match player occupation phrases to a SOC code and output new CSV\n",
      " 1. The matching code is reasonably self-documenting.\n",
      "6. Other unfinished processes include, but not limited to:\n",
      " 1. Splitting player csvs out into the state level\n",
      " 2. Looking at BLS data and constructing counts\n",
      " \n",
      "Formal code comments are being added as I have time.  "
     ]
    },
    {
     "cell_type": "markdown",
     "metadata": {},
     "source": [
      "# All the imports"
     ]
    },
    {
     "cell_type": "code",
     "collapsed": false,
     "input": [
      "import urllib2\n",
      "\n",
      "import os\n",
      "from os import listdir\n",
      "from os.path import isfile, join\n",
      "import csv\n",
      "from pprint import pprint\n",
      "import re\n",
      "from collections import Counter\n",
      "import urllib2\n",
      "from scrapy.selector import Selector\n",
      "from scrapy.http import HtmlResponse\n"
     ],
     "language": "python",
     "metadata": {},
     "outputs": [],
     "prompt_number": 1
    },
    {
     "cell_type": "markdown",
     "metadata": {},
     "source": [
      "# General Functions"
     ]
    },
    {
     "cell_type": "code",
     "collapsed": false,
     "input": [
      "def getFiles(path):\n",
      "    \"\"\"Function to return a list of all files within a folder\"\"\"\n",
      "    files = [ f for f in listdir(path) if isfile(join(path,f)) and f[0] != '.' ]\n",
      "    return files\n",
      "\n",
      "# other subspection specific functions are define in those sections"
     ],
     "language": "python",
     "metadata": {},
     "outputs": [],
     "prompt_number": 2
    },
    {
     "cell_type": "markdown",
     "metadata": {},
     "source": [
      "# download the player html pages\n",
      "\n",
      "Leaving commented out as a protection against undesired destruction."
     ]
    },
    {
     "cell_type": "code",
     "collapsed": false,
     "input": [
      "## manually determine what the highest player count is\n",
      "## PHP is sneaky.\n",
      "## remember that the stop point is exclusive\n",
      "\n",
      "# for i in range(1,9115): \n",
      "#     code = i\n",
      "#     url = \"http://www.j-archive.com/showplayerstats.php?player_id=\" + str(code)\n",
      "#     #filename = \"playergamestats/\" + str(code) + \".txt\"\n",
      "#     filename = \"player\" + str(code) + \".txt\"\n",
      "#     try:\n",
      "#         file( \"playergamestats/\" +filename, \"wb\").write(urllib2.urlopen(url).read())\n",
      "#     except:\n",
      "#         print \"player\",i,\"failed\""
     ],
     "language": "python",
     "metadata": {},
     "outputs": []
    },
    {
     "cell_type": "code",
     "collapsed": false,
     "input": [],
     "language": "python",
     "metadata": {},
     "outputs": [],
     "prompt_number": 2
    },
    {
     "cell_type": "markdown",
     "metadata": {},
     "source": [
      "# create the csvs from the html pages\n",
      "\n",
      "This is arguably unnecessary, but makes for cleaner extraction during the CSV creation point.\n",
      "\n",
      "Also makes the source data more reusable for other analyses."
     ]
    },
    {
     "cell_type": "markdown",
     "metadata": {},
     "source": [
      "### Functions and prep stuff"
     ]
    },
    {
     "cell_type": "code",
     "collapsed": false,
     "input": [
      "# regexs to snag the occupation and location\n",
      "# currently does nothing with the 'originally' part but would be worth flagging that later\n",
      "\n",
      "occupation = re.compile(r'(?:an? *)?(.+?)(?:originally\\s*)?from.+?',re.IGNORECASE)\n",
      "location = re.compile(r'(?:\\s*(?:originally\\s*)?from)(.+?)\\.*$',re.IGNORECASE)\n",
      "\n",
      "def getoccloc(body):\n",
      "    \"\"\"returns a list of a player's occupation and location phrases\n",
      "    \n",
      "    pass it a string of HTML (e.g. .read())\"\"\"\n",
      "    player = []\n",
      "    \n",
      "    # use xpath to extract the content of p@class=player_occupation_and_origin, and will\n",
      "    # also gather any descendant text ( see the CNN players id ~= 7000 for examples)\n",
      "    rawoccorig = Selector(text=body).xpath('//p[@class=\"player_occupation_and_origin\"]/descendant::text()').extract()\n",
      "    rawoccorig = ''.join(rawoccorig) # @#$@#%!$ xpath splits ALL THE THINGS\n",
      "    \n",
      "    # run the regext over the extracted text\n",
      "    # ya, these could be functions.\n",
      "    foundocc = re.findall(occupation, rawoccorig)\n",
      "    if len(foundocc) == 0: \n",
      "        player.append('') # add empty string if nothing found\n",
      "    else:\n",
      "        player.append(foundocc[0].strip())\n",
      "    foundloc = re.findall(location, rawoccorig)\n",
      "    \n",
      "    if len(foundloc) == 0:\n",
      "        player.append('') # add empty string if nothing found\n",
      "    else:\n",
      "        player.append(foundloc[0].strip())\n",
      "    return player"
     ],
     "language": "python",
     "metadata": {},
     "outputs": [],
     "prompt_number": 3
    },
    {
     "cell_type": "code",
     "collapsed": false,
     "input": [
      "folder = 'playergamestats/'\n",
      "target = \"csvs/\"\n",
      "files = getFiles(folder)\n",
      "#files\n",
      "\n",
      "print len(files)"
     ],
     "language": "python",
     "metadata": {},
     "outputs": [
      {
       "output_type": "stream",
       "stream": "stdout",
       "text": [
        "9114\n"
       ]
      }
     ],
     "prompt_number": 4
    },
    {
     "cell_type": "markdown",
     "metadata": {},
     "source": [
      "### Begin processing of files with scrapy"
     ]
    },
    {
     "cell_type": "code",
     "collapsed": false,
     "input": [
      "with open(folder + files[0],'rt') as page:\n",
      "    body = page.read()\n",
      "    \n",
      "name = Selector(text=body).xpath('//p[@class=\"player_full_name\"]/text()').extract()\n",
      "killmoney = re.compile(r'[^0-9-//WR%]') #entry 4, extracts ony the numbers out of the money\n",
      "name[0] # should be Ken Jennings"
     ],
     "language": "python",
     "metadata": {},
     "outputs": [
      {
       "metadata": {},
       "output_type": "pyout",
       "prompt_number": 6,
       "text": [
        "u'Ken Jennings'"
       ]
      }
     ],
     "prompt_number": 6
    },
    {
     "cell_type": "code",
     "collapsed": false,
     "input": [
      "for eachfile in files:\n",
      "    with open(folder + eachfile,'rt') as page:\n",
      "        body = page.read()\n",
      "    # snag the games\n",
      "    # needs to be extracted into a function\n",
      "    games = Selector(text=body).xpath('//tr/td/a[contains(.,\"#\")]/../..').extract()\n",
      "    allgames = [Selector(text=game).xpath('//tr/td[a]/..//descendant::text()').extract() for game in games]\n",
      "    name = Selector(text=body).xpath('//p[@class=\"player_full_name\"]/text()').extract()\n",
      "    occ = Selector(text=body).xpath('//p[@class=\"player_occupation_and_origin\"]/text()').extract()\n",
      "    try:\n",
      "        name = name[0].encode(\"utf8\")\n",
      "    except:\n",
      "        name = \"Name failure\"\n",
      "    playerid = eachfile.split('.')[0][11:] # kill the file type and get the stuff after player\n",
      "    pocc, ploc = getoccloc(body) # returns [occ, loc] for player\n",
      "    playerinfo = [name, playerid, pocc.encode(\"utf8\"), ploc.encode(\"utf8\")]\n",
      "    #construct game info for writing\n",
      "    games = []\n",
      "    for each in allgames:\n",
      "        if len(each) > 1 and '#' in each[1]:\n",
      "            each = [each[0] + each[1]] + each[2:]\n",
      "        #print each\n",
      "        #print each\n",
      "        #print gamephrase\n",
      "        gamephrase = each[0]\n",
      "        newlist = gamephrase.replace(u'\\xa0',' ').split(\", aired \") # replace whatever \\xa0 is with \\s\n",
      "        for string in each[1:]:\n",
      "            newlist.append(re.sub(killmoney, '', string.replace(u'\\xa0',' '))) # \\xa0 is everywhere\n",
      "        games.append(newlist)\n",
      "    # write the csvs\n",
      "    # need to be made robust rather than explicit\n",
      "    headers = [\"GameID\",\"AirDate\",\"J! score\",\"DJ! score\",\"FJ! score\",\"Coryat score\",\"R\",\"W\",\"Rebs.\",\"DDs\",\"DD gain/loss\",\"FJ!\",\"FJ! gain/loss\",\"BA\",\"TBA\"]\n",
      "    with open(target + eachfile.split('.')[0] + '.csv','wt') as f:\n",
      "        # the CSVs have two levels of headers. sorry.\n",
      "        f_csv = csv.writer(f)\n",
      "        f_csv.writerow(playerinfo)\n",
      "        f_csv.writerow(headers)\n",
      "        f_csv.writerows(games)\n",
      "    "
     ],
     "language": "python",
     "metadata": {},
     "outputs": [],
     "prompt_number": 7
    },
    {
     "cell_type": "code",
     "collapsed": false,
     "input": [
      "# reopen the csvs and calculate and append the game winnings info\n",
      "\n",
      "csvs = files = getFiles(\"csvs/\")\n",
      "for filename in csvs:\n",
      "    with open(\"csvs/\" + filename, 'rU') as player:\n",
      "        player = csv.reader(player)\n",
      "        # open up the csvs and storethe info\n",
      "        bio = next(player)\n",
      "        headers = next(player)\n",
      "        games = [row for row in player]\n",
      "    numgames = len(games)\n",
      "    winnings = sum([int(row[4]) for game in games])\n",
      "    with open(\"csvs2/\" + filename, 'w') as playerout:\n",
      "        playerout = csv.writer(playerout)\n",
      "        playerout.writerow(bio)\n",
      "        playerout.writerow([numgames, winnings])\n",
      "        playerout.writerow(headers)\n",
      "        playerout.writerows(games)"
     ],
     "language": "python",
     "metadata": {},
     "outputs": [],
     "prompt_number": 13
    },
    {
     "cell_type": "code",
     "collapsed": false,
     "input": [],
     "language": "python",
     "metadata": {},
     "outputs": [],
     "prompt_number": 7
    },
    {
     "cell_type": "markdown",
     "metadata": {},
     "source": [
      "# assemble the main player csv"
     ]
    },
    {
     "cell_type": "code",
     "collapsed": false,
     "input": [
      "csvpath = \"csvs2/\"\n",
      "playercsvs = getFiles(csvpath)"
     ],
     "language": "python",
     "metadata": {},
     "outputs": [],
     "prompt_number": 8
    },
    {
     "cell_type": "code",
     "collapsed": false,
     "input": [
      "def getPlayerNum(filename):\n",
      "    return player.split(\".\")[0][6:]\n",
      "\n",
      "def getBio(bioline):\n",
      "    name = bioline[0]\n",
      "    occ = bioline[2]\n",
      "    location = bioline[3]\n",
      "    return [name, occ, location]\n",
      "\n",
      "def getEarliestDate(pgames):\n",
      "    years = []\n",
      "    for game in pgames:\n",
      "        years.append(game[1].split(\"-\")[0])\n",
      "    return min(years)"
     ],
     "language": "python",
     "metadata": {},
     "outputs": [],
     "prompt_number": 9
    },
    {
     "cell_type": "code",
     "collapsed": false,
     "input": [
      "players = {}\n",
      "USOnlyPlayers = {}\n",
      "\n",
      "for player in playercsvs:\n",
      "    pnum = getPlayerNum(player)\n",
      "    players[pnum] = {}\n",
      "    with open(csvpath + player) as player:\n",
      "        player = csv.reader(player)\n",
      "        bioline = next(player)\n",
      "        players[pnum]['bio'] = getBio(bioline)\n",
      "        gamesum = next(player)\n",
      "        players[pnum]['gamesum'] = gamesum\n",
      "        games = [row for row in player]\n",
      "        players[pnum]['games'] = games[1:]\n",
      "\n",
      "#pprint(players)    \n",
      "\n",
      "locations = []\n",
      "\n",
      "# load us states\n",
      "\n",
      "with open('statessorted.txt','rt') as states:\n",
      "    states = [state.strip() for state in states.readlines()]\n",
      "\n",
      "notUS = []\n",
      "\n",
      "# adding earliest game year\n",
      "# adding location split\n",
      "for key, value in players.iteritems():\n",
      "    players[key]['bio'].insert(1,getEarliestDate(value['games']))\n",
      "    locstr = value['bio'][3]\n",
      "    stateFound = False\n",
      "    for state in states:\n",
      "        if state.lower() in locstr.lower():\n",
      "            locations.append(locstr)\n",
      "            stateFound = True\n",
      "            USOnlyPlayers[key] = value\n",
      "            break\n",
      "    if stateFound == False:\n",
      "        notUS.append(locstr)\n",
      "    value['bio'].append(value['bio'][3].split(\", \"))\n",
      "\n",
      "# for key, value in players.iteritems():\n",
      "#     if len(value['bio'][-1]) == 2 and value['bio'][-1][-1].isalpha():\n",
      "#         seendubs.append(value['bio'][-1])"
     ],
     "language": "python",
     "metadata": {},
     "outputs": [],
     "prompt_number": 10
    },
    {
     "cell_type": "code",
     "collapsed": false,
     "input": [
      "# read in the backup of the curated student flag data\n",
      "\n",
      "with open('studentflags.csv','rU') as flags:\n",
      "    flags = csv.reader(flags)\n",
      "    flaghead = next(flags)\n",
      "    flags = {row[0]: row[1] for row in flags}"
     ],
     "language": "python",
     "metadata": {},
     "outputs": [],
     "prompt_number": 11
    },
    {
     "cell_type": "code",
     "collapsed": false,
     "input": [
      "# all this needs to be fixed up in some better way, but it works for now\n",
      "# just takess \n",
      "\n",
      "outplayers = []\n",
      "for key, value in USOnlyPlayers.iteritems():\n",
      "    out = []\n",
      "    out.append(key)\n",
      "    out += value['gamesum'] # this is a list, so have to concat rather than append to keep flat\n",
      "    out += value['bio'][:-1] # this is a list, so have to concat rather than append to keep flat\n",
      "    #print key\n",
      "    out.append(flags[key])\n",
      "    outplayers.append(out)\n",
      "    \n",
      "with open('onlyusplayers.csv','wt') as outfile:\n",
      "    outfile = csv.writer(outfile)\n",
      "    outfile.writerow(['ID','numgames','totalwinnings','name','year','occ','loc','studentflag'])\n",
      "    outfile.writerows(outplayers)\n",
      "    \n",
      "# print outplayers"
     ],
     "language": "python",
     "metadata": {},
     "outputs": [],
     "prompt_number": 12
    },
    {
     "cell_type": "code",
     "collapsed": false,
     "input": [
      "countedloc = dict(Counter(locations))\n",
      "# for key, value in countedloc.iteritems():\n",
      "#     if value == 1:\n",
      "#         loc = key.split(\", \")\n",
      "#         if len(loc) <> 2:\n",
      "#             print loc"
     ],
     "language": "python",
     "metadata": {},
     "outputs": []
    },
    {
     "cell_type": "code",
     "collapsed": false,
     "input": [],
     "language": "python",
     "metadata": {},
     "outputs": []
    },
    {
     "cell_type": "markdown",
     "metadata": {},
     "source": [
      "# Optional: yank in any curated student flags and store them in a csv\n",
      "\n",
      "Sort of a chicken/egg service with the previous section, but it is here now.\n",
      "\n",
      "Use this code to extract the manually curated student flag information from the base player file.\n",
      "Saves them to a csv that is read in and added back in later.\n",
      "\n",
      "Prevents loss of manually curated information with the generation of a new base player file.\n",
      "\n",
      "This will break if the base player file is changed."
     ]
    },
    {
     "cell_type": "code",
     "collapsed": false,
     "input": [
      "# extracts\n",
      "\n",
      "with open('onlyusplayersBACKUPCOPYOMGDONTWRITEOVER.csv', 'rU') as players:\n",
      "    players = csv.reader(players)\n",
      "    headers = next(players)\n",
      "    players = [row for row in players]\n",
      "    \n",
      "flags = {row[0]: row[5] for row in players}"
     ],
     "language": "python",
     "metadata": {},
     "outputs": [],
     "prompt_number": 64
    },
    {
     "cell_type": "code",
     "collapsed": false,
     "input": [
      "# writes out\n",
      "\n",
      "printme = [[key, value] for key, value in flags.iteritems()]\n",
      "\n",
      "with open('studentflags.csv','w') as outflags:\n",
      "    outflags = csv.writer(outflags)\n",
      "    outflags.writerow(['ID','studentflag'])\n",
      "    outflags.writerows(printme)"
     ],
     "language": "python",
     "metadata": {},
     "outputs": [],
     "prompt_number": 65
    },
    {
     "cell_type": "markdown",
     "metadata": {},
     "source": [
      "# match and add the soc code to the csv and make a new one"
     ]
    },
    {
     "cell_type": "code",
     "collapsed": false,
     "input": [
      "# first, load the soc code file\n",
      "\n",
      "with open('scripts-soccodes.csv','rU') as soccodes:\n",
      "    soccodes = csv.reader(soccodes)\n",
      "    headers = next(soccodes)\n",
      "    soccodes = [row for row in soccodes]\n",
      "    \n",
      "# also load all the occupational values into one big string for quick checking\n",
      "# prevents doing an extra loop every time.\n",
      "socstr = \"\"\n",
      "for soc in soccodes:\n",
      "    socstr += soc[1].lower() + \" \" + soc[2].lower()"
     ],
     "language": "python",
     "metadata": {},
     "outputs": [],
     "prompt_number": 13
    },
    {
     "cell_type": "code",
     "collapsed": false,
     "input": [
      "# load the player data file\n",
      "\n",
      "with open('onlyusplayers.csv','rU') as playerinfo:\n",
      "    playerinfo = csv.reader(playerinfo)\n",
      "    pheaders = next(playerinfo)\n",
      "    playerinfo = [row for row in playerinfo]"
     ],
     "language": "python",
     "metadata": {},
     "outputs": [],
     "prompt_number": 14
    },
    {
     "cell_type": "code",
     "collapsed": false,
     "input": [
      "# constructs a player dictionary from the csv file info\n",
      "\n",
      "players = {}\n",
      "\n",
      "for player in playerinfo:\n",
      "    id = player[0]\n",
      "    players[id] = {}\n",
      "    # loops through the list of rows and creates a pretty dictionary\n",
      "    # using the enumerated index values and running through the headers\n",
      "    for index, value in enumerate(player):\n",
      "        players[id][pheaders[index]] = value"
     ],
     "language": "python",
     "metadata": {},
     "outputs": [],
     "prompt_number": 15
    },
    {
     "cell_type": "code",
     "collapsed": false,
     "input": [
      "totalcount = 0\n",
      "\n",
      "notfoundcount = 0\n",
      "occsnotfound = []\n",
      "\n",
      "# this loop is the main alignment for the occupations\n",
      "\n",
      "# There are three sections:\n",
      "# 1. Looser matches\n",
      "#   a. students, retired folk, recent grads, and high school teachers\n",
      "# 2. Direct matches to the SOC code names\n",
      "# 3. Desperation matches\n",
      "for pid, player in players.iteritems():\n",
      "    totalcount += 1\n",
      "    occ = player['occ'].lower()\n",
      "    matchocc = \"\"\n",
      "    # 1. Looser matches\n",
      "    if player['studentflag'] == \"TRUE\": # if flagged as stu\n",
      "        matchocc = \"56-MiscStudent\"  \n",
      "    elif 'retired' in occ: # if retired present in occ\n",
      "        matchocc = \"58-Retired\"\n",
      "    elif 'recent' in occ and 'graduate' in occ: # if recent AND graduate in occ\n",
      "        matchocc = \"58-RecentGrad\"\n",
      "    elif 'high school' in occ and 'teacher' in occ:  # there are lots of random high school teachers\n",
      "        matchocc = \"25-2031\"\n",
      "    else:\n",
      "        # 2. Direct matches to SOC code names\n",
      "        if occ in socstr: # first check if the string is in the SOC dump\n",
      "            # actually loop through the socs if it is\n",
      "            socmatches = 0 # count the number of matches\n",
      "            for row in soccodes: \n",
      "                title = row[1].lower()\n",
      "                directtitle = row[2].lower()\n",
      "                if occ == title:\n",
      "                    matchocc = row[0]\n",
      "                    socmatches += 1\n",
      "                elif occ == directtitle:\n",
      "                    matchocc = row[0]\n",
      "                    socmatches += 1\n",
      "            if socmatches > 1:  # there shouldn't be more than one match.\n",
      "                # if this pops true it is usually a problem with the student processing\n",
      "                print \"found more than 1 with\", player\n",
      "        # 3. Desperation matching\n",
      "        elif \"student\" in occ:\n",
      "            matchocc = \"56-MiscStudent\"\n",
      "        elif \"teacher\" in occ:\n",
      "            matchocc = \"25-MiscTeacher\"\n",
      "        elif \"professor\" in occ:\n",
      "            matchocc = \"25-Prof\"\n",
      "        elif \"consultant\" in occ:\n",
      "            matchocc = \"59-Consultant\"\n",
      "        elif \"computer\" in occ:\n",
      "            matchocc = \"15-Computer\"\n",
      "        elif \"stay-at-home\" in occ:\n",
      "            matchocc = \"StayAtHome\"\n",
      "        else:\n",
      "            # code as missing if none of these work\n",
      "            players[pid]['SOC'] = \"9999\"\n",
      "            notfoundcount += 1\n",
      "            occsnotfound.append(occ)\n",
      "            #print occ\n",
      "    players[pid]['SOC'] = matchocc\n",
      "        \n",
      "# print matching report Hitting at 28% last round.\n",
      "print \"total\", totalcount, \"not found\", notfoundcount, \"yielding\", \\\n",
      "    float(notfoundcount)/float(totalcount)*100, \"% failure\"\n",
      "        "
     ],
     "language": "python",
     "metadata": {},
     "outputs": [
      {
       "output_type": "stream",
       "stream": "stdout",
       "text": [
        "state fair coordinator\n",
        "park ranger\n",
        "homemaker and volunteer\n",
        "software project manager\n",
        "tea salesman"
       ]
      },
      {
       "output_type": "stream",
       "stream": "stdout",
       "text": [
        "\n",
        "united methodist pastor\n",
        "lexicographer"
       ]
      },
      {
       "output_type": "stream",
       "stream": "stdout",
       "text": [
        "\n",
        "technical representative"
       ]
      },
      {
       "output_type": "stream",
       "stream": "stdout",
       "text": [
        "\n",
        "financial secretary and bartender\n",
        "sales executive"
       ]
      },
      {
       "output_type": "stream",
       "stream": "stdout",
       "text": [
        "\n",
        "youth minister\n",
        "non-profit program coordinator"
       ]
      },
      {
       "output_type": "stream",
       "stream": "stdout",
       "text": [
        "\n",
        "private tutor"
       ]
      },
      {
       "output_type": "stream",
       "stream": "stdout",
       "text": [
        "\n",
        "defense analyst\n",
        "stay at home mother\n",
        "pizza maker\n",
        "college chemistry instructor\n",
        "poker impresario\n",
        "night court clerk\n",
        "proposal writer\n",
        "assistant editor\n",
        "script reader\n",
        "administrative coordinator"
       ]
      },
      {
       "output_type": "stream",
       "stream": "stdout",
       "text": [
        "\n",
        "assistant principal\n",
        "federal investigator\n",
        "university development writer\n",
        "geographic information systems analyst"
       ]
      },
      {
       "output_type": "stream",
       "stream": "stdout",
       "text": [
        "\n",
        "homemaker and former attorney\n",
        "tech trainer\n",
        "homemaker and freelance editor\n",
        "part-time newsstand clerk\n",
        "university administrator and event planner"
       ]
      },
      {
       "output_type": "stream",
       "stream": "stdout",
       "text": [
        "\n",
        "u.s. air force pilot\n",
        "office supply sales assistant\n",
        "court officer lieutenant\n",
        "freelance editor and graphic designer\n",
        "congressional attorney\n",
        "independent filmmaker\n",
        "executive secretary"
       ]
      },
      {
       "output_type": "stream",
       "stream": "stdout",
       "text": [
        "\n",
        "research attorney\n",
        "plumbing contractor\n",
        "freelance magazine writer"
       ]
      },
      {
       "output_type": "stream",
       "stream": "stdout",
       "text": [
        "\n",
        "software quality analyst\n",
        "director of banquets\n",
        "medical editor"
       ]
      },
      {
       "output_type": "stream",
       "stream": "stdout",
       "text": [
        "\n",
        "government representative\n",
        "systems developer\n",
        "marriage educator\n",
        "legal technology manager"
       ]
      },
      {
       "output_type": "stream",
       "stream": "stdout",
       "text": [
        "\n",
        "historic preservationist\n",
        "sales associate"
       ]
      },
      {
       "output_type": "stream",
       "stream": "stdout",
       "text": [
        "\n",
        "public affairs specialist\n",
        "sunday school director\n",
        "system manager\n",
        "pollution control board member\n",
        "data coordinator\n",
        "gift card production designer"
       ]
      },
      {
       "output_type": "stream",
       "stream": "stdout",
       "text": [
        "\n",
        "content coordinator"
       ]
      },
      {
       "output_type": "stream",
       "stream": "stdout",
       "text": [
        "\n",
        "stamp dealer\n",
        "merchandising manager\n",
        "academic tutor and performer\n",
        "documentary film editor\n",
        "antiquarian bookseller\n",
        "workforce development manager\n",
        "vice president of production\n",
        "business news writer"
       ]
      },
      {
       "output_type": "stream",
       "stream": "stdout",
       "text": [
        "\n",
        "writer and trivia hostess\n",
        "social enterprise lawyer\n",
        "former video store owner\n",
        "soldier and a physician\n",
        "travel marketer"
       ]
      },
      {
       "output_type": "stream",
       "stream": "stdout",
       "text": [
        "\n",
        "energy conservation manager\n",
        "industrial sculptor\n",
        "web producer"
       ]
      },
      {
       "output_type": "stream",
       "stream": "stdout",
       "text": [
        "\n",
        "retirement representative\n",
        "lab instructor"
       ]
      },
      {
       "output_type": "stream",
       "stream": "stdout",
       "text": [
        "\n",
        "recent grad\n",
        "u.s. navy flight officer\n",
        "writer and actor\n",
        "boys & girls club director\n",
        "high school guidance counselor"
       ]
      },
      {
       "output_type": "stream",
       "stream": "stdout",
       "text": [
        "\n",
        "guybrarian\n",
        "refinery planning manager\n",
        "international trade analyst"
       ]
      },
      {
       "output_type": "stream",
       "stream": "stdout",
       "text": [
        "\n",
        "mother of twins\n",
        "publishing data manager"
       ]
      },
      {
       "output_type": "stream",
       "stream": "stdout",
       "text": [
        "\n",
        "mortgage loan analyst\n",
        "software tester\n",
        "practice support coordinator\n",
        "freelance tutor\n",
        "author and pirate\n",
        "production coordinator\n",
        "business information analyst"
       ]
      },
      {
       "output_type": "stream",
       "stream": "stdout",
       "text": [
        "\n",
        "instructional designer\n",
        "actor and copy editor"
       ]
      },
      {
       "output_type": "stream",
       "stream": "stdout",
       "text": [
        "\n",
        "bakery owner and caterer\n",
        "research chemist\n",
        "volunteer storyteller\n",
        "grocery merchandiser\n",
        "medical magazine editor\n",
        "college administrator\n",
        "legislative assistant"
       ]
      },
      {
       "output_type": "stream",
       "stream": "stdout",
       "text": [
        "\n",
        "legislative aide\n",
        "political analyst\n",
        "account planning manager\n",
        "aerospace systems engineer"
       ]
      },
      {
       "output_type": "stream",
       "stream": "stdout",
       "text": [
        "\n",
        "insurance specialist\n",
        "homeschool mom\n",
        "national park ranger"
       ]
      },
      {
       "output_type": "stream",
       "stream": "stdout",
       "text": [
        "\n",
        "mortgage banker\n",
        "tv director and producer"
       ]
      },
      {
       "output_type": "stream",
       "stream": "stdout",
       "text": [
        "\n",
        "freelance copy editor\n",
        "planning and evaluation manager\n",
        "public relations executive"
       ]
      },
      {
       "output_type": "stream",
       "stream": "stdout",
       "text": [
        "\n",
        "fashion editor\n",
        "children's book author"
       ]
      },
      {
       "output_type": "stream",
       "stream": "stdout",
       "text": [
        "\n",
        "seller of antique prints and maps\n",
        "forensic accountant\n",
        "former bank manager"
       ]
      },
      {
       "output_type": "stream",
       "stream": "stdout",
       "text": [
        "\n",
        "inventory control manager\n",
        "mutual funds analyst\n",
        "agricultural chemical salesman"
       ]
      },
      {
       "output_type": "stream",
       "stream": "stdout",
       "text": [
        "\n",
        "army ammunition inspector\n",
        "media coordinator\n",
        "software-development manager\n",
        "web and social media editor\n",
        "public radio host"
       ]
      },
      {
       "output_type": "stream",
       "stream": "stdout",
       "text": [
        "\n",
        "head cashier"
       ]
      },
      {
       "output_type": "stream",
       "stream": "stdout",
       "text": [
        "\n",
        "home schooling mother of two\n",
        "chairman and ceo of an investment firm\n",
        "digital librarian\n",
        "campaign administrator"
       ]
      },
      {
       "output_type": "stream",
       "stream": "stdout",
       "text": [
        "\n",
        "college counselor\n",
        "construction foreman"
       ]
      },
      {
       "output_type": "stream",
       "stream": "stdout",
       "text": [
        "\n",
        "lecturer and academic advisor\n",
        "state department press advisor\n",
        "foreign affairs officer\n",
        "emergency room physician"
       ]
      },
      {
       "output_type": "stream",
       "stream": "stdout",
       "text": [
        "\n",
        "aspiring screenwriter\n",
        "internet copywriter\n",
        "tax lawyer\n",
        "chocolatier\n",
        "montessori teaching assistant\n",
        "director of human resources\n",
        "grant specialist"
       ]
      },
      {
       "output_type": "stream",
       "stream": "stdout",
       "text": [
        "\n",
        "retail horticulturalist\n",
        "emergency physician\n",
        "technical information specialist\n",
        "research chemist\n",
        "peace corps recruiter\n",
        "book publishing editor"
       ]
      },
      {
       "output_type": "stream",
       "stream": "stdout",
       "text": [
        "\n",
        "radiology resident"
       ]
      },
      {
       "output_type": "stream",
       "stream": "stdout",
       "text": [
        "\n",
        "social media editor\n",
        "video and film editor"
       ]
      },
      {
       "output_type": "stream",
       "stream": "stdout",
       "text": [
        "\n",
        "reservations agent\n",
        "admissions director"
       ]
      },
      {
       "output_type": "stream",
       "stream": "stdout",
       "text": [
        "\n",
        "defense analyst"
       ]
      },
      {
       "output_type": "stream",
       "stream": "stdout",
       "text": [
        "\n",
        "dance/movement therapist\n",
        "technical support manager\n",
        "executive coach and author\n",
        "history lecturer\n",
        "director of planning & building"
       ]
      },
      {
       "output_type": "stream",
       "stream": "stdout",
       "text": [
        "\n",
        "freelance writer and personal shopper"
       ]
      },
      {
       "output_type": "stream",
       "stream": "stdout",
       "text": [
        "\n",
        "mother of three\n",
        "freelance proofreader\n",
        "director of technical assistance"
       ]
      },
      {
       "output_type": "stream",
       "stream": "stdout",
       "text": [
        "\n",
        "lawyer with an international law firm\n",
        "lieutenant in the new york police department\n",
        "reporter and writer\n",
        "lawyer & financial analyst\n",
        "author, comedian, and radio commentator\n",
        "speechwriter\n",
        "freelance copywriter\n",
        "family law and immigration lawyer\n",
        "freelance artist"
       ]
      },
      {
       "output_type": "stream",
       "stream": "stdout",
       "text": [
        "\n",
        "legislative aide\n",
        "mail room clerk\n",
        "administrator & outreach officer\n",
        "advertising creative director\n",
        "magazine and website editor\n",
        "immigration attorney\n",
        "registered nurse and ph.d candidate"
       ]
      },
      {
       "output_type": "stream",
       "stream": "stdout",
       "text": [
        "\n",
        "business communications representative\n",
        "staffer for a political organization"
       ]
      },
      {
       "output_type": "stream",
       "stream": "stdout",
       "text": [
        "\n",
        "newspaper publisher"
       ]
      },
      {
       "output_type": "stream",
       "stream": "stdout",
       "text": [
        "\n",
        "pediatric cardiologist\n",
        "internet marketing copy writer"
       ]
      },
      {
       "output_type": "stream",
       "stream": "stdout",
       "text": [
        "\n",
        "internet search editor\n",
        "rare bookseller\n",
        "public relations professional\n",
        "burn and wound surgeon\n",
        "technology salesman\n",
        "medical editor"
       ]
      },
      {
       "output_type": "stream",
       "stream": "stdout",
       "text": [
        "\n",
        "design center manager"
       ]
      },
      {
       "output_type": "stream",
       "stream": "stdout",
       "text": [
        "\n",
        "system analyst"
       ]
      },
      {
       "output_type": "stream",
       "stream": "stdout",
       "text": [
        "\n",
        "public interest lawyer\n",
        "assistant security manager\n",
        "grants coordinator"
       ]
      },
      {
       "output_type": "stream",
       "stream": "stdout",
       "text": [
        "\n",
        "scientific program administrator"
       ]
      },
      {
       "output_type": "stream",
       "stream": "stdout",
       "text": [
        "\n",
        "compliance analyst and voiceover artist\n",
        "mathematics educator\n",
        "sales and marketing manager\n",
        "medieval historian\n",
        "public-health informationist\n",
        "actor and director"
       ]
      },
      {
       "output_type": "stream",
       "stream": "stdout",
       "text": [
        "\n",
        "registered massage therapist\n",
        "editor for academic competitions\n",
        "instructor of political science"
       ]
      },
      {
       "output_type": "stream",
       "stream": "stdout",
       "text": [
        "\n",
        "music critic\n",
        "home inspector and minister\n",
        "telecommunications manager"
       ]
      },
      {
       "output_type": "stream",
       "stream": "stdout",
       "text": [
        "\n",
        "sales executive\n",
        "director of development\n",
        "mental health therapist"
       ]
      },
      {
       "output_type": "stream",
       "stream": "stdout",
       "text": [
        "\n",
        "cooking writer\n",
        "medical writer and editor\n",
        "recording specialist"
       ]
      },
      {
       "output_type": "stream",
       "stream": "stdout",
       "text": [
        "\n",
        "volunteer\n",
        "college counselor"
       ]
      },
      {
       "output_type": "stream",
       "stream": "stdout",
       "text": [
        "\n",
        "quotation specialist\n",
        "gift shop manager\n",
        "casino worker\n",
        "knitting store owner\n",
        "contract attorney\n",
        "academic advisor"
       ]
      },
      {
       "output_type": "stream",
       "stream": "stdout",
       "text": [
        "\n",
        "internet project manager"
       ]
      },
      {
       "output_type": "stream",
       "stream": "stdout",
       "text": [
        "\n",
        "golf course manager\n",
        "library page\n",
        "stand-up comic"
       ]
      },
      {
       "output_type": "stream",
       "stream": "stdout",
       "text": [
        "\n",
        "clinical research coordinator\n",
        "patent agent\n",
        "study hall supervisor and retail manager\n",
        "commercial photographer\n",
        "publishing project coordinator\n",
        "finance administrator\n",
        "marketing communication coordinator\n",
        "software analyst"
       ]
      },
      {
       "output_type": "stream",
       "stream": "stdout",
       "text": [
        "\n",
        "medical document courier"
       ]
      },
      {
       "output_type": "stream",
       "stream": "stdout",
       "text": [
        "\n",
        "college teaching assistant"
       ]
      },
      {
       "output_type": "stream",
       "stream": "stdout",
       "text": [
        "\n",
        "freelance producer"
       ]
      },
      {
       "output_type": "stream",
       "stream": "stdout",
       "text": [
        "\n",
        "educational researcher\n",
        "traffic director\n",
        "executive editor"
       ]
      },
      {
       "output_type": "stream",
       "stream": "stdout",
       "text": [
        "\n",
        "tv writer"
       ]
      },
      {
       "output_type": "stream",
       "stream": "stdout",
       "text": [
        "\n",
        "freelance writer and surtitlist\n",
        "dog walker\n",
        "atm repairman"
       ]
      },
      {
       "output_type": "stream",
       "stream": "stdout",
       "text": [
        "\n",
        "virtual assistant\n",
        "college instructor of anthropology\n",
        "tv lighting technician\n",
        "author and hypnotherapist\n",
        "high school english tutor\n",
        "videographer  and elementary school librarian\n",
        "economics research analyst"
       ]
      },
      {
       "output_type": "stream",
       "stream": "stdout",
       "text": [
        "\n",
        "case manager\n",
        "blogger\n",
        "swim coach\n",
        "office automation manager\n",
        "director of academics for a national test preparation company"
       ]
      },
      {
       "output_type": "stream",
       "stream": "stdout",
       "text": [
        "\n",
        "public policy coordinator\n",
        "harvard graduate whose musical was produced off-broadway\n",
        "taxpayer service representative"
       ]
      },
      {
       "output_type": "stream",
       "stream": "stdout",
       "text": [
        "\n",
        "accounts receivable manager\n",
        "web producer\n",
        "photographer & desktop publisher"
       ]
      },
      {
       "output_type": "stream",
       "stream": "stdout",
       "text": [
        "\n",
        "hiv research scientist\n",
        "freelance business writer"
       ]
      },
      {
       "output_type": "stream",
       "stream": "stdout",
       "text": [
        "\n",
        "associate director\n",
        "navy officer"
       ]
      },
      {
       "output_type": "stream",
       "stream": "stdout",
       "text": [
        "\n",
        "internet editor"
       ]
      },
      {
       "output_type": "stream",
       "stream": "stdout",
       "text": [
        "\n",
        "playwright and director"
       ]
      },
      {
       "output_type": "stream",
       "stream": "stdout",
       "text": [
        "\n",
        "personal success coach\n",
        "administrative assistant and father"
       ]
      },
      {
       "output_type": "stream",
       "stream": "stdout",
       "text": [
        "\n",
        "homemaker and missionary\n",
        "land protection specialist\n",
        "arts administrator\n",
        "research editor\n",
        "editorial director\n",
        "congressional aide"
       ]
      },
      {
       "output_type": "stream",
       "stream": "stdout",
       "text": [
        "\n",
        "travel agent and travel writer\n",
        "self-proclaimed gadabout\n",
        "morning show radio producer\n",
        "personal assistant"
       ]
      },
      {
       "output_type": "stream",
       "stream": "stdout",
       "text": [
        "\n",
        "airline and cruise scheduler\n",
        "railroad chef\n",
        "customer relations specialist\n",
        "medical secretary\n",
        "former governor\n",
        "author and radio talk show host\n",
        "collections account manager"
       ]
      },
      {
       "output_type": "stream",
       "stream": "stdout",
       "text": [
        "\n",
        "lieutenant commander in the u.s. navy\n",
        "golf greenskeeper\n",
        "civil servant"
       ]
      },
      {
       "output_type": "stream",
       "stream": "stdout",
       "text": [
        "\n",
        "director of information services\n",
        "product developer & designer\n",
        "metal artist and fabricator\n",
        "clinical support specialist"
       ]
      },
      {
       "output_type": "stream",
       "stream": "stdout",
       "text": [
        "\n",
        "after-school program coach\n",
        "contract specialist\n",
        "civil liberties lawyer\n",
        "digital librarian"
       ]
      },
      {
       "output_type": "stream",
       "stream": "stdout",
       "text": [
        "\n",
        "lawyer and homemaker\n",
        "hospice chaplain\n",
        "investment analyst"
       ]
      },
      {
       "output_type": "stream",
       "stream": "stdout",
       "text": [
        "\n",
        "associate editor\n",
        "box office manager\n",
        "dj and bar trivia host\n",
        "arts administrator"
       ]
      },
      {
       "output_type": "stream",
       "stream": "stdout",
       "text": [
        "\n",
        "study abroad program coordinator\n",
        "quality control manager\n",
        "legal staffing specialist\n",
        "ph.d. candidate and part-time bank teller\n",
        "chef and hotel manager\n",
        "director of photography"
       ]
      },
      {
       "output_type": "stream",
       "stream": "stdout",
       "text": [
        "\n",
        "writer and producer\n",
        "catering coordinator"
       ]
      },
      {
       "output_type": "stream",
       "stream": "stdout",
       "text": [
        "\n",
        "certified dog trainer\n",
        "chemical and materials engineer\n",
        "legislative aide\n",
        "elementary school librarian"
       ]
      },
      {
       "output_type": "stream",
       "stream": "stdout",
       "text": [
        "\n",
        "exhibit developer\n",
        "costume shop supervisor\n",
        "science writer\n",
        "investment manager\n",
        "health policy analyst"
       ]
      },
      {
       "output_type": "stream",
       "stream": "stdout",
       "text": [
        "\n",
        "united states marine corps major\n",
        "senior personnel specialist\n",
        "technical specialist\n",
        "geographic information systems specialist"
       ]
      },
      {
       "output_type": "stream",
       "stream": "stdout",
       "text": [
        "\n",
        "clinical social worker\n",
        "assistant director\n",
        "museum education coordinator\n",
        "emergency police dispatcher\n",
        "middle school librarian\n",
        "retail assistant manager"
       ]
      },
      {
       "output_type": "stream",
       "stream": "stdout",
       "text": [
        "\n",
        "granny nanny\n",
        "music store manager\n",
        "internet technical support advisor\n",
        "stand-up comedian"
       ]
      },
      {
       "output_type": "stream",
       "stream": "stdout",
       "text": [
        "\n",
        "film executive"
       ]
      },
      {
       "output_type": "stream",
       "stream": "stdout",
       "text": [
        "\n",
        "taxpayers' service representative\n",
        "newspaper district manager\n",
        "government worker\n",
        "bank trust officer"
       ]
      },
      {
       "output_type": "stream",
       "stream": "stdout",
       "text": [
        "\n",
        "technical service manager\n",
        "professional musician"
       ]
      },
      {
       "output_type": "stream",
       "stream": "stdout",
       "text": [
        "\n",
        "director of operations\n",
        "investment analyst"
       ]
      },
      {
       "output_type": "stream",
       "stream": "stdout",
       "text": [
        "\n",
        "transit cop\n",
        "newsstand clerk\n",
        "writer and internet specialist\n",
        "writer and producer"
       ]
      },
      {
       "output_type": "stream",
       "stream": "stdout",
       "text": [
        "\n",
        "poker player and dog walker\n",
        "law enforcement analyst"
       ]
      },
      {
       "output_type": "stream",
       "stream": "stdout",
       "text": [
        "\n",
        "marketing vice president\n",
        "recycling operations specialist\n",
        "refugee affairs officer"
       ]
      },
      {
       "output_type": "stream",
       "stream": "stdout",
       "text": [
        "\n",
        "video game merchandiser\n",
        "freelance puzzle editor\n",
        "social worker and notary public\n",
        "latent print examiner"
       ]
      },
      {
       "output_type": "stream",
       "stream": "stdout",
       "text": [
        "\n",
        "interactive developer\n",
        "localization editor\n",
        "intellectual property attorney\n",
        "museum educator\n",
        "artist and administrative assistant"
       ]
      },
      {
       "output_type": "stream",
       "stream": "stdout",
       "text": [
        "\n",
        "film industry analyst\n",
        "retail specialist\n",
        "classical violist\n",
        "writer and communications strategist\n",
        "international program administrator\n",
        "systems project manager"
       ]
      },
      {
       "output_type": "stream",
       "stream": "stdout",
       "text": [
        "\n",
        "secretary and bookkeeper"
       ]
      },
      {
       "output_type": "stream",
       "stream": "stdout",
       "text": [
        "\n",
        "international freight forwarder\n",
        "environmental policy analyst\n",
        "administrative assistant and father\n",
        "army officer"
       ]
      },
      {
       "output_type": "stream",
       "stream": "stdout",
       "text": [
        "\n",
        "legislative director\n",
        "think tank director\n",
        "technology specialist\n",
        "finance supervisor"
       ]
      },
      {
       "output_type": "stream",
       "stream": "stdout",
       "text": [
        "\n",
        "real estate lawyer\n",
        "attorney and writer"
       ]
      },
      {
       "output_type": "stream",
       "stream": "stdout",
       "text": [
        "\n",
        "labor and delivery registered nurse\n",
        "proposal writer"
       ]
      },
      {
       "output_type": "stream",
       "stream": "stdout",
       "text": [
        "\n",
        "payroll specialist\n",
        "attorney and doctoral candidate\n",
        "photographer and attorney"
       ]
      },
      {
       "output_type": "stream",
       "stream": "stdout",
       "text": [
        "\n",
        "public health professional"
       ]
      },
      {
       "output_type": "stream",
       "stream": "stdout",
       "text": [
        "\n",
        "international education specialist\n",
        "project specialist\n",
        "caterer\n",
        "compliance analyst"
       ]
      },
      {
       "output_type": "stream",
       "stream": "stdout",
       "text": [
        "\n",
        "newspaper insert writer and designer\n",
        "lawyer and aspiring grant writer\n",
        "residence hall director\n",
        "art center director"
       ]
      },
      {
       "output_type": "stream",
       "stream": "stdout",
       "text": [
        "\n",
        "claims processor\n",
        "website producer\n",
        "law clerk for a federal judge\n",
        "writer and game designer"
       ]
      },
      {
       "output_type": "stream",
       "stream": "stdout",
       "text": [
        "\n",
        "software support analyst\n",
        "internet content editor\n",
        "international educator\n",
        "tv engineer"
       ]
      },
      {
       "output_type": "stream",
       "stream": "stdout",
       "text": [
        "\n",
        "implementation specialist\n",
        "director of finance and administration\n",
        "litigation attorney"
       ]
      },
      {
       "output_type": "stream",
       "stream": "stdout",
       "text": [
        "\n",
        "caterer at fairs\n",
        "grant proposal writer\n",
        "member of the u.s. army field band"
       ]
      },
      {
       "output_type": "stream",
       "stream": "stdout",
       "text": [
        "\n",
        "grant writer\n",
        "bartender and actor\n",
        "crisis intervention counselor"
       ]
      },
      {
       "output_type": "stream",
       "stream": "stdout",
       "text": [
        "\n",
        "army wife"
       ]
      },
      {
       "output_type": "stream",
       "stream": "stdout",
       "text": [
        "\n",
        "museum publicist\n",
        "oil filtration business developer\n",
        "air force officer and helicopter pilot\n",
        "head of the consumer financial protection bureau\n",
        "shovel bum\n",
        "sports business writer\n",
        "food-bank coordinator"
       ]
      },
      {
       "output_type": "stream",
       "stream": "stdout",
       "text": [
        "\n",
        "video game reviewer\n",
        "seventh-grader"
       ]
      },
      {
       "output_type": "stream",
       "stream": "stdout",
       "text": [
        "\n",
        "pc technician\n",
        "research biologist"
       ]
      },
      {
       "output_type": "stream",
       "stream": "stdout",
       "text": [
        "\n",
        "refugee resettlement coordinator\n",
        "u.s. customs manager\n",
        "human resources executive"
       ]
      },
      {
       "output_type": "stream",
       "stream": "stdout",
       "text": [
        "\n",
        "u.s. secretary of education\n",
        "bestselling novelist and practicing attorney\n",
        "episcopal priest\n",
        "legislative assistant\n",
        "housewife and writer"
       ]
      },
      {
       "output_type": "stream",
       "stream": "stdout",
       "text": [
        "\n",
        "freelance copywriter\n",
        "decorating contractor\n",
        "federal attorney\n",
        "downsize accountant"
       ]
      },
      {
       "output_type": "stream",
       "stream": "stdout",
       "text": [
        "\n",
        "educational director\n",
        "training and educational design specialist\n",
        "stamp dealer\n",
        "in-house security and web designer"
       ]
      },
      {
       "output_type": "stream",
       "stream": "stdout",
       "text": [
        "\n",
        "construction accountant\n",
        "video buyer"
       ]
      },
      {
       "output_type": "stream",
       "stream": "stdout",
       "text": [
        "\n",
        "sports copy editor\n",
        "marketing research manager\n",
        "entrepreneur"
       ]
      },
      {
       "output_type": "stream",
       "stream": "stdout",
       "text": [
        "\n",
        "corporate researcher\n",
        "actor and writer\n",
        "model aircraft engine technician\n",
        "college championship winner\n",
        "metrologist"
       ]
      },
      {
       "output_type": "stream",
       "stream": "stdout",
       "text": [
        "\n",
        "technical instructor\n",
        "bilingual language development specialist\n",
        "cable news producer\n",
        "independent filmmaker\n",
        "mechanical and electrical drafter"
       ]
      },
      {
       "output_type": "stream",
       "stream": "stdout",
       "text": [
        "\n",
        "medical research technician\n",
        "disc jockey\n",
        "website manager"
       ]
      },
      {
       "output_type": "stream",
       "stream": "stdout",
       "text": [
        "\n",
        "physics and astronomy instructor\n",
        "early child-development specialist"
       ]
      },
      {
       "output_type": "stream",
       "stream": "stdout",
       "text": [
        "\n",
        "analyst for the secret service\n",
        "publication editor\n",
        "playwright, actor, and director"
       ]
      },
      {
       "output_type": "stream",
       "stream": "stdout",
       "text": [
        "\n",
        "higher-education administrator\n",
        "criminal defense attorney\n",
        "data scientist\n",
        "federal civil servant\n",
        "tax auditor\n",
        "data conversion operator"
       ]
      },
      {
       "output_type": "stream",
       "stream": "stdout",
       "text": [
        "\n",
        "actor and photographer\n",
        "credit underwriter"
       ]
      },
      {
       "output_type": "stream",
       "stream": "stdout",
       "text": [
        "\n",
        "nanotechnology scientist\n",
        "public health physician\n",
        "atm support technician\n",
        "specialist for the national center on tribal childcare\n",
        "purchasing distributor\n",
        "apple farmer\n",
        "communications coordinator\n",
        "project manager in health care\n",
        "human resources evaluator\n",
        "hospital librarian\n",
        "baseball card proofreader"
       ]
      },
      {
       "output_type": "stream",
       "stream": "stdout",
       "text": [
        "\n",
        "postdoctoral researcher\n",
        "comedian and a writer\n",
        "bookbuyer\n",
        "lawyer and seniors tournament winner\n",
        "editorial analyst"
       ]
      },
      {
       "output_type": "stream",
       "stream": "stdout",
       "text": [
        "\n",
        "minister and sales representative\n",
        "state court judge"
       ]
      },
      {
       "output_type": "stream",
       "stream": "stdout",
       "text": [
        "\n",
        "human resources executive\n",
        "technical support specialist\n",
        "household and commercial mover"
       ]
      },
      {
       "output_type": "stream",
       "stream": "stdout",
       "text": [
        "\n",
        "professional organizer\n",
        "finance manager\n",
        "regional financial officer\n",
        "banking vice president\n",
        "software support specialist\n",
        "career center manager\n",
        "lieutenant colonel"
       ]
      },
      {
       "output_type": "stream",
       "stream": "stdout",
       "text": [
        "\n",
        "environmental manager\n",
        "museum exhibit designer"
       ]
      },
      {
       "output_type": "stream",
       "stream": "stdout",
       "text": [
        "\n",
        "props master\n",
        "travel accountant\n",
        "aspiring chef\n",
        "billing manager\n",
        "door person"
       ]
      },
      {
       "output_type": "stream",
       "stream": "stdout",
       "text": [
        "\n",
        "voice talent\n",
        "procurement analyst\n",
        "manuscript cataloguer\n",
        "assistant dean\n",
        "college administrator"
       ]
      },
      {
       "output_type": "stream",
       "stream": "stdout",
       "text": [
        "\n",
        "homemaker and writer\n",
        "actuarial technician\n",
        "ragtime piano player"
       ]
      },
      {
       "output_type": "stream",
       "stream": "stdout",
       "text": [
        "\n",
        "game designer\n",
        "remittance processing clerk"
       ]
      },
      {
       "output_type": "stream",
       "stream": "stdout",
       "text": [
        "\n",
        "roboticist\n",
        "web application developer\n",
        "mother and home educator\n",
        "international relations specialist\n",
        "master control operator\n",
        "freelance writer and stand-up comedian\n",
        "u.s. navy flight officer\n",
        "director of technical assistance"
       ]
      },
      {
       "output_type": "stream",
       "stream": "stdout",
       "text": [
        "\n",
        "university course administrator\n",
        "senior law enforcement support technician\n",
        "territory manager\n",
        "gardener\n",
        "freelance illustrator\n",
        "director of market research\n",
        "preloader"
       ]
      },
      {
       "output_type": "stream",
       "stream": "stdout",
       "text": [
        "\n",
        "engineering reports clerk\n",
        "contamination control technician"
       ]
      },
      {
       "output_type": "stream",
       "stream": "stdout",
       "text": [
        "\n",
        "online marketing executive\n",
        "jazz radio station development director\n",
        "creative director"
       ]
      },
      {
       "output_type": "stream",
       "stream": "stdout",
       "text": [
        "\n",
        "documentary researcher\n",
        "vending route driver\n",
        "state department employee\n",
        "environmental chemist\n",
        "radio show production intern\n",
        "recreational coordinator\n",
        "property specialist"
       ]
      },
      {
       "output_type": "stream",
       "stream": "stdout",
       "text": [
        "\n",
        "college champion\n",
        "it programmer\n",
        "art dealer"
       ]
      },
      {
       "output_type": "stream",
       "stream": "stdout",
       "text": [
        "\n",
        "3-d animator\n",
        "import specialist\n",
        "marketing coordinator"
       ]
      },
      {
       "output_type": "stream",
       "stream": "stdout",
       "text": [
        "\n",
        "filmmaker\n",
        "high school administrator\n",
        "public health program coordinator"
       ]
      },
      {
       "output_type": "stream",
       "stream": "stdout",
       "text": [
        "\n",
        "associate director of policy\n",
        "editor and proofreader\n",
        "wife and mother\n",
        "custodial facilitator"
       ]
      },
      {
       "output_type": "stream",
       "stream": "stdout",
       "text": [
        "\n",
        "academic services coordinator\n",
        "it administrator\n",
        "newspaper copy editor and blogger\n",
        "game designer and writer\n",
        "records manager\n",
        "research editor"
       ]
      },
      {
       "output_type": "stream",
       "stream": "stdout",
       "text": [
        "\n",
        "flea merchant\n",
        "golf magazine publisher"
       ]
      },
      {
       "output_type": "stream",
       "stream": "stdout",
       "text": [
        "\n",
        "part-time bookkeeper\n",
        "public radio news reporter\n",
        "corporate affairs manager\n",
        "writer and poet"
       ]
      },
      {
       "output_type": "stream",
       "stream": "stdout",
       "text": [
        "\n",
        "radio programmer\n",
        "business school administrator\n",
        "rental car agent\n",
        "researcher and writer\n",
        "writer and bookseller"
       ]
      },
      {
       "output_type": "stream",
       "stream": "stdout",
       "text": [
        "\n",
        "author and business owner\n",
        "graduate law clerk\n",
        "environmental resource manager\n",
        "employee communication specialist\n",
        "sweater manufacturer"
       ]
      },
      {
       "output_type": "stream",
       "stream": "stdout",
       "text": [
        "\n",
        "minister and writer"
       ]
      },
      {
       "output_type": "stream",
       "stream": "stdout",
       "text": [
        "\n",
        "historic interpreter\n",
        "marketing coordinator\n",
        "web page designer\n",
        "registered dietician\n",
        "singer/songwriter"
       ]
      },
      {
       "output_type": "stream",
       "stream": "stdout",
       "text": [
        "\n",
        "infectious disease epidemiologist"
       ]
      },
      {
       "output_type": "stream",
       "stream": "stdout",
       "text": [
        "\n",
        "office manager and record producer\n",
        "admissions counselor\n",
        "paralegal and classical singer\n",
        "writer and producer\n",
        "sports writer"
       ]
      },
      {
       "output_type": "stream",
       "stream": "stdout",
       "text": [
        "\n",
        "bioscience ph.d. program applicant\n",
        "u.s. army captain"
       ]
      },
      {
       "output_type": "stream",
       "stream": "stdout",
       "text": [
        "\n",
        "art dealer\n",
        "greeting card manufacturer\n",
        "theater technician and actor\n",
        "travel video producer\n",
        "interlibrary loan assistant\n",
        "factory worker"
       ]
      },
      {
       "output_type": "stream",
       "stream": "stdout",
       "text": [
        "\n",
        "gis planner\n",
        "coffee shop manager\n",
        "features editor\n",
        "international trade reporter\n",
        "e-mail administrator"
       ]
      },
      {
       "output_type": "stream",
       "stream": "stdout",
       "text": [
        "\n",
        "urban planning lawyer"
       ]
      },
      {
       "output_type": "stream",
       "stream": "stdout",
       "text": [
        "\n",
        "athletic director\n",
        "vintage clothing store owner\n",
        "assistant principal"
       ]
      },
      {
       "output_type": "stream",
       "stream": "stdout",
       "text": [
        "\n",
        "legislative assistant\n",
        "business system analyst"
       ]
      },
      {
       "output_type": "stream",
       "stream": "stdout",
       "text": [
        "\n",
        "news researcher\n",
        "educational facilitator"
       ]
      },
      {
       "output_type": "stream",
       "stream": "stdout",
       "text": [
        "\n",
        "private equity analyst\n",
        "publishing marketer\n",
        "communications coach"
       ]
      },
      {
       "output_type": "stream",
       "stream": "stdout",
       "text": [
        "\n",
        "museum registrar\n",
        "online editor\n",
        "data modeler"
       ]
      },
      {
       "output_type": "stream",
       "stream": "stdout",
       "text": [
        "\n",
        "database developer and writer\n",
        "sales support manager"
       ]
      },
      {
       "output_type": "stream",
       "stream": "stdout",
       "text": [
        "\n",
        "call center supervisor\n",
        "generating station operator\n",
        "playwright and actor\n",
        "part-time pizza maker\n",
        "hospice medical director\n",
        "insurance office manager\n",
        "university fundraiser"
       ]
      },
      {
       "output_type": "stream",
       "stream": "stdout",
       "text": [
        "\n",
        "attorney and real estate appraiser\n",
        "warehouse associate\n",
        "tutoring coordinator\n",
        "partner in a start-up company"
       ]
      },
      {
       "output_type": "stream",
       "stream": "stdout",
       "text": [
        "\n",
        "manufacturer\n",
        "lieutenant in the united states navy\n",
        "caterer\n",
        "ballroom dance instructor"
       ]
      },
      {
       "output_type": "stream",
       "stream": "stdout",
       "text": [
        "\n",
        "english language tutor\n",
        "policy and research analyst\n",
        "conservation journalist and pet-sitter\n",
        "educational travel coordinator"
       ]
      },
      {
       "output_type": "stream",
       "stream": "stdout",
       "text": [
        "\n",
        "navy helicopter pilot\n",
        "study abroad adviser"
       ]
      },
      {
       "output_type": "stream",
       "stream": "stdout",
       "text": [
        "\n",
        "academic counselor\n",
        "water engineer\n",
        "attorney and law clerk to a judge"
       ]
      },
      {
       "output_type": "stream",
       "stream": "stdout",
       "text": [
        "\n",
        "advertising creative director\n",
        "software writer\n",
        "writer & editor"
       ]
      },
      {
       "output_type": "stream",
       "stream": "stdout",
       "text": [
        "\n",
        "advertising advisor\n",
        "high school guidance counselor"
       ]
      },
      {
       "output_type": "stream",
       "stream": "stdout",
       "text": [
        "\n",
        "former pro basketball player and actor\n",
        "front services manager"
       ]
      },
      {
       "output_type": "stream",
       "stream": "stdout",
       "text": [
        "\n",
        "attorney for a legal nonprofit\n",
        "voiceover artist and actor\n",
        "accounting assistant"
       ]
      },
      {
       "output_type": "stream",
       "stream": "stdout",
       "text": [
        "\n",
        "appellate lawyer\n",
        "voice actor"
       ]
      },
      {
       "output_type": "stream",
       "stream": "stdout",
       "text": [
        "\n",
        "administrative support person\n",
        "burrito architect"
       ]
      },
      {
       "output_type": "stream",
       "stream": "stdout",
       "text": [
        "\n",
        "business process analyst\n",
        "film festival programmer"
       ]
      },
      {
       "output_type": "stream",
       "stream": "stdout",
       "text": [
        "\n",
        "academic outreach librarian\n",
        "nurse and \"mr. mom\"\n",
        "writer-producer"
       ]
      },
      {
       "output_type": "stream",
       "stream": "stdout",
       "text": [
        "\n",
        "program assistant"
       ]
      },
      {
       "output_type": "stream",
       "stream": "stdout",
       "text": [
        "\n",
        "orchid specialist\n",
        "part-time licensing assistant\n",
        "web design manager"
       ]
      },
      {
       "output_type": "stream",
       "stream": "stdout",
       "text": [
        "\n",
        "bond salesman\n",
        "instructional designer\n",
        "chief financial officer\n",
        "data analyst\n",
        "medical secretary\n",
        "non-profit administrator"
       ]
      },
      {
       "output_type": "stream",
       "stream": "stdout",
       "text": [
        "\n",
        "policy analyst\n",
        "homemaker, writer, and editor\n",
        "casino worker\n",
        "technical service manager"
       ]
      },
      {
       "output_type": "stream",
       "stream": "stdout",
       "text": [
        "\n",
        "grocery clerk\n",
        "freelance editor, writer and reporter\n",
        "community activist\n",
        "software entrepreneur\n",
        "freelance copy editor and movie theater manager"
       ]
      },
      {
       "output_type": "stream",
       "stream": "stdout",
       "text": [
        "\n",
        "airline employee\n",
        "forensic accountant"
       ]
      },
      {
       "output_type": "stream",
       "stream": "stdout",
       "text": [
        "\n",
        "comedian and actor\n",
        "singer and actor\n",
        "online producer"
       ]
      },
      {
       "output_type": "stream",
       "stream": "stdout",
       "text": [
        "\n",
        "bookstore manager and actor\n",
        "web animator"
       ]
      },
      {
       "output_type": "stream",
       "stream": "stdout",
       "text": [
        "\n",
        "sales assistant\n",
        "counselor and librarian\n",
        "flavor chemist\n",
        "customer service technician\n",
        "homemaker and mom\n",
        "catholic priest\n",
        "church sexton\n",
        "data analyst\n",
        "hospice nurse\n",
        "film preservationist\n",
        "hotel front desk manager\n",
        "document specialist\n",
        "historical researcher and writer\n",
        "data processor and an actor"
       ]
      },
      {
       "output_type": "stream",
       "stream": "stdout",
       "text": [
        "\n",
        "judicial assistant\n",
        "equal opportunity manager"
       ]
      },
      {
       "output_type": "stream",
       "stream": "stdout",
       "text": [
        "\n",
        "director of a public policy think tank\n",
        "project assistant\n",
        "publications coordinator\n",
        "landscape painter"
       ]
      },
      {
       "output_type": "stream",
       "stream": "stdout",
       "text": [
        "\n",
        "web assistant\n",
        "digital marketer"
       ]
      },
      {
       "output_type": "stream",
       "stream": "stdout",
       "text": [
        "\n",
        "typesetter\n",
        "state department attorney\n",
        "college administrator\n",
        "insurance filings analyst\n",
        "film preservationist\n",
        "legislative aide"
       ]
      },
      {
       "output_type": "stream",
       "stream": "stdout",
       "text": [
        "\n",
        "government secretary\n",
        "radio host and producer\n",
        "psychologist and university counseling center director\n",
        "dean's assistant\n",
        "singer-songwriter\n",
        "archives assistant"
       ]
      },
      {
       "output_type": "stream",
       "stream": "stdout",
       "text": [
        "\n",
        "agricultural researcher"
       ]
      },
      {
       "output_type": "stream",
       "stream": "stdout",
       "text": [
        "\n",
        "information officer\n",
        "test systems analyst\n",
        "state and local planning coordinator"
       ]
      },
      {
       "output_type": "stream",
       "stream": "stdout",
       "text": [
        "\n",
        "trade compliance specialist"
       ]
      },
      {
       "output_type": "stream",
       "stream": "stdout",
       "text": [
        "\n",
        "air force contracting officer\n",
        "product development manager\n",
        "senior website producer\n",
        "nonprofit professional\n",
        "temporary executive assistant\n",
        "art historian"
       ]
      },
      {
       "output_type": "stream",
       "stream": "stdout",
       "text": [
        "\n",
        "actor and musician\n",
        "author and foreign affairs columnist"
       ]
      },
      {
       "output_type": "stream",
       "stream": "stdout",
       "text": [
        "\n",
        "food safety inspector\n",
        "mixed animal veterinarian\n",
        "tutor and musician\n",
        "university honors program manager"
       ]
      },
      {
       "output_type": "stream",
       "stream": "stdout",
       "text": [
        "\n",
        "science policy fellow\n",
        "system developer\n",
        "fertilizer market manager\n",
        "musician and a composer\n",
        "training officer\n",
        "college library director"
       ]
      },
      {
       "output_type": "stream",
       "stream": "stdout",
       "text": [
        "\n",
        "high school college counselor"
       ]
      },
      {
       "output_type": "stream",
       "stream": "stdout",
       "text": [
        "\n",
        "environmental policy specialist\n",
        "state fraud manager\n",
        "special assistant\n",
        "television editor"
       ]
      },
      {
       "output_type": "stream",
       "stream": "stdout",
       "text": [
        "\n",
        "chief financial officer\n",
        "assistant functions coordinator"
       ]
      },
      {
       "output_type": "stream",
       "stream": "stdout",
       "text": [
        "\n",
        "aspiring screenwriter\n",
        "state filings analyst"
       ]
      },
      {
       "output_type": "stream",
       "stream": "stdout",
       "text": [
        "\n",
        "support center analyst\n",
        "retailer & importer\n",
        "marketing communications firm owner"
       ]
      },
      {
       "output_type": "stream",
       "stream": "stdout",
       "text": [
        "\n",
        "fraud investigator and singer-songwriter\n",
        "pop music critic\n",
        "college tournament winner\n",
        "optometrist and 1992 seniors tournament champion"
       ]
      },
      {
       "output_type": "stream",
       "stream": "stdout",
       "text": [
        "\n",
        "vp of sales\n",
        "assistant editor\n",
        "stagehand and receptionist\n",
        "investment analyst"
       ]
      },
      {
       "output_type": "stream",
       "stream": "stdout",
       "text": [
        "\n",
        "tv quiz show host\n",
        "tech advisor"
       ]
      },
      {
       "output_type": "stream",
       "stream": "stdout",
       "text": [
        "\n",
        "army captain\n",
        "independent contractor"
       ]
      },
      {
       "output_type": "stream",
       "stream": "stdout",
       "text": [
        "\n",
        "commercial real estate executive\n",
        "patent attorney\n",
        "assistant director of admissions\n",
        "scholarship program coordinator"
       ]
      },
      {
       "output_type": "stream",
       "stream": "stdout",
       "text": [
        "\n",
        "wine-cellar rat\n",
        "client-relations director\n",
        "food media writer\n",
        "sales coordinator\n",
        "housewife and freelance seamstress"
       ]
      },
      {
       "output_type": "stream",
       "stream": "stdout",
       "text": [
        "\n",
        "auto body and paint shop owner\n",
        "actor and comedian\n",
        "picture researcher\n",
        "military analyst"
       ]
      },
      {
       "output_type": "stream",
       "stream": "stdout",
       "text": [
        "\n",
        "family law attorney\n",
        "legal editor\n",
        "clothier\n",
        "composer and musician\n",
        "congressional staffer\n",
        "part-time video editor\n",
        "energy analyst\n",
        "history and biology major\n",
        "tv writer"
       ]
      },
      {
       "output_type": "stream",
       "stream": "stdout",
       "text": [
        "\n",
        "country singer"
       ]
      },
      {
       "output_type": "stream",
       "stream": "stdout",
       "text": [
        "\n",
        "freelance translator\n",
        "risk manager"
       ]
      },
      {
       "output_type": "stream",
       "stream": "stdout",
       "text": [
        "\n",
        "marketing coordinator\n",
        "agricultural researcher\n",
        "symphony orchestra publicist\n",
        "policy analyst\n",
        "freelance video producer"
       ]
      },
      {
       "output_type": "stream",
       "stream": "stdout",
       "text": [
        "\n",
        "singer and actor\n",
        "textbook editor\n",
        "appeal and grievance analyst\n",
        "research chemist\n",
        "country club concierge\n",
        "manager of corporate and foundation relations at a music school"
       ]
      },
      {
       "output_type": "stream",
       "stream": "stdout",
       "text": [
        "\n",
        "actor and tv writer\n",
        "public information officer\n",
        "therapist and academic coach\n",
        "performance artist\n",
        "arts and culture journalist\n",
        "color separator"
       ]
      },
      {
       "output_type": "stream",
       "stream": "stdout",
       "text": [
        "\n",
        "curatorial assistant\n",
        "hot dog vendor\n",
        "political humorist\n",
        "venture capitalist"
       ]
      },
      {
       "output_type": "stream",
       "stream": "stdout",
       "text": [
        "\n",
        "peace officer and firefighter\n",
        "writer and script reader\n",
        "director of prospect development\n",
        "television executive\n",
        "claims authorizer"
       ]
      },
      {
       "output_type": "stream",
       "stream": "stdout",
       "text": [
        "\n",
        "advertising writer\n",
        "data management specialist\n",
        "senior programmer analyst"
       ]
      },
      {
       "output_type": "stream",
       "stream": "stdout",
       "text": [
        "\n",
        "track & field coach\n",
        "real estate and business lawyer\n",
        "federal employee\n",
        "sports writer"
       ]
      },
      {
       "output_type": "stream",
       "stream": "stdout",
       "text": [
        "\n",
        "features editor\n",
        "high school assistant principal\n",
        "attorney and part-time traffic court judge"
       ]
      },
      {
       "output_type": "stream",
       "stream": "stdout",
       "text": [
        "\n",
        "director of human resources"
       ]
      },
      {
       "output_type": "stream",
       "stream": "stdout",
       "text": [
        "\n",
        "government attorney\n",
        "molecular epidemiologist\n",
        "television programmer\n",
        "private equity professional"
       ]
      },
      {
       "output_type": "stream",
       "stream": "stdout",
       "text": [
        "\n",
        "surf school manager\n",
        "education researcher\n",
        "radiological controls technician"
       ]
      },
      {
       "output_type": "stream",
       "stream": "stdout",
       "text": [
        "\n",
        "u.s. army specialist\n",
        "literacy tutor\n",
        "arts administrator"
       ]
      },
      {
       "output_type": "stream",
       "stream": "stdout",
       "text": [
        "\n",
        "box office clerk\n",
        "insurance executive\n",
        "school-to-work coordinator"
       ]
      },
      {
       "output_type": "stream",
       "stream": "stdout",
       "text": [
        "\n",
        "self-employed businessman\n",
        "telecommunications engineer\n",
        "radio traffic manager\n",
        "closed captioner\n",
        "certified legal assistant\n",
        "mastering technician\n",
        "er physician\n",
        "bookstore department manager\n",
        "protocol systems coordinator"
       ]
      },
      {
       "output_type": "stream",
       "stream": "stdout",
       "text": [
        "\n",
        "school board member"
       ]
      },
      {
       "output_type": "stream",
       "stream": "stdout",
       "text": [
        "\n",
        "journalist and author\n",
        "translation coordinator\n",
        "lawyer for a nonprofit\n",
        "medical malpractice attorney\n",
        "assistant federal public defender\n",
        "nonprofit policy researcher"
       ]
      },
      {
       "output_type": "stream",
       "stream": "stdout",
       "text": [
        "\n",
        "canadian program executive\n",
        "bookseller and trivia host\n",
        "vice president of network management\n",
        "actor and improviser\n",
        "homemaker and ph.d. candidate\n",
        "travel writer"
       ]
      },
      {
       "output_type": "stream",
       "stream": "stdout",
       "text": [
        "\n",
        "professional volunteer\n",
        "mom and assistant editor"
       ]
      },
      {
       "output_type": "stream",
       "stream": "stdout",
       "text": [
        "\n",
        "children's encyclopedia editor\n",
        "freight courier\n",
        "bookseller and writer\n",
        "writer and actor"
       ]
      },
      {
       "output_type": "stream",
       "stream": "stdout",
       "text": [
        "\n",
        "university chaplain\n",
        "education program director"
       ]
      },
      {
       "output_type": "stream",
       "stream": "stdout",
       "text": [
        "\n",
        "postdoctoral research associate\n",
        "museum collections manager\n",
        "minister and police chaplain"
       ]
      },
      {
       "output_type": "stream",
       "stream": "stdout",
       "text": [
        "\n",
        "technical writer and aerobics instructor\n",
        "franchise owner\n",
        "musician and songwriter"
       ]
      },
      {
       "output_type": "stream",
       "stream": "stdout",
       "text": [
        "\n",
        "law school graduate\n",
        "laboratory manager\n",
        "import specialist\n",
        "presbyterian pastor\n",
        "mother and homemaker\n",
        "video game tester and camp counselor\n",
        "news assistant\n",
        "owner of a tutoring and test-prep business"
       ]
      },
      {
       "output_type": "stream",
       "stream": "stdout",
       "text": [
        "\n",
        "writer and a journalist\n",
        "video technician\n",
        "writer/editor\n",
        "affordable housing analyst\n",
        "nurse practicioner"
       ]
      },
      {
       "output_type": "stream",
       "stream": "stdout",
       "text": [
        "\n",
        "toy engineer\n",
        "middle school secretary\n",
        "webmaster\n",
        "attorney for a nonprofit\n",
        "county tax clerk"
       ]
      },
      {
       "output_type": "stream",
       "stream": "stdout",
       "text": [
        "\n",
        "fund raiser for a non-profit\n",
        "program analyst\n",
        "part-time lawyer\n",
        "newspaper publisher and editor\n",
        "triathlon coach  and entrepreneur"
       ]
      },
      {
       "output_type": "stream",
       "stream": "stdout",
       "text": [
        "\n",
        "ph.d. candidate in greek literature\n",
        "assistant pool league operator\n",
        "newswriter and editor\n",
        "school cafeteria worker\n",
        "budget director\n",
        "data processor"
       ]
      },
      {
       "output_type": "stream",
       "stream": "stdout",
       "text": [
        "\n",
        "translator and auditor\n",
        "pediatrics resident\n",
        "community newspaper editor"
       ]
      },
      {
       "output_type": "stream",
       "stream": "stdout",
       "text": [
        "\n",
        "legal text editor\n",
        "ammunitions instructor\n",
        "brand strategist"
       ]
      },
      {
       "output_type": "stream",
       "stream": "stdout",
       "text": [
        "\n",
        "material scientist\n",
        "cpa and financial officer\n",
        "it director\n",
        "actor and musician"
       ]
      },
      {
       "output_type": "stream",
       "stream": "stdout",
       "text": [
        "\n",
        "planning analyst\n",
        "public relations and marketing manager\n",
        "originally\n",
        "diet book author\n",
        "writer and actor\n",
        "metaphysical bookstore clerk"
       ]
      },
      {
       "output_type": "stream",
       "stream": "stdout",
       "text": [
        "\n",
        "telecommunications policy analyst\n",
        "video game user testing manager\n",
        "instructional designer\n",
        "access services and systems librarian"
       ]
      },
      {
       "output_type": "stream",
       "stream": "stdout",
       "text": [
        "\n",
        "manager for an executive search firm\n",
        "marketing and design associate\n",
        "university admissions officer\n",
        "art librarian"
       ]
      },
      {
       "output_type": "stream",
       "stream": "stdout",
       "text": [
        "\n",
        "arts administrator\n",
        "government attorney\n",
        "analyst for the federal government"
       ]
      },
      {
       "output_type": "stream",
       "stream": "stdout",
       "text": [
        "\n",
        "dealer service representative"
       ]
      },
      {
       "output_type": "stream",
       "stream": "stdout",
       "text": [
        "\n",
        "former probation officer and mom\n",
        "environmental compliance specialist"
       ]
      },
      {
       "output_type": "stream",
       "stream": "stdout",
       "text": [
        "\n",
        "family literacy program manager\n",
        "public health official\n",
        "english department chairperson"
       ]
      },
      {
       "output_type": "stream",
       "stream": "stdout",
       "text": [
        "\n",
        "medical clerk\n",
        "criminal records supervisor\n",
        "database programmer\n",
        "foreign services officer"
       ]
      },
      {
       "output_type": "stream",
       "stream": "stdout",
       "text": [
        "\n",
        "educator and mother"
       ]
      },
      {
       "output_type": "stream",
       "stream": "stdout",
       "text": [
        "\n",
        "arts administrator\n",
        "educational media specialist\n",
        "program analyst"
       ]
      },
      {
       "output_type": "stream",
       "stream": "stdout",
       "text": [
        "\n",
        "school of pharmacy librarian\n",
        "teaching artist at a museum\n",
        "trauma center registration secretary\n",
        "senior systems analyst\n",
        "ph.d. candidate in english literature\n",
        "radio promotions director"
       ]
      },
      {
       "output_type": "stream",
       "stream": "stdout",
       "text": [
        "\n",
        "background investigator\n",
        "actor and copy editor\n",
        "medical lab manager\n",
        "theater manager"
       ]
      },
      {
       "output_type": "stream",
       "stream": "stdout",
       "text": [
        "\n",
        "travel specialist\n",
        "mortgage banker\n",
        "nursing tutor\n",
        "assistant to the principal"
       ]
      },
      {
       "output_type": "stream",
       "stream": "stdout",
       "text": [
        "\n",
        "foreign policy analyst\n",
        "strategic analyst\n",
        "customer-service representative"
       ]
      },
      {
       "output_type": "stream",
       "stream": "stdout",
       "text": [
        "\n",
        "science writer\n",
        "project assistant\n",
        "former criminal defense attorney"
       ]
      },
      {
       "output_type": "stream",
       "stream": "stdout",
       "text": [
        "\n",
        "quality manager\n",
        "data analyst\n",
        "customer service supervisor\n",
        "bar owner"
       ]
      },
      {
       "output_type": "stream",
       "stream": "stdout",
       "text": [
        "\n",
        "director of assessment & accountability\n",
        "personal assistant\n",
        "international development manager"
       ]
      },
      {
       "output_type": "stream",
       "stream": "stdout",
       "text": [
        "\n",
        "it evaluator\n",
        "costumer and mom\n",
        "technical support specialist"
       ]
      },
      {
       "output_type": "stream",
       "stream": "stdout",
       "text": [
        "\n",
        "information security manager\n",
        "elections and voter registration clerk"
       ]
      },
      {
       "output_type": "stream",
       "stream": "stdout",
       "text": [
        "\n",
        "oncology dietitian\n",
        "systems project manager\n",
        "research administrator"
       ]
      },
      {
       "output_type": "stream",
       "stream": "stdout",
       "text": [
        "\n",
        "travel agency owner"
       ]
      },
      {
       "output_type": "stream",
       "stream": "stdout",
       "text": [
        "\n",
        "agency manager\n",
        "originally\n",
        "technical supervisor"
       ]
      },
      {
       "output_type": "stream",
       "stream": "stdout",
       "text": [
        "\n",
        "college counselor"
       ]
      },
      {
       "output_type": "stream",
       "stream": "stdout",
       "text": [
        "\n",
        "health insurance supervisor\n",
        "puzzle editor\n",
        "federal contractor"
       ]
      },
      {
       "output_type": "stream",
       "stream": "stdout",
       "text": [
        "\n",
        "non-profit director\n",
        "strategic analyst for nasa"
       ]
      },
      {
       "output_type": "stream",
       "stream": "stdout",
       "text": [
        "\n",
        "managing copy editor\n",
        "dog rescuer"
       ]
      },
      {
       "output_type": "stream",
       "stream": "stdout",
       "text": [
        "\n",
        "immigration attorney\n",
        "educational music director\n",
        "outreach specialist"
       ]
      },
      {
       "output_type": "stream",
       "stream": "stdout",
       "text": [
        "\n",
        "businessman and attorney\n",
        "family doctor\n",
        "sports radio salesman"
       ]
      },
      {
       "output_type": "stream",
       "stream": "stdout",
       "text": [
        "\n",
        "medical research assistant\n",
        "administrative coordinator"
       ]
      },
      {
       "output_type": "stream",
       "stream": "stdout",
       "text": [
        "\n",
        "electronic publishing associate"
       ]
      },
      {
       "output_type": "stream",
       "stream": "stdout",
       "text": [
        "\n",
        "actor and homemaker"
       ]
      },
      {
       "output_type": "stream",
       "stream": "stdout",
       "text": [
        "\n",
        "licensed acupuncturist\n",
        "filmmaker"
       ]
      },
      {
       "output_type": "stream",
       "stream": "stdout",
       "text": [
        "\n",
        "chamber-of-commerce executive\n",
        "rock singer"
       ]
      },
      {
       "output_type": "stream",
       "stream": "stdout",
       "text": [
        "\n",
        "software tester\n",
        "radio broadcaster and writer\n",
        "clinical social worker\n",
        "executive recruiter"
       ]
      },
      {
       "output_type": "stream",
       "stream": "stdout",
       "text": [
        "\n",
        "actor and bookstore manager"
       ]
      },
      {
       "output_type": "stream",
       "stream": "stdout",
       "text": [
        "\n",
        "nonprofit director\n",
        "switchboard manager\n",
        "shipping manager\n",
        "wine shop manager\n",
        "marketing entrepreneur"
       ]
      },
      {
       "output_type": "stream",
       "stream": "stdout",
       "text": [
        "\n",
        "college reference librarian\n",
        "security engineer\n",
        "document services supervisor\n",
        "library public relations manager"
       ]
      },
      {
       "output_type": "stream",
       "stream": "stdout",
       "text": [
        "\n",
        "archivist for the sisters of charity\n",
        "baseball game logger\n",
        "tutor and opera singer\n",
        "steel mill systems repairman\n",
        "museum collection specialist\n",
        "software developer and hindu priest"
       ]
      },
      {
       "output_type": "stream",
       "stream": "stdout",
       "text": [
        "\n",
        "waiter and actor\n",
        "paramedic and software engineer"
       ]
      },
      {
       "output_type": "stream",
       "stream": "stdout",
       "text": [
        "\n",
        "legislative writer\n",
        "actress and comedienne\n",
        "g.i.s. technician\n",
        "legislation and outreach coordinator"
       ]
      },
      {
       "output_type": "stream",
       "stream": "stdout",
       "text": [
        "\n",
        "senior marketing representative"
       ]
      },
      {
       "output_type": "stream",
       "stream": "stdout",
       "text": [
        "\n",
        "federal claims examiner\n",
        "actor and playwright\n",
        "writer/editor\n",
        "actress and singer"
       ]
      },
      {
       "output_type": "stream",
       "stream": "stdout",
       "text": [
        "\n",
        "project accountant\n",
        "vice principal\n",
        "children's author\n",
        "academic advisor\n",
        "title researcher\n",
        "research chemist"
       ]
      },
      {
       "output_type": "stream",
       "stream": "stdout",
       "text": [
        "\n",
        "communications associate\n",
        "journalist and author\n",
        "marketing communications specialist\n",
        "radio talk show host\n",
        "international freight forwarder\n",
        "clinical social worker"
       ]
      },
      {
       "output_type": "stream",
       "stream": "stdout",
       "text": [
        "\n",
        "writer and publisher\n",
        "online worker"
       ]
      },
      {
       "output_type": "stream",
       "stream": "stdout",
       "text": [
        "\n",
        "new learner experience coordinator\n",
        "actor & writer"
       ]
      },
      {
       "output_type": "stream",
       "stream": "stdout",
       "text": [
        "\n",
        "psychoanalyst"
       ]
      },
      {
       "output_type": "stream",
       "stream": "stdout",
       "text": [
        "\n",
        "family law attorney\n",
        "congressional special assistant\n",
        "disability analyst"
       ]
      },
      {
       "output_type": "stream",
       "stream": "stdout",
       "text": [
        "\n",
        "publicity and editorial assistant\n",
        "systems developer"
       ]
      },
      {
       "output_type": "stream",
       "stream": "stdout",
       "text": [
        "\n",
        "investment advisor\n",
        "event coordinator\n",
        "pediatric emergency-room nurse\n",
        "video game quality assurance tester\n",
        "child support officer\n",
        "director of customer service"
       ]
      },
      {
       "output_type": "stream",
       "stream": "stdout",
       "text": [
        "\n",
        "news director\n",
        "claim representative\n",
        "agribusiness finance attorney\n",
        "zoo docent\n",
        "community organizer and writer\n",
        "investment analyst"
       ]
      },
      {
       "output_type": "stream",
       "stream": "stdout",
       "text": [
        "\n",
        "general litigation attorney\n",
        "writer for an online magazine\n",
        "college assistant director of admissions\n",
        "fiddler\n",
        "parish administrator\n",
        "math instructor"
       ]
      },
      {
       "output_type": "stream",
       "stream": "stdout",
       "text": [
        "\n",
        "webmaster\n",
        "director of wine education\n",
        "college archivist"
       ]
      },
      {
       "output_type": "stream",
       "stream": "stdout",
       "text": [
        "\n",
        "patent agent\n",
        "theater technician"
       ]
      },
      {
       "output_type": "stream",
       "stream": "stdout",
       "text": [
        "\n",
        "emergency medicine resident"
       ]
      },
      {
       "output_type": "stream",
       "stream": "stdout",
       "text": [
        "\n",
        "software test engineer\n",
        "opthamologist"
       ]
      },
      {
       "output_type": "stream",
       "stream": "stdout",
       "text": [
        "\n",
        "wealth management project analyst\n",
        "planning clerk\n",
        "classical radio announcer"
       ]
      },
      {
       "output_type": "stream",
       "stream": "stdout",
       "text": [
        "\n",
        "spanish instructor"
       ]
      },
      {
       "output_type": "stream",
       "stream": "stdout",
       "text": [
        "\n",
        "records officer\n",
        "investment analyst\n",
        "insurance claims investigator"
       ]
      },
      {
       "output_type": "stream",
       "stream": "stdout",
       "text": [
        "\n",
        "freelance researcher\n",
        "economic development attorney\n",
        "photographic lighting technician\n",
        "home-schooling mom"
       ]
      },
      {
       "output_type": "stream",
       "stream": "stdout",
       "text": [
        "\n",
        "aerospace technician\n",
        "surveyor's assistant\n",
        "analytics engineer\n",
        "english-as-a-second-language instructor\n",
        "abstract painter\n",
        "business-ownership coach"
       ]
      },
      {
       "output_type": "stream",
       "stream": "stdout",
       "text": [
        "\n",
        "accounting manager\n",
        "domestic goddess\n",
        "information management coordinator\n",
        "homemaker and micro farmer"
       ]
      },
      {
       "output_type": "stream",
       "stream": "stdout",
       "text": [
        "\n",
        "airborne infantry man"
       ]
      },
      {
       "output_type": "stream",
       "stream": "stdout",
       "text": [
        "\n",
        "hazardous waste compliance inspector\n",
        "army officer\n",
        "curatorial assistant"
       ]
      },
      {
       "output_type": "stream",
       "stream": "stdout",
       "text": [
        "\n",
        "arts administrator\n",
        "legal word processor"
       ]
      },
      {
       "output_type": "stream",
       "stream": "stdout",
       "text": [
        "\n",
        "typographer"
       ]
      },
      {
       "output_type": "stream",
       "stream": "stdout",
       "text": [
        "\n",
        "auto repair shop service manager\n",
        "strategic communications lead\n",
        "corporate librarian\n",
        "district manager"
       ]
      },
      {
       "output_type": "stream",
       "stream": "stdout",
       "text": [
        "\n",
        "vintage store owner\n",
        "lutheran pastor"
       ]
      },
      {
       "output_type": "stream",
       "stream": "stdout",
       "text": [
        "\n",
        "pharmaceutical representative\n",
        "writer and production coordinator\n",
        "commercial property manager\n",
        "business development manager\n",
        "sales assistant"
       ]
      },
      {
       "output_type": "stream",
       "stream": "stdout",
       "text": [
        "\n",
        "mammography technologist\n",
        "publications coordinator"
       ]
      },
      {
       "output_type": "stream",
       "stream": "stdout",
       "text": [
        "\n",
        "clinical technician\n",
        "freelance foot model\n",
        "independent contractor\n",
        "animal control dispacher"
       ]
      },
      {
       "output_type": "stream",
       "stream": "stdout",
       "text": [
        "\n",
        "researcher and writer\n",
        "assistant hospital administrator\n",
        "communications coordinator"
       ]
      },
      {
       "output_type": "stream",
       "stream": "stdout",
       "text": [
        "\n",
        "professional healthcare representative\n",
        "business writer\n",
        "surveyor and musician\n",
        "executive director\n",
        "administrative manager\n",
        "economic analyst"
       ]
      },
      {
       "output_type": "stream",
       "stream": "stdout",
       "text": [
        "\n",
        "internet security engineer\n",
        "legislative researcher\n",
        "non-profit project coordinator\n",
        "government analyst\n",
        "healthcare worker\n",
        "public relations executive"
       ]
      },
      {
       "output_type": "stream",
       "stream": "stdout",
       "text": [
        "\n",
        "director of operations of usc baseball\n",
        "arts administrator\n",
        "pet writer"
       ]
      },
      {
       "output_type": "stream",
       "stream": "stdout",
       "text": [
        "\n",
        "promotions associate\n",
        "human resources director\n",
        "scene designer"
       ]
      },
      {
       "output_type": "stream",
       "stream": "stdout",
       "text": [
        "\n",
        "librarian and graphics specialist\n",
        "ad agency account executive"
       ]
      },
      {
       "output_type": "stream",
       "stream": "stdout",
       "text": [
        "\n",
        "film critic and writer\n",
        "corporate market analyst\n",
        "event coordinator\n",
        "sample specialist\n",
        "paratrooper"
       ]
      },
      {
       "output_type": "stream",
       "stream": "stdout",
       "text": [
        "\n",
        "college admissions officer\n",
        "theatrical technical director\n",
        "wine merchant\n",
        "editor and musicologist"
       ]
      },
      {
       "output_type": "stream",
       "stream": "stdout",
       "text": [
        "\n",
        "grants and contracts coordinator\n",
        "media relations specialist and science writer\n",
        "farmers' market coordinator\n",
        "aspiring novelist"
       ]
      },
      {
       "output_type": "stream",
       "stream": "stdout",
       "text": [
        "\n",
        "health care attorney\n",
        "human resources and finance manager\n",
        "pig and chicken farmer\n",
        "online managing editor\n",
        "copyright attorney"
       ]
      },
      {
       "output_type": "stream",
       "stream": "stdout",
       "text": [
        "\n",
        "renaissance player and trivia host\n",
        "franchise business manager\n",
        "quality engineer"
       ]
      },
      {
       "output_type": "stream",
       "stream": "stdout",
       "text": [
        "\n",
        "law-enforcement specialist\n",
        "creative director\n",
        "web content producer\n",
        "customer service analyst"
       ]
      },
      {
       "output_type": "stream",
       "stream": "stdout",
       "text": [
        "\n",
        "online editor\n",
        "sportscaster\n",
        "newspaper staff writer\n",
        "stage carpenter\n",
        "freelance graphic designer"
       ]
      },
      {
       "output_type": "stream",
       "stream": "stdout",
       "text": [
        "\n",
        "pop music critic\n",
        "high school director"
       ]
      },
      {
       "output_type": "stream",
       "stream": "stdout",
       "text": [
        "\n",
        "medical administrator\n",
        "travel planner\n",
        "corporate finance manager\n",
        "public relations coordinator\n",
        "vice president of legislative relations"
       ]
      },
      {
       "output_type": "stream",
       "stream": "stdout",
       "text": [
        "\n",
        "estate and trust attorney\n",
        "software project manager\n",
        "credit specialist\n",
        "personal success coach"
       ]
      },
      {
       "output_type": "stream",
       "stream": "stdout",
       "text": [
        "\n",
        "educational development specialist\n",
        "college admissions officer\n",
        "accounts payable clerk\n",
        "high school assistant principal\n",
        "entertainment executive"
       ]
      },
      {
       "output_type": "stream",
       "stream": "stdout",
       "text": [
        "\n",
        "legislative staffer\n",
        "health scientist\n",
        "video game lawyer\n",
        "research associate\n",
        "director of volunteers at a community center\n",
        "forensic scientist\n",
        "laboratory animal veterinarian\n",
        "quality assurance manager"
       ]
      },
      {
       "output_type": "stream",
       "stream": "stdout",
       "text": [
        "\n",
        "online journalist\n",
        "senior manager"
       ]
      },
      {
       "output_type": "stream",
       "stream": "stdout",
       "text": [
        "\n",
        "tv producer"
       ]
      },
      {
       "output_type": "stream",
       "stream": "stdout",
       "text": [
        "\n",
        "sports reporter\n",
        "pathologist's assistant"
       ]
      },
      {
       "output_type": "stream",
       "stream": "stdout",
       "text": [
        "\n",
        "food pantry supervisor\n",
        "high school vice principal"
       ]
      },
      {
       "output_type": "stream",
       "stream": "stdout",
       "text": [
        "\n",
        "web programmer\n",
        "electronics broker\n",
        "freelance sportswriter\n",
        "flight controls engineer\n",
        "technology journalist\n",
        "manager of bear foundations\n",
        "human resources professional\n",
        "resident physician in internal medicine\n",
        "climate change specialist\n",
        "claims processor and sports broadcaster\n",
        "teaching artist\n",
        "university athletic department tutor"
       ]
      },
      {
       "output_type": "stream",
       "stream": "stdout",
       "text": [
        "\n",
        "mom and tutor\n",
        "freelance orchestra conductor\n",
        "communications professional\n",
        "mom and tutor\n",
        "word processing supervisor\n",
        "content manager\n",
        "academic advisor\n",
        "consulting program manager\n",
        "housewife and mother"
       ]
      },
      {
       "output_type": "stream",
       "stream": "stdout",
       "text": [
        "\n",
        "civil rights attorney"
       ]
      },
      {
       "output_type": "stream",
       "stream": "stdout",
       "text": [
        "\n",
        "associate director of consumer marketing\n",
        "museum educator\n",
        "prospect research coordinator"
       ]
      },
      {
       "output_type": "stream",
       "stream": "stdout",
       "text": [
        "\n",
        "beer merchandiser\n",
        "medical research assistant\n",
        "educational programs coordinator\n",
        "auction house manager"
       ]
      },
      {
       "output_type": "stream",
       "stream": "stdout",
       "text": [
        "\n",
        "tax lawyer\n",
        "software development director\n",
        "assistant manager\n",
        "marketing coordinator\n",
        "strategic information officer"
       ]
      },
      {
       "output_type": "stream",
       "stream": "stdout",
       "text": [
        "\n",
        "communications assistant"
       ]
      },
      {
       "output_type": "stream",
       "stream": "stdout",
       "text": [
        "\n",
        "horse trainer\n",
        "publishing sales representative\n",
        "claims representative\n",
        "full-time mom\n",
        "furniture salesman\n",
        "insurance examiner\n",
        "legislative assistant\n",
        "playwright/actor\n",
        "data analyst"
       ]
      },
      {
       "output_type": "stream",
       "stream": "stdout",
       "text": [
        "\n",
        "freelance costume designer\n",
        "test prep instructor\n",
        "investment relations associate\n",
        "magazine promotion manager\n",
        "assistant film editor"
       ]
      },
      {
       "output_type": "stream",
       "stream": "stdout",
       "text": [
        "\n",
        "office account manager\n",
        "neurologist and psychiatrist\n",
        "$3.2-million winner\n",
        "74-game champion\n",
        "television development assistant\n",
        "family doctor\n",
        "criminal lawyer\n",
        "barista and bookseller\n",
        "home decor product manager"
       ]
      },
      {
       "output_type": "stream",
       "stream": "stdout",
       "text": [
        "\n",
        "options trader\n",
        "equity analyst\n",
        "former pro baseball player"
       ]
      },
      {
       "output_type": "stream",
       "stream": "stdout",
       "text": [
        "\n",
        "home educator\n",
        "househusband"
       ]
      },
      {
       "output_type": "stream",
       "stream": "stdout",
       "text": [
        "\n",
        "academic specialist"
       ]
      },
      {
       "output_type": "stream",
       "stream": "stdout",
       "text": [
        "\n",
        "actuarial analyst"
       ]
      },
      {
       "output_type": "stream",
       "stream": "stdout",
       "text": [
        "\n",
        "roofing contractor\n",
        "presbyterian minister\n",
        "options trader\n",
        "painter and parodist\n",
        "internet entrepreneur and screenwriter\n",
        "online researcher\n",
        "licensed professional counselor\n",
        "caterer"
       ]
      },
      {
       "output_type": "stream",
       "stream": "stdout",
       "text": [
        "\n",
        "actor and writer\n",
        "internet editor\n",
        "government attorney\n",
        "government analyst\n",
        "public interest lawyer\n",
        "climate scientist"
       ]
      },
      {
       "output_type": "stream",
       "stream": "stdout",
       "text": [
        "\n",
        "assistant chorale director and test prep instructor\n",
        "software trainer\n",
        "radio announcer"
       ]
      },
      {
       "output_type": "stream",
       "stream": "stdout",
       "text": [
        "\n",
        "commercial banking relationship manager"
       ]
      },
      {
       "output_type": "stream",
       "stream": "stdout",
       "text": [
        "\n",
        "voiceover artist\n",
        "economist and actuary\n",
        "residential caregiver\n",
        "\"mr. mom\"\n",
        "finance manager\n",
        "federal it specialist"
       ]
      },
      {
       "output_type": "stream",
       "stream": "stdout",
       "text": [
        "\n",
        "nonprofit development director\n",
        "solutions support engineer"
       ]
      },
      {
       "output_type": "stream",
       "stream": "stdout",
       "text": [
        "\n",
        "attorney and physician\n",
        "chief operations officer"
       ]
      },
      {
       "output_type": "stream",
       "stream": "stdout",
       "text": [
        "\n",
        "circuit judge"
       ]
      },
      {
       "output_type": "stream",
       "stream": "stdout",
       "text": [
        "\n",
        "financial risk analyst\n",
        "senate staff aide\n",
        "theater critic"
       ]
      },
      {
       "output_type": "stream",
       "stream": "stdout",
       "text": [
        "\n",
        "compliance coordinator\n",
        "import and export manager\n",
        "marketing writer"
       ]
      },
      {
       "output_type": "stream",
       "stream": "stdout",
       "text": [
        "\n",
        "labor services representative\n",
        "compliance manager\n",
        "library technician and stage manager"
       ]
      },
      {
       "output_type": "stream",
       "stream": "stdout",
       "text": [
        "\n",
        "college music and humanities instructor\n",
        "trucking subcontractor\n",
        "regulations writer"
       ]
      },
      {
       "output_type": "stream",
       "stream": "stdout",
       "text": [
        "\n",
        "army captain\n",
        "programs manager\n",
        "industrial repair representative\n",
        "video production manager\n",
        "alternative print coordinator\n",
        "information technology manager"
       ]
      },
      {
       "output_type": "stream",
       "stream": "stdout",
       "text": [
        "\n",
        "registered nurse and childbirth educator\n",
        "web editor\n",
        "opera stage manager\n",
        "labor attorney\n",
        "civil rights attorney"
       ]
      },
      {
       "output_type": "stream",
       "stream": "stdout",
       "text": [
        "\n",
        "online organizer\n",
        "small job contractor\n",
        "communications manager\n",
        "telecom engineer\n",
        "director of development\n",
        "political fundraiser"
       ]
      },
      {
       "output_type": "stream",
       "stream": "stdout",
       "text": [
        "\n",
        "transportation analyst\n",
        "museum administrator\n",
        "non-profit communications co-ordinator\n",
        "quotation specialist\n",
        "pet store operations manager\n",
        "engineering secretary\n",
        "multimedia engineer\n",
        "storyteller"
       ]
      },
      {
       "output_type": "stream",
       "stream": "stdout",
       "text": [
        "\n",
        "air force lieutenant colonel\n",
        "army lawyer\n",
        "stand-up comedian"
       ]
      },
      {
       "output_type": "stream",
       "stream": "stdout",
       "text": [
        "\n",
        "advertising creative director\n",
        "marine scientist\n",
        "jag\n",
        "clinical psychology research fellow\n",
        "judicial research lawyer"
       ]
      },
      {
       "output_type": "stream",
       "stream": "stdout",
       "text": [
        "\n",
        "organizing fellow\n",
        "post-production coordinator\n",
        "u.s. marine corporal"
       ]
      },
      {
       "output_type": "stream",
       "stream": "stdout",
       "text": [
        "\n",
        "entrepreneur\n",
        "resident physician"
       ]
      },
      {
       "output_type": "stream",
       "stream": "stdout",
       "text": [
        "\n",
        "project administrator\n",
        "postdoctoral fellow\n",
        "simulator instructor\n",
        "real estate manager and actor"
       ]
      },
      {
       "output_type": "stream",
       "stream": "stdout",
       "text": [
        "\n",
        "senate staff aide\n",
        "postdoctoral researcher"
       ]
      },
      {
       "output_type": "stream",
       "stream": "stdout",
       "text": [
        "\n",
        "mystery writer\n",
        "air force information manager\n",
        "army family practice physician\n",
        "navy aviator\n",
        "prosecuting attorney\n",
        "project assistant"
       ]
      },
      {
       "output_type": "stream",
       "stream": "stdout",
       "text": [
        "\n",
        "stockbroker and branch manager\n",
        "strategic planning manager"
       ]
      },
      {
       "output_type": "stream",
       "stream": "stdout",
       "text": [
        "\n",
        "consulting attorney\n",
        "towboat captain\n",
        "video editor and freelance writer\n",
        "member services coordinator\n",
        "civil engineering business owner"
       ]
      },
      {
       "output_type": "stream",
       "stream": "stdout",
       "text": [
        "\n",
        "grocery clerk\n",
        "sales support specialist\n",
        "director of customer service\n",
        "college assistant"
       ]
      },
      {
       "output_type": "stream",
       "stream": "stdout",
       "text": [
        "\n",
        "import specialist\n",
        "math and science tutor"
       ]
      },
      {
       "output_type": "stream",
       "stream": "stdout",
       "text": [
        "\n",
        "health care systems specialist"
       ]
      },
      {
       "output_type": "stream",
       "stream": "stdout",
       "text": [
        "\n",
        "billing analyst\n",
        "prepress technician and ethics instructor\n",
        "legal analyst\n",
        "government analyst\n",
        "director of strategy"
       ]
      },
      {
       "output_type": "stream",
       "stream": "stdout",
       "text": [
        "\n",
        "playwright and director"
       ]
      },
      {
       "output_type": "stream",
       "stream": "stdout",
       "text": [
        "\n",
        "governmental auditor"
       ]
      },
      {
       "output_type": "stream",
       "stream": "stdout",
       "text": [
        "\n",
        "labor relations journalist\n",
        "assistant housing manager\n",
        "navy wife\n",
        "real estate salesman\n",
        "high school college prep counselor"
       ]
      },
      {
       "output_type": "stream",
       "stream": "stdout",
       "text": [
        "\n",
        "homemaker and fitness instructor\n",
        "standardized test scorer\n",
        "mother and cook"
       ]
      },
      {
       "output_type": "stream",
       "stream": "stdout",
       "text": [
        "\n",
        "environmental protection specialist\n",
        "director of international business development"
       ]
      },
      {
       "output_type": "stream",
       "stream": "stdout",
       "text": [
        "\n",
        "home builder"
       ]
      },
      {
       "output_type": "stream",
       "stream": "stdout",
       "text": [
        "\n",
        "theater scholar\n",
        "homemaker and attorney\n",
        "software test engineer\n",
        "government relations manager"
       ]
      },
      {
       "output_type": "stream",
       "stream": "stdout",
       "text": [
        "\n",
        "college advisor\n",
        "navy physician"
       ]
      },
      {
       "output_type": "stream",
       "stream": "stdout",
       "text": [
        "\n",
        "water treatment operator\n",
        "program buyer\n",
        "assistant to the principal\n",
        "quality control analyst\n",
        "web site coordinator"
       ]
      },
      {
       "output_type": "stream",
       "stream": "stdout",
       "text": [
        "\n",
        "food bank agency coordinator\n",
        "consumer new products developer\n",
        "political analyst"
       ]
      },
      {
       "output_type": "stream",
       "stream": "stdout",
       "text": [
        "\n",
        "regulatory association spokeswoman\n",
        "executive director for a nonprofit"
       ]
      },
      {
       "output_type": "stream",
       "stream": "stdout",
       "text": [
        "\n",
        "middle school vice-principal\n",
        "small business manager"
       ]
      },
      {
       "output_type": "stream",
       "stream": "stdout",
       "text": [
        "\n",
        "judicial assistant\n",
        "musician and actor\n",
        "state department employee\n",
        "fraud investigator\n",
        "catering assistant"
       ]
      },
      {
       "output_type": "stream",
       "stream": "stdout",
       "text": [
        "\n",
        "safety & human resources assistant"
       ]
      },
      {
       "output_type": "stream",
       "stream": "stdout",
       "text": [
        "\n",
        "claims representative"
       ]
      },
      {
       "output_type": "stream",
       "stream": "stdout",
       "text": [
        "\n",
        "vice president of marketing\n",
        "intellectual property attorney"
       ]
      },
      {
       "output_type": "stream",
       "stream": "stdout",
       "text": [
        "\n",
        "online editor\n",
        "census field representative\n",
        "corporate controller\n",
        "resident physician\n",
        "freelance educator"
       ]
      },
      {
       "output_type": "stream",
       "stream": "stdout",
       "text": [
        "\n",
        "litigator\n",
        "municipal court clerk"
       ]
      },
      {
       "output_type": "stream",
       "stream": "stdout",
       "text": [
        "\n",
        "polymer chemist\n",
        "public relations coordinator"
       ]
      },
      {
       "output_type": "stream",
       "stream": "stdout",
       "text": [
        "\n",
        "records evaluator\n",
        "documentary filmmaker\n",
        "public library assistant\n",
        "actor and office worker\n",
        "website developer\n",
        "actor, tv producer and movie director"
       ]
      },
      {
       "output_type": "stream",
       "stream": "stdout",
       "text": [
        "\n",
        "math tutor\n",
        "clerical worker\n",
        "marketing research vice president\n",
        "pharmaceutical territory manager\n",
        "online editor"
       ]
      },
      {
       "output_type": "stream",
       "stream": "stdout",
       "text": [
        "\n",
        "ph.d entomologist\n",
        "insurance administrator\n",
        "publications coordinator"
       ]
      },
      {
       "output_type": "stream",
       "stream": "stdout",
       "text": [
        "\n",
        "quality assurance engineer\n",
        "marketing communications manager\n",
        "laboratory supervisor"
       ]
      },
      {
       "output_type": "stream",
       "stream": "stdout",
       "text": [
        "\n",
        "creative director\n",
        "resident physician"
       ]
      },
      {
       "output_type": "stream",
       "stream": "stdout",
       "text": [
        "\n",
        "writer and mom\n",
        "guitar instructor"
       ]
      },
      {
       "output_type": "stream",
       "stream": "stdout",
       "text": [
        "\n",
        "grocery store chain administrative assistant\n",
        "phone company line technician\n",
        "superior court judge\n",
        "insurance company clerk\n",
        "advertising creative director"
       ]
      },
      {
       "output_type": "stream",
       "stream": "stdout",
       "text": [
        "\n",
        "personal trust officer\n",
        "home-sale account executive"
       ]
      },
      {
       "output_type": "stream",
       "stream": "stdout",
       "text": [
        "\n",
        "homemaker and professional volunteer"
       ]
      },
      {
       "output_type": "stream",
       "stream": "stdout",
       "text": [
        "\n",
        "writer and copy editor\n",
        "filmmaker and graphic designer\n",
        "part-time administrator\n",
        "commercial real estate executive\n",
        "united states marine\n",
        "graphics technician"
       ]
      },
      {
       "output_type": "stream",
       "stream": "stdout",
       "text": [
        "\n",
        "bartender and actor\n",
        "prosecuting attorney\n",
        "physician and medical ethicist\n",
        "instructor and writer"
       ]
      },
      {
       "output_type": "stream",
       "stream": "stdout",
       "text": [
        "\n",
        "children's theater actor\n",
        "rentals coordinator\n",
        "college science instructor\n",
        "office manager and assistant\n",
        "actor and internet marketer\n",
        "middle school assistant principal"
       ]
      },
      {
       "output_type": "stream",
       "stream": "stdout",
       "text": [
        "\n",
        "customer care representative\n",
        "organic farmer\n",
        "office administrator"
       ]
      },
      {
       "output_type": "stream",
       "stream": "stdout",
       "text": [
        "\n",
        "technology trainer\n",
        "bartender and actor"
       ]
      },
      {
       "output_type": "stream",
       "stream": "stdout",
       "text": [
        "\n",
        "physician and olympic softball player\n",
        "futures trader\n",
        "systems project manager"
       ]
      },
      {
       "output_type": "stream",
       "stream": "stdout",
       "text": [
        "\n",
        "school food service manager"
       ]
      },
      {
       "output_type": "stream",
       "stream": "stdout",
       "text": [
        "\n",
        "environmental protection specialist\n",
        "typesetter\n",
        "event planner and full-time mom\n",
        "closed captioner"
       ]
      },
      {
       "output_type": "stream",
       "stream": "stdout",
       "text": [
        "\n",
        "assistant managing editor\n",
        "researcher and editor\n",
        "court reporting instructor"
       ]
      },
      {
       "output_type": "stream",
       "stream": "stdout",
       "text": [
        "\n",
        "classical pianist & music instructor\n",
        "customer care manager\n",
        "private school administrator\n",
        "assistant director"
       ]
      },
      {
       "output_type": "stream",
       "stream": "stdout",
       "text": [
        "\n",
        "used bookstore owner\n",
        "history instructor\n",
        "librarian assistant\n",
        "patent agent\n",
        "gelato maker\n",
        "editorial manager"
       ]
      },
      {
       "output_type": "stream",
       "stream": "stdout",
       "text": [
        "\n",
        "locomotive mechanic\n",
        "thin films engineer\n",
        "movie mocker\n",
        "speech language pathologist\n",
        "lawyer and real estate appraiser"
       ]
      },
      {
       "output_type": "stream",
       "stream": "stdout",
       "text": [
        "\n",
        "inventory specialist\n",
        "landscape artist\n",
        "actor and writer\n",
        "lawyer and writer\n",
        "overnight grocery stocker"
       ]
      },
      {
       "output_type": "stream",
       "stream": "stdout",
       "text": [
        "\n",
        "parish administrator\n",
        "product management director\n",
        "claims attorney\n",
        "business development manager"
       ]
      },
      {
       "output_type": "stream",
       "stream": "stdout",
       "text": [
        "\n",
        "chief estimator\n",
        "automotive bookkeeper\n",
        "director of business development"
       ]
      },
      {
       "output_type": "stream",
       "stream": "stdout",
       "text": [
        "\n",
        "public relations executive\n",
        "clinical information support specialist\n",
        "mystery novelist\n",
        "military analyst"
       ]
      },
      {
       "output_type": "stream",
       "stream": "stdout",
       "text": [
        "\n",
        "network analyst\n",
        "sign language scheduler\n",
        "full-time mom\n",
        "investment services specialist\n",
        "maintenance planner"
       ]
      },
      {
       "output_type": "stream",
       "stream": "stdout",
       "text": [
        "\n",
        "dog walker\n",
        "hospitality specialist\n",
        "legislative aide\n",
        "brick manufacturer\n",
        "waiter and writer"
       ]
      },
      {
       "output_type": "stream",
       "stream": "stdout",
       "text": [
        "\n",
        "businessman\n",
        "college tournament winner\n",
        "academic director for a test preparation company"
       ]
      },
      {
       "output_type": "stream",
       "stream": "stdout",
       "text": [
        "\n",
        "intelligence educator\n",
        "online books editor"
       ]
      },
      {
       "output_type": "stream",
       "stream": "stdout",
       "text": [
        "\n",
        "search engine optimization writer\n",
        "public school technology specialist\n",
        "technical support representative\n",
        "eco-tour guide\n",
        "retail distributor\n",
        "stellar name in bookstores and at the box office, the world's best-selling author"
       ]
      },
      {
       "output_type": "stream",
       "stream": "stdout",
       "text": [
        "\n",
        "association coordinator\n",
        "legal editor"
       ]
      },
      {
       "output_type": "stream",
       "stream": "stdout",
       "text": [
        "\n",
        "bookstore clerk and 1992 teen tournament champion\n",
        "home schooling mom\n",
        "investment broker\n",
        "small business analyst"
       ]
      },
      {
       "output_type": "stream",
       "stream": "stdout",
       "text": [
        "\n",
        "brilliant fbi paranormal investigator in fox mulder\n",
        "homemaker & mother of two\n",
        "writer & television extra\n",
        "entrepreneur\n",
        "trucking company manager"
       ]
      },
      {
       "output_type": "stream",
       "stream": "stdout",
       "text": [
        "\n",
        "development officer for a museum\n",
        "playwright and director\n",
        "high school administrator\n",
        "defense dept. analyst\n",
        "tv weather anchor"
       ]
      },
      {
       "output_type": "stream",
       "stream": "stdout",
       "text": [
        "\n",
        "it professional\n",
        "speech language pathologist\n",
        "research and grants administrator\n",
        "new mom"
       ]
      },
      {
       "output_type": "stream",
       "stream": "stdout",
       "text": [
        "\n",
        "urology resident\n",
        "industrial training director\n",
        "college lecturer\n",
        "video tape operator"
       ]
      },
      {
       "output_type": "stream",
       "stream": "stdout",
       "text": [
        "\n",
        "researcher and writer\n",
        "psychobiologist\n",
        "entertainment coordinator"
       ]
      },
      {
       "output_type": "stream",
       "stream": "stdout",
       "text": [
        "\n",
        "administrative coordinator\n",
        "law firm purchasing agent\n",
        "tv news producer\n",
        "bankruptcy attorney"
       ]
      },
      {
       "output_type": "stream",
       "stream": "stdout",
       "text": [
        "\n",
        "apartment building manager\n",
        "security inspector\n",
        "executive recruiter\n",
        "u.s. coast guard officer\n",
        "freelance editor and proofreader"
       ]
      },
      {
       "output_type": "stream",
       "stream": "stdout",
       "text": [
        "\n",
        "satellite news producer\n",
        "retail specialist\n",
        "music educator\n",
        "green community program coordinator"
       ]
      },
      {
       "output_type": "stream",
       "stream": "stdout",
       "text": [
        "\n",
        "actor and census clerk\n",
        "pediatrician and professional moderator\n",
        "tv news writer\n",
        "homemaker and army wife\n",
        "college registrar"
       ]
      },
      {
       "output_type": "stream",
       "stream": "stdout",
       "text": [
        "\n",
        "finance manager\n",
        "retail horticulturist\n",
        "attorney and mediator\n",
        "retail specialist"
       ]
      },
      {
       "output_type": "stream",
       "stream": "stdout",
       "text": [
        "\n",
        "associate creative director\n",
        "crime data specialist\n",
        "furniture manufacturer\n",
        "telecommunications attorney"
       ]
      },
      {
       "output_type": "stream",
       "stream": "stdout",
       "text": [
        "\n",
        "online instructor\n",
        "mortgage banker\n",
        "exhibition designer\n",
        "senior marketing representative"
       ]
      },
      {
       "output_type": "stream",
       "stream": "stdout",
       "text": [
        "\n",
        "technical specialist\n",
        "dinosaur expert and writer\n",
        "navy fighter pilot"
       ]
      },
      {
       "output_type": "stream",
       "stream": "stdout",
       "text": [
        "\n",
        "structured data analyst"
       ]
      },
      {
       "output_type": "stream",
       "stream": "stdout",
       "text": [
        "\n",
        "budget administrator\n",
        "nurse and freelance writer\n",
        "library information science instructor\n",
        "tv news writer"
       ]
      },
      {
       "output_type": "stream",
       "stream": "stdout",
       "text": [
        "\n",
        "education-program manager\n",
        "mutual fund accountant\n",
        "children's museum education manager"
       ]
      },
      {
       "output_type": "stream",
       "stream": "stdout",
       "text": [
        "\n",
        "database specialist and artist\n",
        "culinary school instructor\n",
        "assistant marketing editor"
       ]
      },
      {
       "output_type": "stream",
       "stream": "stdout",
       "text": [
        "\n",
        "editorial researcher\n",
        "math advisor"
       ]
      },
      {
       "output_type": "stream",
       "stream": "stdout",
       "text": [
        "\n",
        "development officer\n",
        "hotel food and beverage manager"
       ]
      },
      {
       "output_type": "stream",
       "stream": "stdout",
       "text": [
        "\n",
        "bird trainer\n",
        "vice president of it communications and information\n",
        "personal banking representative\n",
        "music historian\n",
        "compliance engineer\n",
        "school-media specialist\n",
        "coast guard helicopter mechanic\n",
        "book publicist\n",
        "pizza restaurant manager\n",
        "adjunct instructor of art history"
       ]
      },
      {
       "output_type": "stream",
       "stream": "stdout",
       "text": [
        "\n",
        "pawnbroker\n",
        "patient financial counselor\n",
        "school nurse\n",
        "investment manager\n",
        "legislative assistant\n",
        "public relations professional"
       ]
      },
      {
       "output_type": "stream",
       "stream": "stdout",
       "text": [
        "\n",
        "industrial scaleman\n",
        "project manager and expectant father\n",
        "speechwriter"
       ]
      },
      {
       "output_type": "stream",
       "stream": "stdout",
       "text": [
        "\n",
        "program analyst\n",
        "medical office assistant\n",
        "clinical research coordinator\n",
        "training and development professional\n",
        "historian and ph.d. candidate\n",
        "actor and playwright"
       ]
      },
      {
       "output_type": "stream",
       "stream": "stdout",
       "text": [
        "\n",
        "it director\n",
        "assistant director for the central intelligence agency\n",
        "librarian and a licensed amateur boxing official\n",
        "web programmer\n",
        "attorney and executive recruiter"
       ]
      },
      {
       "output_type": "stream",
       "stream": "stdout",
       "text": [
        "\n",
        "policy analyst\n",
        "former stockbroker\n",
        "international business school executive"
       ]
      },
      {
       "output_type": "stream",
       "stream": "stdout",
       "text": [
        "\n",
        "credit administration manager\n",
        "army officer\n",
        "municipal court magistrate\n",
        "bed-and-breakfast owner\n",
        "training administrator\n",
        "headmaster\n",
        "retiree and high school coach\n",
        "manufacturer"
       ]
      },
      {
       "output_type": "stream",
       "stream": "stdout",
       "text": [
        "\n",
        "fundraising intern\n",
        "graphic artist and musician"
       ]
      },
      {
       "output_type": "stream",
       "stream": "stdout",
       "text": [
        "\n",
        "health care and financial services advisor\n",
        "publishing technology specialist\n",
        "air force attorney"
       ]
      },
      {
       "output_type": "stream",
       "stream": "stdout",
       "text": [
        "\n",
        "adult literacy program coordinator\n",
        "emergency medical technician and writer\n",
        "independent graphic designer"
       ]
      },
      {
       "output_type": "stream",
       "stream": "stdout",
       "text": [
        "\n",
        "bartender and antiques dealer\n",
        "printing broker\n",
        "senior vice president of hospital finance\n",
        "medical coordinator"
       ]
      },
      {
       "output_type": "stream",
       "stream": "stdout",
       "text": [
        "\n",
        "federal appellate attorney\n",
        "actor and theater intern"
       ]
      },
      {
       "output_type": "stream",
       "stream": "stdout",
       "text": [
        "\n",
        "tutor and actor"
       ]
      },
      {
       "output_type": "stream",
       "stream": "stdout",
       "text": [
        "\n",
        "landscaper"
       ]
      },
      {
       "output_type": "stream",
       "stream": "stdout",
       "text": [
        "\n",
        "senior programmer analyst\n",
        "transplant data analyst\n",
        "homeschool mom\n",
        "phone-based health coach\n",
        "biotech account manager\n",
        "singer and editor\n",
        "white-collar criminal defense attorney\n",
        "digital marketing manager\n",
        "general litigation attorney\n",
        "certified surgical technician\n",
        "clothing sales associate\n",
        "writer and producer for television"
       ]
      },
      {
       "output_type": "stream",
       "stream": "stdout",
       "text": [
        "\n",
        "associate editor of textbooks\n",
        "criminal defense lawyer\n",
        "associate editor and online writer\n",
        "piano salesman\n",
        "arts council director\n",
        "proposal writer"
       ]
      },
      {
       "output_type": "stream",
       "stream": "stdout",
       "text": [
        "\n",
        "medievalist\n",
        "copyright attorney\n",
        "mother of two"
       ]
      },
      {
       "output_type": "stream",
       "stream": "stdout",
       "text": [
        "\n",
        "medical records supervisor\n",
        "sportscaster\n",
        "training director\n",
        "postal worker"
       ]
      },
      {
       "output_type": "stream",
       "stream": "stdout",
       "text": [
        "\n",
        "claims representative\n",
        "newswire editor\n",
        "geological exploration technician\n",
        "internet sports columnist\n",
        "doctoral fellow"
       ]
      },
      {
       "output_type": "stream",
       "stream": "stdout",
       "text": [
        "\n",
        "travel attorney\n",
        "public relations writer\n",
        "director of fraud detection"
       ]
      },
      {
       "output_type": "stream",
       "stream": "stdout",
       "text": [
        "\n",
        "document control manager\n",
        "curator of anthropology\n",
        "cathecetical center associate director\n",
        "supervising deputy probation officer"
       ]
      },
      {
       "output_type": "stream",
       "stream": "stdout",
       "text": [
        "\n",
        "customer service specialist\n",
        "chemist and writer\n",
        "internet news producer\n",
        "college theater manager"
       ]
      },
      {
       "output_type": "stream",
       "stream": "stdout",
       "text": [
        "\n",
        "insurance company manager\n",
        "project marketing manager\n",
        "geriatric nursing assistent and chef"
       ]
      },
      {
       "output_type": "stream",
       "stream": "stdout",
       "text": [
        "\n",
        "teen librarian\n",
        "start-up counsel\n",
        "freelance writer and musical director\n",
        "real estate lawyer\n",
        "director of therapy"
       ]
      },
      {
       "output_type": "stream",
       "stream": "stdout",
       "text": [
        "\n",
        "musician and licensing executive\n",
        "actor and producer\n",
        "worker for an e-learning company\n",
        "writer and editor for the honda campus all-star challenge\n",
        "instructional designer and curriculum developer\n",
        "marina operator"
       ]
      },
      {
       "output_type": "stream",
       "stream": "stdout",
       "text": [
        "\n",
        "interactive project manager\n",
        "voice actress"
       ]
      },
      {
       "output_type": "stream",
       "stream": "stdout",
       "text": [
        "\n",
        "policy analyst\n",
        "counseling support specialist\n",
        "musician and licensing executive"
       ]
      },
      {
       "output_type": "stream",
       "stream": "stdout",
       "text": [
        "\n",
        "administrative traffic judge\n",
        "entrepreneur"
       ]
      },
      {
       "output_type": "stream",
       "stream": "stdout",
       "text": [
        "\n",
        "geologic editor\n",
        "public historian\n",
        "transportation planner\n",
        "administrative services director\n",
        "systems analyst and volunteer\n",
        "investor\n",
        "clinic receptionist\n",
        "patent litigator\n",
        "events coordinator"
       ]
      },
      {
       "output_type": "stream",
       "stream": "stdout",
       "text": [
        "\n",
        "evaluations analyst\n",
        "environmental advocate"
       ]
      },
      {
       "output_type": "stream",
       "stream": "stdout",
       "text": [
        "\n",
        "legal fellow"
       ]
      },
      {
       "output_type": "stream",
       "stream": "stdout",
       "text": [
        "\n",
        "forensic toxicologist and winner of the 1988 seniors tournament"
       ]
      },
      {
       "output_type": "stream",
       "stream": "stdout",
       "text": [
        "\n",
        "minister and writer\n",
        "telephone technician\n",
        "college admissions director\n",
        "chemical lab technician"
       ]
      },
      {
       "output_type": "stream",
       "stream": "stdout",
       "text": [
        "\n",
        "united states marine staff sergeant\n",
        "freelance writer and permissions editor\n",
        "technical project manager\n",
        "real estate advisor and investor\n",
        "part-time docent\n",
        "rare books cataloguer"
       ]
      },
      {
       "output_type": "stream",
       "stream": "stdout",
       "text": [
        "\n",
        "benefits administrator\n",
        "music contract administrator\n",
        "health policy director"
       ]
      },
      {
       "output_type": "stream",
       "stream": "stdout",
       "text": [
        "\n",
        "musician and contract manager\n",
        "fitness trainer and culinary historian\n",
        "neighborhood association coordinator\n",
        "beauty-industry magazine editor\n",
        "barista\n",
        "character interpreter coach"
       ]
      },
      {
       "output_type": "stream",
       "stream": "stdout",
       "text": [
        "\n",
        "customs house broker\n",
        "english major\n",
        "antique and collectibles dealer"
       ]
      },
      {
       "output_type": "stream",
       "stream": "stdout",
       "text": [
        "\n",
        "college linguistics instructor\n",
        "financial service representative\n",
        "antique games dealer\n",
        "medievalist\n",
        "language coordinator\n",
        "postal worker\n",
        "day care provider\n",
        "eighth grader"
       ]
      },
      {
       "output_type": "stream",
       "stream": "stdout",
       "text": [
        "\n",
        "dmv administrator for a used car retailer\n",
        "attorney and writer\n",
        "museum educator\n",
        "stock analyst"
       ]
      },
      {
       "output_type": "stream",
       "stream": "stdout",
       "text": [
        "\n",
        "lutheran pastor\n",
        "nonprofit fundraiser\n",
        "fleet service clerk\n",
        "public television producer\n",
        "nonprofit director"
       ]
      },
      {
       "output_type": "stream",
       "stream": "stdout",
       "text": [
        "\n",
        "law school graduate\n",
        "c.p.a. and comedian\n",
        "news editor"
       ]
      },
      {
       "output_type": "stream",
       "stream": "stdout",
       "text": [
        "\n",
        "naval aviator\n",
        "director of health policy"
       ]
      },
      {
       "output_type": "stream",
       "stream": "stdout",
       "text": [
        "\n",
        "human resource specialist\n",
        "claims processing manager\n",
        "ecclesiastic glass artist and housing counselor\n",
        "school counselor and member of the air national guard\n",
        "billing director\n",
        "musician and tutor\n",
        "automotive quality engineer\n",
        "business systems manager\n",
        "museum night security guard"
       ]
      },
      {
       "output_type": "stream",
       "stream": "stdout",
       "text": [
        "\n",
        "government accountability office analyst\n",
        "u.s. postal service clerk"
       ]
      },
      {
       "output_type": "stream",
       "stream": "stdout",
       "text": [
        "\n",
        "kickball team captain\n",
        "human rights investigator"
       ]
      },
      {
       "output_type": "stream",
       "stream": "stdout",
       "text": [
        "\n",
        "radio sales manager\n",
        "travel marketing executive\n",
        "international trade specialist"
       ]
      },
      {
       "output_type": "stream",
       "stream": "stdout",
       "text": [
        "\n",
        "administrative services officer"
       ]
      },
      {
       "output_type": "stream",
       "stream": "stdout",
       "text": [
        "\n",
        "executive director\n",
        "college tournament winner\n",
        "college lecturer\n",
        "aspiring writer"
       ]
      },
      {
       "output_type": "stream",
       "stream": "stdout",
       "text": [
        "\n",
        "airline employee\n",
        "emergency physician"
       ]
      },
      {
       "output_type": "stream",
       "stream": "stdout",
       "text": [
        "\n",
        "actress & singer\n",
        "financial printer"
       ]
      },
      {
       "output_type": "stream",
       "stream": "stdout",
       "text": [
        "\n",
        "investor relations manager"
       ]
      },
      {
       "output_type": "stream",
       "stream": "stdout",
       "text": [
        "\n",
        "fur broker\n",
        "manufacturer"
       ]
      },
      {
       "output_type": "stream",
       "stream": "stdout",
       "text": [
        "\n",
        "college administrator\n",
        "finance director\n",
        "artist and designer\n",
        "customer-service representative"
       ]
      },
      {
       "output_type": "stream",
       "stream": "stdout",
       "text": [
        "\n",
        "international marketing specialist\n",
        "language test developer\n",
        "tavern owner\n",
        "musicologist\n",
        "government attorney\n",
        "project administrator\n",
        "metrologist\n",
        "freelance copywriter\n",
        "energy demonstrator\n",
        "agent's assistant"
       ]
      },
      {
       "output_type": "stream",
       "stream": "stdout",
       "text": [
        "\n",
        "health policy lawyer\n",
        "business risk manager\n",
        "writer and actor\n",
        "television and commercial announcer\n",
        "automotive technician"
       ]
      },
      {
       "output_type": "stream",
       "stream": "stdout",
       "text": [
        "\n",
        "development officer\n",
        "retiree\n",
        "public relations expert"
       ]
      },
      {
       "output_type": "stream",
       "stream": "stdout",
       "text": [
        "\n",
        "college dean\n",
        "human anatomy instructor\n",
        "public opinion researcher\n",
        "marine engineering manager"
       ]
      },
      {
       "output_type": "stream",
       "stream": "stdout",
       "text": [
        "\n",
        "violinist and dueling pianist\n",
        "navy analyst\n",
        "mystery and suspense writer\n",
        "financial services compliance officer"
       ]
      },
      {
       "output_type": "stream",
       "stream": "stdout",
       "text": [
        "\n",
        "portfolio manager\n",
        "business development coordinator"
       ]
      },
      {
       "output_type": "stream",
       "stream": "stdout",
       "text": [
        "\n",
        "manufacturer's representative\n",
        "professional snake handler\n",
        "u.s. army reserve family support assistant\n",
        "former editor\n",
        "litigation attorney\n",
        "software engineer and italian translator\n",
        "antitrust attorney\n",
        "korean studies program coordinator\n",
        "strategic analyst for nasa"
       ]
      },
      {
       "output_type": "stream",
       "stream": "stdout",
       "text": [
        "\n",
        "performance artist\n",
        "fund administration manager\n",
        "attorney and taiko drummer\n",
        "technical project manager\n",
        "special projects assistant"
       ]
      },
      {
       "output_type": "stream",
       "stream": "stdout",
       "text": [
        "\n",
        "green builder"
       ]
      },
      {
       "output_type": "stream",
       "stream": "stdout",
       "text": [
        "\n",
        "senior production controller\n",
        "singer and actor\n",
        "crash avoidance engineer\n",
        "pediatric oncologist\n",
        "humanities lecturer and artist"
       ]
      },
      {
       "output_type": "stream",
       "stream": "stdout",
       "text": [
        "\n",
        "underwriting manager\n",
        "publisher and house dad\n",
        "contract attorney\n",
        "automotive engineer"
       ]
      },
      {
       "output_type": "stream",
       "stream": "stdout",
       "text": [
        "\n",
        "journalist and community volunteer\n",
        "classics lecturer\n",
        "corporate tax attorney\n",
        "senior journal production editor\n",
        "residence hall director"
       ]
      },
      {
       "output_type": "stream",
       "stream": "stdout",
       "text": [
        "\n",
        "software support engineer\n",
        "c.p.a."
       ]
      },
      {
       "output_type": "stream",
       "stream": "stdout",
       "text": [
        "\n",
        "finance administrator\n",
        "retail associate\n",
        "homemaker and visual artist\n",
        "grant writer\n",
        "jag attorney\n",
        "garage door company owner\n",
        "window artist"
       ]
      },
      {
       "output_type": "stream",
       "stream": "stdout",
       "text": [
        "\n",
        "librarian and mechanical puzzles curator\n",
        "publisher's representative\n",
        "library volunteer coordinator"
       ]
      },
      {
       "output_type": "stream",
       "stream": "stdout",
       "text": [
        "\n",
        "program assistant\n",
        "technical data manager\n",
        "managed care underwriter\n",
        "church office manager\n",
        "multimedia producer\n",
        "wellness coordinator\n",
        "grammy-winning singer-songwriter\n",
        "assistant curator\n",
        "banking vice president"
       ]
      },
      {
       "output_type": "stream",
       "stream": "stdout",
       "text": [
        "\n",
        "auditorium manager\n",
        "academic record keeper\n",
        "mathematics instructor\n",
        "business owner"
       ]
      },
      {
       "output_type": "stream",
       "stream": "stdout",
       "text": [
        "\n",
        "test chef\n",
        "reservation sales representative\n",
        "it specialist"
       ]
      },
      {
       "output_type": "stream",
       "stream": "stdout",
       "text": [
        "\n",
        "sales executive\n",
        "musician and songwriter\n",
        "writer's assistant\n",
        "index supervisor"
       ]
      },
      {
       "output_type": "stream",
       "stream": "stdout",
       "text": [
        "\n",
        "historian & writer\n",
        "actor and copy editor\n",
        "economist & software engineer"
       ]
      },
      {
       "output_type": "stream",
       "stream": "stdout",
       "text": [
        "\n",
        "printing salesman\n",
        "elementary school librarian"
       ]
      },
      {
       "output_type": "stream",
       "stream": "stdout",
       "text": [
        "\n",
        "gis coordinator\n",
        "speech writer"
       ]
      },
      {
       "output_type": "stream",
       "stream": "stdout",
       "text": [
        "\n",
        "finance manager\n",
        "resident physician\n",
        "public health analyst\n",
        "telecommunications supply attendant\n",
        "test prep instructor"
       ]
      },
      {
       "output_type": "stream",
       "stream": "stdout",
       "text": [
        "\n",
        "pub trivia editor\n",
        "online marketing producer"
       ]
      },
      {
       "output_type": "stream",
       "stream": "stdout",
       "text": [
        "\n",
        "motorized messenger\n",
        "event producer\n",
        "masonry restoration specialist\n",
        "english major"
       ]
      },
      {
       "output_type": "stream",
       "stream": "stdout",
       "text": [
        "\n",
        "arts administrator\n",
        "medical research technician\n",
        "director of network management"
       ]
      },
      {
       "output_type": "stream",
       "stream": "stdout",
       "text": [
        "\n",
        "actor and musician\n",
        "legislative aide\n",
        "administrative associate\n",
        "investor"
       ]
      },
      {
       "output_type": "stream",
       "stream": "stdout",
       "text": [
        "\n",
        "director of operations\n",
        "corporate librarian\n",
        "pre-need funeral counselor\n",
        "freelance web designer\n",
        "legislative aide\n",
        "mailman\n",
        "superior court clerk\n",
        "alumni and development coordinator"
       ]
      },
      {
       "output_type": "stream",
       "stream": "stdout",
       "text": [
        "\n",
        "personal trainer, filmmaker, and singer\n",
        "writing instructor\n",
        "public radio producer\n",
        "reporter and editor\n",
        "environmental compliance manager"
       ]
      },
      {
       "output_type": "stream",
       "stream": "stdout",
       "text": [
        "\n",
        "corporate lawyer\n",
        "trade magazine reporter and editor\n",
        "entertainment litigation attorney\n",
        "baker and philosophy instructor\n",
        "editorial specialist\n",
        "rural letter carrier\n",
        "health insurance contract specialist\n",
        "university public relations director\n",
        "temporary secretary\n",
        "lumber salesman"
       ]
      },
      {
       "output_type": "stream",
       "stream": "stdout",
       "text": [
        "\n",
        "shopping mall manager\n",
        "medical biller\n",
        "executive editor"
       ]
      },
      {
       "output_type": "stream",
       "stream": "stdout",
       "text": [
        "\n",
        "creative director\n",
        "web development intern"
       ]
      },
      {
       "output_type": "stream",
       "stream": "stdout",
       "text": [
        "\n",
        "design director\n",
        "internet engineer\n",
        "logistics management specialist"
       ]
      },
      {
       "output_type": "stream",
       "stream": "stdout",
       "text": [
        "\n",
        "jazz critic and author\n",
        "congressional staffer"
       ]
      },
      {
       "output_type": "stream",
       "stream": "stdout",
       "text": [
        "\n",
        "golf professional\n",
        "school counselor"
       ]
      },
      {
       "output_type": "stream",
       "stream": "stdout",
       "text": [
        "\n",
        "state agency director\n",
        "sales administrator\n",
        "tv news producer"
       ]
      },
      {
       "output_type": "stream",
       "stream": "stdout",
       "text": [
        "\n",
        "loan accounting clerk\n",
        "bookstore supervisor\n",
        "milk plant lab technician\n",
        "productivity engineer\n",
        "internet software developer\n",
        "university lecturer\n",
        "freelance director\n",
        "international sales manager"
       ]
      },
      {
       "output_type": "stream",
       "stream": "stdout",
       "text": [
        "\n",
        "pediatric resident\n",
        "antique textile and costume specialist\n",
        "energy resources scientist\n",
        "library director"
       ]
      },
      {
       "output_type": "stream",
       "stream": "stdout",
       "text": [
        "\n",
        "environmental specialist\n",
        "aspiring writer"
       ]
      },
      {
       "output_type": "stream",
       "stream": "stdout",
       "text": [
        "\n",
        "insurance executive\n",
        "horse shoer\n",
        "radio broadcast producer\n",
        "radiological technician\n",
        "resort manager\n",
        "intellectual property lawyer\n",
        "fund-raiser\n",
        "museum guest relations manager\n",
        "online book sales director"
       ]
      },
      {
       "output_type": "stream",
       "stream": "stdout",
       "text": [
        "\n",
        "reading tutor\n",
        "associate program manager\n",
        "pharmacy manager"
       ]
      },
      {
       "output_type": "stream",
       "stream": "stdout",
       "text": [
        "\n",
        "catholic priest\n",
        "toy and game marketer\n",
        "college bookstore clerk\n",
        "ethnomusicologist\n",
        "family law attorney\n",
        "community college instructor\n",
        "automotive service advisor\n",
        "park ranger\n",
        "advertising account supervisor"
       ]
      },
      {
       "output_type": "stream",
       "stream": "stdout",
       "text": [
        "\n",
        "singer/songwriter\n",
        "writer and story editor\n",
        "director of marketing\n",
        "marketing coordinator\n",
        "print production manager\n",
        "contracts assistant"
       ]
      },
      {
       "output_type": "stream",
       "stream": "stdout",
       "text": [
        "\n",
        "electrical engineer for the united states air force"
       ]
      },
      {
       "output_type": "stream",
       "stream": "stdout",
       "text": [
        "\n",
        "documentary filmmaker\n",
        "pediatric intensivist\n",
        "tutor and tour guide\n",
        "critical care nurse"
       ]
      },
      {
       "output_type": "stream",
       "stream": "stdout",
       "text": [
        "\n",
        "mental health worker"
       ]
      },
      {
       "output_type": "stream",
       "stream": "stdout",
       "text": [
        "\n",
        "internet researcher\n",
        "television business affairs executive\n",
        "lab assistant\n",
        "theatrical designer\n",
        "fish and wildlife technician"
       ]
      },
      {
       "output_type": "stream",
       "stream": "stdout",
       "text": [
        "\n",
        "internet entrepreneur\n",
        "attorney and municipal judge\n",
        "communications associate\n",
        "associate director of annual giving\n",
        "supply chain professional\n",
        "writer for a non-profit environmental foundation\n",
        "assistant general manager of a minor league baseball team"
       ]
      },
      {
       "output_type": "stream",
       "stream": "stdout",
       "text": [
        "\n",
        "ph.d. candidate and teaching assistant\n",
        "child health advocate"
       ]
      },
      {
       "output_type": "stream",
       "stream": "stdout",
       "text": [
        "\n",
        "manufacturing operations specialist\n",
        "import-export agent\n",
        "software writer\n",
        "data scientist"
       ]
      },
      {
       "output_type": "stream",
       "stream": "stdout",
       "text": [
        "\n",
        "chemical engineer consulting in renewable energy\n",
        "scheduling coordinator\n",
        "homemaker and artist\n",
        "gardener\n",
        "property custodian\n",
        "university researcher\n",
        "education evaluator"
       ]
      },
      {
       "output_type": "stream",
       "stream": "stdout",
       "text": [
        "\n",
        "crime data specialist\n",
        "civil rights lawyer"
       ]
      },
      {
       "output_type": "stream",
       "stream": "stdout",
       "text": [
        "\n",
        "custom motorcycle shop owner\n",
        "dental hygenist\n",
        "payroll accountant\n",
        "writer and director of religious education"
       ]
      },
      {
       "output_type": "stream",
       "stream": "stdout",
       "text": [
        "\n",
        "senior marketing representative"
       ]
      },
      {
       "output_type": "stream",
       "stream": "stdout",
       "text": [
        "\n",
        "writer and businessman\n",
        "deputy district attorney\n",
        "director of internet development\n",
        "inventory control analyst\n",
        "technical data analyst\n",
        "advertising producer"
       ]
      },
      {
       "output_type": "stream",
       "stream": "stdout",
       "text": [
        "\n",
        "patent attorney\n",
        "ob/gyn intern\n",
        "early childhood educator\n",
        "americorps service member\n",
        "coal miner and outreach worker\n",
        "software process engineer"
       ]
      },
      {
       "output_type": "stream",
       "stream": "stdout",
       "text": [
        "\n",
        "school office clerk\n",
        "non-profit assistant director of donor relations\n",
        "university fundraiser\n",
        "logistics director\n",
        "analytic software sales executive\n",
        "director and actor"
       ]
      },
      {
       "output_type": "stream",
       "stream": "stdout",
       "text": [
        "\n",
        "bellman\n",
        "consumerologist and writer\n",
        "speech language pathologist\n",
        "knowledge base coordinator\n",
        "art historian\n",
        "reporter and editor\n",
        "business school marketing director\n",
        "bankruptcy clerk at a law firm\n",
        "radio frequency engineer\n",
        "receptionist and editor"
       ]
      },
      {
       "output_type": "stream",
       "stream": "stdout",
       "text": [
        "\n",
        "spanish instructor\n",
        "federal prosecutor"
       ]
      },
      {
       "output_type": "stream",
       "stream": "stdout",
       "text": [
        "\n",
        "derivatives trader\n",
        "costume designer and historian\n",
        "wife and mother\n",
        "clinical research coordinator"
       ]
      },
      {
       "output_type": "stream",
       "stream": "stdout",
       "text": [
        "\n",
        "facilities management specialist\n",
        "economics instructor\n",
        "housewife and volunteer"
       ]
      },
      {
       "output_type": "stream",
       "stream": "stdout",
       "text": [
        "\n",
        "human resources administrator\n",
        "medical secretary"
       ]
      },
      {
       "output_type": "stream",
       "stream": "stdout",
       "text": [
        "\n",
        "veterinary receptionist\n",
        "public information officer\n",
        "school registrar\n",
        "milliner\n",
        "geriatric social worker\n",
        "legal case assistant"
       ]
      },
      {
       "output_type": "stream",
       "stream": "stdout",
       "text": [
        "\n",
        "behavior interventionist\n",
        "stage actor and product specialist\n",
        "college academic specialist\n",
        "accelerator operator\n",
        "instructional designer\n",
        "attorney and educator\n",
        "medical resident\n",
        "librarian at the library of congress"
       ]
      },
      {
       "output_type": "stream",
       "stream": "stdout",
       "text": [
        "\n",
        "digital analyst\n",
        "insurance specialist\n",
        "web publisher\n",
        "writer and library services assistant\n",
        "enrolled agent"
       ]
      },
      {
       "output_type": "stream",
       "stream": "stdout",
       "text": [
        "\n",
        "legal association manager\n",
        "accounting manager\n",
        "attorney and mediator\n",
        "human resources director\n",
        "government affairs director\n",
        "commercial interior designer"
       ]
      },
      {
       "output_type": "stream",
       "stream": "stdout",
       "text": [
        "\n",
        "freelance researcher and administrative assistant\n",
        "psychotherapist & writer\n",
        "writer for tv and stage"
       ]
      },
      {
       "output_type": "stream",
       "stream": "stdout",
       "text": [
        "\n",
        "cattle ranch hand\n",
        "music supervisor\n",
        "human resources professional\n",
        "u.s. army captain\n",
        "historic preservation officer"
       ]
      },
      {
       "output_type": "stream",
       "stream": "stdout",
       "text": [
        "\n",
        "software testing manager"
       ]
      },
      {
       "output_type": "stream",
       "stream": "stdout",
       "text": [
        "\n",
        "cameraman\n",
        "collection representative"
       ]
      },
      {
       "output_type": "stream",
       "stream": "stdout",
       "text": [
        "\n",
        "tax analyst\n",
        "art services provider\n",
        "teleport maintenance engineer\n",
        "tour planner"
       ]
      },
      {
       "output_type": "stream",
       "stream": "stdout",
       "text": [
        "\n",
        "rental car manager\n",
        "non-profit fundraiser\n",
        "automotive restoration technician\n",
        "government contractor\n",
        "freelance typographer\n",
        "writer and a former private investigator\n",
        "musician & actor\n",
        "database representative\n",
        "senior word processing typist\n",
        "dot-com start-up partner"
       ]
      },
      {
       "output_type": "stream",
       "stream": "stdout",
       "text": [
        "\n",
        "sports agate clerk"
       ]
      },
      {
       "output_type": "stream",
       "stream": "stdout",
       "text": [
        "\n",
        "chyron operator\n",
        "video game tester"
       ]
      },
      {
       "output_type": "stream",
       "stream": "stdout",
       "text": [
        "\n",
        "customer service supervisor\n",
        "knowledge manager\n",
        "bible minister\n",
        "seminarian\n",
        "retail sales associate"
       ]
      },
      {
       "output_type": "stream",
       "stream": "stdout",
       "text": [
        "\n",
        "securities analyst\n",
        "civil litigation attorney\n",
        "technical support specialist\n",
        "federal law clerk\n",
        "shelter advocate and caregiver"
       ]
      },
      {
       "output_type": "stream",
       "stream": "stdout",
       "text": [
        "\n",
        "communications executive\n",
        "children's book author\n",
        "film executive\n",
        "associate producer\n",
        "defense contractor"
       ]
      },
      {
       "output_type": "stream",
       "stream": "stdout",
       "text": [
        "\n",
        "audio/visual manager\n",
        "community counselor\n",
        "lawyer and father\n",
        "market planning manager\n",
        "baseball writer\n",
        "telecommunications coordinator"
       ]
      },
      {
       "output_type": "stream",
       "stream": "stdout",
       "text": [
        "\n",
        "children's museum designer\n",
        "marketing interviewer\n",
        "interlibrary loan specialist\n",
        "data specialist"
       ]
      },
      {
       "output_type": "stream",
       "stream": "stdout",
       "text": [
        "\n",
        "information developer\n",
        "freelance writer and legal transcriptionist\n",
        "lead enrollment representative"
       ]
      },
      {
       "output_type": "stream",
       "stream": "stdout",
       "text": [
        "\n",
        "freelance graphic artist\n",
        "provider relations representative\n",
        "artist, tutor and writer"
       ]
      },
      {
       "output_type": "stream",
       "stream": "stdout",
       "text": [
        "\n",
        "title officer assistant\n",
        "spanish interpreter\n",
        "software trainer"
       ]
      },
      {
       "output_type": "stream",
       "stream": "stdout",
       "text": [
        "\n",
        "aspiring producer\n",
        "project financial analyst\n",
        "professional hvac engineer\n",
        "pharmaceutical scientist\n",
        "box office manager"
       ]
      },
      {
       "output_type": "stream",
       "stream": "stdout",
       "text": [
        "\n",
        "environmental compliance specialist\n",
        "networking engineer\n",
        "litigation technology specialist\n",
        "aspiring dance caller\n",
        "marine mammal scientist"
       ]
      },
      {
       "output_type": "stream",
       "stream": "stdout",
       "text": [
        "\n",
        "hospital comptroller\n",
        "publisher sales representative\n",
        "actor and director\n",
        "operations support manager\n",
        "cultural analyst"
       ]
      },
      {
       "output_type": "stream",
       "stream": "stdout",
       "text": [
        "\n",
        "research associate\n",
        "law school administrator"
       ]
      },
      {
       "output_type": "stream",
       "stream": "stdout",
       "text": [
        "\n",
        "broadcast librarian\n",
        "assistant cameraman\n",
        "college writing instructor\n",
        "actor and comedian\n",
        "television news reporter and producer"
       ]
      },
      {
       "output_type": "stream",
       "stream": "stdout",
       "text": [
        "\n",
        "investor and writer\n",
        "senior product specialist\n",
        "typesetter\n",
        "wife and mother"
       ]
      },
      {
       "output_type": "stream",
       "stream": "stdout",
       "text": [
        "\n",
        "nightclub and restaurant owner"
       ]
      },
      {
       "output_type": "stream",
       "stream": "stdout",
       "text": [
        "\n",
        "homemaker and freelance editor\n",
        "zoo educator\n",
        "business librarian"
       ]
      },
      {
       "output_type": "stream",
       "stream": "stdout",
       "text": [
        "\n",
        "advanced customer care agent\n",
        "food & beverage director\n",
        "screenwriter and bookstore manager"
       ]
      },
      {
       "output_type": "stream",
       "stream": "stdout",
       "text": [
        "\n",
        "quality control technician\n",
        "u.s. fire administration program manager\n",
        "deputy prosecuting attorney\n",
        "government librarian\n",
        "iso coordinator\n",
        "part-time textbook editor"
       ]
      },
      {
       "output_type": "stream",
       "stream": "stdout",
       "text": [
        "\n",
        "live-in caregiver\n",
        "payroll manager\n",
        "liability analyst\n",
        "antique dealer\n",
        "software support technician\n",
        "romance novel editor"
       ]
      },
      {
       "output_type": "stream",
       "stream": "stdout",
       "text": [
        "\n",
        "labor lawyer\n",
        "owner of a notary service\n",
        "video archivist\n",
        "cartoon writer\n",
        "energy efficiency analyst"
       ]
      },
      {
       "output_type": "stream",
       "stream": "stdout",
       "text": [
        "\n",
        "technology & operations manager\n",
        "textbook editor\n",
        "pension assistant"
       ]
      },
      {
       "output_type": "stream",
       "stream": "stdout",
       "text": [
        "\n",
        "kennel manager\n",
        "asset manager\n",
        "circulation manager\n",
        "congressional staffer\n",
        "nonprofit administrator\n",
        "insurance and investments agent"
       ]
      },
      {
       "output_type": "stream",
       "stream": "stdout",
       "text": [
        "\n",
        "behavior specialist\n",
        "records coordinator\n",
        "c.p.a. and comedian"
       ]
      },
      {
       "output_type": "stream",
       "stream": "stdout",
       "text": [
        "\n",
        "television executive\n",
        "systems analyst and pharmacist\n",
        "research associate\n",
        "transit policy analyst\n",
        "small business entrepreneur\n",
        "american red cross manager\n",
        "airline operations specialist\n",
        "pediatric resident"
       ]
      },
      {
       "output_type": "stream",
       "stream": "stdout",
       "text": [
        "\n",
        "facility director\n",
        "jesuit priest"
       ]
      },
      {
       "output_type": "stream",
       "stream": "stdout",
       "text": [
        "\n",
        "spanish instructor"
       ]
      },
      {
       "output_type": "stream",
       "stream": "stdout",
       "text": [
        "\n",
        "director of administration\n",
        "public relations coordinator\n",
        "college administrator\n",
        "community college instructor\n",
        "special effects animator\n",
        "theater producer and director\n",
        "director of human resources"
       ]
      },
      {
       "output_type": "stream",
       "stream": "stdout",
       "text": [
        "\n",
        "park ranger\n",
        "production control specialist\n",
        "system programmer"
       ]
      },
      {
       "output_type": "stream",
       "stream": "stdout",
       "text": [
        "\n",
        "supplier quality engineer\n",
        "antiques and collectibles dealer"
       ]
      },
      {
       "output_type": "stream",
       "stream": "stdout",
       "text": [
        "\n",
        "media analyst\n",
        "truck loader and bartender\n",
        "software entrepreneur\n",
        "medical missions coordinator"
       ]
      },
      {
       "output_type": "stream",
       "stream": "stdout",
       "text": [
        "\n",
        "arts education administrator\n",
        "field education coordinator\n",
        "trial judge"
       ]
      },
      {
       "output_type": "stream",
       "stream": "stdout",
       "text": [
        "\n",
        "emergency room physician\n",
        "lutheran pastor"
       ]
      },
      {
       "output_type": "stream",
       "stream": "stdout",
       "text": [
        "\n",
        "science analyst\n",
        "artist & designer\n",
        "medical researcher\n",
        "call center manager\n",
        "permit coordinator"
       ]
      },
      {
       "output_type": "stream",
       "stream": "stdout",
       "text": [
        "\n",
        "cleaning company administrator\n",
        "water service inspector"
       ]
      },
      {
       "output_type": "stream",
       "stream": "stdout",
       "text": [
        "\n",
        "reference server\n",
        "social security quality assessor\n",
        "direct marketing executive\n",
        "environmental policy specialist"
       ]
      },
      {
       "output_type": "stream",
       "stream": "stdout",
       "text": [
        "\n",
        "bank branch manager"
       ]
      },
      {
       "output_type": "stream",
       "stream": "stdout",
       "text": [
        "\n",
        "elections administrator\n",
        "editor for a business school\n",
        "program analyst for the department of navy\n",
        "biomedical writer\n",
        "attorney and media sales rep"
       ]
      },
      {
       "output_type": "stream",
       "stream": "stdout",
       "text": [
        "\n",
        "aspiring playwright\n",
        "documentation manager\n",
        "billing administrator\n",
        "literary manager\n",
        "process-automation engineer\n",
        "food stylist"
       ]
      },
      {
       "output_type": "stream",
       "stream": "stdout",
       "text": [
        "\n",
        "game merchant"
       ]
      },
      {
       "output_type": "stream",
       "stream": "stdout",
       "text": [
        "\n",
        "photographic representative\n",
        "fulfillment manager\n",
        "corporate controller\n",
        "comedy writer\n",
        "software analyst\n",
        "educational marketer\n",
        "coffee shop manager and trainer"
       ]
      },
      {
       "output_type": "stream",
       "stream": "stdout",
       "text": [
        "\n",
        "university lecturer\n",
        "human resources systems manager\n",
        "congressional staff member\n",
        "immigration attorney\n",
        "vice president of sales"
       ]
      },
      {
       "output_type": "stream",
       "stream": "stdout",
       "text": [
        "\n",
        "call center representative\n",
        "musician and contract manager\n",
        "musician and entertainer"
       ]
      },
      {
       "output_type": "stream",
       "stream": "stdout",
       "text": [
        "\n",
        "literary agent and writer\n",
        "preacher and doctoral candidate\n",
        "sports reporter"
       ]
      },
      {
       "output_type": "stream",
       "stream": "stdout",
       "text": [
        "\n",
        "analyst for the federal government\n",
        "stamp dealer\n",
        "water systems engineer\n",
        "navy lab technician\n",
        "navy anesthesiology resident\n",
        "marine corps infantry officer\n",
        "navy supply corps officer\n",
        "air force action officer\n",
        "marine corps intelligence chief\n",
        "air force air traffic controller\n",
        "marine company commander\n",
        "air force weapons systems officer\n",
        "director and writer of a sketch comedy theater\n",
        "telecommunications manager\n",
        "personal assistant\n",
        "mom and volunteer"
       ]
      },
      {
       "output_type": "stream",
       "stream": "stdout",
       "text": [
        "\n",
        "information technology project manager\n",
        "u.s. air force logistics readiness officer\n",
        "printing broker"
       ]
      },
      {
       "output_type": "stream",
       "stream": "stdout",
       "text": [
        "\n",
        "advertising creative director\n",
        "tech salesman\n",
        "client services manager\n",
        "investment portfolio manager"
       ]
      },
      {
       "output_type": "stream",
       "stream": "stdout",
       "text": [
        "\n",
        "technical editor and writer\n",
        "airline salesperson\n",
        "coffeehouse owner"
       ]
      },
      {
       "output_type": "stream",
       "stream": "stdout",
       "text": [
        "\n",
        "freelance writer and stand-up comedian\n",
        "cable television system manager"
       ]
      },
      {
       "output_type": "stream",
       "stream": "stdout",
       "text": [
        "\n",
        "actor and copy editor\n",
        "treasury associate\n",
        "customer service manager"
       ]
      },
      {
       "output_type": "stream",
       "stream": "stdout",
       "text": [
        "\n",
        "brand strategist\n",
        "emergency room physician\n",
        "talent backer\n",
        "media affadavit specialist"
       ]
      },
      {
       "output_type": "stream",
       "stream": "stdout",
       "text": [
        "\n",
        "forensic engineer\n",
        "defense policy analyst\n",
        "food buyer\n",
        "catholic priest"
       ]
      },
      {
       "output_type": "stream",
       "stream": "stdout",
       "text": [
        "\n",
        "theatrical production manager"
       ]
      },
      {
       "output_type": "stream",
       "stream": "stdout",
       "text": [
        "\n",
        "theater and opera lighting designer\n",
        "library shelver and pet sitter\n",
        "public relations associate\n",
        "housing court judge\n",
        "forensics researcher\n",
        "educational publishing digital producer"
       ]
      },
      {
       "output_type": "stream",
       "stream": "stdout",
       "text": [
        "\n",
        "school receptionist\n",
        "dairy machine operator\n",
        "communications manager\n",
        "public relations executive\n",
        "cost accounting manager\n",
        "energy efficiency analyst\n",
        "pediatric cardiologist\n",
        "legal writer"
       ]
      },
      {
       "output_type": "stream",
       "stream": "stdout",
       "text": [
        "\n",
        "play-by-play announcer\n",
        "customer service supervisor\n",
        "business owner\n",
        "portfolio manager\n",
        "pricing manager\n",
        "graduate assistant"
       ]
      },
      {
       "output_type": "stream",
       "stream": "stdout",
       "text": [
        "\n",
        "manager of marketing intelligence\n",
        "snowcoach driver and hotel manager\n",
        "data conversion operator"
       ]
      },
      {
       "output_type": "stream",
       "stream": "stdout",
       "text": [
        "\n",
        "public library director"
       ]
      },
      {
       "output_type": "stream",
       "stream": "stdout",
       "text": [
        "\n",
        "theme park ride operator\n",
        "technical services representative\n",
        "price protection manager"
       ]
      },
      {
       "output_type": "stream",
       "stream": "stdout",
       "text": [
        "\n",
        "illustrations coordinator\n",
        "research associate\n",
        "adult education director\n",
        "sculptor and writer\n",
        "creative project manager\n",
        "british literature lecturer and lacrosse coach\n",
        "pub trivia editor\n",
        "attorney and a businessman"
       ]
      },
      {
       "output_type": "stream",
       "stream": "stdout",
       "text": [
        "\n",
        "air force intelligence officer\n",
        "photographer and attorney\n",
        "video game tester\n",
        "internet marketer"
       ]
      },
      {
       "output_type": "stream",
       "stream": "stdout",
       "text": [
        "\n",
        "professional volunteer\n",
        "youth minister\n",
        "retail sales associate\n",
        "military charter flight attendant"
       ]
      },
      {
       "output_type": "stream",
       "stream": "stdout",
       "text": [
        "\n",
        "hockey arena announcer\n",
        "law clerk for a federal judge\n",
        "pre-law program director and attorney\n",
        "college soccer coach\n",
        "men's clothing sales associate\n",
        "actor and phillie phanstormer\n",
        "senior managing editor\n",
        "director of compensation\n",
        "translation coordinator\n",
        "high-school campus director\n",
        "choir accompanist"
       ]
      },
      {
       "output_type": "stream",
       "stream": "stdout",
       "text": [
        "\n",
        "attorney & fundraiser\n",
        "contract coordinator\n",
        "association vice president"
       ]
      },
      {
       "output_type": "stream",
       "stream": "stdout",
       "text": [
        "\n",
        "college writer\n",
        "caterer\n",
        "telecommunications manager\n",
        "communications manager"
       ]
      },
      {
       "output_type": "stream",
       "stream": "stdout",
       "text": [
        "\n",
        "payroll administrator\n",
        "investment specialist"
       ]
      },
      {
       "output_type": "stream",
       "stream": "stdout",
       "text": [
        "\n",
        "administrative coordinator\n",
        "senior clinical data coordinator\n",
        "campaign staffer\n",
        "director of employment services\n",
        "ph.d. candidate in finance"
       ]
      },
      {
       "output_type": "stream",
       "stream": "stdout",
       "text": [
        "\n",
        "data analyst\n",
        "total 8451 not found 2443 yielding 28.9078215596 % failure\n"
       ]
      }
     ],
     "prompt_number": 16
    },
    {
     "cell_type": "code",
     "collapsed": false,
     "input": [
      "\n",
      "#players\n",
      "\n",
      "\n",
      "# leftovers = \"\"\n",
      "\n",
      "# coccsnotfound = dict(Counter(occsnotfound))\n",
      "# for occ, count in coccsnotfound.iteritems():\n",
      "# #     if \"computer\" in occ:\n",
      "# #         print occ\n",
      "#     leftovers += occ\n",
      "        \n",
      "# leftovers = dict(Counter(leftovers.split(\" \")))\n",
      "\n",
      "# for word, count in leftovers.iteritems():\n",
      "#     if count > 15:\n",
      "#         print word, count"
     ],
     "language": "python",
     "metadata": {},
     "outputs": [],
     "prompt_number": 1
    },
    {
     "cell_type": "code",
     "collapsed": false,
     "input": [
      "pheaders= ['ID', 'name', 'year', 'occ', 'loc', 'numgames', 'totalwinnings', 'state', 'studentflag', 'SOC', 'main', 'sub']\n",
      "#pheaders"
     ],
     "language": "python",
     "metadata": {},
     "outputs": [],
     "prompt_number": 17
    },
    {
     "cell_type": "code",
     "collapsed": false,
     "input": [
      "# reconstruct the player file with the states and soc codes.\n",
      "\n",
      "rows = players.values()\n",
      "with open('statessorted.txt','rt') as states:\n",
      "    states = [state.strip().lower() for state in states.readlines()]\n",
      "\n",
      "for row in rows:\n",
      "    soc = row['SOC']\n",
      "    loc = row['loc']\n",
      "    row['state'] = '9999'\n",
      "    \n",
      "    for state in states:\n",
      "        if state in loc.lower():\n",
      "            row['state'] = state\n",
      "            break\n",
      "    if soc == '':\n",
      "        row['main'] = '9999'\n",
      "        row['sub'] = '9999'\n",
      "    elif '-' in soc:\n",
      "        main, sub = tuple(soc.split('-'))\n",
      "        row['main'] = main\n",
      "        row['sub'] = sub\n",
      "    else:\n",
      "        row['main'] = soc\n",
      "        row['sub'] = '9999'"
     ],
     "language": "python",
     "metadata": {},
     "outputs": [],
     "prompt_number": 18
    },
    {
     "cell_type": "code",
     "collapsed": false,
     "input": [
      "# and write out the whole mess\n",
      "\n",
      "with open('usplayerswithsoc.csv','w') as outfile:\n",
      "    outfile = csv.DictWriter(outfile,pheaders)\n",
      "    outfile.writeheader()\n",
      "    outfile.writerows(rows)"
     ],
     "language": "python",
     "metadata": {},
     "outputs": [],
     "prompt_number": 19
    },
    {
     "cell_type": "code",
     "collapsed": false,
     "input": [
      "players['1']"
     ],
     "language": "python",
     "metadata": {},
     "outputs": []
    },
    {
     "cell_type": "markdown",
     "metadata": {},
     "source": [
      "# Optional:  split the players into state level csvs"
     ]
    },
    {
     "cell_type": "code",
     "collapsed": false,
     "input": [
      "with open('usplayerswithsoc.csv', 'rU') as players:\n",
      "    players = csv.reader(players)\n",
      "    headers = next(players)\n",
      "    players = [row for row in players]\n",
      "    \n",
      "for row in players:\n",
      "    # this is a check to see if we are pulling in the curated files or not\n",
      "    if row[5].lower == 'onio':\n",
      "        print row"
     ],
     "language": "python",
     "metadata": {},
     "outputs": [],
     "prompt_number": 20
    },
    {
     "cell_type": "code",
     "collapsed": false,
     "input": [
      "states = list(set([row[7].lower() for row in players]))\n"
     ],
     "language": "python",
     "metadata": {},
     "outputs": [],
     "prompt_number": 21
    },
    {
     "cell_type": "code",
     "collapsed": false,
     "input": [
      "occstates = [state.lower() for state in ['Mississippi', 'Oklahoma', 'Delaware', 'Minnesota', \\\n",
      "                                         'Illinois', 'Arkansas', 'New Mexico', 'Indiana', 'Maryland', \\\n",
      "                                         'Louisiana', 'Idaho', 'Wyoming', 'Tennessee', 'Arizona', \\\n",
      "                                         'Iowa', 'Michigan', 'Kansas', 'Utah', 'Virginia', 'Oregon', \\\n",
      "                                         'Connecticut', 'Montana', 'California', 'Massachusetts', 'West Virginia', \\\n",
      "                                         'South Carolina', 'New Hampshire', 'Wisconsin', 'Vermont', 'Georgia', \\\n",
      "                                         'North Dakota', 'Pennsylvania', 'Puerto Rico', 'Florida', 'Alaska', \\\n",
      "                                         'Kentucky', 'Hawaii', 'Nebraska', 'Missouri', 'Ohio', 'Alabama', \\\n",
      "                                         'New York', 'Virgin Islands', 'South Dakota', 'Colorado', 'New Jersey', \\\n",
      "                                         'Guam', 'Washington', 'North Carolina', 'District of Columbia', \\\n",
      "                                         'Texas', 'Nevada', 'Maine', 'Rhode Island']]\n"
     ],
     "language": "python",
     "metadata": {},
     "outputs": [],
     "prompt_number": 22
    },
    {
     "cell_type": "code",
     "collapsed": false,
     "input": [
      "for state in states:\n",
      "    # check if any states pulled in are not in the states list.\n",
      "    # in theory, this should never print anything.\n",
      "    # theory.\n",
      "    if state not in occstates:\n",
      "        print state"
     ],
     "language": "python",
     "metadata": {},
     "outputs": [],
     "prompt_number": 23
    },
    {
     "cell_type": "code",
     "collapsed": false,
     "input": [
      "statecounts = {}\n",
      "\n",
      "for state in states:\n",
      "    stateplayers = [player for player in players if player[5].lower() == state.lower()]\n",
      "    statecounts[state] = len(stateplayers)\n",
      "    with open('playersbystate/' + state + \"Players.csv\",'w') as outfile:\n",
      "        outfile = csv.writer(outfile)\n",
      "        outfile.writerow(headers)\n",
      "        outfile.writerows(stateplayers)"
     ],
     "language": "python",
     "metadata": {},
     "outputs": [],
     "prompt_number": 24
    },
    {
     "cell_type": "code",
     "collapsed": false,
     "input": [
      "statecounts"
     ],
     "language": "python",
     "metadata": {},
     "outputs": [
      {
       "metadata": {},
       "output_type": "pyout",
       "prompt_number": 25,
       "text": [
        "{'alabama': 0,\n",
        " 'alaska': 0,\n",
        " 'arizona': 0,\n",
        " 'arkansas': 0,\n",
        " 'california': 0,\n",
        " 'colorado': 0,\n",
        " 'connecticut': 0,\n",
        " 'delaware': 0,\n",
        " 'florida': 0,\n",
        " 'georgia': 0,\n",
        " 'hawaii': 0,\n",
        " 'idaho': 0,\n",
        " 'illinois': 0,\n",
        " 'indiana': 0,\n",
        " 'iowa': 0,\n",
        " 'kansas': 0,\n",
        " 'kentucky': 0,\n",
        " 'louisiana': 0,\n",
        " 'maine': 0,\n",
        " 'maryland': 0,\n",
        " 'massachusetts': 0,\n",
        " 'michigan': 0,\n",
        " 'minnesota': 0,\n",
        " 'mississippi': 0,\n",
        " 'missouri': 0,\n",
        " 'montana': 0,\n",
        " 'nebraska': 0,\n",
        " 'nevada': 0,\n",
        " 'new hampshire': 0,\n",
        " 'new jersey': 0,\n",
        " 'new mexico': 0,\n",
        " 'new york': 0,\n",
        " 'north carolina': 0,\n",
        " 'north dakota': 0,\n",
        " 'ohio': 0,\n",
        " 'oklahoma': 0,\n",
        " 'oregon': 0,\n",
        " 'pennsylvania': 0,\n",
        " 'rhode island': 0,\n",
        " 'south dakota': 0,\n",
        " 'tennessee': 0,\n",
        " 'texas': 0,\n",
        " 'utah': 0,\n",
        " 'vermont': 0,\n",
        " 'virginia': 0,\n",
        " 'washington': 0,\n",
        " 'wisconsin': 0,\n",
        " 'wyoming': 0}"
       ]
      }
     ],
     "prompt_number": 25
    },
    {
     "cell_type": "code",
     "collapsed": false,
     "input": [
      "countrows = [[key, value] for key, value in statecounts.iteritems()]"
     ],
     "language": "python",
     "metadata": {},
     "outputs": []
    },
    {
     "cell_type": "code",
     "collapsed": false,
     "input": [
      "with open('stateoccdata2013.csv', 'rU') as bls2013:\n",
      "    bls2013 = csv.reader(bls2013)\n",
      "    bls2013headers = next(bls2013)\n",
      "    occs = [row for row in bls2013]"
     ],
     "language": "python",
     "metadata": {},
     "outputs": []
    },
    {
     "cell_type": "code",
     "collapsed": false,
     "input": [
      "statelevel = [row for row in occs if row[3] == '00-0000']"
     ],
     "language": "python",
     "metadata": {},
     "outputs": []
    },
    {
     "cell_type": "code",
     "collapsed": false,
     "input": [
      "justtoteimploy = {}\n",
      "for row in statelevel:\n",
      "    justtoteimploy[row[2]] = {bls2013headers[6]: int(row[6].replace(',',''))}"
     ],
     "language": "python",
     "metadata": {},
     "outputs": []
    },
    {
     "cell_type": "code",
     "collapsed": false,
     "input": [
      "for state in justtoteimploy.keys():\n",
      "    if state.lower() not in statecounts:\n",
      "        statecounts[state.lower()] = 0"
     ],
     "language": "python",
     "metadata": {},
     "outputs": []
    },
    {
     "cell_type": "code",
     "collapsed": false,
     "input": [
      "printthis = [[state, statecounts[state.lower()],justtoteimploy[state]['TOT_EMP']] for state in justtoteimploy.keys()]"
     ],
     "language": "python",
     "metadata": {},
     "outputs": []
    },
    {
     "cell_type": "code",
     "collapsed": false,
     "input": [
      "with open('statecounts.csv','w') as statecountout:\n",
      "    statecountout = csv.writer(statecountout)\n",
      "    statecountout.writerow(['state','jeopardy','2013ntl'])\n",
      "    statecountout.writerows(printthis)"
     ],
     "language": "python",
     "metadata": {},
     "outputs": []
    },
    {
     "cell_type": "markdown",
     "metadata": {},
     "source": [
      "# deprecated: looking at the BLS data\n",
      "\n",
      "This is an experimental/in progress section where I'm looking at the raw BLS data.  This has been moved into r."
     ]
    },
    {
     "cell_type": "code",
     "collapsed": false,
     "input": [
      "with open('stateoccdata2013.csv', 'rU') as bls2013:\n",
      "    bls2013 = csv.reader(bls2013)\n",
      "    bls2013headers = next(bls2013)\n",
      "    occs = [row for row in bls2013]"
     ],
     "language": "python",
     "metadata": {},
     "outputs": [],
     "prompt_number": 6
    },
    {
     "cell_type": "code",
     "collapsed": false,
     "input": [
      "statelevel = [row for row in occs if row[3] == '00-0000']"
     ],
     "language": "python",
     "metadata": {},
     "outputs": [],
     "prompt_number": 7
    },
    {
     "cell_type": "code",
     "collapsed": false,
     "input": [
      "justtoteimploy = {}\n",
      "for row in statelevel:\n",
      "    justtoteimploy[row[2]] = {bls2013headers[6]: int(row[6].replace(',',''))}"
     ],
     "language": "python",
     "metadata": {},
     "outputs": [],
     "prompt_number": 8
    },
    {
     "cell_type": "code",
     "collapsed": false,
     "input": [
      "len(statelevel) # should be 54"
     ],
     "language": "python",
     "metadata": {},
     "outputs": [
      {
       "metadata": {},
       "output_type": "pyout",
       "prompt_number": 9,
       "text": [
        "54"
       ]
      }
     ],
     "prompt_number": 9
    },
    {
     "cell_type": "code",
     "collapsed": false,
     "input": [
      "# I've developed some affection for how terrible this variable name is.\n",
      "\n",
      "justtoteimploy = {key.lower(): value for key, value in justtoteimploy.iteritems()}"
     ],
     "language": "python",
     "metadata": {},
     "outputs": [],
     "prompt_number": 10
    },
    {
     "cell_type": "code",
     "collapsed": false,
     "input": [
      "totalblsemp = sum([state.values()[0] for state in justtoteimploy.values()])\n",
      "\n",
      "with open('usplayerswithsoc.csv','rU') as allplayers:\n",
      "    allplayers = csv.reader(allplayers)\n",
      "    headers = next(allplayers)\n",
      "    folk = [row for row in allplayers]\n",
      "    \n",
      "states = justtoteimploy.keys()\n",
      "\n",
      "for key, value in justtoteimploy.iteritems():\n",
      "    value['jcount'] = 0\n",
      "\n",
      "for row in folk:\n",
      "    state = row[7]\n",
      "    justtoteimploy[state]['jcount'] += 1\n",
      "    \n",
      "    \n",
      "totaljeopardypeople = len(folk)\n",
      "\n",
      "print totalblsemp, totaljeopardypeople"
     ],
     "language": "python",
     "metadata": {},
     "outputs": [
      {
       "output_type": "stream",
       "stream": "stdout",
       "text": [
        "133614660 8451\n"
       ]
      }
     ],
     "prompt_number": 15
    },
    {
     "cell_type": "code",
     "collapsed": false,
     "input": [
      "for key, value in justtoteimploy.iteritems():\n",
      "    #print value\n",
      "    print justtoteimploy[key]['jprop']#float(value['jcount']) / totaljeopardypeople\n",
      "    print justtoteimploy[key]['blsprop']#float(value['TOT_EMP']) / totalblsemp"
     ],
     "language": "python",
     "metadata": {},
     "outputs": [],
     "prompt_number": 16
    },
    {
     "cell_type": "code",
     "collapsed": false,
     "input": [
      "with open('blsdatabystate.csv', 'w') as blsout:\n",
      "    blsout = csv.writer(blsout)\n",
      "    blsout.writerow(['state',justtoteimploy.values()])\n",
      "    # this is the most rediculous thing I've ever written.\n",
      "    # basically, make the dictionary IDs and value values into a list and write that crap\n",
      "    # meaning that this will grow as the values for the states are added to\n",
      "    blsout.writerows([[key] + value.values() for key, value in justtoteimploy.iteritems()])"
     ],
     "language": "python",
     "metadata": {},
     "outputs": []
    },
    {
     "cell_type": "markdown",
     "metadata": {},
     "source": [
      "# deprecated: looking at the player data"
     ]
    },
    {
     "cell_type": "code",
     "collapsed": false,
     "input": [
      "# first, get propotion information about the players/state thing."
     ],
     "language": "python",
     "metadata": {},
     "outputs": [],
     "prompt_number": 17
    },
    {
     "cell_type": "code",
     "collapsed": false,
     "input": [
      "players = {}\n",
      "\n",
      "files = getFiles('csvs2')\n",
      "for pfile in files:\n",
      "    # this should really be a function at some point.\n",
      "    playernum = getPlayerNum(pfile)\n",
      "    with open('csvs2/' + pfile,'rU') as playerinfo:\n",
      "        playerinfo = csv.reader(playerinfo)\n",
      "        bio = next(playerinfo)\n",
      "        gameinfo = next(playerinfo)\n",
      "        gameheaders = next(playerinfo)\n",
      "        games = [row for row in playerinfo]\n",
      "    players[playernum] = {'bio' = }"
     ],
     "language": "python",
     "metadata": {},
     "outputs": [],
     "prompt_number": 33
    },
    {
     "cell_type": "code",
     "collapsed": false,
     "input": [
      "justtoteimploy['Alabama']"
     ],
     "language": "python",
     "metadata": {},
     "outputs": [
      {
       "ename": "KeyError",
       "evalue": "'Alabama'",
       "output_type": "pyerr",
       "traceback": [
        "\u001b[0;31m---------------------------------------------------------------------------\u001b[0m\n\u001b[0;31mKeyError\u001b[0m                                  Traceback (most recent call last)",
        "\u001b[0;32m<ipython-input-14-23cd13e99d76>\u001b[0m in \u001b[0;36m<module>\u001b[0;34m()\u001b[0m\n\u001b[0;32m----> 1\u001b[0;31m \u001b[0mjusttoteimploy\u001b[0m\u001b[0;34m[\u001b[0m\u001b[0;34m'Alabama'\u001b[0m\u001b[0;34m]\u001b[0m\u001b[0;34m\u001b[0m\u001b[0m\n\u001b[0m",
        "\u001b[0;31mKeyError\u001b[0m: 'Alabama'"
       ]
      }
     ],
     "prompt_number": 14
    },
    {
     "cell_type": "markdown",
     "metadata": {},
     "source": [
      "# Cleaning out duplicates\n",
      "\n",
      "Defining a duplicate as someone having the same name and same amount of winnings"
     ]
    },
    {
     "cell_type": "code",
     "collapsed": false,
     "input": [
      "allplayers = {player['ID']: player for player in csv.DictReader(open('usplayerswithsoc.csv'))}"
     ],
     "language": "python",
     "metadata": {},
     "outputs": [],
     "prompt_number": 21
    },
    {
     "cell_type": "code",
     "collapsed": false,
     "input": [
      "names = {}\n",
      "\n",
      "count = 0\n",
      "\n",
      "dupeids = []\n",
      "\n",
      "for id, player in allplayers.iteritems():\n",
      "    if player['name'] in names and names[player['name']][0] == player['totalwinnings']:\n",
      "        print \"found dupe\"\n",
      "        print player\n",
      "        dupeids.append(id)\n",
      "        count +=1 \n",
      "    else:\n",
      "        names[player['name']] = [player['totalwinnings'],id]\n",
      "    \n"
     ],
     "language": "python",
     "metadata": {},
     "outputs": [
      {
       "output_type": "stream",
       "stream": "stdout",
       "text": [
        "found dupe\n",
        "{'loc': 'Lancaster, Pennsylvania', 'SOC': '', 'studentflag': '', 'name': 'Brad Rutter', 'numgames': '27', 'occ': 'TV quiz show host', 'state': 'pennsylvania', 'totalwinnings': '275427', 'year': '2000', 'main': '9999', 'ID': '622', 'sub': '9999'}\n",
        "found dupe\n",
        "{'loc': 'Austin, Texas', 'SOC': '58-Retired', 'studentflag': '', 'name': 'John Kelly', 'numgames': '2', 'occ': 'retired Air Force officer', 'state': 'texas', 'totalwinnings': '3598', 'year': '1992', 'main': '58', 'ID': '399', 'sub': 'Retired'}\n",
        "found dupe\n",
        "{'loc': 'Lancaster, Pennsylvania', 'SOC': '', 'studentflag': '', 'name': 'Brad Rutter', 'numgames': '27', 'occ': 'network administrator', 'state': 'pennsylvania', 'totalwinnings': '275427', 'year': '2000', 'main': '9999', 'ID': '690', 'sub': '9999'}\n",
        "found dupe\n",
        "{'loc': 'Los Angeles, California', 'SOC': '27-Writer', 'studentflag': '', 'name': 'Jerome Vered', 'numgames': '18', 'occ': 'writer', 'state': 'california', 'totalwinnings': '432000', 'year': '1992', 'main': '27', 'ID': '361', 'sub': 'Writer'}\n",
        "found dupe\n",
        "{'loc': 'Portland, Oregon', 'SOC': '27-Writer', 'studentflag': '', 'name': 'Ryan Holznagel', 'numgames': '12', 'occ': 'writer', 'state': 'oregon', 'totalwinnings': '146076', 'year': '1994', 'main': '27', 'ID': '819', 'sub': 'Writer'}\n",
        "found dupe\n",
        "{'loc': 'Charlotte, North Carolina', 'SOC': '', 'studentflag': '', 'name': 'Keith Whitener', 'numgames': '13', 'occ': 'research chemist', 'state': 'north carolina', 'totalwinnings': '325000', 'year': '2012', 'main': '9999', 'ID': '8197', 'sub': '9999'}\n",
        "found dupe\n",
        "{'loc': 'Vermillion, South Dakota', 'SOC': '', 'studentflag': '', 'name': 'Eric Newhouse', 'numgames': '11', 'occ': 'director of technical assistance', 'state': 'south dakota', 'totalwinnings': '110000', 'year': '1989', 'main': '9999', 'ID': '1138', 'sub': '9999'}\n",
        "found dupe\n",
        "{'loc': 'Lexington, Kentucky', 'SOC': '56-MiscStudent', 'studentflag': 'TRUE', 'name': 'John Zhang', 'numgames': '5', 'occ': 'freshman at MIT', 'state': 'kentucky', 'totalwinnings': '110000', 'year': '2003', 'main': '56', 'ID': '475', 'sub': 'MiscStudent'}\n",
        "found dupe\n",
        "{'loc': 'San Diego, California', 'SOC': '13-1161', 'studentflag': '', 'name': \"Leslie Burns-Dell'Acqua\", 'numgames': '2', 'occ': 'marketing consultant', 'state': 'california', 'totalwinnings': '200', 'year': '2005', 'main': '13', 'ID': '214', 'sub': '1161'}\n",
        "found dupe\n",
        "{'loc': 'Sioux City, Iowa', 'SOC': '', 'studentflag': '', 'name': 'Eric Newhouse', 'numgames': '11', 'occ': 'public policy coordinator', 'state': 'iowa', 'totalwinnings': '110000', 'year': '1989', 'main': '9999', 'ID': '1112', 'sub': '9999'}\n",
        "found dupe\n",
        "{'loc': 'Hereford, Maryland', 'SOC': '15-1131CU', 'studentflag': '', 'name': 'Travis Troyer', 'numgames': '7', 'occ': 'software engineer', 'state': 'maryland', 'totalwinnings': '77000', 'year': '2003', 'main': '15', 'ID': '2763', 'sub': '1131CU'}\n",
        "found dupe\n",
        "{'loc': 'Somers, New York', 'SOC': '56-MiscStudent', 'studentflag': 'TRUE', 'name': 'Sahir Islam', 'numgames': '7', 'occ': 'senior', 'state': 'new york', 'totalwinnings': '84000', 'year': '1997', 'main': '56', 'ID': '2570', 'sub': 'MiscStudent'}\n",
        "found dupe\n",
        "{'loc': 'Flushing, New York', 'SOC': '33-3051CU', 'studentflag': '', 'name': 'Frank Spangenberg', 'numgames': '17', 'occ': 'police officer', 'state': 'new york', 'totalwinnings': '268583', 'year': '1990', 'main': '33', 'ID': '1468', 'sub': '3051CU'}\n",
        "found dupe\n",
        "{'loc': 'Concord, California', 'SOC': '', 'studentflag': '', 'name': 'Richard Neale', 'numgames': '3', 'occ': \"taxpayers' service representative\", 'state': 'california', 'totalwinnings': '30000', 'year': '1990', 'main': '9999', 'ID': '1461', 'sub': '9999'}\n",
        "found dupe\n",
        "{'loc': 'Somers, New York', 'SOC': '', 'studentflag': '', 'name': 'Sahir Islam', 'numgames': '7', 'occ': 'investment analyst', 'state': 'new york', 'totalwinnings': '84000', 'year': '1997', 'main': '9999', 'ID': '319', 'sub': '9999'}\n",
        "found dupe\n",
        "{'loc': 'Douglaston, New York', 'SOC': '', 'studentflag': '', 'name': 'Frank Spangenberg', 'numgames': '17', 'occ': 'transit cop', 'state': 'new york', 'totalwinnings': '268583', 'year': '1990', 'main': '9999', 'ID': '313', 'sub': '9999'}\n",
        "found dupe\n",
        "{'loc': 'Los Angeles, California', 'SOC': '27-Writer', 'studentflag': '', 'name': 'Bob Harris', 'numgames': '14', 'occ': 'writer', 'state': 'california', 'totalwinnings': '134400', 'year': '1997', 'main': '27', 'ID': '310', 'sub': 'Writer'}\n",
        "found dupe\n",
        "{'loc': 'Louisville, Kentucky', 'SOC': '', 'studentflag': '', 'name': 'Chris Miller', 'numgames': '13', 'occ': 'retail specialist', 'state': 'kentucky', 'totalwinnings': '473187', 'year': '2004', 'main': '9999', 'ID': '6290', 'sub': '9999'}\n",
        "found dupe\n",
        "{'loc': 'Miami Beach, Florida', 'SOC': '', 'studentflag': '', 'name': 'Lionel Goldbart', 'numgames': '4', 'occ': 'part-time newsstand clerk', 'state': 'florida', 'totalwinnings': '20000', 'year': '1986', 'main': '9999', 'ID': '2749', 'sub': '9999'}\n",
        "found dupe\n",
        "{'loc': 'Peoria, Arizona', 'SOC': '', 'studentflag': '', 'name': 'Mark Brown', 'numgames': '7', 'occ': 'administrative assistant and father', 'state': 'arizona', 'totalwinnings': '139993', 'year': '2002', 'main': '9999', 'ID': '5202', 'sub': '9999'}\n",
        "found dupe\n",
        "{'loc': 'Flagstaff, Arizona', 'SOC': '', 'studentflag': '', 'name': 'Leszek Pawlowicz', 'numgames': '10', 'occ': 'shovel bum', 'state': 'arizona', 'totalwinnings': '154010', 'year': '1991', 'main': '9999', 'ID': '8905', 'sub': '9999'}\n",
        "found dupe\n",
        "{'loc': 'Hayward, California', 'SOC': '58-Retired', 'studentflag': '', 'name': 'Leslie Frates', 'numgames': '11', 'occ': 'retired Spanish teacher', 'state': 'california', 'totalwinnings': '77000', 'year': '1991', 'main': '58', 'ID': '8906', 'sub': 'Retired'}\n",
        "found dupe\n",
        "{'loc': 'Madison, Indiana', 'SOC': '27-3041', 'studentflag': '', 'name': 'India Cooper', 'numgames': '8', 'occ': 'copy editor', 'state': 'indiana', 'totalwinnings': '104800', 'year': '1991', 'main': '27', 'ID': '8903', 'sub': '3041'}\n",
        "found dupe\n",
        "{'loc': 'Marietta, Georgia', 'SOC': '', 'studentflag': '', 'name': 'Robin Carroll', 'numgames': '16', 'occ': 'researcher', 'state': 'georgia', 'totalwinnings': '240000', 'year': '2000', 'main': '9999', 'ID': '591', 'sub': '9999'}\n",
        "found dupe\n",
        "{'loc': 'Atlanta, Georgia', 'SOC': '11-MedicalStu', 'studentflag': '', 'name': 'Peggi Malys', 'numgames': '3', 'occ': 'medical student', 'state': 'georgia', 'totalwinnings': '10800', 'year': '101990', 'main': '11', 'ID': '3969', 'sub': 'MedicalStu'}\n",
        "found dupe\n",
        "{'loc': 'Gainesville, Florida', 'SOC': '23-1011', 'studentflag': '', 'name': 'Michael Dup\\xef\\xbf\\xbde', 'numgames': '11', 'occ': 'attorney', 'state': 'florida', 'totalwinnings': '173800', 'year': '1996', 'main': '23', 'ID': '338', 'sub': '1011'}\n",
        "found dupe\n",
        "{'loc': 'Lexington, Kentucky', 'SOC': '56-MiscStudent', 'studentflag': 'TRUE', 'name': 'Kermin Fleming', 'numgames': '6', 'occ': 'junior at Carnegie Mellon University', 'state': 'kentucky', 'totalwinnings': '189252', 'year': '2004', 'main': '56', 'ID': '335', 'sub': 'MiscStudent'}\n",
        "found dupe\n",
        "{'loc': 'Sioux City, Iowa', 'SOC': '56-MiscStudent', 'studentflag': '', 'name': 'Eric Newhouse', 'numgames': '11', 'occ': 'student', 'state': 'iowa', 'totalwinnings': '110000', 'year': '1989', 'main': '56', 'ID': '1935', 'sub': 'MiscStudent'}\n",
        "found dupe\n",
        "{'loc': 'Hayward, California', 'SOC': '25-1124', 'studentflag': '', 'name': 'Leslie Frates', 'numgames': '11', 'occ': 'Spanish teacher', 'state': 'california', 'totalwinnings': '77000', 'year': '1991', 'main': '25', 'ID': '4005', 'sub': '1124'}\n",
        "found dupe\n",
        "{'loc': 'Rohnert Park, California', 'SOC': '', 'studentflag': '', 'name': 'Michael Rankins', 'numgames': '5', 'occ': 'minister and sales representative', 'state': 'california', 'totalwinnings': '69005', 'year': '101990', 'main': '9999', 'ID': '3971', 'sub': '9999'}\n",
        "found dupe\n",
        "{'loc': 'Fairview Park, Ohio', 'SOC': '25-MiscTeacher', 'studentflag': '', 'name': 'Roger Storm', 'numgames': '6', 'occ': 'teacher', 'state': 'ohio', 'totalwinnings': '22794', 'year': '1986', 'main': '25', 'ID': '2469', 'sub': 'MiscTeacher'}\n",
        "found dupe\n",
        "{'loc': 'Denver, Colorado', 'SOC': '', 'studentflag': '', 'name': 'Jim Stalley', 'numgames': '6', 'occ': 'crime data specialist', 'state': 'colorado', 'totalwinnings': '107400', 'year': '2003', 'main': '9999', 'ID': '5340', 'sub': '9999'}\n",
        "found dupe\n",
        "{'loc': 'Washington, D.C', 'SOC': '13-2031', 'studentflag': '', 'name': 'Trevor Norris', 'numgames': '8', 'occ': 'budget analyst', 'state': 'washington', 'totalwinnings': '113608', 'year': '2001', 'main': '13', 'ID': '573', 'sub': '2031'}\n",
        "found dupe\n",
        "{'loc': 'Sioux City, Iowa', 'SOC': '', 'studentflag': '', 'name': 'Eric Newhouse', 'numgames': '11', 'occ': 'director of technical assistance', 'state': 'iowa', 'totalwinnings': '110000', 'year': '1989', 'main': '9999', 'ID': '608', 'sub': '9999'}\n",
        "found dupe\n",
        "{'loc': 'Fairview Park, Ohio', 'SOC': '25-MiscTeacher', 'studentflag': '', 'name': 'Roger Storm', 'numgames': '6', 'occ': 'teacher', 'state': 'ohio', 'totalwinnings': '22794', 'year': '1986', 'main': '25', 'ID': '5885', 'sub': 'MiscTeacher'}\n",
        "found dupe\n",
        "{'loc': 'Cambridge, Massachusetts', 'SOC': '', 'studentflag': '', 'name': 'Leah Greenwald', 'numgames': '9', 'occ': 'architect', 'state': 'massachusetts', 'totalwinnings': '99000', 'year': '1988', 'main': '9999', 'ID': '359', 'sub': '9999'}\n",
        "found dupe\n",
        "{'loc': 'Columbia, Maryland', 'SOC': '23-2011', 'studentflag': '', 'name': 'Jim Scott', 'numgames': '7', 'occ': 'legal assistant', 'state': 'maryland', 'totalwinnings': '32200', 'year': '1990', 'main': '23', 'ID': '4024', 'sub': '2011'}\n",
        "found dupe\n",
        "{'loc': 'Scottsdale, Arizona', 'SOC': '13-1161', 'studentflag': '', 'name': 'Steve Robin', 'numgames': '5', 'occ': 'marketing consultant', 'state': 'arizona', 'totalwinnings': '71500', 'year': '1991', 'main': '13', 'ID': '4025', 'sub': '1161'}\n",
        "found dupe\n",
        "{'loc': 'Atlanta, Georgia', 'SOC': '56-MiscStudent', 'studentflag': '', 'name': 'Scott Gillispie', 'numgames': '5', 'occ': 'graduate student and College Tournament winner', 'state': 'georgia', 'totalwinnings': '106500', 'year': '1991', 'main': '56', 'ID': '4021', 'sub': 'MiscStudent'}\n",
        "found dupe\n",
        "{'loc': 'West Hollywood, California', 'SOC': '23-LawStudent', 'studentflag': '', 'name': 'Jeff Richmond', 'numgames': '6', 'occ': 'law student', 'state': 'california', 'totalwinnings': '91194', 'year': '111990', 'main': '23', 'ID': '3998', 'sub': 'LawStudent'}\n",
        "found dupe\n",
        "{'loc': 'Houston, Texas', 'SOC': '', 'studentflag': '', 'name': 'Babu Srinivasan', 'numgames': '10', 'occ': 'history professor', 'state': 'texas', 'totalwinnings': '113000', 'year': '2001', 'main': '9999', 'ID': '297', 'sub': '9999'}\n",
        "found dupe\n",
        "{'loc': 'Washington, D.C', 'SOC': '23-1011', 'studentflag': '', 'name': 'Rachael Schwartz', 'numgames': '9', 'occ': 'lawyer', 'state': 'washington', 'totalwinnings': '88200', 'year': '1993', 'main': '23', 'ID': '292', 'sub': '1011'}\n",
        "found dupe\n",
        "{'loc': 'Rohnert Park, California', 'SOC': '', 'studentflag': '', 'name': 'Michael Rankins', 'numgames': '5', 'occ': 'minister and writer', 'state': 'california', 'totalwinnings': '69005', 'year': '101990', 'main': '9999', 'ID': '293', 'sub': '9999'}\n",
        "found dupe\n",
        "{'loc': 'Oak Hill, Virginia', 'SOC': '', 'studentflag': '', 'name': 'Eddie Timanus', 'numgames': '10', 'occ': 'sports writer', 'state': 'virginia', 'totalwinnings': '144000', 'year': '1999', 'main': '9999', 'ID': '8943', 'sub': '9999'}\n",
        "found dupe\n",
        "{'loc': 'Mountain View, California', 'SOC': '', 'studentflag': '', 'name': 'Rachael Schwartz', 'numgames': '9', 'occ': 'bioscience Ph.D. program applicant', 'state': 'california', 'totalwinnings': '88200', 'year': '1993', 'main': '9999', 'ID': '8945', 'sub': '9999'}\n",
        "found dupe\n",
        "{'loc': 'Cypress, Texas', 'SOC': '', 'studentflag': '', 'name': 'Babu Srinivasan', 'numgames': '10', 'occ': 'history professor', 'state': 'texas', 'totalwinnings': '113000', 'year': '2001', 'main': '9999', 'ID': '8944', 'sub': '9999'}\n",
        "found dupe\n",
        "{'loc': 'Little Rock, Arkansas', 'SOC': '29-1069', 'studentflag': '', 'name': 'Shane Whitlock', 'numgames': '9', 'occ': 'radiologist', 'state': 'arkansas', 'totalwinnings': '138609', 'year': '1996', 'main': '29', 'ID': '8949', 'sub': '1069'}\n",
        "found dupe\n",
        "{'loc': 'Inglewood, California', 'SOC': '59-Consultant', 'studentflag': '', 'name': 'Larry Cloud', 'numgames': '8', 'occ': 'bookkeeper and computer consultant', 'state': 'california', 'totalwinnings': '139200', 'year': '2001', 'main': '59', 'ID': '553', 'sub': 'Consultant'}\n",
        "found dupe\n",
        "{'loc': 'New York City, New York', 'SOC': '', 'studentflag': '', 'name': 'Bob Verini', 'numgames': '16', 'occ': 'playwright and actor', 'state': 'new york', 'totalwinnings': '172784', 'year': '11990', 'main': '9999', 'ID': '6145', 'sub': '9999'}\n",
        "found dupe\n",
        "{'loc': 'Champaign, Illinois', 'SOC': '', 'studentflag': '', 'name': 'Lance Johnson', 'numgames': '8', 'occ': 'warehouse associate', 'state': 'illinois', 'totalwinnings': '84792', 'year': '1998', 'main': '9999', 'ID': '2272', 'sub': '9999'}\n",
        "found dupe\n",
        "{'loc': 'Houston, Texas', 'SOC': '', 'studentflag': '', 'name': 'Babu Srinivasan', 'numgames': '10', 'occ': 'history professor', 'state': 'texas', 'totalwinnings': '113000', 'year': '2001', 'main': '9999', 'ID': '2051', 'sub': '9999'}\n",
        "found dupe\n",
        "{'loc': 'Austin, Texas', 'SOC': '57-ProjMgr', 'studentflag': '', 'name': 'Andrew Garen', 'numgames': '7', 'occ': 'project manager', 'state': 'texas', 'totalwinnings': '105000', 'year': '2000', 'main': '57', 'ID': '2053', 'sub': 'ProjMgr'}\n",
        "found dupe\n",
        "{'loc': 'Wilmette, Illinois', 'SOC': '56-MiscStudent', 'studentflag': '', 'name': 'Pam Mueller', 'numgames': '14', 'occ': 'college student', 'state': 'illinois', 'totalwinnings': '109214', 'year': '2000', 'main': '56', 'ID': '2052', 'sub': 'MiscStudent'}\n",
        "found dupe\n",
        "{'loc': 'Wichita, Kansas', 'SOC': '43-6011', 'studentflag': '', 'name': 'Michelle Clum', 'numgames': '7', 'occ': 'executive assistant', 'state': 'kansas', 'totalwinnings': '26593', 'year': '2000', 'main': '43', 'ID': '2055', 'sub': '6011'}\n",
        "found dupe\n",
        "{'loc': 'Arlington, Virginia', 'SOC': '27-3022CU', 'studentflag': '', 'name': 'Michael Arnone', 'numgames': '7', 'occ': 'reporter', 'state': 'virginia', 'totalwinnings': '23100', 'year': '2001', 'main': '27', 'ID': '2056', 'sub': '3022CU'}\n",
        "found dupe\n",
        "{'loc': 'Metairie, Louisiana', 'SOC': '25-MiscTeacher', 'studentflag': '', 'name': 'Ouida Rellstab', 'numgames': '7', 'occ': 'teacher and Seniors Tournament winner', 'state': 'louisiana', 'totalwinnings': '74907', 'year': '11990', 'main': '25', 'ID': '804', 'sub': 'MiscTeacher'}\n",
        "found dupe\n",
        "{'loc': 'Medford Lakes, New Jersey', 'SOC': '25-MiscTeacher', 'studentflag': '', 'name': 'Dave Traini', 'numgames': '12', 'occ': 'teacher', 'state': 'new jersey', 'totalwinnings': '175212', 'year': '121990', 'main': '25', 'ID': '6967', 'sub': 'MiscTeacher'}\n",
        "found dupe\n",
        "{'loc': 'Forest Grove, Oregon', 'SOC': '', 'studentflag': '', 'name': 'Ryan Holznagel', 'numgames': '12', 'occ': 'software writer', 'state': 'oregon', 'totalwinnings': '146076', 'year': '1994', 'main': '9999', 'ID': '415', 'sub': '9999'}\n",
        "found dupe\n",
        "{'loc': 'Pasadena, California', 'SOC': '25-Prof', 'studentflag': '', 'name': 'Michael Rooney', 'numgames': '10', 'occ': 'college professor', 'state': 'california', 'totalwinnings': '88000', 'year': '1999', 'main': '25', 'ID': '417', 'sub': 'Prof'}\n",
        "found dupe\n",
        "{'loc': 'Boston, Massachusetts', 'SOC': '11-MedicalStu', 'studentflag': '', 'name': 'Wes Ulm', 'numgames': '6', 'occ': 'medical student', 'state': 'massachusetts', 'totalwinnings': '103200', 'year': '1997', 'main': '11', 'ID': '2422', 'sub': 'MedicalStu'}\n",
        "found dupe\n",
        "{'loc': 'Grand Blanc, Michigan', 'SOC': '56-MiscStudent', 'studentflag': '', 'name': 'Chuck Forrest', 'numgames': '16', 'occ': 'student', 'state': 'michigan', 'totalwinnings': '288000', 'year': '1985', 'main': '56', 'ID': '534', 'sub': 'MiscStudent'}\n",
        "found dupe\n",
        "{'loc': 'New York, New York', 'SOC': '23-1011', 'studentflag': '', 'name': 'Tom Halpern', 'numgames': '2', 'occ': 'lawyer', 'state': 'new york', 'totalwinnings': '5600', 'year': '1991', 'main': '23', 'ID': '538', 'sub': '1011'}\n",
        "found dupe\n",
        "{'loc': 'Newark, Delaware', 'SOC': '15-1111', 'studentflag': '', 'name': 'Roger Craig', 'numgames': '16', 'occ': 'computer scientist', 'state': 'delaware', 'totalwinnings': '592000', 'year': '2010', 'main': '15', 'ID': '7549', 'sub': '1111'}\n",
        "found dupe\n",
        "{'loc': 'Raleigh, North Carolina', 'SOC': '23-1011', 'studentflag': '', 'name': 'Ron Black', 'numgames': '3', 'occ': 'attorney', 'state': 'north carolina', 'totalwinnings': '36000', 'year': '1985', 'main': '23', 'ID': '6160', 'sub': '1011'}\n",
        "found dupe\n",
        "{'loc': 'Oak Park, Illinois', 'SOC': '', 'studentflag': '', 'name': 'Jean Grewe', 'numgames': '4', 'occ': 'typesetter', 'state': 'illinois', 'totalwinnings': '16000', 'year': '1993', 'main': '9999', 'ID': '7302', 'sub': '9999'}\n",
        "found dupe\n",
        "{'loc': 'Anchorage, Alaska', 'SOC': '', 'studentflag': '', 'name': 'Brian Meacham', 'numgames': '6', 'occ': 'film preservationist', 'state': 'alaska', 'totalwinnings': '170400', 'year': '2011', 'main': '9999', 'ID': '7308', 'sub': '9999'}\n",
        "found dupe\n",
        "{'loc': 'Tucson, Arizona', 'SOC': '29-2041', 'studentflag': '', 'name': 'Craig Westphal', 'numgames': '8', 'occ': 'paramedic', 'state': 'arizona', 'totalwinnings': '212800', 'year': '2006', 'main': '29', 'ID': '4350', 'sub': '2041'}\n",
        "found dupe\n",
        "{'loc': 'Philadelphia, Pennsylvania', 'SOC': '58-RecentGrad', 'studentflag': '', 'name': 'Celeste DiNucci', 'numgames': '11', 'occ': 'recent graduate student', 'state': 'pennsylvania', 'totalwinnings': '116600', 'year': '2006', 'main': '58', 'ID': '4352', 'sub': 'RecentGrad'}\n",
        "found dupe\n",
        "{'loc': 'Reston, Virginia', 'SOC': '27-3022', 'studentflag': '', 'name': 'Eddie Timanus', 'numgames': '10', 'occ': 'sportswriter', 'state': 'virginia', 'totalwinnings': '144000', 'year': '1999', 'main': '27', 'ID': '439', 'sub': '3022'}\n",
        "found dupe\n",
        "{'loc': 'Columbus, Ohio', 'SOC': '', 'studentflag': '', 'name': 'Doug Lach', 'numgames': '7', 'occ': 'product development manager', 'state': 'ohio', 'totalwinnings': '111300', 'year': '2000', 'main': '9999', 'ID': '433', 'sub': '9999'}\n",
        "found dupe\n",
        "{'loc': 'Los Angeles, California', 'SOC': '23-2011', 'studentflag': '', 'name': 'David Siegel', 'numgames': '5', 'occ': 'paralegal', 'state': 'california', 'totalwinnings': '65000', 'year': '1995', 'main': '23', 'ID': '430', 'sub': '2011'}\n",
        "found dupe\n",
        "{'loc': 'Chicago, Illinois', 'SOC': '', 'studentflag': '', 'name': 'Jackie Harrison', 'numgames': '6', 'occ': 'surgeon', 'state': 'illinois', 'totalwinnings': '146406', 'year': '2003', 'main': '9999', 'ID': '5702', 'sub': '9999'}\n",
        "found dupe\n",
        "{'loc': 'Gardena, California', 'SOC': '43-5052', 'studentflag': '', 'name': 'Steve Rogitz', 'numgames': '6', 'occ': 'letter carrier', 'state': 'california', 'totalwinnings': '42000', 'year': '11990', 'main': '43', 'ID': '1835', 'sub': '5052'}\n",
        "found dupe\n",
        "{'loc': 'Lexington, Kentucky', 'SOC': '56-MiscStudent', 'studentflag': '', 'name': 'Kermin Fleming', 'numgames': '6', 'occ': 'student', 'state': 'kentucky', 'totalwinnings': '189252', 'year': '2004', 'main': '56', 'ID': '1950', 'sub': 'MiscStudent'}\n",
        "found dupe\n",
        "{'loc': 'Austin, Texas', 'SOC': '11-MedicalStu', 'studentflag': '', 'name': 'Vik Vaz', 'numgames': '8', 'occ': 'medical student', 'state': 'texas', 'totalwinnings': '185608', 'year': '2005', 'main': '11', 'ID': '1959', 'sub': 'MedicalStu'}\n",
        "found dupe\n",
        "{'loc': 'Fairfax, Virginia', 'SOC': '56-MiscStudent', 'studentflag': 'TRUE', 'name': 'Jamie Weiss', 'numgames': '5', 'occ': \"high school senior and winner of last year's Teen Tournament\", 'state': 'virginia', 'totalwinnings': '70000', 'year': '1990', 'main': '56', 'ID': '1485', 'sub': 'MiscStudent'}\n",
        "found dupe\n",
        "{'loc': 'Columbus, Ohio', 'SOC': '', 'studentflag': '', 'name': 'Pat Pauken', 'numgames': '3', 'occ': 'attorney and educator', 'state': 'ohio', 'totalwinnings': '14400', 'year': '1997', 'main': '9999', 'ID': '1271', 'sub': '9999'}\n",
        "found dupe\n",
        "{'loc': 'New York, New York', 'SOC': '', 'studentflag': '', 'name': 'Fred Ramen', 'numgames': '9', 'occ': 'assistant editor', 'state': 'new york', 'totalwinnings': '115200', 'year': '1997', 'main': '9999', 'ID': '518', 'sub': '9999'}\n",
        "found dupe\n",
        "{'loc': 'Northbrook, Illinois', 'SOC': '27-Writer', 'studentflag': '', 'name': 'Eugene Finerman', 'numgames': '8', 'occ': 'writer', 'state': 'illinois', 'totalwinnings': '31200', 'year': '1987', 'main': '27', 'ID': '510', 'sub': 'Writer'}\n",
        "found dupe\n",
        "{'loc': 'Hillsdale, Michigan', 'SOC': '25-Prof', 'studentflag': '', 'name': 'Bruce Ikawa', 'numgames': '2', 'occ': 'college professor', 'state': 'michigan', 'totalwinnings': '17600', 'year': '1991', 'main': '25', 'ID': '514', 'sub': 'Prof'}\n",
        "found dupe\n",
        "{'loc': 'New York City, New York', 'SOC': '', 'studentflag': '', 'name': 'Fred Ramen', 'numgames': '9', 'occ': 'assistant editor', 'state': 'new york', 'totalwinnings': '115200', 'year': '1997', 'main': '9999', 'ID': '623', 'sub': '9999'}\n",
        "found dupe\n",
        "{'loc': 'Lancaster, Pennsylvania', 'SOC': '', 'studentflag': '', 'name': 'Brad Rutter', 'numgames': '27', 'occ': 'network administrator', 'state': 'pennsylvania', 'totalwinnings': '275427', 'year': '2000', 'main': '9999', 'ID': '629', 'sub': '9999'}\n",
        "found dupe\n",
        "{'loc': 'Los Angeles, California', 'SOC': '', 'studentflag': '', 'name': 'Lisa Klink', 'numgames': '7', 'occ': 'TV writer', 'state': 'california', 'totalwinnings': '86100', 'year': '2007', 'main': '9999', 'ID': '5933', 'sub': '9999'}\n",
        "found dupe\n",
        "{'loc': 'Boston, Massachusetts', 'SOC': '56-GradStu', 'studentflag': '', 'name': 'Erik Nelson', 'numgames': '6', 'occ': 'grad student', 'state': 'massachusetts', 'totalwinnings': '151206', 'year': '2008', 'main': '56', 'ID': '5939', 'sub': 'GradStu'}\n",
        "found dupe\n",
        "{'loc': 'Laurel, Maryland', 'SOC': '56-MiscStudent', 'studentflag': 'TRUE', 'name': 'Vinita Kailasanath', 'numgames': '9', 'occ': 'sophomore at Stanford University', 'state': 'maryland', 'totalwinnings': '92700', 'year': '2001', 'main': '56', 'ID': '2090', 'sub': 'MiscStudent'}\n",
        "found dupe\n",
        "{'loc': 'Brooklyn, New York', 'SOC': '25-MiscTeacher', 'studentflag': '', 'name': 'Maria Wenglinsky', 'numgames': '9', 'occ': 'teacher', 'state': 'new york', 'totalwinnings': '54000', 'year': '2005', 'main': '25', 'ID': '9007', 'sub': 'MiscTeacher'}\n",
        "found dupe\n",
        "{'loc': 'Washington, D.C', 'SOC': '', 'studentflag': '', 'name': 'Keith Whitener', 'numgames': '13', 'occ': 'research chemist', 'state': 'washington', 'totalwinnings': '325000', 'year': '2012', 'main': '9999', 'ID': '9006', 'sub': '9999'}\n",
        "found dupe\n",
        "{'loc': 'Richmond, California', 'SOC': '', 'studentflag': '', 'name': 'Larissa Kelly', 'numgames': '12', 'occ': 'editor for academic competitions', 'state': 'california', 'totalwinnings': '542400', 'year': '2008', 'main': '9999', 'ID': '9004', 'sub': '9999'}\n",
        "found dupe\n",
        "{'loc': 'Seattle, Washington', 'SOC': '27-Writer', 'studentflag': '', 'name': 'Tom Nissley', 'numgames': '14', 'occ': 'writer', 'state': 'washington', 'totalwinnings': '347214', 'year': '2010', 'main': '27', 'ID': '9000', 'sub': 'Writer'}\n",
        "found dupe\n",
        "{'loc': 'Washington, D.C', 'SOC': '23-1011', 'studentflag': '', 'name': 'Vinita Kailasanath', 'numgames': '9', 'occ': 'attorney', 'state': 'washington', 'totalwinnings': '92700', 'year': '2001', 'main': '23', 'ID': '9009', 'sub': '1011'}\n",
        "found dupe\n",
        "{'loc': 'Cleveland, Ohio', 'SOC': '', 'studentflag': '', 'name': 'Bob Harris', 'numgames': '14', 'occ': 'political humorist', 'state': 'ohio', 'totalwinnings': '134400', 'year': '1997', 'main': '9999', 'ID': '1034', 'sub': '9999'}\n",
        "found dupe\n",
        "{'loc': 'West Hollywood, California', 'SOC': '19-3051', 'studentflag': '', 'name': 'Jeff Richmond', 'numgames': '6', 'occ': 'city planner', 'state': 'california', 'totalwinnings': '91194', 'year': '111990', 'main': '19', 'ID': '8665', 'sub': '3051'}\n",
        "found dupe\n",
        "{'loc': 'Cleveland, Ohio', 'SOC': '27-Writer', 'studentflag': '', 'name': 'Bob Harris', 'numgames': '14', 'occ': 'writer', 'state': 'ohio', 'totalwinnings': '134400', 'year': '1997', 'main': '27', 'ID': '2396', 'sub': 'Writer'}\n",
        "found dupe\n",
        "{'loc': 'Los Angeles, California', 'SOC': '', 'studentflag': '', 'name': 'Jonathan Groff', 'numgames': '4', 'occ': 'writer and producer for television', 'state': 'california', 'totalwinnings': '30800', 'year': '1995', 'main': '9999', 'ID': '469', 'sub': '9999'}\n",
        "found dupe\n",
        "{'loc': 'Oak Park, Illinois', 'SOC': '27-1024', 'studentflag': '', 'name': 'Jean Grewe', 'numgames': '4', 'occ': 'graphic designer', 'state': 'illinois', 'totalwinnings': '16000', 'year': '1993', 'main': '27', 'ID': '467', 'sub': '1024'}\n",
        "found dupe\n",
        "{'loc': 'Maplewood, New Jersey', 'SOC': '56-MiscStudent', 'studentflag': 'TRUE', 'name': 'David Javerbaum', 'numgames': '4', 'occ': 'junior', 'state': 'new jersey', 'totalwinnings': '32000', 'year': '1988', 'main': '56', 'ID': '8413', 'sub': 'MiscStudent'}\n",
        "found dupe\n",
        "{'loc': 'Katy, Texas', 'SOC': '56-MiscStudent', 'studentflag': 'TRUE', 'name': 'Kyle Hale', 'numgames': '7', 'occ': 'senior at Texas A&M University', 'state': 'texas', 'totalwinnings': '88900', 'year': '2002', 'main': '56', 'ID': '5914', 'sub': 'MiscStudent'}\n",
        "found dupe\n",
        "{'loc': 'St. Louis, Missouri', 'SOC': '', 'studentflag': '', 'name': 'Tom Kavanaugh', 'numgames': '11', 'occ': 'kickball team captain', 'state': 'missouri', 'totalwinnings': '308000', 'year': '2005', 'main': '9999', 'ID': '1972', 'sub': '9999'}\n",
        "found dupe\n",
        "{'loc': 'Bedford, Massachusetts', 'SOC': '15-1131CU', 'studentflag': '', 'name': 'Mark Eckard', 'numgames': '9', 'occ': 'software engineer', 'state': 'massachusetts', 'totalwinnings': '160200', 'year': '2001', 'main': '15', 'ID': '2615', 'sub': '1131CU'}\n",
        "found dupe\n",
        "{'loc': 'Jasper, Indiana', 'SOC': '27-2099CU', 'studentflag': '', 'name': 'Jason McCune', 'numgames': '6', 'occ': 'actor', 'state': 'indiana', 'totalwinnings': '73446', 'year': '2002', 'main': '27', 'ID': '2941', 'sub': '2099CU'}\n",
        "found dupe\n",
        "{'loc': 'Merrick, New York', 'SOC': '56-MiscStudent', 'studentflag': 'TRUE', 'name': 'Cassie Hill', 'numgames': '2', 'occ': '12-year-old', 'state': 'new york', 'totalwinnings': '10402', 'year': '1999', 'main': '56', 'ID': '4311', 'sub': 'MiscStudent'}\n",
        "found dupe\n",
        "{'loc': 'Lynchburg, Virginia', 'SOC': '56-MiscStudent', 'studentflag': 'TRUE', 'name': 'Graham Gilmer', 'numgames': '5', 'occ': 'senior', 'state': 'virginia', 'totalwinnings': '58915', 'year': '2001', 'main': '56', 'ID': '3113', 'sub': 'MiscStudent'}\n",
        "found dupe\n",
        "{'loc': 'Los Angeles, California', 'SOC': '33-9032', 'studentflag': '', 'name': 'Phillip Steele', 'numgames': '6', 'occ': 'security officer', 'state': 'california', 'totalwinnings': '56388', 'year': '2002', 'main': '33', 'ID': '5263', 'sub': '9032'}\n",
        "found dupe\n",
        "{'loc': 'Philadelphia, Pennsylvania', 'SOC': '56-GradStu', 'studentflag': '', 'name': 'Celeste DiNucci', 'numgames': '11', 'occ': 'grad student', 'state': 'pennsylvania', 'totalwinnings': '116600', 'year': '2006', 'main': '56', 'ID': '2371', 'sub': 'GradStu'}\n",
        "found dupe\n",
        "{'loc': 'Austin, Texas', 'SOC': '25-Prof', 'studentflag': '', 'name': 'Doug Dorst', 'numgames': '5', 'occ': 'writer and professor', 'state': 'texas', 'totalwinnings': '150005', 'year': '2006', 'main': '25', 'ID': '1870', 'sub': 'Prof'}\n",
        "found dupe\n",
        "{'loc': 'Flagstaff, Arizona', 'SOC': '15-1131CU', 'studentflag': '', 'name': 'Leszek Pawlowicz', 'numgames': '10', 'occ': 'computer consultant', 'state': 'arizona', 'totalwinnings': '154010', 'year': '1991', 'main': '15', 'ID': '356', 'sub': '1131CU'}\n",
        "found dupe\n",
        "{'loc': 'Davis, California', 'SOC': '', 'studentflag': '', 'name': 'Al Lin', 'numgames': '3', 'occ': 'law professor', 'state': 'california', 'totalwinnings': '31203', 'year': '1993', 'main': '9999', 'ID': '354', 'sub': '9999'}\n",
        "found dupe\n",
        "{'loc': 'Piedmont, California', 'SOC': '27-Writer', 'studentflag': '', 'name': 'Bruce Seymour', 'numgames': '9', 'occ': 'writer', 'state': 'california', 'totalwinnings': '136710', 'year': '131990', 'main': '27', 'ID': '353', 'sub': 'Writer'}\n",
        "found dupe\n",
        "{'loc': 'Boston, Massachusetts', 'SOC': '', 'studentflag': '', 'name': 'Sandra Gore', 'numgames': '7', 'occ': 'researcher', 'state': 'massachusetts', 'totalwinnings': '110614', 'year': '111990', 'main': '9999', 'ID': '352', 'sub': '9999'}\n",
        "found dupe\n",
        "{'loc': 'Staten Island, New York', 'SOC': '56-MiscStudent', 'studentflag': '', 'name': 'Michael Block', 'numgames': '5', 'occ': 'student and winner of the 1988 Teen Tournament', 'state': 'new york', 'totalwinnings': '56005', 'year': '1988', 'main': '56', 'ID': '351', 'sub': 'MiscStudent'}\n",
        "found dupe\n",
        "{'loc': 'Torrance, California', 'SOC': '', 'studentflag': '', 'name': 'John Beck', 'numgames': '8', 'occ': 'creative director', 'state': 'california', 'totalwinnings': '249600', 'year': '2003', 'main': '9999', 'ID': '350', 'sub': '9999'}\n",
        "found dupe\n",
        "{'loc': 'Denver, Colorado', 'SOC': '', 'studentflag': '', 'name': 'India Cooper', 'numgames': '8', 'occ': 'actor and copy editor', 'state': 'colorado', 'totalwinnings': '104800', 'year': '1991', 'main': '9999', 'ID': '668', 'sub': '9999'}\n",
        "found dupe\n",
        "{'loc': 'Bedford, Massachusetts', 'SOC': '', 'studentflag': '', 'name': 'Mark Eckard', 'numgames': '9', 'occ': 'software designer', 'state': 'massachusetts', 'totalwinnings': '160200', 'year': '2001', 'main': '9999', 'ID': '663', 'sub': '9999'}\n",
        "found dupe\n",
        "{'loc': 'Atlanta, Georgia', 'SOC': '23-1011', 'studentflag': '', 'name': 'Tad Carithers', 'numgames': '11', 'occ': 'attorney', 'state': 'georgia', 'totalwinnings': '116600', 'year': '2000', 'main': '23', 'ID': '660', 'sub': '1011'}\n",
        "found dupe\n",
        "{'loc': 'Appleton, Wisconsin', 'SOC': '57-CommGeneral', 'studentflag': '', 'name': 'Cathy Boggs', 'numgames': '3', 'occ': 'communications consultant', 'state': 'wisconsin', 'totalwinnings': '61800', 'year': '1989', 'main': '57', 'ID': '1915', 'sub': 'CommGeneral'}\n",
        "found dupe\n",
        "{'loc': 'Pomona, California', 'SOC': '23-1011', 'studentflag': '', 'name': 'Keith Walker', 'numgames': '3', 'occ': 'attorney', 'state': 'california', 'totalwinnings': '10500', 'year': '1987', 'main': '23', 'ID': '1914', 'sub': '1011'}\n",
        "found dupe\n",
        "{'loc': 'Reston, Virginia', 'SOC': '', 'studentflag': '', 'name': 'Mark Lowenthal', 'numgames': '9', 'occ': 'foreign policy analyst', 'state': 'virginia', 'totalwinnings': '86400', 'year': '1988', 'main': '9999', 'ID': '1917', 'sub': '9999'}\n",
        "found dupe\n",
        "{'loc': 'Oak Park, Illinois', 'SOC': '27-2099CU', 'studentflag': '', 'name': 'Paul Rouffa', 'numgames': '10', 'occ': 'actor', 'state': 'illinois', 'totalwinnings': '100000', 'year': '1986', 'main': '27', 'ID': '1916', 'sub': '2099CU'}\n",
        "found dupe\n",
        "{'loc': 'Fairview Park, Ohio', 'SOC': '', 'studentflag': '', 'name': 'Jim Stevens', 'numgames': '8', 'occ': 'math teacher', 'state': 'ohio', 'totalwinnings': '228808', 'year': '2008', 'main': '9999', 'ID': '5686', 'sub': '9999'}\n",
        "found dupe\n",
        "{'loc': 'Phoenix, Arizona', 'SOC': '', 'studentflag': '', 'name': 'Steve Fried', 'numgames': '9', 'occ': 'technical support specialist', 'state': 'arizona', 'totalwinnings': '88200', 'year': '1999', 'main': '9999', 'ID': '2639', 'sub': '9999'}\n",
        "found dupe\n",
        "{'loc': 'Los Angeles, California', 'SOC': '27-Writer', 'studentflag': '', 'name': 'Jeremy Bate', 'numgames': '10', 'occ': 'writer', 'state': 'california', 'totalwinnings': '105000', 'year': '2000', 'main': '27', 'ID': '2634', 'sub': 'Writer'}\n",
        "found dupe\n",
        "{'loc': 'Slidell, Louisiana', 'SOC': '56-MiscStudent', 'studentflag': '', 'name': 'Chacko George', 'numgames': '7', 'occ': 'high school student', 'state': 'louisiana', 'totalwinnings': '70000', 'year': '1999', 'main': '56', 'ID': '2637', 'sub': 'MiscStudent'}\n",
        "found dupe\n",
        "{'loc': 'Minneapolis, Minnesota', 'SOC': '', 'studentflag': '', 'name': 'Mike Blumenfeld', 'numgames': '7', 'occ': 'network administrator', 'state': 'minnesota', 'totalwinnings': '70000', 'year': '2000', 'main': '9999', 'ID': '2633', 'sub': '9999'}\n",
        "found dupe\n",
        "{'loc': 'Richardson, Texas', 'SOC': '25-Prof', 'studentflag': '', 'name': 'Bill Dickenson', 'numgames': '7', 'occ': 'college instructor', 'state': 'texas', 'totalwinnings': '50400', 'year': '1996', 'main': '25', 'ID': '765', 'sub': 'Prof'}\n",
        "found dupe\n",
        "{'loc': 'Fort Worth, Texas', 'SOC': '', 'studentflag': '', 'name': 'Joel Serna', 'numgames': '2', 'occ': 'originally', 'state': 'texas', 'totalwinnings': '24400', 'year': '1999', 'main': '9999', 'ID': '5373', 'sub': '9999'}\n",
        "found dupe\n",
        "{'loc': 'Ashburn, Virginia', 'SOC': '23-1011', 'studentflag': '', 'name': 'Tony Burrell', 'numgames': '2', 'occ': 'attorney', 'state': 'virginia', 'totalwinnings': '5600', 'year': '2000', 'main': '23', 'ID': '3135', 'sub': '1011'}\n",
        "found dupe\n",
        "{'loc': 'Venice, California', 'SOC': '', 'studentflag': '', 'name': 'Kim Worth', 'numgames': '9', 'occ': 'waiter and writer', 'state': 'california', 'totalwinnings': '169200', 'year': '1997', 'main': '9999', 'ID': '1532', 'sub': '9999'}\n",
        "found dupe\n",
        "{'loc': 'La Grange, Illinois', 'SOC': '56-GradStu', 'studentflag': '', 'name': 'Matt Kohlstedt', 'numgames': '8', 'occ': 'graduate student', 'state': 'illinois', 'totalwinnings': '168000', 'year': '2009', 'main': '56', 'ID': '5768', 'sub': 'GradStu'}\n",
        "found dupe\n",
        "{'loc': 'Pittsburgh, Pennsylvania', 'SOC': '23-1011', 'studentflag': '', 'name': 'Andrew Bernknopf', 'numgames': '5', 'occ': 'lawyer', 'state': 'pennsylvania', 'totalwinnings': '41000', 'year': '1990', 'main': '23', 'ID': '1040', 'sub': '1011'}\n",
        "found dupe\n",
        "{'loc': 'East Syracuse, New York', 'SOC': '56-MiscStudent', 'studentflag': 'TRUE', 'name': 'Melissa Sexstone', 'numgames': '6', 'occ': 'senior', 'state': 'new york', 'totalwinnings': '60000', 'year': '1999', 'main': '56', 'ID': '4920', 'sub': 'MiscStudent'}\n",
        "found dupe\n",
        "{'loc': 'Los Angeles, California', 'SOC': '', 'studentflag': '', 'name': 'Helen Petroff', 'numgames': '6', 'occ': 'research assistant', 'state': 'california', 'totalwinnings': '39600', 'year': '1999', 'main': '9999', 'ID': '4699', 'sub': '9999'}\n",
        "found dupe\n",
        "{'loc': 'Inglewood, California', 'SOC': '15-1131CU', 'studentflag': '', 'name': 'Larry Cloud', 'numgames': '8', 'occ': 'computer consultant', 'state': 'california', 'totalwinnings': '139200', 'year': '2001', 'main': '15', 'ID': '662', 'sub': '1131CU'}\n",
        "found dupe\n",
        "{'loc': 'Chatham, New Jersey', 'SOC': '', 'studentflag': '', 'name': 'Vijay Balse', 'numgames': '10', 'occ': 'chemical engineer', 'state': 'new jersey', 'totalwinnings': '288010', 'year': '2010', 'main': '9999', 'ID': '6840', 'sub': '9999'}\n",
        "found dupe\n",
        "{'loc': 'West Islip, New York', 'SOC': '', 'studentflag': '', 'name': 'Dan McShane', 'numgames': '7', 'occ': 'baseball game logger', 'state': 'new york', 'totalwinnings': '131607', 'year': '2012', 'main': '9999', 'ID': '7638', 'sub': '9999'}\n",
        "found dupe\n",
        "{'loc': 'Flushing, New York', 'SOC': '33-3051CU', 'studentflag': '', 'name': 'Frank Spangenberg', 'numgames': '17', 'occ': 'police officer', 'state': 'new york', 'totalwinnings': '268583', 'year': '1990', 'main': '33', 'ID': '3896', 'sub': '3051CU'}\n",
        "found dupe\n",
        "{'loc': 'New York City, New York', 'SOC': '27-2042', 'studentflag': '', 'name': 'Gary Giardina', 'numgames': '3', 'occ': 'opera singer', 'state': 'new york', 'totalwinnings': '13200', 'year': '1986', 'main': '27', 'ID': '7388', 'sub': '2042'}\n",
        "found dupe\n",
        "{'loc': 'Northridge, California', 'SOC': 'Unemployed', 'studentflag': '', 'name': 'Diane Siegel', 'numgames': '2', 'occ': 'homemaker', 'state': 'california', 'totalwinnings': '4', 'year': '1993', 'main': 'Unemployed', 'ID': '2902', 'sub': '9999'}\n",
        "found dupe\n",
        "{'loc': 'Chesapeake, Virginia', 'SOC': '56-MiscStudent', 'studentflag': '', 'name': 'Al Lin', 'numgames': '3', 'occ': 'law and public policy student', 'state': 'virginia', 'totalwinnings': '31203', 'year': '1993', 'main': '56', 'ID': '2901', 'sub': 'MiscStudent'}\n",
        "found dupe\n",
        "{'loc': 'Newport News, Virginia', 'SOC': '', 'studentflag': '', 'name': 'Christian Haines', 'numgames': '7', 'occ': 'Congressional special assistant', 'state': 'virginia', 'totalwinnings': '153993', 'year': '2006', 'main': '9999', 'ID': '2908', 'sub': '9999'}\n",
        "found dupe\n",
        "{'loc': 'Champlain, New York', 'SOC': 'Unemployed', 'studentflag': '', 'name': 'Lisa Guay', 'numgames': '2', 'occ': 'homemaker', 'state': 'new york', 'totalwinnings': '9200', 'year': '1989', 'main': 'Unemployed', 'ID': '1459', 'sub': '9999'}\n",
        "found dupe\n",
        "{'loc': 'Venice, California', 'SOC': '27-Writer', 'studentflag': '', 'name': 'Harvey Becker', 'numgames': '2', 'occ': 'writer', 'state': 'california', 'totalwinnings': '13200', 'year': '1985', 'main': '27', 'ID': '8573', 'sub': 'Writer'}\n",
        "found dupe\n",
        "{'loc': 'Oakland, California', 'SOC': '41-9022', 'studentflag': '', 'name': 'Joel Pool', 'numgames': '8', 'occ': 'real estate developer', 'state': 'california', 'totalwinnings': '133600', 'year': '2012', 'main': '41', 'ID': '8188', 'sub': '9022'}\n",
        "found dupe\n",
        "{'loc': 'Scranton, Pennsylvania', 'SOC': '19-3094CU', 'studentflag': '', 'name': 'Liz Murphy', 'numgames': '8', 'occ': 'foreign service officer', 'state': 'pennsylvania', 'totalwinnings': '195208', 'year': '2009', 'main': '19', 'ID': '6827', 'sub': '3094CU'}\n",
        "found dupe\n",
        "{'loc': 'Denver, Colorado', 'SOC': '', 'studentflag': '', 'name': 'Bob Mesko', 'numgames': '9', 'occ': 'arts administrator', 'state': 'colorado', 'totalwinnings': '79191', 'year': '2006', 'main': '9999', 'ID': '1512', 'sub': '9999'}\n",
        "found dupe\n",
        "{'loc': 'Flushing, New York', 'SOC': '33-3051CU', 'studentflag': '', 'name': 'Frank Spangenberg', 'numgames': '17', 'occ': 'police officer', 'state': 'new york', 'totalwinnings': '268583', 'year': '1990', 'main': '33', 'ID': '262', 'sub': '3051CU'}\n",
        "found dupe\n",
        "{'loc': 'Hayward, California', 'SOC': '25-1124', 'studentflag': '', 'name': 'Leslie Frates', 'numgames': '11', 'occ': 'Spanish teacher', 'state': 'california', 'totalwinnings': '77000', 'year': '1991', 'main': '25', 'ID': '268', 'sub': '1124'}\n",
        "found dupe\n",
        "{'loc': 'Washington, D.C', 'SOC': '56-GradStu', 'studentflag': '', 'name': 'Aaron Schroeder', 'numgames': '10', 'occ': 'graduate student', 'state': 'washington', 'totalwinnings': '255000', 'year': '2008', 'main': '56', 'ID': '5085', 'sub': 'GradStu'}\n",
        "found dupe\n",
        "{'loc': 'Toledo, Ohio', 'SOC': '', 'studentflag': '', 'name': 'Cynthia Grove', 'numgames': '2', 'occ': 'law clerk', 'state': 'ohio', 'totalwinnings': '4050', 'year': '125', 'main': '9999', 'ID': '2679', 'sub': '9999'}\n",
        "found dupe\n",
        "{'loc': 'Peoria, Illinois', 'SOC': '', 'studentflag': '', 'name': 'Mark Lee', 'numgames': '6', 'occ': 'sales manager', 'state': 'illinois', 'totalwinnings': '0', 'year': '2002', 'main': '9999', 'ID': '2313', 'sub': '9999'}\n",
        "found dupe\n",
        "{'loc': 'Washington, D.C', 'SOC': '27-Writer', 'studentflag': '', 'name': 'Tom Walsh', 'numgames': '13', 'occ': 'writer', 'state': 'washington', 'totalwinnings': '209300', 'year': '2004', 'main': '27', 'ID': '6207', 'sub': 'Writer'}\n",
        "found dupe\n",
        "{'loc': 'Minneapolis, Minnesota', 'SOC': '57-ProjMgr', 'studentflag': '', 'name': 'Brian Weikle', 'numgames': '10', 'occ': 'project manager', 'state': 'minnesota', 'totalwinnings': '214000', 'year': '2003', 'main': '57', 'ID': '1751', 'sub': 'ProjMgr'}\n",
        "found dupe\n",
        "{'loc': 'San Jose, California', 'SOC': '', 'studentflag': '', 'name': 'Claudia Perry', 'numgames': '10', 'occ': 'pop music critic', 'state': 'california', 'totalwinnings': '101010', 'year': '1997', 'main': '9999', 'ID': '1284', 'sub': '9999'}\n",
        "found dupe\n",
        "{'loc': 'Tulsa, Oklahoma', 'SOC': '25-Prof', 'studentflag': '', 'name': 'Kate Waits', 'numgames': '5', 'occ': 'law professor at the University of Tulsa', 'state': 'oklahoma', 'totalwinnings': '71005', 'year': '1987', 'main': '25', 'ID': '689', 'sub': 'Prof'}\n",
        "found dupe\n",
        "{'loc': 'Chicago, Illinois', 'SOC': '25-2031', 'studentflag': '', 'name': 'Colby Burnett', 'numgames': '11', 'occ': 'high school world history teacher', 'state': 'illinois', 'totalwinnings': '220011', 'year': '2012', 'main': '25', 'ID': '8057', 'sub': '2031'}\n",
        "found dupe\n",
        "{'loc': 'San Diego, California', 'SOC': '', 'studentflag': '', 'name': 'Max Levaren', 'numgames': '7', 'occ': 'personal success coach', 'state': 'california', 'totalwinnings': '142100', 'year': '2003', 'main': '9999', 'ID': '5622', 'sub': '9999'}\n",
        "found dupe\n",
        "{'loc': 'Brooklyn, New York', 'SOC': '', 'studentflag': '', 'name': 'Anthony Trifilio', 'numgames': '4', 'occ': 'construction worker', 'state': 'new york', 'totalwinnings': '64000', 'year': '2002', 'main': '9999', 'ID': '5620', 'sub': '9999'}\n",
        "found dupe\n",
        "{'loc': 'Bedminster, New Jersey', 'SOC': '23-1011', 'studentflag': '', 'name': 'Rachael Schwartz', 'numgames': '9', 'occ': 'attorney', 'state': 'new jersey', 'totalwinnings': '88200', 'year': '1993', 'main': '23', 'ID': '243', 'sub': '1011'}\n",
        "found dupe\n",
        "{'loc': 'Shoreview, Minnesota', 'SOC': '', 'studentflag': '', 'name': 'Melissa Gaul', 'numgames': '2', 'occ': 'quality assurance manager', 'state': 'minnesota', 'totalwinnings': '7200', 'year': '2000', 'main': '9999', 'ID': '3694', 'sub': '9999'}\n",
        "found dupe\n",
        "{'loc': 'Arlington, Virginia', 'SOC': '', 'studentflag': '', 'name': 'Eddie Timanus', 'numgames': '10', 'occ': 'sports reporter', 'state': 'virginia', 'totalwinnings': '144000', 'year': '1999', 'main': '9999', 'ID': '1142', 'sub': '9999'}\n",
        "found dupe\n",
        "{'loc': 'Los Angeles, California', 'SOC': '25-MiscTeacher', 'studentflag': '', 'name': 'Bob Verini', 'numgames': '16', 'occ': 'film journalist and test prep teacher', 'state': 'california', 'totalwinnings': '172784', 'year': '11990', 'main': '25', 'ID': '1141', 'sub': 'MiscTeacher'}\n",
        "found dupe\n",
        "{'loc': 'Washington, D.C', 'SOC': '', 'studentflag': '', 'name': 'Nick Swezey', 'numgames': '5', 'occ': 'publisher', 'state': 'washington', 'totalwinnings': '160005', 'year': '2007', 'main': '9999', 'ID': '4288', 'sub': '9999'}\n",
        "found dupe\n",
        "{'loc': 'Austin, Texas', 'SOC': '', 'studentflag': '', 'name': 'Andrew Garen', 'numgames': '7', 'occ': 'associate director of consumer marketing', 'state': 'texas', 'totalwinnings': '105000', 'year': '2000', 'main': '9999', 'ID': '382', 'sub': '9999'}\n",
        "found dupe\n",
        "{'loc': 'San Francisco, California', 'SOC': '25-Prof', 'studentflag': '', 'name': 'Dan Melia', 'numgames': '13', 'occ': 'professor', 'state': 'california', 'totalwinnings': '166400', 'year': '1997', 'main': '25', 'ID': '385', 'sub': 'Prof'}\n",
        "found dupe\n",
        "{'loc': 'Lakeland, Florida', 'SOC': '25-4021CU', 'studentflag': '', 'name': 'Grace Veach', 'numgames': '10', 'occ': 'librarian', 'state': 'florida', 'totalwinnings': '105000', 'year': '1997', 'main': '25', 'ID': '387', 'sub': '4021CU'}\n",
        "found dupe\n",
        "{'loc': 'Middlebury, Vermont', 'SOC': '56-MiscStudent', 'studentflag': 'TRUE', 'name': 'Keith Williams', 'numgames': '3', 'occ': 'sophomore at Middlebury College', 'state': 'vermont', 'totalwinnings': '67203', 'year': '2003', 'main': '56', 'ID': '388', 'sub': 'MiscStudent'}\n",
        "found dupe\n",
        "{'loc': 'Concord, New Hampshire', 'SOC': '41-1012', 'studentflag': '', 'name': 'John LeDonne', 'numgames': '2', 'occ': 'bookstore manager', 'state': 'new hampshire', 'totalwinnings': '12000', 'year': '1991', 'main': '41', 'ID': '389', 'sub': '1012'}\n",
        "found dupe\n",
        "{'loc': 'Bellevue, Washington', 'SOC': '', 'studentflag': '', 'name': 'Jonathan Fellows', 'numgames': '2', 'occ': 'legislative assistant', 'state': 'washington', 'totalwinnings': '12000', 'year': '1987', 'main': '9999', 'ID': '168', 'sub': '9999'}\n",
        "found dupe\n",
        "{'loc': 'New York, New York', 'SOC': '', 'studentflag': '', 'name': 'Bob Verini', 'numgames': '16', 'occ': 'playwright/actor', 'state': 'new york', 'totalwinnings': '172784', 'year': '11990', 'main': '9999', 'ID': '169', 'sub': '9999'}\n",
        "found dupe\n",
        "{'loc': 'Torrance, California', 'SOC': '', 'studentflag': '', 'name': 'Frank Hughes', 'numgames': '2', 'occ': 'account executive', 'state': 'california', 'totalwinnings': '20000', 'year': '1986', 'main': '9999', 'ID': '164', 'sub': '9999'}\n",
        "found dupe\n",
        "{'loc': 'Chicago, Illinois', 'SOC': '27-Writer', 'studentflag': '', 'name': 'Eugene Finerman', 'numgames': '8', 'occ': 'writer', 'state': 'illinois', 'totalwinnings': '31200', 'year': '1987', 'main': '27', 'ID': '166', 'sub': 'Writer'}\n",
        "found dupe\n",
        "{'loc': 'Alexandria, Virginia', 'SOC': '13-1071', 'studentflag': '', 'name': 'Keith Bell', 'numgames': '2', 'occ': 'personnel specialist', 'state': 'virginia', 'totalwinnings': '0', 'year': '101990', 'main': '13', 'ID': '167', 'sub': '1071'}\n",
        "found dupe\n",
        "{'loc': 'Medford Lakes, New Jersey', 'SOC': '25-MiscTeacher', 'studentflag': '', 'name': 'Dave Traini', 'numgames': '12', 'occ': 'teacher', 'state': 'new jersey', 'totalwinnings': '175212', 'year': '121990', 'main': '25', 'ID': '161', 'sub': 'MiscTeacher'}\n",
        "found dupe\n",
        "{'loc': 'Washington, D.C', 'SOC': '43-6011', 'studentflag': '', 'name': 'Aaron Thompson', 'numgames': '6', 'occ': 'executive assistant', 'state': 'washington', 'totalwinnings': '120000', 'year': '2004', 'main': '43', 'ID': '162', 'sub': '6011'}\n",
        "found dupe\n",
        "{'loc': 'Grove City, Ohio', 'SOC': '23-1012', 'studentflag': '', 'name': 'Richard Cordray', 'numgames': '8', 'occ': 'judicial clerk', 'state': 'ohio', 'totalwinnings': '62400', 'year': '1987', 'main': '23', 'ID': '163', 'sub': '1012'}\n",
        "found dupe\n",
        "{'loc': 'Cambridge, Massachusetts', 'SOC': '', 'studentflag': '', 'name': 'Leah Greenwald', 'numgames': '9', 'occ': 'architect', 'state': 'massachusetts', 'totalwinnings': '99000', 'year': '1988', 'main': '9999', 'ID': '2733', 'sub': '9999'}\n",
        "found dupe\n",
        "{'loc': 'Los Angeles, California', 'SOC': '', 'studentflag': '', 'name': 'Brad Rutter', 'numgames': '27', 'occ': '$3.2-million winner', 'state': 'california', 'totalwinnings': '275427', 'year': '2000', 'main': '9999', 'ID': '7207', 'sub': '9999'}\n",
        "found dupe\n",
        "{'loc': 'Seattle, Washington', 'SOC': '', 'studentflag': '', 'name': 'Ken Jennings', 'numgames': '85', 'occ': '74-game champion', 'state': 'washington', 'totalwinnings': '3162085', 'year': '2004', 'main': '9999', 'ID': '7206', 'sub': '9999'}\n",
        "found dupe\n",
        "{'loc': 'Richmond, Virginia', 'SOC': '56-MiscStudent', 'studentflag': '', 'name': 'Billy Baxter', 'numgames': '4', 'occ': 'grad student and 1992 College Tournament champion', 'state': 'virginia', 'totalwinnings': '0', 'year': '1992', 'main': '56', 'ID': '674', 'sub': 'MiscStudent'}\n",
        "found dupe\n",
        "{'loc': 'South Amboy, New Jersey', 'SOC': '', 'studentflag': '', 'name': 'Cigus Vanni', 'numgames': '4', 'occ': 'psychologist', 'state': 'new jersey', 'totalwinnings': '16000', 'year': '1988', 'main': '9999', 'ID': '805', 'sub': '9999'}\n",
        "found dupe\n",
        "{'loc': 'Studio City, California', 'SOC': '27-Writer', 'studentflag': '', 'name': 'Jerome Vered', 'numgames': '18', 'occ': 'writer', 'state': 'california', 'totalwinnings': '432000', 'year': '1992', 'main': '27', 'ID': '1556', 'sub': 'Writer'}\n",
        "found dupe\n",
        "{'loc': 'Cheverly, Maryland', 'SOC': '', 'studentflag': '', 'name': 'Paul Thompson', 'numgames': '3', 'occ': 'human resources manager', 'state': 'maryland', 'totalwinnings': '33003', 'year': '1995', 'main': '9999', 'ID': '555', 'sub': '9999'}\n",
        "found dupe\n",
        "{'loc': 'Grove City, Ohio', 'SOC': '23-1012', 'studentflag': '', 'name': 'Richard Cordray', 'numgames': '8', 'occ': 'judicial clerk', 'state': 'ohio', 'totalwinnings': '62400', 'year': '1987', 'main': '23', 'ID': '2718', 'sub': '1012'}\n",
        "found dupe\n",
        "{'loc': 'Charlottesville, Virginia', 'SOC': '56-MiscStudent', 'studentflag': '', 'name': 'Jim Scott', 'numgames': '7', 'occ': 'college student', 'state': 'virginia', 'totalwinnings': '32200', 'year': '1990', 'main': '56', 'ID': '8871', 'sub': 'MiscStudent'}\n",
        "found dupe\n",
        "{'loc': 'Newark, Delaware', 'SOC': '56-MiscStudent', 'studentflag': '', 'name': 'Roger Craig', 'numgames': '16', 'occ': 'graduate student of computer science', 'state': 'delaware', 'totalwinnings': '592000', 'year': '2010', 'main': '56', 'ID': '6976', 'sub': 'MiscStudent'}\n",
        "found dupe\n",
        "{'loc': 'Santa Maria, California', 'SOC': '25-MiscTeacher', 'studentflag': '', 'name': 'Jeff Kirby', 'numgames': '2', 'occ': 'math and science teacher', 'state': 'california', 'totalwinnings': '7400', 'year': '1999', 'main': '25', 'ID': '6404', 'sub': 'MiscTeacher'}\n",
        "found dupe\n",
        "{'loc': 'Milan, Michigan', 'SOC': '', 'studentflag': '', 'name': 'Stephanie Jass', 'numgames': '11', 'occ': 'history professor', 'state': 'michigan', 'totalwinnings': '187000', 'year': '2012', 'main': '9999', 'ID': '8185', 'sub': '9999'}\n",
        "found dupe\n",
        "{'loc': 'Iowa City, Iowa', 'SOC': '', 'studentflag': '', 'name': 'Paul Nelson', 'numgames': '8', 'occ': 'Senate staff aide', 'state': 'iowa', 'totalwinnings': '112000', 'year': '2012', 'main': '9999', 'ID': '8184', 'sub': '9999'}\n",
        "found dupe\n",
        "{'loc': 'Long Beach, California', 'SOC': '23-LawStudent', 'studentflag': '', 'name': 'David Menchaca', 'numgames': '7', 'occ': 'law student', 'state': 'california', 'totalwinnings': '111300', 'year': '2012', 'main': '23', 'ID': '8187', 'sub': 'LawStudent'}\n",
        "found dupe\n",
        "{'loc': 'Chicago, Illinois', 'SOC': '25-2031', 'studentflag': '', 'name': 'Colby Burnett', 'numgames': '11', 'occ': 'high school world history teacher', 'state': 'illinois', 'totalwinnings': '220011', 'year': '2012', 'main': '25', 'ID': '8186', 'sub': '2031'}\n",
        "found dupe\n",
        "{'loc': 'Plano, Texas', 'SOC': '11-MedicalStu', 'studentflag': '', 'name': 'Jason Shore', 'numgames': '7', 'occ': 'medical student', 'state': 'texas', 'totalwinnings': '160146', 'year': '2012', 'main': '11', 'ID': '8183', 'sub': 'MedicalStu'}\n",
        "found dupe\n",
        "{'loc': 'Van Nuys, California', 'SOC': '25-4021CU', 'studentflag': '', 'name': 'Liz Caccese', 'numgames': '3', 'occ': 'librarian', 'state': 'california', 'totalwinnings': '12300', 'year': '1985', 'main': '25', 'ID': '3902', 'sub': '4021CU'}\n",
        "found dupe\n",
        "{'loc': 'Tulsa, Oklahoma', 'SOC': '29-Doctor', 'studentflag': '', 'name': 'Holly Owens', 'numgames': '4', 'occ': 'physician', 'state': 'oklahoma', 'totalwinnings': '23600', 'year': '2006', 'main': '29', 'ID': '3909', 'sub': 'Doctor'}\n",
        "found dupe\n",
        "{'loc': 'Boardman, Ohio', 'SOC': '56-MiscStudent', 'studentflag': '', 'name': 'Andrew Rostan', 'numgames': '7', 'occ': 'student', 'state': 'ohio', 'totalwinnings': '217000', 'year': '2007', 'main': '56', 'ID': '3659', 'sub': 'MiscStudent'}\n",
        "found dupe\n",
        "{'loc': 'Tucson, Arizona', 'SOC': '56-MiscStudent', 'studentflag': 'TRUE', 'name': 'Andrew Hutchings', 'numgames': '6', 'occ': 'senior at Harvey Mudd College', 'state': 'arizona', 'totalwinnings': '60006', 'year': '1998', 'main': '56', 'ID': '5066', 'sub': 'MiscStudent'}\n",
        "found dupe\n",
        "{'loc': 'University of Maryland', 'SOC': '56-MiscStudent', 'studentflag': 'TRUE', 'name': 'Lisa Makar', 'numgames': '2', 'occ': 'senior', 'state': 'maryland', 'totalwinnings': '10798', 'year': '1999', 'main': '56', 'ID': '5390', 'sub': 'MiscStudent'}\n",
        "found dupe\n",
        "{'loc': 'Sherman Oaks, California', 'SOC': '23-1011', 'studentflag': '', 'name': 'Lucien Schmit', 'numgames': '3', 'occ': 'lawyer', 'state': 'california', 'totalwinnings': '28803', 'year': '1996', 'main': '23', 'ID': '780', 'sub': '1011'}\n",
        "found dupe\n",
        "{'loc': 'Elmsford, New York', 'SOC': '59-Consultant', 'studentflag': '', 'name': 'David Sampugnaro', 'numgames': '6', 'occ': 'writer and consultant', 'state': 'new york', 'totalwinnings': '79200', 'year': '1996', 'main': '59', 'ID': '781', 'sub': 'Consultant'}\n",
        "found dupe\n",
        "{'loc': 'Sherman Oaks, California', 'SOC': '', 'studentflag': '', 'name': 'Alan Bailey', 'numgames': '8', 'occ': 'playwright and director', 'state': 'california', 'totalwinnings': '81608', 'year': '2001', 'main': '9999', 'ID': '782', 'sub': '9999'}\n",
        "found dupe\n",
        "{'loc': 'Torrance, California', 'SOC': '17-2011', 'studentflag': '', 'name': 'Tom Nosek', 'numgames': '11', 'occ': 'aerospace engineer', 'state': 'california', 'totalwinnings': '70620', 'year': '1992', 'main': '17', 'ID': '2899', 'sub': '2011'}\n",
        "found dupe\n",
        "{'loc': 'Atlanta, Georgia', 'SOC': '29-1141', 'studentflag': '', 'name': 'Debby Arnold', 'numgames': '2', 'occ': 'registered nurse', 'state': 'georgia', 'totalwinnings': '21800', 'year': '1993', 'main': '29', 'ID': '2898', 'sub': '1141'}\n",
        "found dupe\n",
        "{'loc': 'Lexington, Kentucky', 'SOC': '56-MiscStudent', 'studentflag': 'TRUE', 'name': 'Fraser Woodford', 'numgames': '5', 'occ': 'Teen Tournament winner', 'state': 'kentucky', 'totalwinnings': '79005', 'year': '1993', 'main': '56', 'ID': '2897', 'sub': 'MiscStudent'}\n",
        "found dupe\n",
        "{'loc': 'Mitchellville, Maryland', 'SOC': '56-MiscStudent', 'studentflag': 'TRUE', 'name': 'Bernard Holloway', 'numgames': '5', 'occ': 'junior', 'state': 'maryland', 'totalwinnings': '0', 'year': '2002', 'main': '56', 'ID': '2890', 'sub': 'MiscStudent'}\n",
        "found dupe\n",
        "{'loc': 'New Orleans, Louisiana', 'SOC': '39-6012', 'studentflag': '', 'name': 'James Arey', 'numgames': '6', 'occ': 'hotel concierge', 'state': 'louisiana', 'totalwinnings': '28806', 'year': '1998', 'main': '39', 'ID': '1894', 'sub': '6012'}\n",
        "found dupe\n",
        "{'loc': 'Portland, Oregon', 'SOC': '56-MiscStudent', 'studentflag': 'TRUE', 'name': 'Milo Dochow', 'numgames': '2', 'occ': 'senior', 'state': 'oregon', 'totalwinnings': '6798', 'year': '1999', 'main': '56', 'ID': '4921', 'sub': 'MiscStudent'}\n",
        "found dupe\n",
        "{'loc': 'Reston, Virginia', 'SOC': '', 'studentflag': '', 'name': 'Mark Lowenthal', 'numgames': '9', 'occ': 'State Department employee', 'state': 'virginia', 'totalwinnings': '86400', 'year': '1988', 'main': '9999', 'ID': '8895', 'sub': '9999'}\n",
        "found dupe\n",
        "{'loc': 'Seattle, Washington', 'SOC': '56-MiscStudent', 'studentflag': '', 'name': 'Ben Bishop', 'numgames': '7', 'occ': 'student', 'state': 'washington', 'totalwinnings': '175000', 'year': '2008', 'main': '56', 'ID': '5648', 'sub': 'MiscStudent'}\n",
        "found dupe\n",
        "{'loc': 'Evanston, Illinois', 'SOC': '25-4021CU', 'studentflag': '', 'name': 'Lynne Wexler', 'numgames': '3', 'occ': 'librarian', 'state': 'illinois', 'totalwinnings': '61800', 'year': '1991', 'main': '25', 'ID': '489', 'sub': '4021CU'}\n",
        "found dupe\n",
        "{'loc': 'Richmond, California', 'SOC': '', 'studentflag': '', 'name': 'John Ryan', 'numgames': '8', 'occ': 'corporate controller', 'state': 'california', 'totalwinnings': '46400', 'year': '1987', 'main': '9999', 'ID': '488', 'sub': '9999'}\n",
        "found dupe\n",
        "{'loc': 'Little Rock, Arkansas', 'SOC': '', 'studentflag': '', 'name': 'Shane Whitlock', 'numgames': '9', 'occ': 'resident physician', 'state': 'arkansas', 'totalwinnings': '138609', 'year': '1996', 'main': '9999', 'ID': '487', 'sub': '9999'}\n",
        "found dupe\n",
        "{'loc': 'Roselle Park, New Jersey', 'SOC': '23-1011', 'studentflag': '', 'name': 'Bill Pitassy', 'numgames': '4', 'occ': 'lawyer', 'state': 'new jersey', 'totalwinnings': '42800', 'year': '1994', 'main': '23', 'ID': '482', 'sub': '1011'}\n",
        "found dupe\n",
        "{'loc': 'Fort Collins, Colorado', 'SOC': '56-MiscStudent', 'studentflag': '', 'name': 'Russ Schumacher', 'numgames': '13', 'occ': 'graduate student and newlywed', 'state': 'colorado', 'totalwinnings': '93587', 'year': '2003', 'main': '56', 'ID': '481', 'sub': 'MiscStudent'}\n",
        "found dupe\n",
        "{'loc': 'Collinsville, Connecticut', 'SOC': '', 'studentflag': '', 'name': 'Sara Terrell', 'numgames': '6', 'occ': 'veterinary technician', 'state': 'connecticut', 'totalwinnings': '107994', 'year': '2006', 'main': '9999', 'ID': '2545', 'sub': '9999'}\n",
        "found dupe\n",
        "{'loc': 'Bethesda, Maryland', 'SOC': '', 'studentflag': '', 'name': 'Donna Vogel', 'numgames': '7', 'occ': 'scientist', 'state': 'maryland', 'totalwinnings': '142793', 'year': '2008', 'main': '9999', 'ID': '5009', 'sub': '9999'}\n",
        "found dupe\n",
        "{'loc': 'Valparaiso, Indiana', 'SOC': 'StayAtHome', 'studentflag': '', 'name': 'Melizza Zygmunt', 'numgames': '6', 'occ': 'stay-at-home mom', 'state': 'indiana', 'totalwinnings': '35400', 'year': '1998', 'main': 'StayAtHome', 'ID': '1692', 'sub': '9999'}\n",
        "found dupe\n",
        "{'loc': 'Pleasantville, New York', 'SOC': '', 'studentflag': '', 'name': 'Arthur Gandolfi', 'numgames': '9', 'occ': 'commercial real estate executive', 'state': 'new york', 'totalwinnings': '355500', 'year': '2004', 'main': '9999', 'ID': '24', 'sub': '9999'}\n",
        "found dupe\n",
        "{'loc': 'Los Angeles, California', 'SOC': '56-GradStu', 'studentflag': '', 'name': 'Sam Ott', 'numgames': '6', 'occ': 'graduate student', 'state': 'california', 'totalwinnings': '81600', 'year': '2003', 'main': '56', 'ID': '23', 'sub': 'GradStu'}\n",
        "found dupe\n",
        "{'loc': 'Laurel, Maryland', 'SOC': '58-RecentGrad', 'studentflag': '', 'name': 'Vinita Kailasanath', 'numgames': '9', 'occ': 'recent college graduate', 'state': 'maryland', 'totalwinnings': '92700', 'year': '2001', 'main': '58', 'ID': '28', 'sub': 'RecentGrad'}\n",
        "found dupe\n",
        "{'loc': 'Burlington, Vermont', 'SOC': '', 'studentflag': '', 'name': 'Scott Renzoni', 'numgames': '6', 'occ': 'bartender and actor', 'state': 'vermont', 'totalwinnings': '170388', 'year': '2004', 'main': '9999', 'ID': '6289', 'sub': '9999'}\n",
        "found dupe\n",
        "{'loc': 'Honolulu, Hawaii', 'SOC': '', 'studentflag': '', 'name': 'Kathy Cassity', 'numgames': '6', 'occ': 'closed captioner', 'state': 'hawaii', 'totalwinnings': '74400', 'year': '2001', 'main': '9999', 'ID': '2758', 'sub': '9999'}\n",
        "found dupe\n",
        "{'loc': 'Chamblee, Georgia', 'SOC': '', 'studentflag': '', 'name': 'Mark Dawson', 'numgames': '13', 'occ': 'business manager', 'state': 'georgia', 'totalwinnings': '176787', 'year': '2001', 'main': '9999', 'ID': '2759', 'sub': '9999'}\n",
        "found dupe\n",
        "{'loc': 'Jacksonville, Florida', 'SOC': '', 'studentflag': '', 'name': 'Erik Larsen', 'numgames': '5', 'occ': 'librarian and a licensed amateur boxing official', 'state': 'florida', 'totalwinnings': '72000', 'year': '1990', 'main': '9999', 'ID': '419', 'sub': '9999'}\n",
        "found dupe\n",
        "{'loc': 'Seattle, Washington', 'SOC': '', 'studentflag': '', 'name': 'John Skelton', 'numgames': '6', 'occ': 'lawyer and real estate appraiser', 'state': 'washington', 'totalwinnings': '60000', 'year': '1998', 'main': '9999', 'ID': '3942', 'sub': '9999'}\n",
        "found dupe\n",
        "{'loc': 'Altadena, California', 'SOC': '', 'studentflag': '', 'name': 'Dan Girard', 'numgames': '7', 'occ': 'landscape artist', 'state': 'california', 'totalwinnings': '39200', 'year': '1998', 'main': '9999', 'ID': '3946', 'sub': '9999'}\n",
        "found dupe\n",
        "{'loc': 'Belcamp, Maryland', 'SOC': '21-2011', 'studentflag': '', 'name': 'Dave Simpson', 'numgames': '7', 'occ': 'pastor', 'state': 'maryland', 'totalwinnings': '151200', 'year': '2008', 'main': '21', 'ID': '5027', 'sub': '2011'}\n",
        "found dupe\n",
        "{'loc': 'Los Angeles, California', 'SOC': '', 'studentflag': '', 'name': 'Bob Verini', 'numgames': '16', 'occ': 'academic director for a test preparation company', 'state': 'california', 'totalwinnings': '172784', 'year': '11990', 'main': '9999', 'ID': '8913', 'sub': '9999'}\n",
        "found dupe\n",
        "{'loc': 'New York City, New York', 'SOC': '33-3051CU', 'studentflag': '', 'name': 'Frank Spangenberg', 'numgames': '17', 'occ': 'police officer', 'state': 'new york', 'totalwinnings': '268583', 'year': '1990', 'main': '33', 'ID': '8910', 'sub': '3051CU'}\n",
        "found dupe\n",
        "{'loc': 'Reston, Virginia', 'SOC': '', 'studentflag': '', 'name': 'Mark Lowenthal', 'numgames': '9', 'occ': 'intelligence educator', 'state': 'virginia', 'totalwinnings': '86400', 'year': '1988', 'main': '9999', 'ID': '8911', 'sub': '9999'}\n",
        "found dupe\n",
        "{'loc': 'Los Angeles, California', 'SOC': '27-Writer', 'studentflag': '', 'name': 'Jerome Vered', 'numgames': '18', 'occ': 'writer', 'state': 'california', 'totalwinnings': '432000', 'year': '1992', 'main': '27', 'ID': '8914', 'sub': 'Writer'}\n",
        "found dupe\n",
        "{'loc': 'Washington, D.C', 'SOC': '23-1011', 'studentflag': '', 'name': 'Tom Cubbage', 'numgames': '10', 'occ': 'attorney', 'state': 'washington', 'totalwinnings': '154000', 'year': '1989', 'main': '23', 'ID': '8915', 'sub': '1011'}\n",
        "found dupe\n",
        "{'loc': 'Kansas City, Missouri', 'SOC': '', 'studentflag': '', 'name': 'Darren Millam', 'numgames': '3', 'occ': 'customer service representative', 'state': 'kansas', 'totalwinnings': '22500', 'year': '2000', 'main': '9999', 'ID': '3238', 'sub': '9999'}\n",
        "found dupe\n",
        "{'loc': 'Old Town, Maine', 'SOC': '29-2052', 'studentflag': '', 'name': 'Jason Richards', 'numgames': '7', 'occ': 'pharmacy technician', 'state': 'maine', 'totalwinnings': '224700', 'year': '2005', 'main': '29', 'ID': '1960', 'sub': '2052'}\n",
        "found dupe\n",
        "{'loc': 'San Diego, California', 'SOC': '', 'studentflag': '', 'name': 'John Cuthbertson', 'numgames': '7', 'occ': 'physicist', 'state': 'california', 'totalwinnings': '72807', 'year': '1994', 'main': '9999', 'ID': '640', 'sub': '9999'}\n",
        "found dupe\n",
        "{'loc': 'Seattle, Washington', 'SOC': '', 'studentflag': '', 'name': 'Tom Nissley', 'numgames': '14', 'occ': 'online books editor', 'state': 'washington', 'totalwinnings': '347214', 'year': '2010', 'main': '9999', 'ID': '7110', 'sub': '9999'}\n",
        "found dupe\n",
        "{'loc': 'Altadena, California', 'SOC': '27-Writer', 'studentflag': '', 'name': 'Doug Molitor', 'numgames': '3', 'occ': 'writer', 'state': 'california', 'totalwinnings': '30000', 'year': '1987', 'main': '27', 'ID': '308', 'sub': 'Writer'}\n",
        "found dupe\n",
        "{'loc': 'Oklahoma City, Oklahoma', 'SOC': '23-1011', 'studentflag': '', 'name': 'Tom Cubbage', 'numgames': '10', 'occ': 'attorney', 'state': 'oklahoma', 'totalwinnings': '154000', 'year': '1989', 'main': '23', 'ID': '309', 'sub': '1011'}\n",
        "found dupe\n",
        "{'loc': 'Gardena, California', 'SOC': '', 'studentflag': '', 'name': 'Steve Rogitz', 'numgames': '6', 'occ': 'trucking company manager', 'state': 'california', 'totalwinnings': '42000', 'year': '11990', 'main': '9999', 'ID': '301', 'sub': '9999'}\n",
        "found dupe\n",
        "{'loc': 'Nyack, New York', 'SOC': '29-1069', 'studentflag': '', 'name': 'Roy Holliday', 'numgames': '4', 'occ': 'radiologist', 'state': 'new york', 'totalwinnings': '2000', 'year': '1988', 'main': '29', 'ID': '302', 'sub': '1069'}\n",
        "found dupe\n",
        "{'loc': 'Hoboken, New Jersey', 'SOC': '', 'studentflag': '', 'name': 'Janet Wong', 'numgames': '6', 'occ': 'development officer for a museum', 'state': 'new jersey', 'totalwinnings': '55800', 'year': '2000', 'main': '9999', 'ID': '303', 'sub': '9999'}\n",
        "found dupe\n",
        "{'loc': 'North Hills, California', 'SOC': '', 'studentflag': '', 'name': 'Alan Bailey', 'numgames': '8', 'occ': 'playwright and director', 'state': 'california', 'totalwinnings': '81608', 'year': '2001', 'main': '9999', 'ID': '304', 'sub': '9999'}\n",
        "found dupe\n",
        "{'loc': 'Shaler, Iowa', 'SOC': '43-9031', 'studentflag': '', 'name': 'Mark McDermott', 'numgames': '3', 'occ': 'desktop publisher', 'state': 'iowa', 'totalwinnings': '11400', 'year': '1989', 'main': '43', 'ID': '306', 'sub': '9031'}\n",
        "found dupe\n",
        "{'loc': 'Torrance, California', 'SOC': '17-MiscEngineer', 'studentflag': '', 'name': 'Tom Nosek', 'numgames': '11', 'occ': 'engineer', 'state': 'california', 'totalwinnings': '70620', 'year': '1992', 'main': '17', 'ID': '307', 'sub': 'MiscEngineer'}\n",
        "found dupe\n",
        "{'loc': 'Houston, Texas', 'SOC': '19-2011', 'studentflag': '', 'name': 'Brian Moore', 'numgames': '5', 'occ': 'astronomer', 'state': 'texas', 'totalwinnings': '54000', 'year': '1994', 'main': '19', 'ID': '473', 'sub': '2011'}\n",
        "found dupe\n",
        "{'loc': 'Decatur, Illinois', 'SOC': '25-4021CU', 'studentflag': '', 'name': 'Grace Veach', 'numgames': '10', 'occ': 'librarian', 'state': 'illinois', 'totalwinnings': '105000', 'year': '1997', 'main': '25', 'ID': '470', 'sub': '4021CU'}\n",
        "found dupe\n",
        "{'loc': 'Chicago, Illinois', 'SOC': '17-2011', 'studentflag': '', 'name': 'Tom Nosek', 'numgames': '11', 'occ': 'aerospace engineer', 'state': 'illinois', 'totalwinnings': '70620', 'year': '1992', 'main': '17', 'ID': '9100', 'sub': '2011'}\n",
        "found dupe\n",
        "{'loc': 'New York City, New York', 'SOC': '', 'studentflag': '', 'name': 'Ed Schiffer', 'numgames': '8', 'occ': 'college lecturer', 'state': 'new york', 'totalwinnings': '105608', 'year': '1993', 'main': '9999', 'ID': '3428', 'sub': '9999'}\n",
        "found dupe\n",
        "{'loc': 'Jamaica Plain, Massachusetts', 'SOC': '', 'studentflag': '', 'name': 'David Gard', 'numgames': '6', 'occ': 'retail horticulturist', 'state': 'massachusetts', 'totalwinnings': '175800', 'year': '2012', 'main': '9999', 'ID': '7707', 'sub': '9999'}\n",
        "found dupe\n",
        "{'loc': 'Louisville, Kentucky', 'SOC': '', 'studentflag': '', 'name': 'Chris Miller', 'numgames': '13', 'occ': 'retail specialist', 'state': 'kentucky', 'totalwinnings': '473187', 'year': '2004', 'main': '9999', 'ID': '33', 'sub': '9999'}\n",
        "found dupe\n",
        "{'loc': 'Fort Collins, Colorado', 'SOC': '56-GradStu', 'studentflag': '', 'name': 'Russ Schumacher', 'numgames': '13', 'occ': 'graduate student', 'state': 'colorado', 'totalwinnings': '93587', 'year': '2003', 'main': '56', 'ID': '31', 'sub': 'GradStu'}\n",
        "found dupe\n",
        "{'loc': 'Torrance, California', 'SOC': '', 'studentflag': '', 'name': 'John Beck', 'numgames': '8', 'occ': 'associate creative director', 'state': 'california', 'totalwinnings': '249600', 'year': '2003', 'main': '9999', 'ID': '30', 'sub': '9999'}\n",
        "found dupe\n",
        "{'loc': 'State College, Pennsylvania', 'SOC': '53-3041', 'studentflag': '', 'name': 'Sean Ryan', 'numgames': '9', 'occ': 'cab driver', 'state': 'pennsylvania', 'totalwinnings': '104391', 'year': '2003', 'main': '53', 'ID': '36', 'sub': '3041'}\n",
        "found dupe\n",
        "{'loc': 'Appleton, Wisconsin', 'SOC': '27-Writer', 'studentflag': '', 'name': 'Cathy Boggs', 'numgames': '3', 'occ': 'freelance writer', 'state': 'wisconsin', 'totalwinnings': '61800', 'year': '1989', 'main': '27', 'ID': '844', 'sub': 'Writer'}\n",
        "found dupe\n",
        "{'loc': 'Ogden, Utah', 'SOC': '', 'studentflag': '', 'name': 'Brian Wangsgard', 'numgames': '9', 'occ': 'senior marketing representative', 'state': 'utah', 'totalwinnings': '149391', 'year': '1989', 'main': '9999', 'ID': '842', 'sub': '9999'}\n",
        "found dupe\n",
        "{'loc': 'Mililani, Hawaii', 'SOC': '', 'studentflag': '', 'name': 'Matt Sojot', 'numgames': '2', 'occ': 'firefighter', 'state': 'hawaii', 'totalwinnings': '3570', 'year': '2006', 'main': '9999', 'ID': '3631', 'sub': '9999'}\n",
        "found dupe\n",
        "{'loc': 'Berkeley, California', 'SOC': '27-3042', 'studentflag': '', 'name': 'Steve Chernicoff', 'numgames': '6', 'occ': 'technical writer', 'state': 'california', 'totalwinnings': '148200', 'year': '1994', 'main': '27', 'ID': '586', 'sub': '3042'}\n",
        "found dupe\n",
        "{'loc': 'Dallas, Texas', 'SOC': '', 'studentflag': '', 'name': 'Ben Lyon', 'numgames': '2', 'occ': 'industrial scaleman', 'state': 'texas', 'totalwinnings': '6200', 'year': '1995', 'main': '9999', 'ID': '587', 'sub': '9999'}\n",
        "found dupe\n",
        "{'loc': 'Topanga, California', 'SOC': '19-3011', 'studentflag': '', 'name': 'Steven Popper', 'numgames': '3', 'occ': 'economist', 'state': 'california', 'totalwinnings': '32400', 'year': '1988', 'main': '19', 'ID': '584', 'sub': '3011'}\n",
        "found dupe\n",
        "{'loc': 'Nyack, New York', 'SOC': '29-1069', 'studentflag': '', 'name': 'Roy Holliday', 'numgames': '4', 'occ': 'radiologist', 'state': 'new york', 'totalwinnings': '2000', 'year': '1988', 'main': '29', 'ID': '585', 'sub': '1069'}\n",
        "found dupe\n",
        "{'loc': 'New York, New York', 'SOC': '23-1011', 'studentflag': '', 'name': 'David Venderbush', 'numgames': '2', 'occ': 'lawyer', 'state': 'new york', 'totalwinnings': '2', 'year': '1994', 'main': '23', 'ID': '582', 'sub': '1011'}\n",
        "found dupe\n",
        "{'loc': 'Atlanta, Georgia', 'SOC': '', 'studentflag': '', 'name': 'Scott Gillispie', 'numgames': '5', 'occ': 'project manager and expectant father', 'state': 'georgia', 'totalwinnings': '106500', 'year': '1991', 'main': '9999', 'ID': '583', 'sub': '9999'}\n",
        "found dupe\n",
        "{'loc': 'Boston, Massachusetts', 'SOC': '', 'studentflag': '', 'name': 'Arthur Phillips', 'numgames': '8', 'occ': 'speechwriter', 'state': 'massachusetts', 'totalwinnings': '76808', 'year': '1997', 'main': '9999', 'ID': '588', 'sub': '9999'}\n",
        "found dupe\n",
        "{'loc': 'Reston, Virginia', 'SOC': '', 'studentflag': '', 'name': 'Mark Lowenthal', 'numgames': '9', 'occ': 'assistant director for the Central Intelligence Agency', 'state': 'virginia', 'totalwinnings': '86400', 'year': '1988', 'main': '9999', 'ID': '418', 'sub': '9999'}\n",
        "found dupe\n",
        "{'loc': 'Santa Barbara, California', 'SOC': '', 'studentflag': '', 'name': 'Bev Schwartzberg', 'numgames': '7', 'occ': 'adult literacy program coordinator', 'state': 'california', 'totalwinnings': '113407', 'year': '1993', 'main': '9999', 'ID': '320', 'sub': '9999'}\n",
        "found dupe\n",
        "{'loc': 'Elmsford, New York', 'SOC': '59-Consultant', 'studentflag': '', 'name': 'David Sampugnaro', 'numgames': '6', 'occ': 'writer and consultant', 'state': 'new york', 'totalwinnings': '79200', 'year': '1996', 'main': '59', 'ID': '321', 'sub': 'Consultant'}\n",
        "found dupe\n",
        "{'loc': 'Salt Lake City, Utah', 'SOC': '', 'studentflag': '', 'name': 'Brian Wangsgard', 'numgames': '9', 'occ': '', 'state': 'utah', 'totalwinnings': '149391', 'year': '1989', 'main': '9999', 'ID': '326', 'sub': '9999'}\n",
        "found dupe\n",
        "{'loc': 'Berkeley, California', 'SOC': '25-Prof', 'studentflag': '', 'name': 'Dan Melia', 'numgames': '13', 'occ': 'college professor', 'state': 'california', 'totalwinnings': '166400', 'year': '1997', 'main': '25', 'ID': '324', 'sub': 'Prof'}\n",
        "found dupe\n",
        "{'loc': 'Tujunga, California', 'SOC': '', 'studentflag': '', 'name': 'Jeremy Bate', 'numgames': '10', 'occ': 'emergency medical technician and writer', 'state': 'california', 'totalwinnings': '105000', 'year': '2000', 'main': '9999', 'ID': '325', 'sub': '9999'}\n",
        "found dupe\n",
        "{'loc': 'Albany, New York', 'SOC': '', 'studentflag': '', 'name': 'Kate Waits', 'numgames': '5', 'occ': 'law professor', 'state': 'new york', 'totalwinnings': '71005', 'year': '1987', 'main': '9999', 'ID': '328', 'sub': '9999'}\n",
        "found dupe\n",
        "{'loc': 'Phoenix, Arizona', 'SOC': '25-4021CU', 'studentflag': '', 'name': 'Bruce Naegeli', 'numgames': '8', 'occ': 'librarian', 'state': 'arizona', 'totalwinnings': '212800', 'year': '11990', 'main': '25', 'ID': '329', 'sub': '4021CU'}\n",
        "found dupe\n",
        "{'loc': 'Los Angeles, California', 'SOC': '13-2053', 'studentflag': '', 'name': 'Elise Beraru', 'numgames': '2', 'occ': 'insurance underwriter', 'state': 'california', 'totalwinnings': '0', 'year': '1985', 'main': '13', 'ID': '6134', 'sub': '2053'}\n",
        "found dupe\n",
        "{'loc': 'North Hollywood, California', 'SOC': '56-MiscStudent', 'studentflag': '', 'name': 'John Genova', 'numgames': '2', 'occ': 'student and a Catholic cantor', 'state': 'california', 'totalwinnings': '0', 'year': '1985', 'main': '56', 'ID': '6135', 'sub': 'MiscStudent'}\n",
        "found dupe\n",
        "{'loc': 'Arlington, Virginia', 'SOC': '23-1011', 'studentflag': '', 'name': 'Jim Scott', 'numgames': '7', 'occ': 'attorney', 'state': 'virginia', 'totalwinnings': '32200', 'year': '1990', 'main': '23', 'ID': '362', 'sub': '1011'}\n",
        "found dupe\n",
        "{'loc': 'Wichita, Kansas', 'SOC': '43-6011', 'studentflag': '', 'name': 'Michelle Clum', 'numgames': '7', 'occ': 'executive assistant', 'state': 'kansas', 'totalwinnings': '26593', 'year': '2000', 'main': '43', 'ID': '360', 'sub': '6011'}\n",
        "found dupe\n",
        "{'loc': 'Atlanta, Georgia', 'SOC': '23-1011', 'studentflag': '', 'name': 'Tad Carithers', 'numgames': '11', 'occ': 'attorney', 'state': 'georgia', 'totalwinnings': '116600', 'year': '2000', 'main': '23', 'ID': '2063', 'sub': '1011'}\n",
        "found dupe\n",
        "{'loc': 'Los Angeles, California', 'SOC': '', 'studentflag': '', 'name': 'Scott Wells', 'numgames': '2', 'occ': 'medievalist', 'state': 'california', 'totalwinnings': '23198', 'year': '2009', 'main': '9999', 'ID': '6489', 'sub': '9999'}\n",
        "found dupe\n",
        "{'loc': 'St. Ann, Missouri', 'SOC': '11-1021', 'studentflag': '', 'name': 'Kevin Keach', 'numgames': '7', 'occ': 'operations manager', 'state': 'missouri', 'totalwinnings': '49700', 'year': '2001', 'main': '11', 'ID': '3187', 'sub': '1021'}\n",
        "found dupe\n",
        "{'loc': 'Elkhart, Indiana', 'SOC': '', 'studentflag': '', 'name': 'Lois Kurowski', 'numgames': '3', 'occ': 'doctoral fellow', 'state': 'indiana', 'totalwinnings': '40200', 'year': '1991', 'main': '9999', 'ID': '4018', 'sub': '9999'}\n",
        "found dupe\n",
        "{'loc': 'Evanston, Illinois', 'SOC': '25-4021CU', 'studentflag': '', 'name': 'Lynne Wexler', 'numgames': '3', 'occ': 'librarian', 'state': 'illinois', 'totalwinnings': '61800', 'year': '1991', 'main': '25', 'ID': '4013', 'sub': '4021CU'}\n",
        "found dupe\n",
        "{'loc': 'Atlanta, Georgia', 'SOC': '56-MiscStudent', 'studentflag': 'TRUE', 'name': 'Andy Westney', 'numgames': '4', 'occ': 'college freshman and Teen Tournament winner', 'state': 'georgia', 'totalwinnings': '57600', 'year': '1991', 'main': '56', 'ID': '4011', 'sub': 'MiscStudent'}\n",
        "found dupe\n",
        "{'loc': 'Metairie, Louisiana', 'SOC': '56-MiscStudent', 'studentflag': '', 'name': 'Kevin Marshall', 'numgames': '9', 'occ': 'student', 'state': 'louisiana', 'totalwinnings': '129600', 'year': '2006', 'main': '56', 'ID': '1445', 'sub': 'MiscStudent'}\n",
        "found dupe\n",
        "{'loc': 'Hayward, California', 'SOC': '25-1124', 'studentflag': '', 'name': 'Leslie Frates', 'numgames': '11', 'occ': 'Spanish teacher', 'state': 'california', 'totalwinnings': '77000', 'year': '1991', 'main': '25', 'ID': '287', 'sub': '1124'}\n",
        "found dupe\n",
        "{'loc': 'Penn Wynne, Pennsylvania', 'SOC': '59-Consultant', 'studentflag': '', 'name': 'Michael Galvin', 'numgames': '3', 'occ': 'consultant', 'state': 'pennsylvania', 'totalwinnings': '25800', 'year': '1987', 'main': '59', 'ID': '286', 'sub': 'Consultant'}\n",
        "found dupe\n",
        "{'loc': 'Fort Collins, Colorado', 'SOC': '56-GradStu', 'studentflag': '', 'name': 'Russ Schumacher', 'numgames': '13', 'occ': 'graduate student', 'state': 'colorado', 'totalwinnings': '93587', 'year': '2003', 'main': '56', 'ID': '6301', 'sub': 'GradStu'}\n",
        "found dupe\n",
        "{'loc': 'Gainesville, Florida', 'SOC': '56-MiscStudent', 'studentflag': '', 'name': 'Mike Dup\\xef\\xbf\\xbde', 'numgames': '11', 'occ': 'post-graduate student', 'state': 'florida', 'totalwinnings': '173800', 'year': '1996', 'main': '56', 'ID': '8956', 'sub': 'MiscStudent'}\n",
        "found dupe\n",
        "{'loc': 'Washington, D.C', 'SOC': '', 'studentflag': '', 'name': 'Jill Bunzendahl Chimka', 'numgames': '8', 'occ': 'director of therapy', 'state': 'washington', 'totalwinnings': '125600', 'year': '2002', 'main': '9999', 'ID': '8957', 'sub': '9999'}\n",
        "found dupe\n",
        "{'loc': 'Hollywood, California', 'SOC': '', 'studentflag': '', 'name': 'Brad Rutter', 'numgames': '27', 'occ': 'actor and producer', 'state': 'california', 'totalwinnings': '275427', 'year': '2000', 'main': '9999', 'ID': '8955', 'sub': '9999'}\n",
        "found dupe\n",
        "{'loc': 'Evanston, Illinois', 'SOC': '', 'studentflag': '', 'name': 'Claudia Perry', 'numgames': '10', 'occ': 'worker for an e-learning company', 'state': 'illinois', 'totalwinnings': '101010', 'year': '1997', 'main': '9999', 'ID': '8952', 'sub': '9999'}\n",
        "found dupe\n",
        "{'loc': 'Chamblee, Georgia', 'SOC': '', 'studentflag': '', 'name': 'Mark Dawson', 'numgames': '13', 'occ': 'writer and editor for the Honda Campus All-Star Challenge', 'state': 'georgia', 'totalwinnings': '176787', 'year': '2001', 'main': '9999', 'ID': '8953', 'sub': '9999'}\n",
        "found dupe\n",
        "{'loc': 'Los Angeles, California', 'SOC': '27-Writer', 'studentflag': '', 'name': 'Bob Harris', 'numgames': '14', 'occ': 'writer', 'state': 'california', 'totalwinnings': '134400', 'year': '1997', 'main': '27', 'ID': '8950', 'sub': 'Writer'}\n",
        "found dupe\n",
        "{'loc': 'Atlanta, Georgia', 'SOC': '', 'studentflag': '', 'name': 'Robin Carroll', 'numgames': '16', 'occ': 'instructional designer and curriculum developer', 'state': 'georgia', 'totalwinnings': '240000', 'year': '2000', 'main': '9999', 'ID': '8951', 'sub': '9999'}\n",
        "found dupe\n",
        "{'loc': 'Champaign, Illinois', 'SOC': '', 'studentflag': '', 'name': 'Lance Johnson', 'numgames': '8', 'occ': 'event coordinator', 'state': 'illinois', 'totalwinnings': '84792', 'year': '1998', 'main': '9999', 'ID': '1636', 'sub': '9999'}\n",
        "found dupe\n",
        "{'loc': 'Newton, Massachusetts', 'SOC': '23-1011', 'studentflag': '', 'name': 'David Rozenson', 'numgames': '5', 'occ': 'lawyer', 'state': 'massachusetts', 'totalwinnings': '101000', 'year': '2005', 'main': '23', 'ID': '706', 'sub': '1011'}\n",
        "found dupe\n",
        "{'loc': 'Ventura, California', 'SOC': '', 'studentflag': '', 'name': 'Dave Willis', 'numgames': '2', 'occ': 'business manager', 'state': 'california', 'totalwinnings': '2600', 'year': '1992', 'main': '9999', 'ID': '560', 'sub': '9999'}\n",
        "found dupe\n",
        "{'loc': 'Ithaca, New York', 'SOC': '56-GradStu', 'studentflag': '', 'name': 'Andrew Hutchings', 'numgames': '6', 'occ': 'graduate student', 'state': 'new york', 'totalwinnings': '60006', 'year': '1998', 'main': '56', 'ID': '561', 'sub': 'GradStu'}\n",
        "found dupe\n",
        "{'loc': 'Rockford, Illinois', 'SOC': '21-1011', 'studentflag': '', 'name': 'Paul Gutowski', 'numgames': '8', 'occ': 'alcohol and drug counselor', 'state': 'illinois', 'totalwinnings': '115208', 'year': '1997', 'main': '21', 'ID': '563', 'sub': '1011'}\n",
        "found dupe\n",
        "{'loc': 'Fort Thomas, Kentucky', 'SOC': '', 'studentflag': '', 'name': 'Dave Abbott', 'numgames': '11', 'occ': 'musician and licensing executive', 'state': 'kentucky', 'totalwinnings': '178200', 'year': '1998', 'main': '9999', 'ID': '565', 'sub': '9999'}\n",
        "found dupe\n",
        "{'loc': 'Richardson, Texas', 'SOC': '25-Prof', 'studentflag': '', 'name': 'Bill Dickenson', 'numgames': '7', 'occ': 'college instructor', 'state': 'texas', 'totalwinnings': '50400', 'year': '1996', 'main': '25', 'ID': '566', 'sub': 'Prof'}\n",
        "found dupe\n",
        "{'loc': 'Silver Spring, Maryland', 'SOC': '56-MiscStudent', 'studentflag': 'TRUE', 'name': 'Michael Braun', 'numgames': '5', 'occ': 'high school junior', 'state': 'maryland', 'totalwinnings': '108000', 'year': '2005', 'main': '56', 'ID': '567', 'sub': 'MiscStudent'}\n",
        "found dupe\n",
        "{'loc': 'Berkeley, California', 'SOC': '56-MiscStudent', 'studentflag': '', 'name': 'Carolyn Cracraft', 'numgames': '7', 'occ': 'grad student at the University of California-Berkeley', 'state': 'california', 'totalwinnings': '50400', 'year': '1999', 'main': '56', 'ID': '348', 'sub': 'MiscStudent'}\n",
        "found dupe\n",
        "{'loc': 'Torrance, California', 'SOC': '17-2011', 'studentflag': '', 'name': 'Tom Nosek', 'numgames': '11', 'occ': 'aerospace engineer', 'state': 'california', 'totalwinnings': '70620', 'year': '1992', 'main': '17', 'ID': '349', 'sub': '2011'}\n",
        "found dupe\n",
        "{'loc': 'Potomac, Maryland', 'SOC': '23-1011', 'studentflag': '', 'name': 'Paul Boymel', 'numgames': '3', 'occ': 'attorney', 'state': 'maryland', 'totalwinnings': '22803', 'year': '1985', 'main': '23', 'ID': '6157', 'sub': '1011'}\n",
        "found dupe\n",
        "{'loc': 'Tucson, Arizona', 'SOC': '58-Retired', 'studentflag': '', 'name': 'Carolyn White', 'numgames': '6', 'occ': 'retired management consultant', 'state': 'arizona', 'totalwinnings': '48000', 'year': '1998', 'main': '58', 'ID': '2268', 'sub': 'Retired'}\n",
        "found dupe\n",
        "{'loc': 'Bel Air, Maryland', 'SOC': '17-2081', 'studentflag': '', 'name': 'Andrew Maly', 'numgames': '7', 'occ': 'environmental engineer', 'state': 'maryland', 'totalwinnings': '42700', 'year': '1998', 'main': '17', 'ID': '2269', 'sub': '2081'}\n",
        "found dupe\n",
        "{'loc': 'Plano, Texas', 'SOC': 'StayAtHome', 'studentflag': '', 'name': 'Juliet Wiley', 'numgames': '9', 'occ': 'stay-at-home mom', 'state': 'texas', 'totalwinnings': '80100', 'year': '1998', 'main': 'StayAtHome', 'ID': '2262', 'sub': '9999'}\n",
        "found dupe\n",
        "{'loc': 'San Diego, California', 'SOC': '23-1011', 'studentflag': '', 'name': 'David Bagley', 'numgames': '7', 'occ': 'attorney', 'state': 'california', 'totalwinnings': '94500', 'year': '1998', 'main': '23', 'ID': '2263', 'sub': '1011'}\n",
        "found dupe\n",
        "{'loc': 'Arlington, Virginia', 'SOC': '', 'studentflag': '', 'name': 'Lara Robillard', 'numgames': '8', 'occ': 'health policy director', 'state': 'virginia', 'totalwinnings': '116800', 'year': '1998', 'main': '9999', 'ID': '2260', 'sub': '9999'}\n",
        "found dupe\n",
        "{'loc': 'Cincinnati, Ohio', 'SOC': '', 'studentflag': '', 'name': 'Dave Abbott', 'numgames': '11', 'occ': 'musician and contract manager', 'state': 'ohio', 'totalwinnings': '178200', 'year': '1998', 'main': '9999', 'ID': '2261', 'sub': '9999'}\n",
        "found dupe\n",
        "{'loc': 'Pataskala, Ohio', 'SOC': '23-1011', 'studentflag': '', 'name': 'J.J. Todor', 'numgames': '9', 'occ': 'attorney', 'state': 'ohio', 'totalwinnings': '18801', 'year': '1998', 'main': '23', 'ID': '2267', 'sub': '1011'}\n",
        "found dupe\n",
        "{'loc': 'Vallejo, California', 'SOC': '27-3041', 'studentflag': '', 'name': 'Pat Healy', 'numgames': '8', 'occ': 'index editor', 'state': 'california', 'totalwinnings': '104008', 'year': '1998', 'main': '27', 'ID': '2264', 'sub': '3041'}\n",
        "found dupe\n",
        "{'loc': 'Wheaton, Illinois', 'SOC': '', 'studentflag': '', 'name': 'Ashok Poozhikunnel', 'numgames': '6', 'occ': 'underwriter', 'state': 'illinois', 'totalwinnings': '129600', 'year': '2013', 'main': '9999', 'ID': '8201', 'sub': '9999'}\n",
        "found dupe\n",
        "{'loc': 'Bloomington, Indiana', 'SOC': '15-Computer', 'studentflag': '', 'name': 'Harry Barker', 'numgames': '2', 'occ': 'computer applications specialist', 'state': 'indiana', 'totalwinnings': '4798', 'year': '1996', 'main': '15', 'ID': '7074', 'sub': 'Computer'}\n",
        "found dupe\n",
        "{'loc': 'Berkeley, California', 'SOC': '27-3042', 'studentflag': '', 'name': 'Steve Chernicoff', 'numgames': '6', 'occ': 'technical writer', 'state': 'california', 'totalwinnings': '148200', 'year': '1994', 'main': '27', 'ID': '8683', 'sub': '3042'}\n",
        "found dupe\n",
        "{'loc': 'Chamblee, Georgia', 'SOC': '', 'studentflag': '', 'name': 'Mark Dawson', 'numgames': '13', 'occ': 'business manager', 'state': 'georgia', 'totalwinnings': '176787', 'year': '2001', 'main': '9999', 'ID': '407', 'sub': '9999'}\n",
        "found dupe\n",
        "{'loc': 'Glendale, California', 'SOC': '29-Doctor', 'studentflag': '', 'name': 'Elaine Zollner', 'numgames': '4', 'occ': 'physician', 'state': 'california', 'totalwinnings': '42404', 'year': '1990', 'main': '29', 'ID': '408', 'sub': 'Doctor'}\n",
        "found dupe\n",
        "{'loc': 'Los Angeles, California', 'SOC': '', 'studentflag': '', 'name': 'Jack Archey', 'numgames': '7', 'occ': 'C.P.A. and comedian', 'state': 'california', 'totalwinnings': '123207', 'year': '1999', 'main': '9999', 'ID': '4031', 'sub': '9999'}\n",
        "found dupe\n",
        "{'loc': 'Arlington, Virginia', 'SOC': '', 'studentflag': '', 'name': 'Lara Robillard', 'numgames': '8', 'occ': 'director of health policy', 'state': 'virginia', 'totalwinnings': '116800', 'year': '1998', 'main': '9999', 'ID': '2456', 'sub': '9999'}\n",
        "found dupe\n",
        "{'loc': 'Hayward, California', 'SOC': '25-1124', 'studentflag': '', 'name': 'Leslie Frates', 'numgames': '11', 'occ': 'Spanish teacher', 'state': 'california', 'totalwinnings': '77000', 'year': '1991', 'main': '25', 'ID': '1605', 'sub': '1124'}\n",
        "found dupe\n",
        "{'loc': 'Marietta, Georgia (USA)', 'SOC': '', 'studentflag': '', 'name': 'Robin Carroll', 'numgames': '16', 'occ': 'instructional designer', 'state': 'georgia', 'totalwinnings': '240000', 'year': '2000', 'main': '9999', 'ID': '3220', 'sub': '9999'}\n",
        "found dupe\n",
        "{'loc': 'Bonita Springs, Florida', 'SOC': '23-1011', 'studentflag': '', 'name': 'Bill MacDonald', 'numgames': '9', 'occ': 'attorney', 'state': 'florida', 'totalwinnings': '163791', 'year': '2005', 'main': '23', 'ID': '1971', 'sub': '1011'}\n",
        "found dupe\n",
        "{'loc': 'Bloomfield Hills, Michigan', 'SOC': '56-MiscStudent', 'studentflag': 'TRUE', 'name': 'Nico Martinez', 'numgames': '5', 'occ': 'college junior', 'state': 'michigan', 'totalwinnings': '71995', 'year': '2005', 'main': '56', 'ID': '1970', 'sub': 'MiscStudent'}\n",
        "found dupe\n",
        "{'loc': 'Cleveland, Ohio', 'SOC': '13-1161', 'studentflag': '', 'name': 'Kerry Breitenbach', 'numgames': '7', 'occ': 'marketing analyst', 'state': 'ohio', 'totalwinnings': '51100', 'year': '2004', 'main': '13', 'ID': '1961', 'sub': '1161'}\n",
        "found dupe\n",
        "{'loc': 'Amherst, Massachusetts', 'SOC': '25-MiscTeacher', 'studentflag': '', 'name': 'Bev Schwartzberg', 'numgames': '7', 'occ': 'teacher', 'state': 'massachusetts', 'totalwinnings': '113407', 'year': '1993', 'main': '25', 'ID': '2873', 'sub': 'MiscTeacher'}\n",
        "found dupe\n",
        "{'loc': 'Litchfield Park, Arizona', 'SOC': '', 'studentflag': '', 'name': 'Dennis Donohue', 'numgames': '3', 'occ': 'administrative services officer', 'state': 'arizona', 'totalwinnings': '45003', 'year': '1993', 'main': '9999', 'ID': '2872', 'sub': '9999'}\n",
        "found dupe\n",
        "{'loc': 'Sylva, North Carolina', 'SOC': '', 'studentflag': '', 'name': 'Phoebe Juel', 'numgames': '6', 'occ': 'College Tournament winner', 'state': 'north carolina', 'totalwinnings': '116400', 'year': '1993', 'main': '9999', 'ID': '2876', 'sub': '9999'}\n",
        "found dupe\n",
        "{'loc': 'Santa Monica, California', 'SOC': '', 'studentflag': '', 'name': 'Ed Schiffer', 'numgames': '8', 'occ': 'college lecturer', 'state': 'california', 'totalwinnings': '105608', 'year': '1993', 'main': '9999', 'ID': '2878', 'sub': '9999'}\n",
        "found dupe\n",
        "{'loc': 'Dearborn Heights, Michigan', 'SOC': '23-1011', 'studentflag': '', 'name': 'Richard Finch', 'numgames': '2', 'occ': 'attorney', 'state': 'michigan', 'totalwinnings': '3200', 'year': '2002', 'main': '23', 'ID': '5507', 'sub': '1011'}\n",
        "found dupe\n",
        "{'loc': 'Oceanside, California', 'SOC': '', 'studentflag': '', 'name': 'Kurt Bray', 'numgames': '3', 'occ': 'scientist', 'state': 'california', 'totalwinnings': '16050', 'year': '1994', 'main': '9999', 'ID': '543', 'sub': '9999'}\n",
        "found dupe\n",
        "{'loc': 'Phoenix, Arizona', 'SOC': '58-Retired', 'studentflag': '', 'name': 'Bruce Naegeli', 'numgames': '8', 'occ': 'retired law librarian', 'state': 'arizona', 'totalwinnings': '212800', 'year': '11990', 'main': '58', 'ID': '540', 'sub': 'Retired'}\n",
        "found dupe\n",
        "{'loc': 'Broadview Heights, Ohio', 'SOC': '', 'studentflag': '', 'name': 'Matt Zielenski', 'numgames': '5', 'occ': 'research analyst', 'state': 'ohio', 'totalwinnings': '58005', 'year': '1995', 'main': '9999', 'ID': '544', 'sub': '9999'}\n",
        "found dupe\n",
        "{'loc': 'Martinsburg, West Virginia', 'SOC': '27-3041', 'studentflag': '', 'name': 'Bob Fleenor', 'numgames': '7', 'occ': 'newspaper copy editor', 'state': 'virginia', 'totalwinnings': '86800', 'year': '2001', 'main': '27', 'ID': '545', 'sub': '3041'}\n",
        "found dupe\n",
        "{'loc': 'Los Angeles, California', 'SOC': '25-3099', 'studentflag': '', 'name': 'Ryan Chaffee', 'numgames': '6', 'occ': 'tutor', 'state': 'california', 'totalwinnings': '124800', 'year': '2009', 'main': '25', 'ID': '6564', 'sub': '3099'}\n",
        "found dupe\n",
        "{'loc': 'Dallas, Texas', 'SOC': '56-MiscStudent', 'studentflag': 'TRUE', 'name': 'Monica Thieu', 'numgames': '5', 'occ': 'sophomore at the University of North Texas', 'state': 'texas', 'totalwinnings': '77995', 'year': '2012', 'main': '56', 'ID': '7686', 'sub': 'MiscStudent'}\n",
        "found dupe\n",
        "{'loc': 'Chesterfield, Missouri', 'SOC': '25-2031', 'studentflag': '', 'name': 'Patrick Quinn', 'numgames': '5', 'occ': 'high school German teacher', 'state': 'missouri', 'totalwinnings': '100005', 'year': '2012', 'main': '25', 'ID': '7689', 'sub': '2031'}\n",
        "found dupe\n",
        "{'loc': 'Las Vegas, Nevada', 'SOC': '25-MiscTeacher', 'studentflag': '', 'name': 'Karla Sortland', 'numgames': '2', 'occ': 'teacher', 'state': 'nevada', 'totalwinnings': '15000', 'year': '2006', 'main': '25', 'ID': '3822', 'sub': 'MiscTeacher'}\n",
        "found dupe\n",
        "{'loc': 'St. Louis, Missouri', 'SOC': '', 'studentflag': '', 'name': 'Kevin Keach', 'numgames': '7', 'occ': 'project administrator', 'state': 'missouri', 'totalwinnings': '49700', 'year': '2001', 'main': '9999', 'ID': '368', 'sub': '9999'}\n",
        "found dupe\n",
        "{'loc': 'Washington, D.C', 'SOC': '', 'studentflag': '', 'name': 'Bruce Borchardt', 'numgames': '4', 'occ': 'metrologist', 'state': 'washington', 'totalwinnings': '48804', 'year': '1995', 'main': '9999', 'ID': '369', 'sub': '9999'}\n",
        "found dupe\n",
        "{'loc': 'Pennington, New Jersey', 'SOC': '56-GradStu', 'studentflag': '', 'name': 'Michael Arnone', 'numgames': '7', 'occ': 'graduate student', 'state': 'new jersey', 'totalwinnings': '23100', 'year': '2001', 'main': '56', 'ID': '4524', 'sub': 'GradStu'}\n",
        "found dupe\n",
        "{'loc': 'Los Angeles, California', 'SOC': '27-Writer', 'studentflag': '', 'name': 'Anne Boyd', 'numgames': '7', 'occ': 'freelance writer', 'state': 'california', 'totalwinnings': '168000', 'year': '2004', 'main': '27', 'ID': '5294', 'sub': 'Writer'}\n",
        "found dupe\n",
        "{'loc': 'Huntsville, Alabama', 'SOC': '', 'studentflag': '', 'name': 'Kristin Morgan', 'numgames': '10', 'occ': 'strategic analyst for NASA', 'state': 'alabama', 'totalwinnings': '67000', 'year': '2013', 'main': '9999', 'ID': '8141', 'sub': '9999'}\n",
        "found dupe\n",
        "{'loc': 'Ocracoke, North Carolina', 'SOC': '25-2031', 'studentflag': '', 'name': 'Charles Temple', 'numgames': '5', 'occ': 'high school English teacher', 'state': 'north carolina', 'totalwinnings': '103000', 'year': '2011', 'main': '25', 'ID': '7334', 'sub': '2031'}\n",
        "found dupe\n",
        "{'loc': 'the University of Michigan', 'SOC': '56-MiscStudent', 'studentflag': 'TRUE', 'name': 'Craig Barker', 'numgames': '6', 'occ': 'freshman', 'state': 'michigan', 'totalwinnings': '75000', 'year': '1997', 'main': '56', 'ID': '2991', 'sub': 'MiscStudent'}\n",
        "found dupe\n",
        "{'loc': 'Atlanta, Georgia', 'SOC': '', 'studentflag': '', 'name': 'Andrew Westney', 'numgames': '4', 'occ': 'singer and actor', 'state': 'georgia', 'totalwinnings': '57600', 'year': '1991', 'main': '9999', 'ID': '429', 'sub': '9999'}\n",
        "found dupe\n",
        "{'loc': 'Brooklyn, New York', 'SOC': 'StayAtHome', 'studentflag': '', 'name': 'Rick Knutsen', 'numgames': '11', 'occ': 'musician and stay-at-home dad', 'state': 'new york', 'totalwinnings': '92400', 'year': '2001', 'main': 'StayAtHome', 'ID': '530', 'sub': '9999'}\n",
        "found dupe\n",
        "{'loc': 'Baltimore, Maryland', 'SOC': '23-1011', 'studentflag': '', 'name': 'Dan Katz', 'numgames': '2', 'occ': 'attorney', 'state': 'maryland', 'totalwinnings': '6000', 'year': '1990', 'main': '23', 'ID': '1424', 'sub': '1011'}\n",
        "found dupe\n",
        "{'loc': 'Phoenix, Arizona', 'SOC': '25-4021CU', 'studentflag': '', 'name': 'Bruce Naegeli', 'numgames': '8', 'occ': 'librarian', 'state': 'arizona', 'totalwinnings': '212800', 'year': '11990', 'main': '25', 'ID': '8996', 'sub': '4021CU'}\n",
        "found dupe\n",
        "{'loc': 'Milan, Michigan', 'SOC': '', 'studentflag': '', 'name': 'Stephanie Jass', 'numgames': '11', 'occ': 'history professor', 'state': 'michigan', 'totalwinnings': '187000', 'year': '2012', 'main': '9999', 'ID': '8997', 'sub': '9999'}\n",
        "found dupe\n",
        "{'loc': 'Brooklyn, New York', 'SOC': '25-MiscTeacher', 'studentflag': '', 'name': 'Maria Wenglinsky', 'numgames': '9', 'occ': 'teacher', 'state': 'new york', 'totalwinnings': '54000', 'year': '2005', 'main': '25', 'ID': '1949', 'sub': 'MiscTeacher'}\n",
        "found dupe\n",
        "{'loc': 'New York City, New York', 'SOC': '23-1011', 'studentflag': '', 'name': 'Jeff Bandman', 'numgames': '3', 'occ': 'attorney', 'state': 'new york', 'totalwinnings': '36900', 'year': '1989', 'main': '23', 'ID': '1498', 'sub': '1011'}\n",
        "found dupe\n",
        "{'loc': 'Mill Valley, California', 'SOC': '23-1011', 'studentflag': '', 'name': 'Michael Day', 'numgames': '3', 'occ': 'attorney', 'state': 'california', 'totalwinnings': '14700', 'year': '1985', 'main': '23', 'ID': '425', 'sub': '1011'}\n",
        "found dupe\n",
        "{'loc': 'Chicago, Illinois', 'SOC': '56-MiscStudent', 'studentflag': '', 'name': 'Pam Mueller', 'numgames': '14', 'occ': 'entering law student', 'state': 'illinois', 'totalwinnings': '109214', 'year': '2000', 'main': '56', 'ID': '426', 'sub': 'MiscStudent'}\n",
        "found dupe\n",
        "{'loc': 'New York, New York', 'SOC': '41-3031', 'studentflag': '', 'name': 'Fraser Woodford', 'numgames': '5', 'occ': 'investment banker', 'state': 'new york', 'totalwinnings': '79005', 'year': '1993', 'main': '41', 'ID': '524', 'sub': '3031'}\n",
        "found dupe\n",
        "{'loc': 'Katy, Texas', 'SOC': '56-MiscStudent', 'studentflag': 'TRUE', 'name': 'Kyle Hale', 'numgames': '7', 'occ': 'college senior', 'state': 'texas', 'totalwinnings': '88900', 'year': '2002', 'main': '56', 'ID': '525', 'sub': 'MiscStudent'}\n",
        "found dupe\n",
        "{'loc': 'Vallejo, California', 'SOC': '', 'studentflag': '', 'name': 'Pat Healy', 'numgames': '8', 'occ': 'index supervisor', 'state': 'california', 'totalwinnings': '104008', 'year': '1998', 'main': '9999', 'ID': '526', 'sub': '9999'}\n",
        "found dupe\n",
        "{'loc': 'Santa Barbara, California', 'SOC': '19-1029', 'studentflag': '', 'name': 'Bernie Cullen', 'numgames': '7', 'occ': 'biologist', 'state': 'california', 'totalwinnings': '100800', 'year': '1996', 'main': '19', 'ID': '527', 'sub': '1029'}\n",
        "found dupe\n",
        "{'loc': 'Mission Viejo, California', 'SOC': '41-9022', 'studentflag': '', 'name': 'Bill Sloan', 'numgames': '7', 'occ': 'realtor', 'state': 'california', 'totalwinnings': '46200', 'year': '1996', 'main': '41', 'ID': '522', 'sub': '9022'}\n",
        "found dupe\n",
        "{'loc': 'New York, New York', 'SOC': '', 'studentflag': '', 'name': 'India Cooper', 'numgames': '8', 'occ': 'actor and copy editor', 'state': 'new york', 'totalwinnings': '104800', 'year': '1991', 'main': '9999', 'ID': '523', 'sub': '9999'}\n",
        "found dupe\n",
        "{'loc': 'Cambridge, Massachusetts', 'SOC': '', 'studentflag': '', 'name': 'Carol Tierney', 'numgames': '2', 'occ': 'administrative assistant', 'state': 'massachusetts', 'totalwinnings': '20200', 'year': '1997', 'main': '9999', 'ID': '3806', 'sub': '9999'}\n",
        "found dupe\n",
        "{'loc': 'Santa Barbara, California', 'SOC': '56-MiscStudent', 'studentflag': '', 'name': 'John Ryan', 'numgames': '8', 'occ': 'student', 'state': 'california', 'totalwinnings': '46400', 'year': '1987', 'main': '56', 'ID': '8466', 'sub': 'MiscStudent'}\n",
        "found dupe\n",
        "{'loc': 'Danvers, Massachusetts', 'SOC': '56-MiscStudent', 'studentflag': 'TRUE', 'name': 'Erin McLean', 'numgames': '6', 'occ': 'junior at Boston University', 'state': 'massachusetts', 'totalwinnings': '134406', 'year': '2010', 'main': '56', 'ID': '7553', 'sub': 'MiscStudent'}\n",
        "found dupe\n",
        "{'loc': 'Oceanside, New York', 'SOC': '27-Writer', 'studentflag': '', 'name': 'John Krizel', 'numgames': '6', 'occ': 'writer', 'state': 'new york', 'totalwinnings': '156006', 'year': '2010', 'main': '27', 'ID': '7552', 'sub': 'Writer'}\n",
        "found dupe\n",
        "{'loc': 'Orlando, Florida', 'SOC': '17-2051', 'studentflag': '', 'name': 'Tom Kunzen', 'numgames': '7', 'occ': 'geotechnical engineer', 'state': 'florida', 'totalwinnings': '196000', 'year': '2011', 'main': '17', 'ID': '7551', 'sub': '2051'}\n",
        "found dupe\n",
        "{'loc': 'Somerville, Massachusetts', 'SOC': '25-MiscTeacher', 'studentflag': '', 'name': 'Joon Pahk', 'numgames': '10', 'occ': 'college physics teacher', 'state': 'massachusetts', 'totalwinnings': '288000', 'year': '2011', 'main': '25', 'ID': '7550', 'sub': 'MiscTeacher'}\n",
        "found dupe\n",
        "{'loc': 'Fort Worth, Texas', 'SOC': '', 'studentflag': '', 'name': 'Buddy Wright', 'numgames': '9', 'occ': 'operations engineer', 'state': 'texas', 'totalwinnings': '244809', 'year': '2010', 'main': '9999', 'ID': '7555', 'sub': '9999'}\n",
        "found dupe\n",
        "{'loc': 'Topeka, Kansas', 'SOC': '15-1131', 'studentflag': '', 'name': 'Lee Lassiter', 'numgames': '7', 'occ': 'computer programmer', 'state': 'kansas', 'totalwinnings': '78400', 'year': '2000', 'main': '15', 'ID': '4076', 'sub': '1131'}\n",
        "found dupe\n",
        "{'loc': 'Annapolis, Maryland', 'SOC': '', 'studentflag': '', 'name': 'Jay Rhee', 'numgames': '8', 'occ': 'oncologist', 'state': 'maryland', 'totalwinnings': '188808', 'year': '2011', 'main': '9999', 'ID': '7395', 'sub': '9999'}\n",
        "found dupe\n",
        "{'loc': 'Denver, Colorado', 'SOC': '', 'studentflag': '', 'name': 'Bob Mesko', 'numgames': '9', 'occ': 'arts administrator', 'state': 'colorado', 'totalwinnings': '79191', 'year': '2006', 'main': '9999', 'ID': '1962', 'sub': '9999'}\n",
        "found dupe\n",
        "{'loc': 'Los Angeles, California', 'SOC': '11-9141', 'studentflag': '', 'name': 'Ben Tritle', 'numgames': '6', 'occ': 'apartment manager', 'state': 'california', 'totalwinnings': '39600', 'year': '2002', 'main': '11', 'ID': '2221', 'sub': '9141'}\n",
        "found dupe\n",
        "{'loc': 'Salt Lake City, Utah', 'SOC': '15-1131CU', 'studentflag': '', 'name': 'Ken Jennings', 'numgames': '85', 'occ': 'software engineer', 'state': 'utah', 'totalwinnings': '3162085', 'year': '2004', 'main': '15', 'ID': '1', 'sub': '1131CU'}\n",
        "found dupe\n",
        "{'loc': 'Boston, Massachusetts', 'SOC': '', 'studentflag': '', 'name': 'Dan Pawson', 'numgames': '16', 'occ': 'legislative aide', 'state': 'massachusetts', 'totalwinnings': '155200', 'year': '2007', 'main': '9999', 'ID': '5925', 'sub': '9999'}\n",
        "found dupe\n",
        "{'loc': 'Pittsburgh, Pennsylvania', 'SOC': '', 'studentflag': '', 'name': 'Carl Brandt', 'numgames': '6', 'occ': 'investor', 'state': 'pennsylvania', 'totalwinnings': '26394', 'year': '2008', 'main': '9999', 'ID': '5923', 'sub': '9999'}\n",
        "found dupe\n",
        "{'loc': 'Irvine, California', 'SOC': '56-MiscStudent', 'studentflag': '', 'name': 'Tom Morris', 'numgames': '6', 'occ': 'substitute teacher and grad student', 'state': 'california', 'totalwinnings': '153606', 'year': '2008', 'main': '56', 'ID': '5929', 'sub': 'MiscStudent'}\n",
        "found dupe\n",
        "{'loc': 'Boston, Massachusetts', 'SOC': '', 'studentflag': '', 'name': 'Dan Pawson', 'numgames': '16', 'occ': 'legislative aide', 'state': 'massachusetts', 'totalwinnings': '155200', 'year': '2007', 'main': '9999', 'ID': '4509', 'sub': '9999'}\n",
        "found dupe\n",
        "{'loc': 'Washington, D.C', 'SOC': '13-1111', 'studentflag': '', 'name': 'Trevor Norris', 'numgames': '8', 'occ': 'management analyst', 'state': 'washington', 'totalwinnings': '113608', 'year': '2001', 'main': '13', 'ID': '2085', 'sub': '1111'}\n",
        "found dupe\n",
        "{'loc': 'St. Louis, Missouri', 'SOC': '', 'studentflag': '', 'name': 'Tom Kavanaugh', 'numgames': '11', 'occ': 'personal trainer, filmmaker, and singer', 'state': 'missouri', 'totalwinnings': '308000', 'year': '2005', 'main': '9999', 'ID': '9005', 'sub': '9999'}\n",
        "found dupe\n",
        "{'loc': 'Chicago, Illinois', 'SOC': '', 'studentflag': '', 'name': 'Erik Larsen', 'numgames': '5', 'occ': 'temporary secretary', 'state': 'illinois', 'totalwinnings': '72000', 'year': '1990', 'main': '9999', 'ID': '1008', 'sub': '9999'}\n",
        "found dupe\n",
        "{'loc': 'Houston, Texas', 'SOC': '', 'studentflag': '', 'name': 'Susan Mitchell', 'numgames': '7', 'occ': 'chemical engineer', 'state': 'texas', 'totalwinnings': '210700', 'year': '2007', 'main': '9999', 'ID': '4346', 'sub': '9999'}\n",
        "found dupe\n",
        "{'loc': 'Wilmington, Delaware', 'SOC': '', 'studentflag': '', 'name': 'Cathy Lanctot', 'numgames': '7', 'occ': 'law professor', 'state': 'delaware', 'totalwinnings': '266007', 'year': '2007', 'main': '9999', 'ID': '4343', 'sub': '9999'}\n",
        "found dupe\n",
        "{'loc': 'Columbia, Missouri', 'SOC': '25-Prof', 'studentflag': '', 'name': 'Chris Mazurek', 'numgames': '7', 'occ': 'assistant professor', 'state': 'missouri', 'totalwinnings': '82593', 'year': '2006', 'main': '25', 'ID': '4342', 'sub': 'Prof'}\n",
        "found dupe\n",
        "{'loc': 'Cherry Hill, New Jersey', 'SOC': '', 'studentflag': '', 'name': 'Isaac Segal', 'numgames': '9', 'occ': 'advertising creative director', 'state': 'new jersey', 'totalwinnings': '90009', 'year': '1995', 'main': '9999', 'ID': '5090', 'sub': '9999'}\n",
        "found dupe\n",
        "{'loc': 'Somerville, Massachusetts', 'SOC': '23-LawStudent', 'studentflag': '', 'name': 'Arianna Kelly', 'numgames': '2', 'occ': 'law student', 'state': 'massachusetts', 'totalwinnings': '38000', 'year': '2008', 'main': '23', 'ID': '5091', 'sub': 'LawStudent'}\n",
        "found dupe\n",
        "{'loc': 'Cambridge, Massachusetts', 'SOC': '', 'studentflag': '', 'name': 'Arthur Phillips', 'numgames': '8', 'occ': 'speechwriter', 'state': 'massachusetts', 'totalwinnings': '76808', 'year': '1997', 'main': '9999', 'ID': '2419', 'sub': '9999'}\n",
        "found dupe\n",
        "{'loc': 'Brookfield, Wisconsin', 'SOC': '15-Computer', 'studentflag': '', 'name': 'Pam Mifflin', 'numgames': '5', 'occ': 'computer trainer', 'state': 'wisconsin', 'totalwinnings': '86500', 'year': '1997', 'main': '15', 'ID': '2418', 'sub': 'Computer'}\n",
        "found dupe\n",
        "{'loc': 'Alexandria, Virginia', 'SOC': '', 'studentflag': '', 'name': 'Seth Alcorn', 'numgames': '6', 'occ': 'bookstore supervisor', 'state': 'virginia', 'totalwinnings': '252600', 'year': '2003', 'main': '9999', 'ID': '26', 'sub': '9999'}\n",
        "found dupe\n",
        "{'loc': 'Washington, D.C', 'SOC': '27-Writer', 'studentflag': '', 'name': 'Tom Walsh', 'numgames': '13', 'occ': 'writer', 'state': 'washington', 'totalwinnings': '209300', 'year': '2004', 'main': '27', 'ID': '27', 'sub': 'Writer'}\n",
        "found dupe\n",
        "{'loc': 'Manchester, Vermont', 'SOC': '56-MiscStudent', 'studentflag': '', 'name': 'Keith Williams', 'numgames': '3', 'occ': 'college student', 'state': 'vermont', 'totalwinnings': '67203', 'year': '2003', 'main': '56', 'ID': '22', 'sub': 'MiscStudent'}\n",
        "found dupe\n",
        "{'loc': 'Austin, Texas', 'SOC': '56-MiscStudent', 'studentflag': 'TRUE', 'name': 'Chacko George', 'numgames': '7', 'occ': 'senior at the University of Texas at Austin', 'state': 'texas', 'totalwinnings': '70000', 'year': '1999', 'main': '56', 'ID': '509', 'sub': 'MiscStudent'}\n",
        "found dupe\n",
        "{'loc': 'Sylva, North Carolina', 'SOC': '41-bookseller', 'studentflag': '', 'name': 'Phoebe Juel', 'numgames': '6', 'occ': 'bookseller', 'state': 'north carolina', 'totalwinnings': '116400', 'year': '1993', 'main': '41', 'ID': '504', 'sub': 'bookseller'}\n",
        "found dupe\n",
        "{'loc': 'Santa Monica, California', 'SOC': '25-MiscTeacher', 'studentflag': '', 'name': 'Steve Berman', 'numgames': '7', 'occ': 'teacher', 'state': 'california', 'totalwinnings': '97993', 'year': '1989', 'main': '25', 'ID': '505', 'sub': 'MiscTeacher'}\n",
        "found dupe\n",
        "{'loc': 'Los Alamos, New Mexico', 'SOC': '', 'studentflag': '', 'name': 'Jeff Stewart', 'numgames': '5', 'occ': 'executive', 'state': 'new mexico', 'totalwinnings': '40500', 'year': '1994', 'main': '9999', 'ID': '500', 'sub': '9999'}\n",
        "found dupe\n",
        "{'loc': 'Martinsburg, West Virginia', 'SOC': '27-3041', 'studentflag': '', 'name': 'Bob Fleenor', 'numgames': '7', 'occ': 'newspaper copy editor', 'state': 'virginia', 'totalwinnings': '86800', 'year': '2001', 'main': '27', 'ID': '630', 'sub': '3041'}\n",
        "found dupe\n",
        "{'loc': 'Columbus, Ohio', 'SOC': '', 'studentflag': '', 'name': 'Doug Lach', 'numgames': '7', 'occ': 'marketing manager', 'state': 'ohio', 'totalwinnings': '111300', 'year': '2000', 'main': '9999', 'ID': '631', 'sub': '9999'}\n",
        "found dupe\n",
        "{'loc': 'Pasadena, California', 'SOC': '25-Prof', 'studentflag': '', 'name': 'Michael Rooney', 'numgames': '10', 'occ': 'college instructor', 'state': 'california', 'totalwinnings': '88000', 'year': '1999', 'main': '25', 'ID': '634', 'sub': 'Prof'}\n",
        "found dupe\n",
        "{'loc': 'Topeka, Kansas', 'SOC': '15-1131', 'studentflag': '', 'name': 'Lee Lassiter', 'numgames': '7', 'occ': 'computer programmer', 'state': 'kansas', 'totalwinnings': '78400', 'year': '2000', 'main': '15', 'ID': '635', 'sub': '1131'}\n",
        "found dupe\n",
        "{'loc': 'Marietta, Georgia', 'SOC': '', 'studentflag': '', 'name': 'Robin Carroll', 'numgames': '16', 'occ': 'research assistant', 'state': 'georgia', 'totalwinnings': '240000', 'year': '2000', 'main': '9999', 'ID': '636', 'sub': '9999'}\n",
        "found dupe\n",
        "{'loc': 'Los Angeles, California', 'SOC': '', 'studentflag': '', 'name': 'Bob Verini', 'numgames': '16', 'occ': 'director of academics for a national test preparation company', 'state': 'california', 'totalwinnings': '172784', 'year': '11990', 'main': '9999', 'ID': '637', 'sub': '9999'}\n",
        "found dupe\n",
        "{'loc': 'Douglaston, New York', 'SOC': '33-1012', 'studentflag': '', 'name': 'Frank Spangenberg', 'numgames': '17', 'occ': 'police lieutenant', 'state': 'new york', 'totalwinnings': '268583', 'year': '1990', 'main': '33', 'ID': '638', 'sub': '1012'}\n",
        "found dupe\n",
        "{'loc': 'the University of Arkansas', 'SOC': '56-MiscStudent', 'studentflag': 'TRUE', 'name': 'Shane Whitlock', 'numgames': '9', 'occ': 'junior', 'state': 'arkansas', 'totalwinnings': '138609', 'year': '1996', 'main': '56', 'ID': '8264', 'sub': 'MiscStudent'}\n",
        "found dupe\n",
        "{'loc': 'St. Louis, Missouri', 'SOC': '25-Prof', 'studentflag': '', 'name': 'Donald Burgo', 'numgames': '3', 'occ': 'college teacher', 'state': 'missouri', 'totalwinnings': '12000', 'year': '1986', 'main': '25', 'ID': '7379', 'sub': 'Prof'}\n",
        "found dupe\n",
        "{'loc': 'Chapel Hill, North Carolina', 'SOC': '25-Prof', 'studentflag': '', 'name': 'Jay Rosenberg', 'numgames': '3', 'occ': 'professor of philosophy', 'state': 'north carolina', 'totalwinnings': '22800', 'year': '1986', 'main': '25', 'ID': '7377', 'sub': 'Prof'}\n",
        "found dupe\n",
        "{'loc': 'Westminster, Maryland', 'SOC': '11-9032', 'studentflag': '', 'name': 'Barbara Walker', 'numgames': '5', 'occ': 'elementary school principal', 'state': 'maryland', 'totalwinnings': '32000', 'year': '1996', 'main': '11', 'ID': '753', 'sub': '9032'}\n",
        "found dupe\n",
        "{'loc': 'Forest Grove, Oregon', 'SOC': '', 'studentflag': '', 'name': 'Ryan Holznagel', 'numgames': '12', 'occ': 'software writer', 'state': 'oregon', 'totalwinnings': '146076', 'year': '1994', 'main': '9999', 'ID': '756', 'sub': '9999'}\n",
        "found dupe\n",
        "{'loc': 'Mission Viejo, California', 'SOC': '41-9021', 'studentflag': '', 'name': 'Bill Sloan', 'numgames': '7', 'occ': 'real estate broker', 'state': 'california', 'totalwinnings': '46200', 'year': '1996', 'main': '41', 'ID': '755', 'sub': '9021'}\n",
        "found dupe\n",
        "{'loc': 'Milwaukee, Wisconsin', 'SOC': '19-2021', 'studentflag': '', 'name': 'Michael Falk', 'numgames': '9', 'occ': 'meteorologist', 'state': 'wisconsin', 'totalwinnings': '156609', 'year': '2006', 'main': '19', 'ID': '1804', 'sub': '2021'}\n",
        "found dupe\n",
        "{'loc': 'Los Angeles, California', 'SOC': '29-Doctor', 'studentflag': '', 'name': 'Elaine Zollner', 'numgames': '4', 'occ': 'physician', 'state': 'california', 'totalwinnings': '42404', 'year': '1990', 'main': '29', 'ID': '1021', 'sub': 'Doctor'}\n",
        "found dupe\n",
        "{'loc': 'Redlands, California', 'SOC': '', 'studentflag': '', 'name': 'Brian Wangsgard', 'numgames': '9', 'occ': 'senior marketing representative', 'state': 'california', 'totalwinnings': '149391', 'year': '1989', 'main': '9999', 'ID': '8676', 'sub': '9999'}\n",
        "found dupe\n",
        "{'loc': 'Cordova, Tennessee', 'SOC': '25-2031', 'studentflag': '', 'name': 'Kori Tyler', 'numgames': '3', 'occ': 'high school teacher', 'state': 'tennessee', 'totalwinnings': '60000', 'year': '2009', 'main': '25', 'ID': '5734', 'sub': '2031'}\n",
        "found dupe\n",
        "{'loc': 'West Hollywood, California', 'SOC': '23-LawStudent', 'studentflag': '', 'name': 'Jeff Richmond', 'numgames': '6', 'occ': 'law student', 'state': 'california', 'totalwinnings': '91194', 'year': '111990', 'main': '23', 'ID': '5239', 'sub': 'LawStudent'}\n",
        "found dupe\n",
        "{'loc': 'Bakersfield, California', 'SOC': '', 'studentflag': '', 'name': 'Brian Lamb', 'numgames': '4', 'occ': 'middle school teacher', 'state': 'california', 'totalwinnings': '80000', 'year': '2006', 'main': '9999', 'ID': '1845', 'sub': '9999'}\n",
        "found dupe\n",
        "{'loc': 'El Cerrito, California', 'SOC': '56-GradStu', 'studentflag': '', 'name': 'Larissa Kelly', 'numgames': '12', 'occ': 'grad student', 'state': 'california', 'totalwinnings': '542400', 'year': '2008', 'main': '56', 'ID': '4956', 'sub': 'GradStu'}\n",
        "found dupe\n",
        "{'loc': 'Amherst, New York', 'SOC': '25-3099', 'studentflag': '', 'name': 'Mark Wales', 'numgames': '8', 'occ': 'substitute teacher', 'state': 'new york', 'totalwinnings': '176008', 'year': '2008', 'main': '25', 'ID': '5135', 'sub': '3099'}\n",
        "found dupe\n",
        "{'loc': 'Houston, Texas', 'SOC': '29-1141', 'studentflag': '', 'name': 'Linda Roberts', 'numgames': '3', 'occ': 'registered nurse', 'state': 'texas', 'totalwinnings': '39603', 'year': '1995', 'main': '29', 'ID': '5130', 'sub': '1141'}\n",
        "found dupe\n",
        "{'loc': 'San Francisco, California', 'SOC': '25-Prof', 'studentflag': '', 'name': 'Dan Melia', 'numgames': '13', 'occ': 'professor', 'state': 'california', 'totalwinnings': '166400', 'year': '1997', 'main': '25', 'ID': '618', 'sub': 'Prof'}\n",
        "found dupe\n",
        "{'loc': 'Marietta, Georgia', 'SOC': '', 'studentflag': '', 'name': 'Robin Carroll', 'numgames': '16', 'occ': 'instructional designer', 'state': 'georgia', 'totalwinnings': '240000', 'year': '2000', 'main': '9999', 'ID': '619', 'sub': '9999'}\n",
        "found dupe\n",
        "{'loc': 'Otley, Iowa', 'SOC': '56-MiscStudent', 'studentflag': 'TRUE', 'name': 'Josh Den Hartog', 'numgames': '6', 'occ': 'Teen Tournament winner', 'state': 'iowa', 'totalwinnings': '23934', 'year': '1997', 'main': '56', 'ID': '612', 'sub': 'MiscStudent'}\n",
        "found dupe\n",
        "{'loc': 'Jersey City, New Jersey', 'SOC': '', 'studentflag': '', 'name': 'Claudia Perry', 'numgames': '10', 'occ': 'pop music critic', 'state': 'new jersey', 'totalwinnings': '101010', 'year': '1997', 'main': '9999', 'ID': '613', 'sub': '9999'}\n",
        "found dupe\n",
        "{'loc': 'Orlando, Florida', 'SOC': '25-4021CU', 'studentflag': '', 'name': 'Lyn Payne', 'numgames': '7', 'occ': 'librarian', 'state': 'florida', 'totalwinnings': '91007', 'year': '1997', 'main': '25', 'ID': '610', 'sub': '4021CU'}\n",
        "found dupe\n",
        "{'loc': 'Whitehall, Pennsylvania', 'SOC': '56-GradStu', 'studentflag': '', 'name': 'Sean Ryan', 'numgames': '9', 'occ': 'graduate student', 'state': 'pennsylvania', 'totalwinnings': '104391', 'year': '2003', 'main': '56', 'ID': '611', 'sub': 'GradStu'}\n",
        "found dupe\n",
        "{'loc': 'Livonia, Michigan', 'SOC': '', 'studentflag': '', 'name': 'Craig Barker', 'numgames': '6', 'occ': 'College Tournament winner', 'state': 'michigan', 'totalwinnings': '75000', 'year': '1997', 'main': '9999', 'ID': '616', 'sub': '9999'}\n",
        "found dupe\n",
        "{'loc': 'Washington, D.C', 'SOC': '11-2011', 'studentflag': '', 'name': 'Peter Scott', 'numgames': '7', 'occ': 'advertising manager', 'state': 'washington', 'totalwinnings': '51100', 'year': '1997', 'main': '11', 'ID': '617', 'sub': '2011'}\n",
        "found dupe\n",
        "{'loc': 'Rockford, Illinois', 'SOC': '', 'studentflag': '', 'name': 'Paul Gutowski', 'numgames': '8', 'occ': 'counselor', 'state': 'illinois', 'totalwinnings': '115208', 'year': '1997', 'main': '9999', 'ID': '614', 'sub': '9999'}\n",
        "found dupe\n",
        "{'loc': 'Ventura, California', 'SOC': '15-Computer', 'studentflag': '', 'name': 'Larry McKnight', 'numgames': '5', 'occ': 'computer analyst', 'state': 'california', 'totalwinnings': '43995', 'year': '1989', 'main': '15', 'ID': '1493', 'sub': 'Computer'}\n",
        "found dupe\n",
        "{'loc': 'Montgomery Village, Maryland', 'SOC': '', 'studentflag': '', 'name': 'Priscilla Ball', 'numgames': '3', 'occ': 'government contractor', 'state': 'maryland', 'totalwinnings': '38397', 'year': '2009', 'main': '9999', 'ID': '5967', 'sub': '9999'}\n",
        "found dupe\n",
        "{'loc': 'Venice, California', 'SOC': '', 'studentflag': '', 'name': 'Ryan Moore', 'numgames': '7', 'occ': 'dot-com start-up partner', 'state': 'california', 'totalwinnings': '68600', 'year': '2001', 'main': '9999', 'ID': '2594', 'sub': '9999'}\n",
        "found dupe\n",
        "{'loc': 'Hicksville, New York', 'SOC': '23-LawStudent', 'studentflag': '', 'name': 'Jared Eisenstat', 'numgames': '2', 'occ': 'law student', 'state': 'new york', 'totalwinnings': '0', 'year': '1985', 'main': '23', 'ID': '8600', 'sub': 'LawStudent'}\n",
        "found dupe\n",
        "{'loc': 'Houston, Texas', 'SOC': '56-MiscStudent', 'studentflag': '', 'name': 'Babu Srinivasan', 'numgames': '10', 'occ': 'graduate student and history teacher', 'state': 'texas', 'totalwinnings': '113000', 'year': '2001', 'main': '56', 'ID': '2629', 'sub': 'MiscStudent'}\n",
        "found dupe\n",
        "{'loc': 'Santa Monica, California', 'SOC': '', 'studentflag': '', 'name': 'Steve Berman', 'numgames': '7', 'occ': 'film executive', 'state': 'california', 'totalwinnings': '97993', 'year': '1989', 'main': '9999', 'ID': '774', 'sub': '9999'}\n",
        "found dupe\n",
        "{'loc': 'Cambridge, Massachusetts', 'SOC': '', 'studentflag': '', 'name': 'Doug Meyer', 'numgames': '2', 'occ': 'editor', 'state': 'massachusetts', 'totalwinnings': '0', 'year': '2004', 'main': '9999', 'ID': '776', 'sub': '9999'}\n",
        "found dupe\n",
        "{'loc': 'Baltimore, Maryland', 'SOC': '23-1011', 'studentflag': '', 'name': 'Brad Plovan', 'numgames': '2', 'occ': 'attorney', 'state': 'maryland', 'totalwinnings': '3600', 'year': '1996', 'main': '23', 'ID': '779', 'sub': '1011'}\n",
        "found dupe\n",
        "{'loc': 'Studio City, California', 'SOC': '27-Writer', 'studentflag': '', 'name': 'Steve Unite', 'numgames': '7', 'occ': 'writer', 'state': 'california', 'totalwinnings': '156828', 'year': '2006', 'main': '27', 'ID': '2970', 'sub': 'Writer'}\n",
        "found dupe\n",
        "{'loc': 'Albany, New York', 'SOC': '', 'studentflag': '', 'name': 'Paul Glaser', 'numgames': '8', 'occ': 'research scientist', 'state': 'new york', 'totalwinnings': '195208', 'year': '2007', 'main': '9999', 'ID': '4305', 'sub': '9999'}\n",
        "found dupe\n",
        "{'loc': 'Calhoun, Georgia', 'SOC': '56-MiscStudent', 'studentflag': '', 'name': 'Eric Floyd', 'numgames': '9', 'occ': 'college student', 'state': 'georgia', 'totalwinnings': '0', 'year': '2002', 'main': '56', 'ID': '3122', 'sub': 'MiscStudent'}\n",
        "found dupe\n",
        "{'loc': 'Ridgewood, New Jersey', 'SOC': '56-MiscStudent', 'studentflag': '', 'name': 'David Madden', 'numgames': '22', 'occ': 'student', 'state': 'new jersey', 'totalwinnings': '360800', 'year': '2005', 'main': '56', 'ID': '861', 'sub': 'MiscStudent'}\n",
        "found dupe\n",
        "{'loc': 'Bartlesville, Oklahoma', 'SOC': '56-MiscStudent', 'studentflag': '', 'name': 'Tom Cubbage', 'numgames': '10', 'occ': \"law student and winner of last year's College Tournament\", 'state': 'oklahoma', 'totalwinnings': '154000', 'year': '1989', 'main': '56', 'ID': '840', 'sub': 'MiscStudent'}\n",
        "found dupe\n",
        "{'loc': 'Minneapolis, Minnesota', 'SOC': '57-ProjMgr', 'studentflag': '', 'name': 'Brian Weikle', 'numgames': '10', 'occ': 'project manager', 'state': 'minnesota', 'totalwinnings': '214000', 'year': '2003', 'main': '57', 'ID': '2756', 'sub': 'ProjMgr'}\n",
        "found dupe\n",
        "{'loc': 'Boynton Beach, Florida', 'SOC': '11-9033', 'studentflag': '', 'name': 'Jeff Spoeri', 'numgames': '8', 'occ': 'university administrator', 'state': 'florida', 'totalwinnings': '67208', 'year': '2006', 'main': '11', 'ID': '2752', 'sub': '9033'}\n",
        "found dupe\n",
        "{'loc': 'Moscow, Idaho', 'SOC': '56-MiscStudent', 'studentflag': '', 'name': 'Mark Runsvold', 'numgames': '7', 'occ': 'student and waiter', 'state': 'idaho', 'totalwinnings': '336000', 'year': '2011', 'main': '56', 'ID': '7438', 'sub': 'MiscStudent'}\n",
        "found dupe\n",
        "{'loc': 'Cambridge, Massachusetts', 'SOC': '', 'studentflag': '', 'name': 'Leah Greenwald', 'numgames': '9', 'occ': 'architect', 'state': 'massachusetts', 'totalwinnings': '99000', 'year': '1988', 'main': '9999', 'ID': '2750', 'sub': '9999'}\n",
        "found dupe\n",
        "{'loc': 'Washington, D.C', 'SOC': '29-1127', 'studentflag': '', 'name': 'Jill Bunzendahl Chimka', 'numgames': '8', 'occ': 'speech and language pathologist', 'state': 'washington', 'totalwinnings': '125600', 'year': '2002', 'main': '29', 'ID': '2363', 'sub': '1127'}\n",
        "found dupe\n",
        "{'loc': 'Cranford, New Jersey', 'SOC': '23-1011', 'studentflag': '', 'name': 'Bill Pitassy', 'numgames': '4', 'occ': 'attorney', 'state': 'new jersey', 'totalwinnings': '42800', 'year': '1994', 'main': '23', 'ID': '5116', 'sub': '1011'}\n",
        "found dupe\n",
        "{'loc': 'Chicopee, Massachusetts', 'SOC': '25-Prof', 'studentflag': '', 'name': 'Tom Nichols', 'numgames': '3', 'occ': 'political science professor', 'state': 'massachusetts', 'totalwinnings': '41970', 'year': '1994', 'main': '25', 'ID': '5111', 'sub': 'Prof'}\n",
        "found dupe\n",
        "{'loc': 'Louisville, Kentucky', 'SOC': '56-MiscStudent', 'studentflag': 'TRUE', 'name': 'Matt Morris', 'numgames': '2', 'occ': 'Teen Tournament winner', 'state': 'kentucky', 'totalwinnings': '0', 'year': '1994', 'main': '56', 'ID': '5110', 'sub': 'MiscStudent'}\n",
        "found dupe\n",
        "{'loc': 'Miami Beach, Florida', 'SOC': '58-Retired', 'studentflag': '', 'name': 'Lionel Goldbart', 'numgames': '4', 'occ': 'retired schoolteacher', 'state': 'florida', 'totalwinnings': '20000', 'year': '1986', 'main': '58', 'ID': '5113', 'sub': 'Retired'}\n",
        "found dupe\n",
        "{'loc': 'Potomac, Maryland', 'SOC': '', 'studentflag': '', 'name': 'Amy Fine', 'numgames': '2', 'occ': 'wife and mother', 'state': 'maryland', 'totalwinnings': '7198', 'year': '1994', 'main': '9999', 'ID': '5118', 'sub': '9999'}\n",
        "found dupe\n",
        "{'loc': 'San Francisco, California', 'SOC': '27-3043', 'studentflag': '', 'name': 'Paul Kursky', 'numgames': '7', 'occ': 'copywriter', 'state': 'california', 'totalwinnings': '79100', 'year': '2010', 'main': '27', 'ID': '6878', 'sub': '3043'}\n",
        "found dupe\n",
        "{'loc': 'Albuquerque, New Mexico', 'SOC': '43-9022', 'studentflag': '', 'name': 'Phil Yellman', 'numgames': '5', 'occ': 'word processor', 'state': 'new mexico', 'totalwinnings': '66000', 'year': '1992', 'main': '43', 'ID': '670', 'sub': '9022'}\n",
        "found dupe\n",
        "{'loc': 'Highland Park, New Jersey', 'SOC': '25-3099', 'studentflag': '', 'name': 'Jason Keller', 'numgames': '12', 'occ': 'tutor', 'state': 'new jersey', 'totalwinnings': '338400', 'year': '2011', 'main': '25', 'ID': '7606', 'sub': '3099'}\n",
        "found dupe\n",
        "{'loc': 'Reston, Virginia', 'SOC': '', 'studentflag': '', 'name': 'Leslie Miller', 'numgames': '7', 'occ': 'editor', 'state': 'virginia', 'totalwinnings': '49000', 'year': '1992', 'main': '9999', 'ID': '5943', 'sub': '9999'}\n",
        "found dupe\n",
        "{'loc': 'McLean, Virginia', 'SOC': '58-Retired', 'studentflag': '', 'name': 'Deborah Fitzgerald', 'numgames': '6', 'occ': 'retired government employee', 'state': 'virginia', 'totalwinnings': '100794', 'year': '2008', 'main': '58', 'ID': '5940', 'sub': 'Retired'}\n",
        "found dupe\n",
        "{'loc': 'Eatontown, New Jersey', 'SOC': '56-MiscStudent', 'studentflag': 'TRUE', 'name': 'Janet Wong', 'numgames': '6', 'occ': 'college senior', 'state': 'new jersey', 'totalwinnings': '55800', 'year': '2000', 'main': '56', 'ID': '2642', 'sub': 'MiscStudent'}\n",
        "found dupe\n",
        "{'loc': 'Los Angeles, California', 'SOC': '', 'studentflag': '', 'name': 'Jack Archey', 'numgames': '7', 'occ': 'C.P.A. and comedian', 'state': 'california', 'totalwinnings': '123207', 'year': '1999', 'main': '9999', 'ID': '2643', 'sub': '9999'}\n",
        "found dupe\n",
        "{'loc': 'Arlington, Virginia', 'SOC': '27-3022', 'studentflag': '', 'name': 'Eddie Timanus', 'numgames': '10', 'occ': 'sportswriter', 'state': 'virginia', 'totalwinnings': '144000', 'year': '1999', 'main': '27', 'ID': '2644', 'sub': '3022'}\n",
        "found dupe\n",
        "{'loc': 'Chicago, Illinois', 'SOC': '56-MiscStudent', 'studentflag': 'TRUE', 'name': 'Carolyn Cracraft', 'numgames': '7', 'occ': 'college senior', 'state': 'illinois', 'totalwinnings': '50400', 'year': '1999', 'main': '56', 'ID': '2645', 'sub': 'MiscStudent'}\n",
        "found dupe\n",
        "{'loc': 'Van Nuys, California', 'SOC': '', 'studentflag': '', 'name': 'Darlene Lieblich', 'numgames': '6', 'occ': 'television executive', 'state': 'california', 'totalwinnings': '52200', 'year': '1999', 'main': '9999', 'ID': '2646', 'sub': '9999'}\n",
        "found dupe\n",
        "{'loc': 'White Lake, Michigan', 'SOC': '', 'studentflag': '', 'name': 'Terry Currin', 'numgames': '7', 'occ': 'systems analyst and pharmacist', 'state': 'michigan', 'totalwinnings': '70000', 'year': '1999', 'main': '9999', 'ID': '2647', 'sub': '9999'}\n",
        "found dupe\n",
        "{'loc': 'Seattle, Washington', 'SOC': '27-Writer', 'studentflag': '', 'name': 'Ken Jennings', 'numgames': '85', 'occ': 'writer', 'state': 'washington', 'totalwinnings': '3162085', 'year': '2004', 'main': '27', 'ID': '9010', 'sub': 'Writer'}\n",
        "found dupe\n",
        "{'loc': 'Richmond, Virginia', 'SOC': '56-MiscStudent', 'studentflag': 'TRUE', 'name': 'Amanda Goad', 'numgames': '4', 'occ': 'junior', 'state': 'virginia', 'totalwinnings': '0', 'year': '1996', 'main': '56', 'ID': '2344', 'sub': 'MiscStudent'}\n",
        "found dupe\n",
        "{'loc': 'Pullman, Washington', 'SOC': '25-Prof', 'studentflag': '', 'name': 'Mary Hirschfeld', 'numgames': '5', 'occ': 'professor of economics', 'state': 'washington', 'totalwinnings': '81005', 'year': '1996', 'main': '25', 'ID': '2121', 'sub': 'Prof'}\n",
        "found dupe\n",
        "{'loc': 'New Canaan, Connecticut', 'SOC': '23-1011', 'studentflag': '', 'name': 'Lou Pryor', 'numgames': '5', 'occ': 'attorney', 'state': 'connecticut', 'totalwinnings': '96505', 'year': '1991', 'main': '23', 'ID': '5172', 'sub': '1011'}\n",
        "found dupe\n",
        "{'loc': 'Aliso Viejo, California', 'SOC': '25-2031', 'studentflag': '', 'name': 'Cora Peck', 'numgames': '8', 'occ': 'high school teacher and grad student', 'state': 'california', 'totalwinnings': '208000', 'year': '2007', 'main': '25', 'ID': '5924', 'sub': '2031'}\n",
        "found dupe\n",
        "{'loc': 'Atlanta, Georgia', 'SOC': '', 'studentflag': '', 'name': 'Dave Leach', 'numgames': '9', 'occ': 'software analyst', 'state': 'georgia', 'totalwinnings': '140391', 'year': '2011', 'main': '9999', 'ID': '7629', 'sub': '9999'}\n",
        "found dupe\n",
        "{'loc': 'Wilmette, Illinois', 'SOC': '56-MiscStudent', 'studentflag': 'TRUE', 'name': 'Pam Mueller', 'numgames': '14', 'occ': 'junior at Loyola University, Chicago', 'state': 'illinois', 'totalwinnings': '109214', 'year': '2000', 'main': '56', 'ID': '656', 'sub': 'MiscStudent'}\n",
        "found dupe\n",
        "{'loc': 'Woodbury, Minnesota', 'SOC': '56-MiscStudent', 'studentflag': 'TRUE', 'name': 'April McManus', 'numgames': '7', 'occ': 'senior', 'state': 'minnesota', 'totalwinnings': '0', 'year': '1992', 'main': '56', 'ID': '650', 'sub': 'MiscStudent'}\n",
        "found dupe\n",
        "{'loc': 'Rockville, Maryland', 'SOC': '15-1131CU', 'studentflag': '', 'name': 'Steve Newman', 'numgames': '3', 'occ': 'computer consultant', 'state': 'maryland', 'totalwinnings': '0', 'year': '1992', 'main': '15', 'ID': '658', 'sub': '1131CU'}\n",
        "found dupe\n",
        "{'loc': 'Brooklyn, New York', 'SOC': '27-2042', 'studentflag': '', 'name': 'Rick Knutsen', 'numgames': '11', 'occ': 'musician', 'state': 'new york', 'totalwinnings': '92400', 'year': '2001', 'main': '27', 'ID': '659', 'sub': '2042'}\n",
        "found dupe\n",
        "{'loc': 'Cincinnati, Ohio', 'SOC': '', 'studentflag': '', 'name': 'Dave Abbott', 'numgames': '11', 'occ': 'musician and contract manager', 'state': 'ohio', 'totalwinnings': '178200', 'year': '1998', 'main': '9999', 'ID': '3884', 'sub': '9999'}\n",
        "found dupe\n",
        "{'loc': 'Chicago, Illinois', 'SOC': '27-3022', 'studentflag': '', 'name': 'Kara Spak', 'numgames': '8', 'occ': 'newspaper reporter', 'state': 'illinois', 'totalwinnings': '192008', 'year': '2010', 'main': '27', 'ID': '6994', 'sub': '3022'}\n",
        "found dupe\n",
        "{'loc': 'Fairfax, Virginia', 'SOC': '56-MiscStudent', 'studentflag': 'TRUE', 'name': 'Jamie Weiss', 'numgames': '5', 'occ': 'junior', 'state': 'virginia', 'totalwinnings': '70000', 'year': '1990', 'main': '56', 'ID': '999', 'sub': 'MiscStudent'}\n",
        "found dupe\n",
        "{'loc': 'Raymore, Missouri', 'SOC': '', 'studentflag': '', 'name': 'Ric Moser', 'numgames': '6', 'occ': 'printing broker', 'state': 'missouri', 'totalwinnings': '12000', 'year': '1984', 'main': '9999', 'ID': '727', 'sub': '9999'}\n",
        "found dupe\n",
        "{'loc': 'Los Angeles, California', 'SOC': '', 'studentflag': '', 'name': 'Jack Campion', 'numgames': '2', 'occ': '', 'state': 'california', 'totalwinnings': '3850', 'year': '1000', 'main': '9999', 'ID': '2660', 'sub': '9999'}\n",
        "found dupe\n",
        "{'loc': 'Denver, Colorado', 'SOC': '', 'studentflag': '', 'name': 'India Cooper', 'numgames': '8', 'occ': 'actor and copy editor', 'state': 'colorado', 'totalwinnings': '104800', 'year': '1991', 'main': '9999', 'ID': '5322', 'sub': '9999'}\n",
        "found dupe\n",
        "{'loc': 'Norman, Oklahoma', 'SOC': '13-2011', 'studentflag': '', 'name': 'Steve Reynolds', 'numgames': '7', 'occ': 'accountant', 'state': 'oklahoma', 'totalwinnings': '170807', 'year': '2004', 'main': '13', 'ID': '6631', 'sub': '2011'}\n",
        "found dupe\n",
        "{'loc': 'Durham, New Hampshire', 'SOC': '56-GradStu', 'studentflag': '', 'name': 'Mehrun Etebari', 'numgames': '7', 'occ': 'grad student', 'state': 'new hampshire', 'totalwinnings': '125300', 'year': '2007', 'main': '56', 'ID': '3769', 'sub': 'GradStu'}\n",
        "found dupe\n",
        "{'loc': 'Grand Blanc, Michigan', 'SOC': '23-LawStudent', 'studentflag': '', 'name': 'Chuck Forrest', 'numgames': '16', 'occ': 'law student', 'state': 'michigan', 'totalwinnings': '288000', 'year': '1985', 'main': '23', 'ID': '1292', 'sub': 'LawStudent'}\n",
        "found dupe\n",
        "{'loc': 'Forest Park, Illinois', 'SOC': '27-2099CU', 'studentflag': '', 'name': 'Paul Rouffa', 'numgames': '10', 'occ': 'actor', 'state': 'illinois', 'totalwinnings': '100000', 'year': '1986', 'main': '27', 'ID': '1293', 'sub': '2099CU'}\n",
        "found dupe\n",
        "{'loc': 'Phoenix, Arizona', 'SOC': '19-2032', 'studentflag': '', 'name': 'Leszek Pawlowicz', 'numgames': '10', 'occ': 'materials scientist', 'state': 'arizona', 'totalwinnings': '154010', 'year': '1991', 'main': '19', 'ID': '5150', 'sub': '2032'}\n",
        "found dupe\n",
        "{'loc': 'Crawfordsville, Indiana', 'SOC': '', 'studentflag': '', 'name': 'Christopher Short', 'numgames': '8', 'occ': 'pub trivia editor', 'state': 'indiana', 'totalwinnings': '172800', 'year': '2011', 'main': '9999', 'ID': '7274', 'sub': '9999'}\n",
        "found dupe\n",
        "{'loc': 'Los Angeles, California', 'SOC': '', 'studentflag': '', 'name': 'Mark Leinwand', 'numgames': '2', 'occ': 'attorney and a businessman', 'state': 'california', 'totalwinnings': '24000', 'year': '1985', 'main': '9999', 'ID': '8551', 'sub': '9999'}\n",
        "found dupe\n",
        "{'loc': 'Portland, Oregon', 'SOC': 'StayAtHome', 'studentflag': '', 'name': 'Stephen Weingarten', 'numgames': '6', 'occ': 'stay-at-home dad', 'state': 'oregon', 'totalwinnings': '139200', 'year': '2009', 'main': 'StayAtHome', 'ID': '6833', 'sub': '9999'}\n",
        "found dupe\n",
        "{'loc': 'St. Cloud, Minnesota', 'SOC': '56-MiscStudent', 'studentflag': '', 'name': 'Nick Yozamp', 'numgames': '6', 'occ': 'biology student', 'state': 'minnesota', 'totalwinnings': '120000', 'year': '2010', 'main': '56', 'ID': '6832', 'sub': 'MiscStudent'}\n",
        "found dupe\n",
        "{'loc': 'Clayton, North Carolina', 'SOC': '25-2031', 'studentflag': '', 'name': 'Andy Srinivasan', 'numgames': '7', 'occ': 'high school science teacher', 'state': 'north carolina', 'totalwinnings': '121800', 'year': '2009', 'main': '25', 'ID': '6831', 'sub': '2031'}\n",
        "found dupe\n",
        "{'loc': 'New York, New York', 'SOC': '25-MiscTeacher', 'studentflag': '', 'name': 'Regina Robbins', 'numgames': '6', 'occ': 'arts teacher', 'state': 'new york', 'totalwinnings': '231000', 'year': '2010', 'main': '25', 'ID': '6830', 'sub': 'MiscTeacher'}\n",
        "found dupe\n",
        "{'loc': 'Conway, Arkansas', 'SOC': '', 'studentflag': '', 'name': 'Joey Beachum', 'numgames': '5', 'occ': 'Air Force intelligence officer', 'state': 'arkansas', 'totalwinnings': '135000', 'year': '2008', 'main': '9999', 'ID': '6837', 'sub': '9999'}\n",
        "found dupe\n",
        "{'loc': 'Brooklyn, New York', 'SOC': '27-3031', 'studentflag': '', 'name': 'Justin Bernbach', 'numgames': '10', 'occ': 'lobbyist', 'state': 'new york', 'totalwinnings': '216010', 'year': '2009', 'main': '27', 'ID': '6836', 'sub': '3031'}\n",
        "found dupe\n",
        "{'loc': 'Walton, New York', 'SOC': '', 'studentflag': '', 'name': 'Christine Valada', 'numgames': '6', 'occ': 'photographer and attorney', 'state': 'new york', 'totalwinnings': '91206', 'year': '2009', 'main': '9999', 'ID': '6835', 'sub': '9999'}\n",
        "found dupe\n",
        "{'loc': 'North Texas', 'SOC': '41-bookseller', 'studentflag': '', 'name': 'Terry Linwood', 'numgames': '8', 'occ': 'bookseller', 'state': 'texas', 'totalwinnings': '192008', 'year': '2009', 'main': '41', 'ID': '6834', 'sub': 'bookseller'}\n",
        "found dupe\n",
        "{'loc': 'Los Angeles, California', 'SOC': '', 'studentflag': '', 'name': 'Stefan Goodreau', 'numgames': '10', 'occ': 'video game tester', 'state': 'california', 'totalwinnings': '199170', 'year': '2009', 'main': '9999', 'ID': '6839', 'sub': '9999'}\n",
        "found dupe\n",
        "{'loc': 'South Dayton, New York', 'SOC': '', 'studentflag': '', 'name': 'Jason Zollinger', 'numgames': '11', 'occ': 'engine assembler', 'state': 'new york', 'totalwinnings': '294811', 'year': '2010', 'main': '9999', 'ID': '6838', 'sub': '9999'}\n",
        "found dupe\n",
        "{'loc': 'Albuquerque, New Mexico', 'SOC': '43-9022', 'studentflag': '', 'name': 'Phil Yellman', 'numgames': '5', 'occ': 'word processor', 'state': 'new mexico', 'totalwinnings': '66000', 'year': '1992', 'main': '43', 'ID': '7923', 'sub': '9022'}\n",
        "found dupe\n",
        "{'loc': 'Sherman Oaks, California', 'SOC': '', 'studentflag': '', 'name': 'Marvin Shinkman', 'numgames': '5', 'occ': 'stamp dealer', 'state': 'california', 'totalwinnings': '61000', 'year': '1986', 'main': '9999', 'ID': '1291', 'sub': '9999'}\n",
        "found dupe\n",
        "{'loc': 'Baltimore, Maryland', 'SOC': '29-1069', 'studentflag': '', 'name': 'Justin Sausville', 'numgames': '9', 'occ': 'urologist', 'state': 'maryland', 'totalwinnings': '270000', 'year': '2011', 'main': '29', 'ID': '7466', 'sub': '1069'}\n"
       ]
      }
     ],
     "prompt_number": 26
    },
    {
     "cell_type": "code",
     "collapsed": false,
     "input": [
      "len(dupeids)"
     ],
     "language": "python",
     "metadata": {},
     "outputs": [
      {
       "metadata": {},
       "output_type": "pyout",
       "prompt_number": 27,
       "text": [
        "489"
       ]
      }
     ],
     "prompt_number": 27
    },
    {
     "cell_type": "code",
     "collapsed": false,
     "input": [
      "\n",
      "\n",
      "outplayers = allplayers.values()\n",
      "nodupeplayers = [player for player in allplayers.values() if player['ID'] not in dupeids]\n",
      "\n",
      "with open('usplayerswithsocNODUPE.csv','w') as outfile:\n",
      "    outfile = csv.DictWriter(outfile,pheaders)\n",
      "    outfile.writeheader()\n",
      "    outfile.writerows(nodupeplayers)"
     ],
     "language": "python",
     "metadata": {},
     "outputs": [],
     "prompt_number": 34
    },
    {
     "cell_type": "code",
     "collapsed": false,
     "input": [
      "mains = list(set([player['main'] for player in nodupeplayers]))\n",
      "\n",
      "    "
     ],
     "language": "python",
     "metadata": {},
     "outputs": [],
     "prompt_number": "*"
    },
    {
     "cell_type": "code",
     "collapsed": false,
     "input": [
      "mains"
     ],
     "language": "python",
     "metadata": {},
     "outputs": [],
     "prompt_number": "*"
    },
    {
     "cell_type": "code",
     "collapsed": false,
     "input": [],
     "language": "python",
     "metadata": {},
     "outputs": []
    }
   ],
   "metadata": {}
  }
 ]
}